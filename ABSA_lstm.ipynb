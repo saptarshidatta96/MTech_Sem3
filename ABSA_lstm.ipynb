{
  "nbformat": 4,
  "nbformat_minor": 0,
  "metadata": {
    "colab": {
      "name": "ABSA-lstm.ipynb",
      "provenance": [],
      "collapsed_sections": [],
      "authorship_tag": "ABX9TyOuD1/7db/ORRbDcA3tvLIB",
      "include_colab_link": true
    },
    "kernelspec": {
      "name": "python3",
      "display_name": "Python 3"
    },
    "language_info": {
      "name": "python"
    },
    "accelerator": "GPU"
  },
  "cells": [
    {
      "cell_type": "markdown",
      "metadata": {
        "id": "view-in-github",
        "colab_type": "text"
      },
      "source": [
        "<a href=\"https://colab.research.google.com/github/saptarshidatta96/MTech_Sem3/blob/main/ABSA_lstm.ipynb\" target=\"_parent\"><img src=\"https://colab.research.google.com/assets/colab-badge.svg\" alt=\"Open In Colab\"/></a>"
      ]
    },
    {
      "cell_type": "code",
      "source": [
        "import csv\n",
        "import requests\n",
        "from itertools import islice\n",
        "import numpy as np\n",
        "import xml.etree.ElementTree as ET\n",
        "import random\n",
        "import tensorflow as tf\n",
        "from scipy.sparse import csr_matrix\n",
        "import tensorflow as tf\n",
        "from keras.preprocessing import sequence\n",
        "from keras.preprocessing import text\n",
        "from tensorflow import keras\n",
        "from keras.models import Sequential\n",
        "from keras import models\n",
        "from keras.layers import *\n",
        "from keras.models import *\n",
        "from keras import backend as K\n",
        "from keras import initializers\n",
        "from keras import regularizers\n",
        "from keras.layers import Dense, Embedding, LSTM, SpatialDropout1D, Bidirectional, Attention, Flatten, Activation, RepeatVector, Permute, Multiply\n",
        "from keras.layers import CuDNNLSTM\n",
        "from keras.layers import Dropout, Multiply, Lambda\n",
        "from tensorflow.keras.optimizers import Adam\n",
        "from tensorflow.keras.callbacks import EarlyStopping\n",
        "from sklearn.metrics import accuracy_score, confusion_matrix, classification_report\n",
        "import matplotlib.pyplot as plt"
      ],
      "metadata": {
        "id": "k9wpPfdU5pKc"
      },
      "execution_count": 118,
      "outputs": []
    },
    {
      "cell_type": "code",
      "execution_count": 119,
      "metadata": {
        "colab": {
          "base_uri": "https://localhost:8080/"
        },
        "id": "B6Kl42783JJX",
        "outputId": "6fa3c3ba-9efa-43e1-f023-976223b53afd"
      },
      "outputs": [
        {
          "output_type": "stream",
          "name": "stdout",
          "text": [
            "Mounted at /content/gdrive\n"
          ]
        }
      ],
      "source": [
        "from google.colab import drive\n",
        "drive.mount('/content/gdrive', force_remount=True)"
      ]
    },
    {
      "cell_type": "code",
      "source": [
        "import pandas as pd\n",
        "import xml.etree.ElementTree as ET\n",
        "import io\n",
        "import xml.dom.minidom\n",
        "\n",
        "def iter_docs(author):\n",
        "  author_attr = author.attrib\n",
        "  for doc in author.iter('sentence'):\n",
        "    doc_dict = author_attr.copy()\n",
        "    for text in doc.iter('text'):\n",
        "      doc_dict['text'] = text.text\n",
        "      for cat in doc.iter('aspectCategory'):\n",
        "        doc_dict.update(cat.attrib)\n",
        "      yield doc_dict\n",
        "\n",
        "\n",
        "etree = ET.parse(\"/content/gdrive/MyDrive/train.xml\")\n",
        "doc_df = pd.DataFrame(list(iter_docs(etree.getroot())))"
      ],
      "metadata": {
        "id": "9a2RlAJbX6AG"
      },
      "execution_count": 120,
      "outputs": []
    },
    {
      "cell_type": "code",
      "source": [
        "doc_df.head()"
      ],
      "metadata": {
        "colab": {
          "base_uri": "https://localhost:8080/",
          "height": 206
        },
        "id": "CjWruD22YJgi",
        "outputId": "7801e144-5267-4106-b79b-ac08818d5a30"
      },
      "execution_count": 121,
      "outputs": [
        {
          "output_type": "execute_result",
          "data": {
            "text/html": [
              "\n",
              "  <div id=\"df-cca41c2b-3d0b-471c-9815-0ade975c3c14\">\n",
              "    <div class=\"colab-df-container\">\n",
              "      <div>\n",
              "<style scoped>\n",
              "    .dataframe tbody tr th:only-of-type {\n",
              "        vertical-align: middle;\n",
              "    }\n",
              "\n",
              "    .dataframe tbody tr th {\n",
              "        vertical-align: top;\n",
              "    }\n",
              "\n",
              "    .dataframe thead th {\n",
              "        text-align: right;\n",
              "    }\n",
              "</style>\n",
              "<table border=\"1\" class=\"dataframe\">\n",
              "  <thead>\n",
              "    <tr style=\"text-align: right;\">\n",
              "      <th></th>\n",
              "      <th>text</th>\n",
              "      <th>category</th>\n",
              "      <th>polarity</th>\n",
              "    </tr>\n",
              "  </thead>\n",
              "  <tbody>\n",
              "    <tr>\n",
              "      <th>0</th>\n",
              "      <td>It might be the best sit down food I've had in...</td>\n",
              "      <td>place</td>\n",
              "      <td>neutral</td>\n",
              "    </tr>\n",
              "    <tr>\n",
              "      <th>1</th>\n",
              "      <td>Hostess was extremely accommodating when we ar...</td>\n",
              "      <td>miscellaneous</td>\n",
              "      <td>neutral</td>\n",
              "    </tr>\n",
              "    <tr>\n",
              "      <th>2</th>\n",
              "      <td>We were a couple of minutes late for our reser...</td>\n",
              "      <td>staff</td>\n",
              "      <td>negative</td>\n",
              "    </tr>\n",
              "    <tr>\n",
              "      <th>3</th>\n",
              "      <td>Though the service might be a little slow, the...</td>\n",
              "      <td>staff</td>\n",
              "      <td>positive</td>\n",
              "    </tr>\n",
              "    <tr>\n",
              "      <th>4</th>\n",
              "      <td>Although we arrived at the restaurant 10 min l...</td>\n",
              "      <td>miscellaneous</td>\n",
              "      <td>neutral</td>\n",
              "    </tr>\n",
              "  </tbody>\n",
              "</table>\n",
              "</div>\n",
              "      <button class=\"colab-df-convert\" onclick=\"convertToInteractive('df-cca41c2b-3d0b-471c-9815-0ade975c3c14')\"\n",
              "              title=\"Convert this dataframe to an interactive table.\"\n",
              "              style=\"display:none;\">\n",
              "        \n",
              "  <svg xmlns=\"http://www.w3.org/2000/svg\" height=\"24px\"viewBox=\"0 0 24 24\"\n",
              "       width=\"24px\">\n",
              "    <path d=\"M0 0h24v24H0V0z\" fill=\"none\"/>\n",
              "    <path d=\"M18.56 5.44l.94 2.06.94-2.06 2.06-.94-2.06-.94-.94-2.06-.94 2.06-2.06.94zm-11 1L8.5 8.5l.94-2.06 2.06-.94-2.06-.94L8.5 2.5l-.94 2.06-2.06.94zm10 10l.94 2.06.94-2.06 2.06-.94-2.06-.94-.94-2.06-.94 2.06-2.06.94z\"/><path d=\"M17.41 7.96l-1.37-1.37c-.4-.4-.92-.59-1.43-.59-.52 0-1.04.2-1.43.59L10.3 9.45l-7.72 7.72c-.78.78-.78 2.05 0 2.83L4 21.41c.39.39.9.59 1.41.59.51 0 1.02-.2 1.41-.59l7.78-7.78 2.81-2.81c.8-.78.8-2.07 0-2.86zM5.41 20L4 18.59l7.72-7.72 1.47 1.35L5.41 20z\"/>\n",
              "  </svg>\n",
              "      </button>\n",
              "      \n",
              "  <style>\n",
              "    .colab-df-container {\n",
              "      display:flex;\n",
              "      flex-wrap:wrap;\n",
              "      gap: 12px;\n",
              "    }\n",
              "\n",
              "    .colab-df-convert {\n",
              "      background-color: #E8F0FE;\n",
              "      border: none;\n",
              "      border-radius: 50%;\n",
              "      cursor: pointer;\n",
              "      display: none;\n",
              "      fill: #1967D2;\n",
              "      height: 32px;\n",
              "      padding: 0 0 0 0;\n",
              "      width: 32px;\n",
              "    }\n",
              "\n",
              "    .colab-df-convert:hover {\n",
              "      background-color: #E2EBFA;\n",
              "      box-shadow: 0px 1px 2px rgba(60, 64, 67, 0.3), 0px 1px 3px 1px rgba(60, 64, 67, 0.15);\n",
              "      fill: #174EA6;\n",
              "    }\n",
              "\n",
              "    [theme=dark] .colab-df-convert {\n",
              "      background-color: #3B4455;\n",
              "      fill: #D2E3FC;\n",
              "    }\n",
              "\n",
              "    [theme=dark] .colab-df-convert:hover {\n",
              "      background-color: #434B5C;\n",
              "      box-shadow: 0px 1px 3px 1px rgba(0, 0, 0, 0.15);\n",
              "      filter: drop-shadow(0px 1px 2px rgba(0, 0, 0, 0.3));\n",
              "      fill: #FFFFFF;\n",
              "    }\n",
              "  </style>\n",
              "\n",
              "      <script>\n",
              "        const buttonEl =\n",
              "          document.querySelector('#df-cca41c2b-3d0b-471c-9815-0ade975c3c14 button.colab-df-convert');\n",
              "        buttonEl.style.display =\n",
              "          google.colab.kernel.accessAllowed ? 'block' : 'none';\n",
              "\n",
              "        async function convertToInteractive(key) {\n",
              "          const element = document.querySelector('#df-cca41c2b-3d0b-471c-9815-0ade975c3c14');\n",
              "          const dataTable =\n",
              "            await google.colab.kernel.invokeFunction('convertToInteractive',\n",
              "                                                     [key], {});\n",
              "          if (!dataTable) return;\n",
              "\n",
              "          const docLinkHtml = 'Like what you see? Visit the ' +\n",
              "            '<a target=\"_blank\" href=https://colab.research.google.com/notebooks/data_table.ipynb>data table notebook</a>'\n",
              "            + ' to learn more about interactive tables.';\n",
              "          element.innerHTML = '';\n",
              "          dataTable['output_type'] = 'display_data';\n",
              "          await google.colab.output.renderOutput(dataTable, element);\n",
              "          const docLink = document.createElement('div');\n",
              "          docLink.innerHTML = docLinkHtml;\n",
              "          element.appendChild(docLink);\n",
              "        }\n",
              "      </script>\n",
              "    </div>\n",
              "  </div>\n",
              "  "
            ],
            "text/plain": [
              "                                                text       category  polarity\n",
              "0  It might be the best sit down food I've had in...          place   neutral\n",
              "1  Hostess was extremely accommodating when we ar...  miscellaneous   neutral\n",
              "2  We were a couple of minutes late for our reser...          staff  negative\n",
              "3  Though the service might be a little slow, the...          staff  positive\n",
              "4  Although we arrived at the restaurant 10 min l...  miscellaneous   neutral"
            ]
          },
          "metadata": {},
          "execution_count": 121
        }
      ]
    },
    {
      "cell_type": "code",
      "source": [
        "doc_df.shape"
      ],
      "metadata": {
        "colab": {
          "base_uri": "https://localhost:8080/"
        },
        "id": "KHdsdJghIaaM",
        "outputId": "22a841b6-f142-447f-8314-36226dc2ddb0"
      },
      "execution_count": 122,
      "outputs": [
        {
          "output_type": "execute_result",
          "data": {
            "text/plain": [
              "(3134, 3)"
            ]
          },
          "metadata": {},
          "execution_count": 122
        }
      ]
    },
    {
      "cell_type": "code",
      "source": [
        "doc_df['category'].unique()"
      ],
      "metadata": {
        "colab": {
          "base_uri": "https://localhost:8080/"
        },
        "id": "jo4mItemcFiQ",
        "outputId": "4bd1d82f-dc24-4801-a499-c0fd3ba27cd4"
      },
      "execution_count": 123,
      "outputs": [
        {
          "output_type": "execute_result",
          "data": {
            "text/plain": [
              "array(['place', 'miscellaneous', 'staff', 'food', 'ambience', 'service',\n",
              "       'menu', 'price'], dtype=object)"
            ]
          },
          "metadata": {},
          "execution_count": 123
        }
      ]
    },
    {
      "cell_type": "code",
      "source": [
        "doc_df['polarity'].unique()"
      ],
      "metadata": {
        "colab": {
          "base_uri": "https://localhost:8080/"
        },
        "id": "S18gS9-6EB6X",
        "outputId": "c81bf048-02a7-4d00-8cb0-caf0cb10c589"
      },
      "execution_count": 124,
      "outputs": [
        {
          "output_type": "execute_result",
          "data": {
            "text/plain": [
              "array(['neutral', 'negative', 'positive'], dtype=object)"
            ]
          },
          "metadata": {},
          "execution_count": 124
        }
      ]
    },
    {
      "cell_type": "code",
      "source": [
        "df_category = pd.get_dummies(doc_df['category'], columns = ['food', 'place', 'staff', 'miscellaneous', 'service', 'price', 'menu', 'ambience'])"
      ],
      "metadata": {
        "id": "qJIUIDStbJYi"
      },
      "execution_count": 125,
      "outputs": []
    },
    {
      "cell_type": "code",
      "source": [
        "df_polarity = pd.get_dummies(doc_df['polarity'], columns = ['neutral', 'negative', 'positive'])"
      ],
      "metadata": {
        "id": "r3viKwtgFJBw"
      },
      "execution_count": 126,
      "outputs": []
    },
    {
      "cell_type": "code",
      "source": [
        "df = pd.concat([df_category, df_polarity], axis=1)"
      ],
      "metadata": {
        "id": "UDREQmUhEf6E"
      },
      "execution_count": 127,
      "outputs": []
    },
    {
      "cell_type": "code",
      "source": [
        "df = pd.concat([doc_df['text'], df], axis=1)"
      ],
      "metadata": {
        "id": "bQi967VvdRVj"
      },
      "execution_count": 128,
      "outputs": []
    },
    {
      "cell_type": "code",
      "source": [
        "df.head()"
      ],
      "metadata": {
        "colab": {
          "base_uri": "https://localhost:8080/",
          "height": 206
        },
        "id": "FQnqT6POdD5s",
        "outputId": "4da5cb08-5c8d-4761-c300-9a1684aa1d0a"
      },
      "execution_count": 129,
      "outputs": [
        {
          "output_type": "execute_result",
          "data": {
            "text/html": [
              "\n",
              "  <div id=\"df-48e5a63a-b08b-4216-91be-2897eb1b7604\">\n",
              "    <div class=\"colab-df-container\">\n",
              "      <div>\n",
              "<style scoped>\n",
              "    .dataframe tbody tr th:only-of-type {\n",
              "        vertical-align: middle;\n",
              "    }\n",
              "\n",
              "    .dataframe tbody tr th {\n",
              "        vertical-align: top;\n",
              "    }\n",
              "\n",
              "    .dataframe thead th {\n",
              "        text-align: right;\n",
              "    }\n",
              "</style>\n",
              "<table border=\"1\" class=\"dataframe\">\n",
              "  <thead>\n",
              "    <tr style=\"text-align: right;\">\n",
              "      <th></th>\n",
              "      <th>text</th>\n",
              "      <th>ambience</th>\n",
              "      <th>food</th>\n",
              "      <th>menu</th>\n",
              "      <th>miscellaneous</th>\n",
              "      <th>place</th>\n",
              "      <th>price</th>\n",
              "      <th>service</th>\n",
              "      <th>staff</th>\n",
              "      <th>negative</th>\n",
              "      <th>neutral</th>\n",
              "      <th>positive</th>\n",
              "    </tr>\n",
              "  </thead>\n",
              "  <tbody>\n",
              "    <tr>\n",
              "      <th>0</th>\n",
              "      <td>It might be the best sit down food I've had in...</td>\n",
              "      <td>0</td>\n",
              "      <td>0</td>\n",
              "      <td>0</td>\n",
              "      <td>0</td>\n",
              "      <td>1</td>\n",
              "      <td>0</td>\n",
              "      <td>0</td>\n",
              "      <td>0</td>\n",
              "      <td>0</td>\n",
              "      <td>1</td>\n",
              "      <td>0</td>\n",
              "    </tr>\n",
              "    <tr>\n",
              "      <th>1</th>\n",
              "      <td>Hostess was extremely accommodating when we ar...</td>\n",
              "      <td>0</td>\n",
              "      <td>0</td>\n",
              "      <td>0</td>\n",
              "      <td>1</td>\n",
              "      <td>0</td>\n",
              "      <td>0</td>\n",
              "      <td>0</td>\n",
              "      <td>0</td>\n",
              "      <td>0</td>\n",
              "      <td>1</td>\n",
              "      <td>0</td>\n",
              "    </tr>\n",
              "    <tr>\n",
              "      <th>2</th>\n",
              "      <td>We were a couple of minutes late for our reser...</td>\n",
              "      <td>0</td>\n",
              "      <td>0</td>\n",
              "      <td>0</td>\n",
              "      <td>0</td>\n",
              "      <td>0</td>\n",
              "      <td>0</td>\n",
              "      <td>0</td>\n",
              "      <td>1</td>\n",
              "      <td>1</td>\n",
              "      <td>0</td>\n",
              "      <td>0</td>\n",
              "    </tr>\n",
              "    <tr>\n",
              "      <th>3</th>\n",
              "      <td>Though the service might be a little slow, the...</td>\n",
              "      <td>0</td>\n",
              "      <td>0</td>\n",
              "      <td>0</td>\n",
              "      <td>0</td>\n",
              "      <td>0</td>\n",
              "      <td>0</td>\n",
              "      <td>0</td>\n",
              "      <td>1</td>\n",
              "      <td>0</td>\n",
              "      <td>0</td>\n",
              "      <td>1</td>\n",
              "    </tr>\n",
              "    <tr>\n",
              "      <th>4</th>\n",
              "      <td>Although we arrived at the restaurant 10 min l...</td>\n",
              "      <td>0</td>\n",
              "      <td>0</td>\n",
              "      <td>0</td>\n",
              "      <td>1</td>\n",
              "      <td>0</td>\n",
              "      <td>0</td>\n",
              "      <td>0</td>\n",
              "      <td>0</td>\n",
              "      <td>0</td>\n",
              "      <td>1</td>\n",
              "      <td>0</td>\n",
              "    </tr>\n",
              "  </tbody>\n",
              "</table>\n",
              "</div>\n",
              "      <button class=\"colab-df-convert\" onclick=\"convertToInteractive('df-48e5a63a-b08b-4216-91be-2897eb1b7604')\"\n",
              "              title=\"Convert this dataframe to an interactive table.\"\n",
              "              style=\"display:none;\">\n",
              "        \n",
              "  <svg xmlns=\"http://www.w3.org/2000/svg\" height=\"24px\"viewBox=\"0 0 24 24\"\n",
              "       width=\"24px\">\n",
              "    <path d=\"M0 0h24v24H0V0z\" fill=\"none\"/>\n",
              "    <path d=\"M18.56 5.44l.94 2.06.94-2.06 2.06-.94-2.06-.94-.94-2.06-.94 2.06-2.06.94zm-11 1L8.5 8.5l.94-2.06 2.06-.94-2.06-.94L8.5 2.5l-.94 2.06-2.06.94zm10 10l.94 2.06.94-2.06 2.06-.94-2.06-.94-.94-2.06-.94 2.06-2.06.94z\"/><path d=\"M17.41 7.96l-1.37-1.37c-.4-.4-.92-.59-1.43-.59-.52 0-1.04.2-1.43.59L10.3 9.45l-7.72 7.72c-.78.78-.78 2.05 0 2.83L4 21.41c.39.39.9.59 1.41.59.51 0 1.02-.2 1.41-.59l7.78-7.78 2.81-2.81c.8-.78.8-2.07 0-2.86zM5.41 20L4 18.59l7.72-7.72 1.47 1.35L5.41 20z\"/>\n",
              "  </svg>\n",
              "      </button>\n",
              "      \n",
              "  <style>\n",
              "    .colab-df-container {\n",
              "      display:flex;\n",
              "      flex-wrap:wrap;\n",
              "      gap: 12px;\n",
              "    }\n",
              "\n",
              "    .colab-df-convert {\n",
              "      background-color: #E8F0FE;\n",
              "      border: none;\n",
              "      border-radius: 50%;\n",
              "      cursor: pointer;\n",
              "      display: none;\n",
              "      fill: #1967D2;\n",
              "      height: 32px;\n",
              "      padding: 0 0 0 0;\n",
              "      width: 32px;\n",
              "    }\n",
              "\n",
              "    .colab-df-convert:hover {\n",
              "      background-color: #E2EBFA;\n",
              "      box-shadow: 0px 1px 2px rgba(60, 64, 67, 0.3), 0px 1px 3px 1px rgba(60, 64, 67, 0.15);\n",
              "      fill: #174EA6;\n",
              "    }\n",
              "\n",
              "    [theme=dark] .colab-df-convert {\n",
              "      background-color: #3B4455;\n",
              "      fill: #D2E3FC;\n",
              "    }\n",
              "\n",
              "    [theme=dark] .colab-df-convert:hover {\n",
              "      background-color: #434B5C;\n",
              "      box-shadow: 0px 1px 3px 1px rgba(0, 0, 0, 0.15);\n",
              "      filter: drop-shadow(0px 1px 2px rgba(0, 0, 0, 0.3));\n",
              "      fill: #FFFFFF;\n",
              "    }\n",
              "  </style>\n",
              "\n",
              "      <script>\n",
              "        const buttonEl =\n",
              "          document.querySelector('#df-48e5a63a-b08b-4216-91be-2897eb1b7604 button.colab-df-convert');\n",
              "        buttonEl.style.display =\n",
              "          google.colab.kernel.accessAllowed ? 'block' : 'none';\n",
              "\n",
              "        async function convertToInteractive(key) {\n",
              "          const element = document.querySelector('#df-48e5a63a-b08b-4216-91be-2897eb1b7604');\n",
              "          const dataTable =\n",
              "            await google.colab.kernel.invokeFunction('convertToInteractive',\n",
              "                                                     [key], {});\n",
              "          if (!dataTable) return;\n",
              "\n",
              "          const docLinkHtml = 'Like what you see? Visit the ' +\n",
              "            '<a target=\"_blank\" href=https://colab.research.google.com/notebooks/data_table.ipynb>data table notebook</a>'\n",
              "            + ' to learn more about interactive tables.';\n",
              "          element.innerHTML = '';\n",
              "          dataTable['output_type'] = 'display_data';\n",
              "          await google.colab.output.renderOutput(dataTable, element);\n",
              "          const docLink = document.createElement('div');\n",
              "          docLink.innerHTML = docLinkHtml;\n",
              "          element.appendChild(docLink);\n",
              "        }\n",
              "      </script>\n",
              "    </div>\n",
              "  </div>\n",
              "  "
            ],
            "text/plain": [
              "                                                text  ...  positive\n",
              "0  It might be the best sit down food I've had in...  ...         0\n",
              "1  Hostess was extremely accommodating when we ar...  ...         0\n",
              "2  We were a couple of minutes late for our reser...  ...         0\n",
              "3  Though the service might be a little slow, the...  ...         1\n",
              "4  Although we arrived at the restaurant 10 min l...  ...         0\n",
              "\n",
              "[5 rows x 12 columns]"
            ]
          },
          "metadata": {},
          "execution_count": 129
        }
      ]
    },
    {
      "cell_type": "code",
      "source": [
        "data = df['text']\n",
        "data = list(data)\n",
        "labels = df.drop(['text'], axis = 1)"
      ],
      "metadata": {
        "id": "HeAOZHTUd2Dr"
      },
      "execution_count": 130,
      "outputs": []
    },
    {
      "cell_type": "code",
      "source": [
        "aspect_labels = labels.iloc[:, :8]\n",
        "sentiment_labels = labels.iloc[:, 8:12]"
      ],
      "metadata": {
        "id": "92SnmeapQDp7"
      },
      "execution_count": 131,
      "outputs": []
    },
    {
      "cell_type": "code",
      "source": [
        "def split_training_and_validation_sets(data, labels, validation_split):\n",
        "\n",
        "    num_training_samples = int((1 - validation_split) * len(data))\n",
        "    return ((data[:num_training_samples], labels[:num_training_samples]),\n",
        "            (data[num_training_samples:], labels[num_training_samples:]))\n",
        "    \n",
        "(aspect_train_data, aspect_train_label), (aspect_valid_data, aspect_valid_label) = split_training_and_validation_sets(data, aspect_labels, 0.1)\n"
      ],
      "metadata": {
        "id": "eHMCF8Dgiav6"
      },
      "execution_count": 132,
      "outputs": []
    },
    {
      "cell_type": "code",
      "source": [
        "aspect_train_label = tf.convert_to_tensor(aspect_train_label, dtype=tf.float32)\n",
        "aspect_valid_label = tf.convert_to_tensor(aspect_valid_label, dtype=tf.float32)"
      ],
      "metadata": {
        "id": "k62-OybCjSyy"
      },
      "execution_count": 133,
      "outputs": []
    },
    {
      "cell_type": "code",
      "source": [
        "(_, sentiment_train_label), (_, sentiment_valid_label) = split_training_and_validation_sets(data, sentiment_labels, 0.1)"
      ],
      "metadata": {
        "id": "RIt3Ko86c-ow"
      },
      "execution_count": 134,
      "outputs": []
    },
    {
      "cell_type": "code",
      "source": [
        "def sequence_vectorizer(train_data, valid_data):\n",
        "\n",
        "    # Create vocabulary with training texts.\n",
        "    tokenizer = text.Tokenizer(num_words=20000)\n",
        "    tokenizer.fit_on_texts(valid_data)\n",
        "\n",
        "    # Vectorize training and validation texts.\n",
        "    x_train = tokenizer.texts_to_sequences(train_data)\n",
        "    x_val = tokenizer.texts_to_sequences(valid_data)\n",
        "\n",
        "\n",
        "    # Fix sequence length to max value. Sequences shorter than the length are\n",
        "    # padded in the beginning and sequences longer are truncated\n",
        "    # at the beginning.\n",
        "    x_train = sequence.pad_sequences(x_train, maxlen=100)\n",
        "    x_val = sequence.pad_sequences(x_val, maxlen=100)\n",
        "\n",
        "    x_train = tf.convert_to_tensor(x_train, dtype=tf.float32)\n",
        "    x_val = tf.convert_to_tensor(x_val, dtype=tf.float32)\n",
        "\n",
        "    return x_train, x_val, tokenizer.word_index"
      ],
      "metadata": {
        "id": "l4VmxGU1Mm3g"
      },
      "execution_count": 135,
      "outputs": []
    },
    {
      "cell_type": "code",
      "source": [
        "x_train_aspect, x_val_aspect, word_index = sequence_vectorizer(aspect_train_data, aspect_valid_data)"
      ],
      "metadata": {
        "id": "ZqNhrBt0M9xp"
      },
      "execution_count": 136,
      "outputs": []
    },
    {
      "cell_type": "code",
      "source": [
        "x_train_sentiment = [tf.concat((i, j), axis = 0) for i, j in zip(x_train_aspect, aspect_train_label)]\n",
        "x_train_sentiment = tf.convert_to_tensor(x_train_sentiment, dtype=tf.float32)\n",
        "x_val_sentiment = [tf.concat((i, j), axis = 0) for i, j in zip(x_val_aspect, aspect_valid_label)]\n",
        "x_val_sentiment = tf.convert_to_tensor(x_val_sentiment, dtype=tf.float32)"
      ],
      "metadata": {
        "id": "yjgRRWJbZx-5"
      },
      "execution_count": 137,
      "outputs": []
    },
    {
      "cell_type": "code",
      "source": [
        "!unzip \"/content/gdrive/MyDrive/glove.42B.300d.zip\" -d \"/content\""
      ],
      "metadata": {
        "colab": {
          "base_uri": "https://localhost:8080/"
        },
        "id": "FMP4Tx-XdvD4",
        "outputId": "b908ed78-8230-4f81-a8ac-1e0e72d4ca28"
      },
      "execution_count": 138,
      "outputs": [
        {
          "output_type": "stream",
          "name": "stdout",
          "text": [
            "Archive:  /content/gdrive/MyDrive/glove.42B.300d.zip\n",
            "replace /content/glove.42B.300d.txt? [y]es, [n]o, [A]ll, [N]one, [r]ename: n\n"
          ]
        }
      ]
    },
    {
      "cell_type": "code",
      "source": [
        "glove_file = \"glove.42B.300d.txt\"\n",
        "import tqdm\n",
        "\n",
        "EMBEDDING_VECTOR_LENGTH = 200 # <=200\n",
        "def construct_embedding_matrix(glove_file, word_index):\n",
        "    embedding_dict = {}\n",
        "    with open(glove_file,'r') as f:\n",
        "        for line in f:\n",
        "            values=line.split()\n",
        "            # get the word\n",
        "            word=values[0]\n",
        "            if word in word_index.keys():\n",
        "                # get the vector\n",
        "                vector = np.asarray(values[1:], 'float32')\n",
        "                embedding_dict[word] = vector\n",
        "    ###  oov words (out of vacabulary words) will be mapped to 0 vectors\n",
        "\n",
        "    num_words=len(word_index)+1\n",
        "    #initialize it to 0\n",
        "    embedding_matrix=np.zeros((num_words, EMBEDDING_VECTOR_LENGTH))\n",
        "\n",
        "    for word,i in tqdm.tqdm(word_index.items()):\n",
        "        if i < num_words:\n",
        "            vect=embedding_dict.get(word, [])\n",
        "            if len(vect)>0:\n",
        "                embedding_matrix[i] = vect[:EMBEDDING_VECTOR_LENGTH]\n",
        "    return embedding_matrix\n",
        "  \n",
        "embedding_matrix =  construct_embedding_matrix(glove_file, word_index)"
      ],
      "metadata": {
        "colab": {
          "base_uri": "https://localhost:8080/"
        },
        "id": "ol5qYhC3fRZg",
        "outputId": "bc6825ad-6a8f-4882-d996-a6ef4206aaa9"
      },
      "execution_count": 139,
      "outputs": [
        {
          "output_type": "stream",
          "name": "stderr",
          "text": [
            "100%|██████████| 1719/1719 [00:00<00:00, 229100.08it/s]\n"
          ]
        }
      ]
    },
    {
      "cell_type": "code",
      "source": [
        "embedding_matrix.shape"
      ],
      "metadata": {
        "colab": {
          "base_uri": "https://localhost:8080/"
        },
        "id": "qNXhnuTmpUc8",
        "outputId": "bcd5af5c-6bb1-41f4-83a2-7a2c49c7c64a"
      },
      "execution_count": 140,
      "outputs": [
        {
          "output_type": "execute_result",
          "data": {
            "text/plain": [
              "(1720, 200)"
            ]
          },
          "metadata": {},
          "execution_count": 140
        }
      ]
    },
    {
      "cell_type": "code",
      "source": [
        "len(word_index) + 1"
      ],
      "metadata": {
        "colab": {
          "base_uri": "https://localhost:8080/"
        },
        "id": "gKxhu-w169qI",
        "outputId": "f9661f01-9a20-4e29-d487-aa4e953c6910"
      },
      "execution_count": 141,
      "outputs": [
        {
          "output_type": "execute_result",
          "data": {
            "text/plain": [
              "1720"
            ]
          },
          "metadata": {},
          "execution_count": 141
        }
      ]
    },
    {
      "cell_type": "code",
      "source": [
        "def Aspect_LSTM_Model():\n",
        "  model = models.Sequential()\n",
        "  model.add(Embedding(len(word_index) + 1,\n",
        "                            EMBEDDING_VECTOR_LENGTH,\n",
        "                            weights=[embedding_matrix],\n",
        "                            input_length=100,\n",
        "                            trainable=False))\n",
        "  model.add(SpatialDropout1D(0.4))\n",
        "  model.add(CuDNNLSTM(176, return_sequences=True))\n",
        "  model.add(Dropout(0.8))\n",
        "  model.add(CuDNNLSTM(64, return_sequences=True))\n",
        "  model.add(Dropout(0.8))\n",
        "  model.add(CuDNNLSTM(32))\n",
        "  model.add(Dense(8,activation='sigmoid'))\n",
        "  return model"
      ],
      "metadata": {
        "id": "tTLIv7oYiDIg"
      },
      "execution_count": 142,
      "outputs": []
    },
    {
      "cell_type": "code",
      "source": [
        "aspect_model = Aspect_LSTM_Model()\n",
        "aspect_model.summary()\n",
        "aspect_model.compile(loss='binary_crossentropy', optimizer='adam', metrics = ['accuracy'])"
      ],
      "metadata": {
        "colab": {
          "base_uri": "https://localhost:8080/"
        },
        "id": "afeLtasFjRJE",
        "outputId": "ca3deddd-4bad-4037-8ace-5117547a22ed"
      },
      "execution_count": 157,
      "outputs": [
        {
          "output_type": "stream",
          "name": "stdout",
          "text": [
            "Model: \"sequential_7\"\n",
            "_________________________________________________________________\n",
            " Layer (type)                Output Shape              Param #   \n",
            "=================================================================\n",
            " embedding_7 (Embedding)     (None, 100, 200)          344000    \n",
            "                                                                 \n",
            " spatial_dropout1d_7 (Spatia  (None, 100, 200)         0         \n",
            " lDropout1D)                                                     \n",
            "                                                                 \n",
            " cu_dnnlstm_21 (CuDNNLSTM)   (None, 100, 176)          266112    \n",
            "                                                                 \n",
            " dropout_14 (Dropout)        (None, 100, 176)          0         \n",
            "                                                                 \n",
            " cu_dnnlstm_22 (CuDNNLSTM)   (None, 100, 64)           61952     \n",
            "                                                                 \n",
            " dropout_15 (Dropout)        (None, 100, 64)           0         \n",
            "                                                                 \n",
            " cu_dnnlstm_23 (CuDNNLSTM)   (None, 32)                12544     \n",
            "                                                                 \n",
            " dense_7 (Dense)             (None, 8)                 264       \n",
            "                                                                 \n",
            "=================================================================\n",
            "Total params: 684,872\n",
            "Trainable params: 340,872\n",
            "Non-trainable params: 344,000\n",
            "_________________________________________________________________\n"
          ]
        }
      ]
    },
    {
      "cell_type": "code",
      "source": [
        "callbacks = [EarlyStopping(monitor='val_loss', patience=3)]\n",
        "history = aspect_model.fit(x_train_aspect, aspect_train_label,\n",
        "            epochs=100,\n",
        "            callbacks = callbacks,\n",
        "            validation_data=(x_val_aspect, aspect_valid_label),\n",
        "            verbose=2,\n",
        "            batch_size=64)"
      ],
      "metadata": {
        "colab": {
          "base_uri": "https://localhost:8080/"
        },
        "id": "bsZpEfnVjYv8",
        "outputId": "202fe97d-8a9e-43c1-d0d0-ba1e5e375328"
      },
      "execution_count": 158,
      "outputs": [
        {
          "output_type": "stream",
          "name": "stdout",
          "text": [
            "Epoch 1/100\n",
            "45/45 - 10s - loss: 0.4244 - accuracy: 0.3096 - val_loss: 0.3390 - val_accuracy: 0.3790 - 10s/epoch - 218ms/step\n",
            "Epoch 2/100\n",
            "45/45 - 3s - loss: 0.3439 - accuracy: 0.3606 - val_loss: 0.3396 - val_accuracy: 0.3790 - 3s/epoch - 61ms/step\n",
            "Epoch 3/100\n",
            "45/45 - 3s - loss: 0.3426 - accuracy: 0.3606 - val_loss: 0.3389 - val_accuracy: 0.3790 - 3s/epoch - 61ms/step\n",
            "Epoch 4/100\n",
            "45/45 - 3s - loss: 0.3422 - accuracy: 0.3606 - val_loss: 0.3385 - val_accuracy: 0.3790 - 3s/epoch - 61ms/step\n",
            "Epoch 5/100\n",
            "45/45 - 3s - loss: 0.3418 - accuracy: 0.3606 - val_loss: 0.3384 - val_accuracy: 0.3790 - 3s/epoch - 62ms/step\n",
            "Epoch 6/100\n",
            "45/45 - 3s - loss: 0.3414 - accuracy: 0.3606 - val_loss: 0.3380 - val_accuracy: 0.3790 - 3s/epoch - 60ms/step\n",
            "Epoch 7/100\n",
            "45/45 - 3s - loss: 0.3418 - accuracy: 0.3606 - val_loss: 0.3379 - val_accuracy: 0.3790 - 3s/epoch - 58ms/step\n",
            "Epoch 8/100\n",
            "45/45 - 3s - loss: 0.3410 - accuracy: 0.3606 - val_loss: 0.3378 - val_accuracy: 0.3790 - 3s/epoch - 59ms/step\n",
            "Epoch 9/100\n",
            "45/45 - 3s - loss: 0.3412 - accuracy: 0.3606 - val_loss: 0.3378 - val_accuracy: 0.3790 - 3s/epoch - 58ms/step\n",
            "Epoch 10/100\n",
            "45/45 - 3s - loss: 0.3413 - accuracy: 0.3606 - val_loss: 0.3363 - val_accuracy: 0.3790 - 3s/epoch - 56ms/step\n",
            "Epoch 11/100\n",
            "45/45 - 3s - loss: 0.3397 - accuracy: 0.3606 - val_loss: 0.3338 - val_accuracy: 0.3790 - 3s/epoch - 56ms/step\n",
            "Epoch 12/100\n",
            "45/45 - 2s - loss: 0.3358 - accuracy: 0.3613 - val_loss: 0.3275 - val_accuracy: 0.3790 - 2s/epoch - 55ms/step\n",
            "Epoch 13/100\n",
            "45/45 - 3s - loss: 0.3279 - accuracy: 0.3706 - val_loss: 0.3124 - val_accuracy: 0.4268 - 3s/epoch - 56ms/step\n",
            "Epoch 14/100\n",
            "45/45 - 3s - loss: 0.3175 - accuracy: 0.4071 - val_loss: 0.3028 - val_accuracy: 0.4395 - 3s/epoch - 57ms/step\n",
            "Epoch 15/100\n",
            "45/45 - 3s - loss: 0.3071 - accuracy: 0.4316 - val_loss: 0.2900 - val_accuracy: 0.4873 - 3s/epoch - 56ms/step\n",
            "Epoch 16/100\n",
            "45/45 - 2s - loss: 0.2979 - accuracy: 0.4578 - val_loss: 0.2745 - val_accuracy: 0.5318 - 2s/epoch - 55ms/step\n",
            "Epoch 17/100\n",
            "45/45 - 2s - loss: 0.2887 - accuracy: 0.4720 - val_loss: 0.2651 - val_accuracy: 0.5573 - 2s/epoch - 55ms/step\n",
            "Epoch 18/100\n",
            "45/45 - 3s - loss: 0.2796 - accuracy: 0.4972 - val_loss: 0.2592 - val_accuracy: 0.5541 - 3s/epoch - 56ms/step\n",
            "Epoch 19/100\n",
            "45/45 - 2s - loss: 0.2702 - accuracy: 0.5241 - val_loss: 0.2466 - val_accuracy: 0.5796 - 2s/epoch - 55ms/step\n",
            "Epoch 20/100\n",
            "45/45 - 2s - loss: 0.2611 - accuracy: 0.5411 - val_loss: 0.2457 - val_accuracy: 0.5828 - 2s/epoch - 55ms/step\n",
            "Epoch 21/100\n",
            "45/45 - 2s - loss: 0.2554 - accuracy: 0.5589 - val_loss: 0.2403 - val_accuracy: 0.5987 - 2s/epoch - 55ms/step\n",
            "Epoch 22/100\n",
            "45/45 - 2s - loss: 0.2482 - accuracy: 0.5819 - val_loss: 0.2338 - val_accuracy: 0.6083 - 2s/epoch - 55ms/step\n",
            "Epoch 23/100\n",
            "45/45 - 2s - loss: 0.2412 - accuracy: 0.5887 - val_loss: 0.2281 - val_accuracy: 0.6274 - 2s/epoch - 55ms/step\n",
            "Epoch 24/100\n",
            "45/45 - 2s - loss: 0.2376 - accuracy: 0.5957 - val_loss: 0.2319 - val_accuracy: 0.6210 - 2s/epoch - 55ms/step\n",
            "Epoch 25/100\n",
            "45/45 - 2s - loss: 0.2293 - accuracy: 0.6294 - val_loss: 0.2312 - val_accuracy: 0.6306 - 2s/epoch - 55ms/step\n",
            "Epoch 26/100\n",
            "45/45 - 2s - loss: 0.2322 - accuracy: 0.6092 - val_loss: 0.2247 - val_accuracy: 0.6274 - 2s/epoch - 55ms/step\n",
            "Epoch 27/100\n",
            "45/45 - 2s - loss: 0.2330 - accuracy: 0.6170 - val_loss: 0.2203 - val_accuracy: 0.6529 - 2s/epoch - 55ms/step\n",
            "Epoch 28/100\n",
            "45/45 - 2s - loss: 0.2196 - accuracy: 0.6450 - val_loss: 0.2178 - val_accuracy: 0.6529 - 2s/epoch - 55ms/step\n",
            "Epoch 29/100\n",
            "45/45 - 2s - loss: 0.2161 - accuracy: 0.6461 - val_loss: 0.2178 - val_accuracy: 0.6592 - 2s/epoch - 55ms/step\n",
            "Epoch 30/100\n",
            "45/45 - 3s - loss: 0.2105 - accuracy: 0.6702 - val_loss: 0.2172 - val_accuracy: 0.6592 - 3s/epoch - 57ms/step\n",
            "Epoch 31/100\n",
            "45/45 - 2s - loss: 0.2084 - accuracy: 0.6652 - val_loss: 0.2220 - val_accuracy: 0.6497 - 2s/epoch - 55ms/step\n",
            "Epoch 32/100\n",
            "45/45 - 2s - loss: 0.2033 - accuracy: 0.6794 - val_loss: 0.2222 - val_accuracy: 0.6242 - 2s/epoch - 55ms/step\n",
            "Epoch 33/100\n",
            "45/45 - 2s - loss: 0.2003 - accuracy: 0.6869 - val_loss: 0.2189 - val_accuracy: 0.6688 - 2s/epoch - 55ms/step\n"
          ]
        }
      ]
    },
    {
      "cell_type": "code",
      "source": [
        "aspect_model.save('/content/gdrive/MyDrive/models/NLU_Assignment2_LSTM_aspect.h5',save_format= 'tf')"
      ],
      "metadata": {
        "id": "QYiThtZ4ehr3"
      },
      "execution_count": 159,
      "outputs": []
    },
    {
      "cell_type": "code",
      "source": [
        "plt.figure(figsize=(10, 10))\n",
        "plt.plot(history.history['accuracy'])\n",
        "plt.plot(history.history['val_accuracy'])\n",
        "plt.title('model accuracy')\n",
        "plt.ylabel('accuracy')\n",
        "plt.xlabel('epoch')\n",
        "plt.legend(['train', 'validation'], loc='upper left')\n",
        "plt.show()"
      ],
      "metadata": {
        "colab": {
          "base_uri": "https://localhost:8080/",
          "height": 621
        },
        "id": "uq3TLZ0wiKu3",
        "outputId": "ed4d3fda-42a1-42e8-d04c-ea6d58329067"
      },
      "execution_count": 162,
      "outputs": [
        {
          "output_type": "display_data",
          "data": {
            "image/png": "[encoded data removed]",
            "text/plain": [
              "<Figure size 720x720 with 1 Axes>"
            ]
          },
          "metadata": {
            "needs_background": "light"
          }
        }
      ]
    },
    {
      "cell_type": "code",
      "source": [
        "plt.figure(figsize=(10, 10))\n",
        "plt.plot(history.history['loss'])\n",
        "plt.plot(history.history['val_loss'])\n",
        "plt.title('model loss')\n",
        "plt.ylabel('loss')\n",
        "plt.xlabel('epoch')\n",
        "plt.legend(['train', 'validation'], loc='upper left')\n",
        "plt.show()"
      ],
      "metadata": {
        "colab": {
          "base_uri": "https://localhost:8080/",
          "height": 621
        },
        "id": "81ZaooqgiLtE",
        "outputId": "050e13ff-c158-43b3-8ce8-3eec49a1f7aa"
      },
      "execution_count": 163,
      "outputs": [
        {
          "output_type": "display_data",
          "data": {
            "image/png": "[encoded data removed]",
            "text/plain": [
              "<Figure size 720x720 with 1 Axes>"
            ]
          },
          "metadata": {
            "needs_background": "light"
          }
        }
      ]
    },
    {
      "cell_type": "code",
      "source": [
        "def Sentiment_LSTM_Model():\n",
        "  model = models.Sequential()\n",
        "  model.add(Embedding(len(word_index) + 1,\n",
        "                            EMBEDDING_VECTOR_LENGTH,\n",
        "                            weights=[embedding_matrix],\n",
        "                            input_length=108,\n",
        "                            trainable=False))\n",
        "  model.add(SpatialDropout1D(0.4))\n",
        "  model.add(CuDNNLSTM(176, return_sequences=True))\n",
        "  model.add(Dropout(0.8))\n",
        "  model.add(CuDNNLSTM(64, return_sequences=True))\n",
        "  model.add(Dropout(0.8))\n",
        "  model.add(CuDNNLSTM(32))\n",
        "  model.add(Dense(3,activation='sigmoid'))\n",
        "  return model"
      ],
      "metadata": {
        "id": "5yP9ELT3cVwy"
      },
      "execution_count": 166,
      "outputs": []
    },
    {
      "cell_type": "code",
      "source": [
        "sentiment_model = Sentiment_LSTM_Model()\n",
        "sentiment_model.summary()\n",
        "sentiment_model.compile(loss='binary_crossentropy', optimizer='adam', metrics = ['accuracy'])"
      ],
      "metadata": {
        "colab": {
          "base_uri": "https://localhost:8080/"
        },
        "id": "gGJvJvgQciKg",
        "outputId": "0e8a9373-258d-4f30-b130-4b5c34d127a1"
      },
      "execution_count": 167,
      "outputs": [
        {
          "output_type": "stream",
          "name": "stdout",
          "text": [
            "Model: \"sequential_9\"\n",
            "_________________________________________________________________\n",
            " Layer (type)                Output Shape              Param #   \n",
            "=================================================================\n",
            " embedding_9 (Embedding)     (None, 108, 200)          344000    \n",
            "                                                                 \n",
            " spatial_dropout1d_9 (Spatia  (None, 108, 200)         0         \n",
            " lDropout1D)                                                     \n",
            "                                                                 \n",
            " cu_dnnlstm_27 (CuDNNLSTM)   (None, 108, 176)          266112    \n",
            "                                                                 \n",
            " dropout_18 (Dropout)        (None, 108, 176)          0         \n",
            "                                                                 \n",
            " cu_dnnlstm_28 (CuDNNLSTM)   (None, 108, 64)           61952     \n",
            "                                                                 \n",
            " dropout_19 (Dropout)        (None, 108, 64)           0         \n",
            "                                                                 \n",
            " cu_dnnlstm_29 (CuDNNLSTM)   (None, 32)                12544     \n",
            "                                                                 \n",
            " dense_9 (Dense)             (None, 3)                 99        \n",
            "                                                                 \n",
            "=================================================================\n",
            "Total params: 684,707\n",
            "Trainable params: 340,707\n",
            "Non-trainable params: 344,000\n",
            "_________________________________________________________________\n"
          ]
        }
      ]
    },
    {
      "cell_type": "code",
      "source": [
        "callbacks = [EarlyStopping(monitor='val_loss', patience=3)]\n",
        "history = sentiment_model.fit(x_train_sentiment, sentiment_train_label,\n",
        "            epochs=100,\n",
        "            callbacks = callbacks,\n",
        "            validation_data=(x_val_sentiment, sentiment_valid_label),\n",
        "            verbose=2,\n",
        "            batch_size=64)"
      ],
      "metadata": {
        "colab": {
          "base_uri": "https://localhost:8080/"
        },
        "id": "tPV0DPescp87",
        "outputId": "b2c9a152-be9f-4315-cccb-98ec502764b9"
      },
      "execution_count": 168,
      "outputs": [
        {
          "output_type": "stream",
          "name": "stdout",
          "text": [
            "Epoch 1/100\n",
            "45/45 - 10s - loss: 0.6164 - accuracy: 0.4816 - val_loss: 0.5829 - val_accuracy: 0.5223 - 10s/epoch - 213ms/step\n",
            "Epoch 2/100\n",
            "45/45 - 3s - loss: 0.5773 - accuracy: 0.5362 - val_loss: 0.5368 - val_accuracy: 0.5732 - 3s/epoch - 75ms/step\n",
            "Epoch 3/100\n",
            "45/45 - 3s - loss: 0.5321 - accuracy: 0.5911 - val_loss: 0.5305 - val_accuracy: 0.5796 - 3s/epoch - 65ms/step\n",
            "Epoch 4/100\n",
            "45/45 - 3s - loss: 0.5072 - accuracy: 0.6262 - val_loss: 0.4902 - val_accuracy: 0.6401 - 3s/epoch - 65ms/step\n",
            "Epoch 5/100\n",
            "45/45 - 3s - loss: 0.4963 - accuracy: 0.6284 - val_loss: 0.5039 - val_accuracy: 0.6465 - 3s/epoch - 63ms/step\n",
            "Epoch 6/100\n",
            "45/45 - 3s - loss: 0.4807 - accuracy: 0.6514 - val_loss: 0.4669 - val_accuracy: 0.6592 - 3s/epoch - 61ms/step\n",
            "Epoch 7/100\n",
            "45/45 - 3s - loss: 0.4631 - accuracy: 0.6730 - val_loss: 0.4716 - val_accuracy: 0.6338 - 3s/epoch - 61ms/step\n",
            "Epoch 8/100\n",
            "45/45 - 3s - loss: 0.4589 - accuracy: 0.6677 - val_loss: 0.4723 - val_accuracy: 0.6529 - 3s/epoch - 61ms/step\n",
            "Epoch 9/100\n",
            "45/45 - 3s - loss: 0.4559 - accuracy: 0.6855 - val_loss: 0.4638 - val_accuracy: 0.6783 - 3s/epoch - 59ms/step\n",
            "Epoch 10/100\n",
            "45/45 - 3s - loss: 0.4531 - accuracy: 0.6922 - val_loss: 0.4719 - val_accuracy: 0.6656 - 3s/epoch - 59ms/step\n",
            "Epoch 11/100\n",
            "45/45 - 3s - loss: 0.4368 - accuracy: 0.6975 - val_loss: 0.4610 - val_accuracy: 0.6783 - 3s/epoch - 59ms/step\n",
            "Epoch 12/100\n",
            "45/45 - 3s - loss: 0.4360 - accuracy: 0.6961 - val_loss: 0.4791 - val_accuracy: 0.6752 - 3s/epoch - 60ms/step\n",
            "Epoch 13/100\n",
            "45/45 - 3s - loss: 0.4240 - accuracy: 0.7188 - val_loss: 0.4636 - val_accuracy: 0.6752 - 3s/epoch - 59ms/step\n",
            "Epoch 14/100\n",
            "45/45 - 3s - loss: 0.4180 - accuracy: 0.7074 - val_loss: 0.4781 - val_accuracy: 0.6720 - 3s/epoch - 59ms/step\n"
          ]
        }
      ]
    },
    {
      "cell_type": "code",
      "source": [
        "plt.figure(figsize=(10, 10))\n",
        "plt.plot(history.history['accuracy'])\n",
        "plt.plot(history.history['val_accuracy'])\n",
        "plt.title('model accuracy')\n",
        "plt.ylabel('accuracy')\n",
        "plt.xlabel('epoch')\n",
        "plt.legend(['train', 'validation'], loc='upper left')\n",
        "plt.show()"
      ],
      "metadata": {
        "colab": {
          "base_uri": "https://localhost:8080/",
          "height": 621
        },
        "id": "8zWiem6yiFwq",
        "outputId": "76455034-c361-4ee1-b41d-a8b8de282c5c"
      },
      "execution_count": 169,
      "outputs": [
        {
          "output_type": "display_data",
          "data": {
            "image/png": "[encoded data removed]",
            "text/plain": [
              "<Figure size 720x720 with 1 Axes>"
            ]
          },
          "metadata": {
            "needs_background": "light"
          }
        }
      ]
    },
    {
      "cell_type": "code",
      "source": [
        "plt.figure(figsize=(10, 10))\n",
        "plt.plot(history.history['loss'])\n",
        "plt.plot(history.history['val_loss'])\n",
        "plt.title('model loss')\n",
        "plt.ylabel('loss')\n",
        "plt.xlabel('epoch')\n",
        "plt.legend(['train', 'validation'], loc='upper left')\n",
        "plt.show()"
      ],
      "metadata": {
        "colab": {
          "base_uri": "https://localhost:8080/",
          "height": 621
        },
        "id": "sS-cr8B2oLho",
        "outputId": "08989c91-24ed-4a40-ad6a-bdcf6265b986"
      },
      "execution_count": 170,
      "outputs": [
        {
          "output_type": "display_data",
          "data": {
            "image/png": "[encoded data removed]",
            "text/plain": [
              "<Figure size 720x720 with 1 Axes>"
            ]
          },
          "metadata": {
            "needs_background": "light"
          }
        }
      ]
    }
  ]
}