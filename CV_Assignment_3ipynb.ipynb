{
  "nbformat": 4,
  "nbformat_minor": 0,
  "metadata": {
    "colab": {
      "name": "CV_Assignment_3ipynb",
      "provenance": [],
      "authorship_tag": "ABX9TyPQVDLe5KUCAbDTDcLvkjHH",
      "include_colab_link": true
    },
    "kernelspec": {
      "name": "python3",
      "display_name": "Python 3"
    },
    "language_info": {
      "name": "python"
    }
  },
  "cells": [
    {
      "cell_type": "markdown",
      "metadata": {
        "id": "view-in-github",
        "colab_type": "text"
      },
      "source": [
        "<a href=\"https://colab.research.google.com/github/saptarshidatta96/MTech_Sem3/blob/main/CV_Assignment_3ipynb.ipynb\" target=\"_parent\"><img src=\"https://colab.research.google.com/assets/colab-badge.svg\" alt=\"Open In Colab\"/></a>"
      ]
    },
    {
      "cell_type": "code",
      "execution_count": 139,
      "metadata": {
        "id": "YotmyKFW7_at"
      },
      "outputs": [],
      "source": [
        "import keras\n",
        "import tensorflow as tf\n",
        "import cv2\n",
        "from skimage.feature import hog\n",
        "import numpy as np\n",
        "import pandas as pd\n",
        "import matplotlib.pyplot as plt\n",
        "from tensorflow.keras.callbacks import EarlyStopping"
      ]
    },
    {
      "cell_type": "code",
      "source": [
        "(x_train, y_train), (x_test, y_test) = tf.keras.datasets.cifar10.load_data()\n",
        "assert x_train.shape == (50000, 32, 32, 3)\n",
        "assert x_test.shape == (10000, 32, 32, 3)\n",
        "assert y_train.shape == (50000, 1)\n",
        "assert y_test.shape == (10000, 1)"
      ],
      "metadata": {
        "id": "8BTR93EdpS1f"
      },
      "execution_count": 121,
      "outputs": []
    },
    {
      "cell_type": "code",
      "source": [
        "y_test.shape"
      ],
      "metadata": {
        "colab": {
          "base_uri": "https://localhost:8080/"
        },
        "id": "v3lMTSVN2X3z",
        "outputId": "2d28b6fc-adb9-4c70-f3cc-b56071994b26"
      },
      "execution_count": 125,
      "outputs": [
        {
          "output_type": "execute_result",
          "data": {
            "text/plain": [
              "(10000, 1)"
            ]
          },
          "metadata": {},
          "execution_count": 125
        }
      ]
    },
    {
      "cell_type": "code",
      "source": [
        "x_train = [ cv2.cvtColor(x_train[i],cv2.COLOR_BGR2GRAY) for i in range(len(x_train))]\n",
        "x_test  = [ cv2.cvtColor(x_test[i],cv2.COLOR_BGR2GRAY) for i in range(len(x_test))]"
      ],
      "metadata": {
        "id": "D-7Rav3CbGV1"
      },
      "execution_count": 126,
      "outputs": []
    },
    {
      "cell_type": "code",
      "source": [
        "x_train = np.asarray(x_train)\n",
        "x_test = np.asarray(x_test)"
      ],
      "metadata": {
        "id": "SZTJgjDQtAen"
      },
      "execution_count": 127,
      "outputs": []
    },
    {
      "cell_type": "code",
      "source": [
        "block_norm = 'L2-Hys'    \n",
        "orientations = 9          \n",
        "pixels_per_cell = [8, 8]  \n",
        "cells_per_block = [2, 2]\n",
        "def extractFeature(img, vis=False):\n",
        "    return hog(img, orientations, pixels_per_cell, cells_per_block, block_norm, visualize=vis, transform_sqrt=True)"
      ],
      "metadata": {
        "id": "XZCH7uUlfxbr"
      },
      "execution_count": 128,
      "outputs": []
    },
    {
      "cell_type": "code",
      "source": [
        "X_training = np.array( [ extractFeature(x_train[i], vis=False) for i in range(len(x_train)) ] )\n",
        "X_testing = np.array( [ extractFeature(x_test[i], vis=False) for i in range(len(x_test)) ] )"
      ],
      "metadata": {
        "id": "4DK7On2phL1N"
      },
      "execution_count": 129,
      "outputs": []
    },
    {
      "cell_type": "code",
      "source": [
        "df_y_train = pd.DataFrame(y_train)\n",
        "y_training = pd.get_dummies(df_y_train[0])\n",
        "df_y_test = pd.DataFrame(y_test)\n",
        "y_testing = pd.get_dummies(df_y_test[0])"
      ],
      "metadata": {
        "id": "KNODBOpGzpFJ"
      },
      "execution_count": 130,
      "outputs": []
    },
    {
      "cell_type": "code",
      "source": [
        "df_y_train[0].unique()"
      ],
      "metadata": {
        "colab": {
          "base_uri": "https://localhost:8080/"
        },
        "id": "iksZaho_0L3Z",
        "outputId": "dffbf4a7-2398-40b5-e223-3fa7107d54d0"
      },
      "execution_count": 131,
      "outputs": [
        {
          "output_type": "execute_result",
          "data": {
            "text/plain": [
              "array([6, 9, 4, 1, 2, 7, 8, 3, 5, 0], dtype=uint8)"
            ]
          },
          "metadata": {},
          "execution_count": 131
        }
      ]
    },
    {
      "cell_type": "code",
      "source": [
        "y_testing.head()"
      ],
      "metadata": {
        "colab": {
          "base_uri": "https://localhost:8080/",
          "height": 206
        },
        "id": "w5Bn_otOrFd3",
        "outputId": "3e673950-5ec7-4dda-8e1f-7470ccb6e9f6"
      },
      "execution_count": 134,
      "outputs": [
        {
          "output_type": "execute_result",
          "data": {
            "text/plain": [
              "   0  1  2  3  4  5  6  7  8  9\n",
              "0  0  0  0  1  0  0  0  0  0  0\n",
              "1  0  0  0  0  0  0  0  0  1  0\n",
              "2  0  0  0  0  0  0  0  0  1  0\n",
              "3  1  0  0  0  0  0  0  0  0  0\n",
              "4  0  0  0  0  0  0  1  0  0  0"
            ],
            "text/html": [
              "\n",
              "  <div id=\"df-ca1cceee-8804-4742-af3b-8f27ea391438\">\n",
              "    <div class=\"colab-df-container\">\n",
              "      <div>\n",
              "<style scoped>\n",
              "    .dataframe tbody tr th:only-of-type {\n",
              "        vertical-align: middle;\n",
              "    }\n",
              "\n",
              "    .dataframe tbody tr th {\n",
              "        vertical-align: top;\n",
              "    }\n",
              "\n",
              "    .dataframe thead th {\n",
              "        text-align: right;\n",
              "    }\n",
              "</style>\n",
              "<table border=\"1\" class=\"dataframe\">\n",
              "  <thead>\n",
              "    <tr style=\"text-align: right;\">\n",
              "      <th></th>\n",
              "      <th>0</th>\n",
              "      <th>1</th>\n",
              "      <th>2</th>\n",
              "      <th>3</th>\n",
              "      <th>4</th>\n",
              "      <th>5</th>\n",
              "      <th>6</th>\n",
              "      <th>7</th>\n",
              "      <th>8</th>\n",
              "      <th>9</th>\n",
              "    </tr>\n",
              "  </thead>\n",
              "  <tbody>\n",
              "    <tr>\n",
              "      <th>0</th>\n",
              "      <td>0</td>\n",
              "      <td>0</td>\n",
              "      <td>0</td>\n",
              "      <td>1</td>\n",
              "      <td>0</td>\n",
              "      <td>0</td>\n",
              "      <td>0</td>\n",
              "      <td>0</td>\n",
              "      <td>0</td>\n",
              "      <td>0</td>\n",
              "    </tr>\n",
              "    <tr>\n",
              "      <th>1</th>\n",
              "      <td>0</td>\n",
              "      <td>0</td>\n",
              "      <td>0</td>\n",
              "      <td>0</td>\n",
              "      <td>0</td>\n",
              "      <td>0</td>\n",
              "      <td>0</td>\n",
              "      <td>0</td>\n",
              "      <td>1</td>\n",
              "      <td>0</td>\n",
              "    </tr>\n",
              "    <tr>\n",
              "      <th>2</th>\n",
              "      <td>0</td>\n",
              "      <td>0</td>\n",
              "      <td>0</td>\n",
              "      <td>0</td>\n",
              "      <td>0</td>\n",
              "      <td>0</td>\n",
              "      <td>0</td>\n",
              "      <td>0</td>\n",
              "      <td>1</td>\n",
              "      <td>0</td>\n",
              "    </tr>\n",
              "    <tr>\n",
              "      <th>3</th>\n",
              "      <td>1</td>\n",
              "      <td>0</td>\n",
              "      <td>0</td>\n",
              "      <td>0</td>\n",
              "      <td>0</td>\n",
              "      <td>0</td>\n",
              "      <td>0</td>\n",
              "      <td>0</td>\n",
              "      <td>0</td>\n",
              "      <td>0</td>\n",
              "    </tr>\n",
              "    <tr>\n",
              "      <th>4</th>\n",
              "      <td>0</td>\n",
              "      <td>0</td>\n",
              "      <td>0</td>\n",
              "      <td>0</td>\n",
              "      <td>0</td>\n",
              "      <td>0</td>\n",
              "      <td>1</td>\n",
              "      <td>0</td>\n",
              "      <td>0</td>\n",
              "      <td>0</td>\n",
              "    </tr>\n",
              "  </tbody>\n",
              "</table>\n",
              "</div>\n",
              "      <button class=\"colab-df-convert\" onclick=\"convertToInteractive('df-ca1cceee-8804-4742-af3b-8f27ea391438')\"\n",
              "              title=\"Convert this dataframe to an interactive table.\"\n",
              "              style=\"display:none;\">\n",
              "        \n",
              "  <svg xmlns=\"http://www.w3.org/2000/svg\" height=\"24px\"viewBox=\"0 0 24 24\"\n",
              "       width=\"24px\">\n",
              "    <path d=\"M0 0h24v24H0V0z\" fill=\"none\"/>\n",
              "    <path d=\"M18.56 5.44l.94 2.06.94-2.06 2.06-.94-2.06-.94-.94-2.06-.94 2.06-2.06.94zm-11 1L8.5 8.5l.94-2.06 2.06-.94-2.06-.94L8.5 2.5l-.94 2.06-2.06.94zm10 10l.94 2.06.94-2.06 2.06-.94-2.06-.94-.94-2.06-.94 2.06-2.06.94z\"/><path d=\"M17.41 7.96l-1.37-1.37c-.4-.4-.92-.59-1.43-.59-.52 0-1.04.2-1.43.59L10.3 9.45l-7.72 7.72c-.78.78-.78 2.05 0 2.83L4 21.41c.39.39.9.59 1.41.59.51 0 1.02-.2 1.41-.59l7.78-7.78 2.81-2.81c.8-.78.8-2.07 0-2.86zM5.41 20L4 18.59l7.72-7.72 1.47 1.35L5.41 20z\"/>\n",
              "  </svg>\n",
              "      </button>\n",
              "      \n",
              "  <style>\n",
              "    .colab-df-container {\n",
              "      display:flex;\n",
              "      flex-wrap:wrap;\n",
              "      gap: 12px;\n",
              "    }\n",
              "\n",
              "    .colab-df-convert {\n",
              "      background-color: #E8F0FE;\n",
              "      border: none;\n",
              "      border-radius: 50%;\n",
              "      cursor: pointer;\n",
              "      display: none;\n",
              "      fill: #1967D2;\n",
              "      height: 32px;\n",
              "      padding: 0 0 0 0;\n",
              "      width: 32px;\n",
              "    }\n",
              "\n",
              "    .colab-df-convert:hover {\n",
              "      background-color: #E2EBFA;\n",
              "      box-shadow: 0px 1px 2px rgba(60, 64, 67, 0.3), 0px 1px 3px 1px rgba(60, 64, 67, 0.15);\n",
              "      fill: #174EA6;\n",
              "    }\n",
              "\n",
              "    [theme=dark] .colab-df-convert {\n",
              "      background-color: #3B4455;\n",
              "      fill: #D2E3FC;\n",
              "    }\n",
              "\n",
              "    [theme=dark] .colab-df-convert:hover {\n",
              "      background-color: #434B5C;\n",
              "      box-shadow: 0px 1px 3px 1px rgba(0, 0, 0, 0.15);\n",
              "      filter: drop-shadow(0px 1px 2px rgba(0, 0, 0, 0.3));\n",
              "      fill: #FFFFFF;\n",
              "    }\n",
              "  </style>\n",
              "\n",
              "      <script>\n",
              "        const buttonEl =\n",
              "          document.querySelector('#df-ca1cceee-8804-4742-af3b-8f27ea391438 button.colab-df-convert');\n",
              "        buttonEl.style.display =\n",
              "          google.colab.kernel.accessAllowed ? 'block' : 'none';\n",
              "\n",
              "        async function convertToInteractive(key) {\n",
              "          const element = document.querySelector('#df-ca1cceee-8804-4742-af3b-8f27ea391438');\n",
              "          const dataTable =\n",
              "            await google.colab.kernel.invokeFunction('convertToInteractive',\n",
              "                                                     [key], {});\n",
              "          if (!dataTable) return;\n",
              "\n",
              "          const docLinkHtml = 'Like what you see? Visit the ' +\n",
              "            '<a target=\"_blank\" href=https://colab.research.google.com/notebooks/data_table.ipynb>data table notebook</a>'\n",
              "            + ' to learn more about interactive tables.';\n",
              "          element.innerHTML = '';\n",
              "          dataTable['output_type'] = 'display_data';\n",
              "          await google.colab.output.renderOutput(dataTable, element);\n",
              "          const docLink = document.createElement('div');\n",
              "          docLink.innerHTML = docLinkHtml;\n",
              "          element.appendChild(docLink);\n",
              "        }\n",
              "      </script>\n",
              "    </div>\n",
              "  </div>\n",
              "  "
            ]
          },
          "metadata": {},
          "execution_count": 134
        }
      ]
    },
    {
      "cell_type": "code",
      "source": [
        "model= tf.keras.models.Sequential(\n",
        "    [tf.keras.layers.Dense(324, activation='relu'),\n",
        "     tf.keras.layers.Dense(128, activation='relu'),\n",
        "     tf.keras.layers.Dense(10, activation='softmax')]\n",
        ")"
      ],
      "metadata": {
        "id": "31ylpTL-xLWJ"
      },
      "execution_count": 141,
      "outputs": []
    },
    {
      "cell_type": "code",
      "source": [
        "model.compile(optimizer='adam', loss='categorical_crossentropy', metrics=['accuracy'])"
      ],
      "metadata": {
        "id": "pqDSfpFSxYGY"
      },
      "execution_count": 142,
      "outputs": []
    },
    {
      "cell_type": "code",
      "source": [
        "model.build(X_training.shape)\n",
        "model.summary()"
      ],
      "metadata": {
        "colab": {
          "base_uri": "https://localhost:8080/"
        },
        "id": "SuAKRstDxvEq",
        "outputId": "cfaa3c47-03e2-46aa-8a1c-ea1df2d78dcc"
      },
      "execution_count": 137,
      "outputs": [
        {
          "output_type": "stream",
          "name": "stdout",
          "text": [
            "Model: \"sequential_8\"\n",
            "_________________________________________________________________\n",
            " Layer (type)                Output Shape              Param #   \n",
            "=================================================================\n",
            " dense_23 (Dense)            (50000, 324)              105300    \n",
            "                                                                 \n",
            " dense_24 (Dense)            (50000, 128)              41600     \n",
            "                                                                 \n",
            " dense_25 (Dense)            (50000, 10)               1290      \n",
            "                                                                 \n",
            "=================================================================\n",
            "Total params: 148,190\n",
            "Trainable params: 148,190\n",
            "Non-trainable params: 0\n",
            "_________________________________________________________________\n"
          ]
        }
      ]
    },
    {
      "cell_type": "code",
      "source": [
        "\n",
        "\n",
        "callbacks = [EarlyStopping(monitor='val_loss', patience=8)]\n",
        "history = model.fit(X_training, y_training,\n",
        "            epochs=100,\n",
        "            callbacks = callbacks,\n",
        "            validation_data=(X_testing, y_testing),\n",
        "            verbose=2,\n",
        "            batch_size=64)"
      ],
      "metadata": {
        "colab": {
          "base_uri": "https://localhost:8080/"
        },
        "id": "pm4aPMepyHir",
        "outputId": "cef1ca32-a730-470b-8709-77dcda31f804"
      },
      "execution_count": 140,
      "outputs": [
        {
          "output_type": "stream",
          "name": "stdout",
          "text": [
            "Epoch 1/100\n",
            "782/782 - 4s - loss: 0.6861 - accuracy: 0.7577 - val_loss: 1.2554 - val_accuracy: 0.6041 - 4s/epoch - 5ms/step\n",
            "Epoch 2/100\n",
            "782/782 - 3s - loss: 0.6479 - accuracy: 0.7717 - val_loss: 1.3094 - val_accuracy: 0.6116 - 3s/epoch - 4ms/step\n",
            "Epoch 3/100\n",
            "782/782 - 3s - loss: 0.6233 - accuracy: 0.7809 - val_loss: 1.3097 - val_accuracy: 0.6043 - 3s/epoch - 4ms/step\n",
            "Epoch 4/100\n",
            "782/782 - 3s - loss: 0.5979 - accuracy: 0.7903 - val_loss: 1.3306 - val_accuracy: 0.6030 - 3s/epoch - 4ms/step\n",
            "Epoch 5/100\n",
            "782/782 - 3s - loss: 0.5802 - accuracy: 0.7967 - val_loss: 1.3538 - val_accuracy: 0.6034 - 3s/epoch - 4ms/step\n",
            "Epoch 6/100\n",
            "782/782 - 3s - loss: 0.5581 - accuracy: 0.8035 - val_loss: 1.4021 - val_accuracy: 0.5921 - 3s/epoch - 4ms/step\n",
            "Epoch 7/100\n",
            "782/782 - 3s - loss: 0.5406 - accuracy: 0.8093 - val_loss: 1.4353 - val_accuracy: 0.5910 - 3s/epoch - 4ms/step\n",
            "Epoch 8/100\n",
            "782/782 - 3s - loss: 0.5250 - accuracy: 0.8162 - val_loss: 1.4619 - val_accuracy: 0.5905 - 3s/epoch - 4ms/step\n",
            "Epoch 9/100\n",
            "782/782 - 3s - loss: 0.5062 - accuracy: 0.8221 - val_loss: 1.4853 - val_accuracy: 0.5923 - 3s/epoch - 4ms/step\n"
          ]
        }
      ]
    }
  ]
}