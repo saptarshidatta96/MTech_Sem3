{
  "nbformat": 4,
  "nbformat_minor": 0,
  "metadata": {
    "colab": {
      "name": "NLU-ASSIGNMENT 2.ipynb",
      "provenance": [],
      "authorship_tag": "ABX9TyNDdQ7rg2TmL/fnzbJzwtrH",
      "include_colab_link": true
    },
    "kernelspec": {
      "name": "python3",
      "display_name": "Python 3"
    },
    "language_info": {
      "name": "python"
    },
    "accelerator": "GPU"
  },
  "cells": [
    {
      "cell_type": "markdown",
      "metadata": {
        "id": "view-in-github",
        "colab_type": "text"
      },
      "source": [
        "<a href=\"https://colab.research.google.com/github/saptarshidatta96/MTech_Sem3/blob/main/NLU_ASSIGNMENT_2.ipynb\" target=\"_parent\"><img src=\"https://colab.research.google.com/assets/colab-badge.svg\" alt=\"Open In Colab\"/></a>"
      ]
    },
    {
      "cell_type": "code",
      "source": [
        "import csv\n",
        "import requests\n",
        "from itertools import islice\n",
        "import numpy as np\n",
        "import xml.etree.ElementTree as ET\n",
        "import random\n",
        "import tensorflow as tf\n",
        "from scipy.sparse import csr_matrix\n",
        "import tensorflow as tf\n",
        "from keras.preprocessing import sequence\n",
        "from keras.preprocessing import text\n",
        "from tensorflow import keras\n",
        "from keras.models import Sequential\n",
        "from keras import models\n",
        "from keras.layers import *\n",
        "from keras.models import *\n",
        "from keras import backend as K\n",
        "from keras import initializers\n",
        "from keras import regularizers\n",
        "from keras.layers import Dense, Embedding, LSTM, SpatialDropout1D, Bidirectional, Attention, Flatten, Activation, RepeatVector, Permute, Multiply\n",
        "from keras.layers import CuDNNLSTM\n",
        "from keras.layers import Dropout, Multiply, Lambda\n",
        "from tensorflow.keras.optimizers import Adam\n",
        "from tensorflow.keras.callbacks import EarlyStopping\n",
        "from sklearn.metrics import accuracy_score, confusion_matrix, classification_report\n",
        "import matplotlib.pyplot as plt"
      ],
      "metadata": {
        "id": "k9wpPfdU5pKc"
      },
      "execution_count": 60,
      "outputs": []
    },
    {
      "cell_type": "code",
      "execution_count": 29,
      "metadata": {
        "colab": {
          "base_uri": "https://localhost:8080/"
        },
        "id": "B6Kl42783JJX",
        "outputId": "8feae469-cecb-40d6-ea7a-bc8bd799edd1"
      },
      "outputs": [
        {
          "output_type": "stream",
          "name": "stdout",
          "text": [
            "Mounted at /content/gdrive\n"
          ]
        }
      ],
      "source": [
        "from google.colab import drive\n",
        "drive.mount('/content/gdrive', force_remount=True)"
      ]
    },
    {
      "cell_type": "code",
      "source": [
        "import pandas as pd\n",
        "import xml.etree.ElementTree as ET\n",
        "import io\n",
        "import xml.dom.minidom\n",
        "\n",
        "def iter_docs(author):\n",
        "  author_attr = author.attrib\n",
        "  for doc in author.iter('sentence'):\n",
        "    doc_dict = author_attr.copy()\n",
        "    for text in doc.iter('text'):\n",
        "      doc_dict['text'] = text.text\n",
        "      for cat in doc.iter('aspectCategory'):\n",
        "        doc_dict.update(cat.attrib)\n",
        "      yield doc_dict\n",
        "\n",
        "\n",
        "etree = ET.parse(\"/content/gdrive/MyDrive/train.xml\")\n",
        "doc_df = pd.DataFrame(list(iter_docs(etree.getroot())))"
      ],
      "metadata": {
        "id": "9a2RlAJbX6AG"
      },
      "execution_count": 30,
      "outputs": []
    },
    {
      "cell_type": "code",
      "source": [
        "doc_df.head()"
      ],
      "metadata": {
        "colab": {
          "base_uri": "https://localhost:8080/",
          "height": 206
        },
        "id": "CjWruD22YJgi",
        "outputId": "12c302e2-2eee-4598-da8b-447bbaa9fae8"
      },
      "execution_count": 31,
      "outputs": [
        {
          "output_type": "execute_result",
          "data": {
            "text/html": [
              "\n",
              "  <div id=\"df-fe612397-a685-4648-a440-f2134378eef5\">\n",
              "    <div class=\"colab-df-container\">\n",
              "      <div>\n",
              "<style scoped>\n",
              "    .dataframe tbody tr th:only-of-type {\n",
              "        vertical-align: middle;\n",
              "    }\n",
              "\n",
              "    .dataframe tbody tr th {\n",
              "        vertical-align: top;\n",
              "    }\n",
              "\n",
              "    .dataframe thead th {\n",
              "        text-align: right;\n",
              "    }\n",
              "</style>\n",
              "<table border=\"1\" class=\"dataframe\">\n",
              "  <thead>\n",
              "    <tr style=\"text-align: right;\">\n",
              "      <th></th>\n",
              "      <th>text</th>\n",
              "      <th>category</th>\n",
              "      <th>polarity</th>\n",
              "    </tr>\n",
              "  </thead>\n",
              "  <tbody>\n",
              "    <tr>\n",
              "      <th>0</th>\n",
              "      <td>It might be the best sit down food I've had in...</td>\n",
              "      <td>place</td>\n",
              "      <td>neutral</td>\n",
              "    </tr>\n",
              "    <tr>\n",
              "      <th>1</th>\n",
              "      <td>Hostess was extremely accommodating when we ar...</td>\n",
              "      <td>miscellaneous</td>\n",
              "      <td>neutral</td>\n",
              "    </tr>\n",
              "    <tr>\n",
              "      <th>2</th>\n",
              "      <td>We were a couple of minutes late for our reser...</td>\n",
              "      <td>staff</td>\n",
              "      <td>negative</td>\n",
              "    </tr>\n",
              "    <tr>\n",
              "      <th>3</th>\n",
              "      <td>Though the service might be a little slow, the...</td>\n",
              "      <td>staff</td>\n",
              "      <td>positive</td>\n",
              "    </tr>\n",
              "    <tr>\n",
              "      <th>4</th>\n",
              "      <td>Although we arrived at the restaurant 10 min l...</td>\n",
              "      <td>miscellaneous</td>\n",
              "      <td>neutral</td>\n",
              "    </tr>\n",
              "  </tbody>\n",
              "</table>\n",
              "</div>\n",
              "      <button class=\"colab-df-convert\" onclick=\"convertToInteractive('df-fe612397-a685-4648-a440-f2134378eef5')\"\n",
              "              title=\"Convert this dataframe to an interactive table.\"\n",
              "              style=\"display:none;\">\n",
              "        \n",
              "  <svg xmlns=\"http://www.w3.org/2000/svg\" height=\"24px\"viewBox=\"0 0 24 24\"\n",
              "       width=\"24px\">\n",
              "    <path d=\"M0 0h24v24H0V0z\" fill=\"none\"/>\n",
              "    <path d=\"M18.56 5.44l.94 2.06.94-2.06 2.06-.94-2.06-.94-.94-2.06-.94 2.06-2.06.94zm-11 1L8.5 8.5l.94-2.06 2.06-.94-2.06-.94L8.5 2.5l-.94 2.06-2.06.94zm10 10l.94 2.06.94-2.06 2.06-.94-2.06-.94-.94-2.06-.94 2.06-2.06.94z\"/><path d=\"M17.41 7.96l-1.37-1.37c-.4-.4-.92-.59-1.43-.59-.52 0-1.04.2-1.43.59L10.3 9.45l-7.72 7.72c-.78.78-.78 2.05 0 2.83L4 21.41c.39.39.9.59 1.41.59.51 0 1.02-.2 1.41-.59l7.78-7.78 2.81-2.81c.8-.78.8-2.07 0-2.86zM5.41 20L4 18.59l7.72-7.72 1.47 1.35L5.41 20z\"/>\n",
              "  </svg>\n",
              "      </button>\n",
              "      \n",
              "  <style>\n",
              "    .colab-df-container {\n",
              "      display:flex;\n",
              "      flex-wrap:wrap;\n",
              "      gap: 12px;\n",
              "    }\n",
              "\n",
              "    .colab-df-convert {\n",
              "      background-color: #E8F0FE;\n",
              "      border: none;\n",
              "      border-radius: 50%;\n",
              "      cursor: pointer;\n",
              "      display: none;\n",
              "      fill: #1967D2;\n",
              "      height: 32px;\n",
              "      padding: 0 0 0 0;\n",
              "      width: 32px;\n",
              "    }\n",
              "\n",
              "    .colab-df-convert:hover {\n",
              "      background-color: #E2EBFA;\n",
              "      box-shadow: 0px 1px 2px rgba(60, 64, 67, 0.3), 0px 1px 3px 1px rgba(60, 64, 67, 0.15);\n",
              "      fill: #174EA6;\n",
              "    }\n",
              "\n",
              "    [theme=dark] .colab-df-convert {\n",
              "      background-color: #3B4455;\n",
              "      fill: #D2E3FC;\n",
              "    }\n",
              "\n",
              "    [theme=dark] .colab-df-convert:hover {\n",
              "      background-color: #434B5C;\n",
              "      box-shadow: 0px 1px 3px 1px rgba(0, 0, 0, 0.15);\n",
              "      filter: drop-shadow(0px 1px 2px rgba(0, 0, 0, 0.3));\n",
              "      fill: #FFFFFF;\n",
              "    }\n",
              "  </style>\n",
              "\n",
              "      <script>\n",
              "        const buttonEl =\n",
              "          document.querySelector('#df-fe612397-a685-4648-a440-f2134378eef5 button.colab-df-convert');\n",
              "        buttonEl.style.display =\n",
              "          google.colab.kernel.accessAllowed ? 'block' : 'none';\n",
              "\n",
              "        async function convertToInteractive(key) {\n",
              "          const element = document.querySelector('#df-fe612397-a685-4648-a440-f2134378eef5');\n",
              "          const dataTable =\n",
              "            await google.colab.kernel.invokeFunction('convertToInteractive',\n",
              "                                                     [key], {});\n",
              "          if (!dataTable) return;\n",
              "\n",
              "          const docLinkHtml = 'Like what you see? Visit the ' +\n",
              "            '<a target=\"_blank\" href=https://colab.research.google.com/notebooks/data_table.ipynb>data table notebook</a>'\n",
              "            + ' to learn more about interactive tables.';\n",
              "          element.innerHTML = '';\n",
              "          dataTable['output_type'] = 'display_data';\n",
              "          await google.colab.output.renderOutput(dataTable, element);\n",
              "          const docLink = document.createElement('div');\n",
              "          docLink.innerHTML = docLinkHtml;\n",
              "          element.appendChild(docLink);\n",
              "        }\n",
              "      </script>\n",
              "    </div>\n",
              "  </div>\n",
              "  "
            ],
            "text/plain": [
              "                                                text       category  polarity\n",
              "0  It might be the best sit down food I've had in...          place   neutral\n",
              "1  Hostess was extremely accommodating when we ar...  miscellaneous   neutral\n",
              "2  We were a couple of minutes late for our reser...          staff  negative\n",
              "3  Though the service might be a little slow, the...          staff  positive\n",
              "4  Although we arrived at the restaurant 10 min l...  miscellaneous   neutral"
            ]
          },
          "metadata": {},
          "execution_count": 31
        }
      ]
    },
    {
      "cell_type": "code",
      "source": [
        "doc_df.shape"
      ],
      "metadata": {
        "colab": {
          "base_uri": "https://localhost:8080/"
        },
        "id": "KHdsdJghIaaM",
        "outputId": "f7740e74-d0fc-45c5-cdb1-3d0a257d6be8"
      },
      "execution_count": 32,
      "outputs": [
        {
          "output_type": "execute_result",
          "data": {
            "text/plain": [
              "(3134, 3)"
            ]
          },
          "metadata": {},
          "execution_count": 32
        }
      ]
    },
    {
      "cell_type": "code",
      "source": [
        "doc_df['category'].unique()"
      ],
      "metadata": {
        "colab": {
          "base_uri": "https://localhost:8080/"
        },
        "id": "jo4mItemcFiQ",
        "outputId": "1a1ec8b4-dd63-47cb-c02b-dffa3b05b2b3"
      },
      "execution_count": 33,
      "outputs": [
        {
          "output_type": "execute_result",
          "data": {
            "text/plain": [
              "array(['place', 'miscellaneous', 'staff', 'food', 'ambience', 'service',\n",
              "       'menu', 'price'], dtype=object)"
            ]
          },
          "metadata": {},
          "execution_count": 33
        }
      ]
    },
    {
      "cell_type": "code",
      "source": [
        "doc_df['polarity'].unique()"
      ],
      "metadata": {
        "colab": {
          "base_uri": "https://localhost:8080/"
        },
        "id": "S18gS9-6EB6X",
        "outputId": "da2a01ed-f87a-41d1-ce5e-ed08718b07ba"
      },
      "execution_count": 34,
      "outputs": [
        {
          "output_type": "execute_result",
          "data": {
            "text/plain": [
              "array(['neutral', 'negative', 'positive'], dtype=object)"
            ]
          },
          "metadata": {},
          "execution_count": 34
        }
      ]
    },
    {
      "cell_type": "code",
      "source": [
        "df_category = pd.get_dummies(doc_df['category'], columns = ['food', 'place', 'staff', 'miscellaneous', 'service', 'price', 'menu', 'ambience'])"
      ],
      "metadata": {
        "id": "qJIUIDStbJYi"
      },
      "execution_count": 35,
      "outputs": []
    },
    {
      "cell_type": "code",
      "source": [
        "df_polarity = pd.get_dummies(doc_df['polarity'], columns = ['neutral', 'negative', 'positive'])"
      ],
      "metadata": {
        "id": "r3viKwtgFJBw"
      },
      "execution_count": 36,
      "outputs": []
    },
    {
      "cell_type": "code",
      "source": [
        "df = pd.concat([df_category, df_polarity], axis=1)"
      ],
      "metadata": {
        "id": "UDREQmUhEf6E"
      },
      "execution_count": 37,
      "outputs": []
    },
    {
      "cell_type": "code",
      "source": [
        "df = pd.concat([doc_df['text'], df], axis=1)"
      ],
      "metadata": {
        "id": "bQi967VvdRVj"
      },
      "execution_count": 38,
      "outputs": []
    },
    {
      "cell_type": "code",
      "source": [
        "df.head()"
      ],
      "metadata": {
        "colab": {
          "base_uri": "https://localhost:8080/",
          "height": 206
        },
        "id": "FQnqT6POdD5s",
        "outputId": "6f914169-c1c2-4296-c2d4-46a0af919bc0"
      },
      "execution_count": 39,
      "outputs": [
        {
          "output_type": "execute_result",
          "data": {
            "text/html": [
              "\n",
              "  <div id=\"df-74de7f89-daeb-4b7f-a969-47bab90b975c\">\n",
              "    <div class=\"colab-df-container\">\n",
              "      <div>\n",
              "<style scoped>\n",
              "    .dataframe tbody tr th:only-of-type {\n",
              "        vertical-align: middle;\n",
              "    }\n",
              "\n",
              "    .dataframe tbody tr th {\n",
              "        vertical-align: top;\n",
              "    }\n",
              "\n",
              "    .dataframe thead th {\n",
              "        text-align: right;\n",
              "    }\n",
              "</style>\n",
              "<table border=\"1\" class=\"dataframe\">\n",
              "  <thead>\n",
              "    <tr style=\"text-align: right;\">\n",
              "      <th></th>\n",
              "      <th>text</th>\n",
              "      <th>ambience</th>\n",
              "      <th>food</th>\n",
              "      <th>menu</th>\n",
              "      <th>miscellaneous</th>\n",
              "      <th>place</th>\n",
              "      <th>price</th>\n",
              "      <th>service</th>\n",
              "      <th>staff</th>\n",
              "      <th>negative</th>\n",
              "      <th>neutral</th>\n",
              "      <th>positive</th>\n",
              "    </tr>\n",
              "  </thead>\n",
              "  <tbody>\n",
              "    <tr>\n",
              "      <th>0</th>\n",
              "      <td>It might be the best sit down food I've had in...</td>\n",
              "      <td>0</td>\n",
              "      <td>0</td>\n",
              "      <td>0</td>\n",
              "      <td>0</td>\n",
              "      <td>1</td>\n",
              "      <td>0</td>\n",
              "      <td>0</td>\n",
              "      <td>0</td>\n",
              "      <td>0</td>\n",
              "      <td>1</td>\n",
              "      <td>0</td>\n",
              "    </tr>\n",
              "    <tr>\n",
              "      <th>1</th>\n",
              "      <td>Hostess was extremely accommodating when we ar...</td>\n",
              "      <td>0</td>\n",
              "      <td>0</td>\n",
              "      <td>0</td>\n",
              "      <td>1</td>\n",
              "      <td>0</td>\n",
              "      <td>0</td>\n",
              "      <td>0</td>\n",
              "      <td>0</td>\n",
              "      <td>0</td>\n",
              "      <td>1</td>\n",
              "      <td>0</td>\n",
              "    </tr>\n",
              "    <tr>\n",
              "      <th>2</th>\n",
              "      <td>We were a couple of minutes late for our reser...</td>\n",
              "      <td>0</td>\n",
              "      <td>0</td>\n",
              "      <td>0</td>\n",
              "      <td>0</td>\n",
              "      <td>0</td>\n",
              "      <td>0</td>\n",
              "      <td>0</td>\n",
              "      <td>1</td>\n",
              "      <td>1</td>\n",
              "      <td>0</td>\n",
              "      <td>0</td>\n",
              "    </tr>\n",
              "    <tr>\n",
              "      <th>3</th>\n",
              "      <td>Though the service might be a little slow, the...</td>\n",
              "      <td>0</td>\n",
              "      <td>0</td>\n",
              "      <td>0</td>\n",
              "      <td>0</td>\n",
              "      <td>0</td>\n",
              "      <td>0</td>\n",
              "      <td>0</td>\n",
              "      <td>1</td>\n",
              "      <td>0</td>\n",
              "      <td>0</td>\n",
              "      <td>1</td>\n",
              "    </tr>\n",
              "    <tr>\n",
              "      <th>4</th>\n",
              "      <td>Although we arrived at the restaurant 10 min l...</td>\n",
              "      <td>0</td>\n",
              "      <td>0</td>\n",
              "      <td>0</td>\n",
              "      <td>1</td>\n",
              "      <td>0</td>\n",
              "      <td>0</td>\n",
              "      <td>0</td>\n",
              "      <td>0</td>\n",
              "      <td>0</td>\n",
              "      <td>1</td>\n",
              "      <td>0</td>\n",
              "    </tr>\n",
              "  </tbody>\n",
              "</table>\n",
              "</div>\n",
              "      <button class=\"colab-df-convert\" onclick=\"convertToInteractive('df-74de7f89-daeb-4b7f-a969-47bab90b975c')\"\n",
              "              title=\"Convert this dataframe to an interactive table.\"\n",
              "              style=\"display:none;\">\n",
              "        \n",
              "  <svg xmlns=\"http://www.w3.org/2000/svg\" height=\"24px\"viewBox=\"0 0 24 24\"\n",
              "       width=\"24px\">\n",
              "    <path d=\"M0 0h24v24H0V0z\" fill=\"none\"/>\n",
              "    <path d=\"M18.56 5.44l.94 2.06.94-2.06 2.06-.94-2.06-.94-.94-2.06-.94 2.06-2.06.94zm-11 1L8.5 8.5l.94-2.06 2.06-.94-2.06-.94L8.5 2.5l-.94 2.06-2.06.94zm10 10l.94 2.06.94-2.06 2.06-.94-2.06-.94-.94-2.06-.94 2.06-2.06.94z\"/><path d=\"M17.41 7.96l-1.37-1.37c-.4-.4-.92-.59-1.43-.59-.52 0-1.04.2-1.43.59L10.3 9.45l-7.72 7.72c-.78.78-.78 2.05 0 2.83L4 21.41c.39.39.9.59 1.41.59.51 0 1.02-.2 1.41-.59l7.78-7.78 2.81-2.81c.8-.78.8-2.07 0-2.86zM5.41 20L4 18.59l7.72-7.72 1.47 1.35L5.41 20z\"/>\n",
              "  </svg>\n",
              "      </button>\n",
              "      \n",
              "  <style>\n",
              "    .colab-df-container {\n",
              "      display:flex;\n",
              "      flex-wrap:wrap;\n",
              "      gap: 12px;\n",
              "    }\n",
              "\n",
              "    .colab-df-convert {\n",
              "      background-color: #E8F0FE;\n",
              "      border: none;\n",
              "      border-radius: 50%;\n",
              "      cursor: pointer;\n",
              "      display: none;\n",
              "      fill: #1967D2;\n",
              "      height: 32px;\n",
              "      padding: 0 0 0 0;\n",
              "      width: 32px;\n",
              "    }\n",
              "\n",
              "    .colab-df-convert:hover {\n",
              "      background-color: #E2EBFA;\n",
              "      box-shadow: 0px 1px 2px rgba(60, 64, 67, 0.3), 0px 1px 3px 1px rgba(60, 64, 67, 0.15);\n",
              "      fill: #174EA6;\n",
              "    }\n",
              "\n",
              "    [theme=dark] .colab-df-convert {\n",
              "      background-color: #3B4455;\n",
              "      fill: #D2E3FC;\n",
              "    }\n",
              "\n",
              "    [theme=dark] .colab-df-convert:hover {\n",
              "      background-color: #434B5C;\n",
              "      box-shadow: 0px 1px 3px 1px rgba(0, 0, 0, 0.15);\n",
              "      filter: drop-shadow(0px 1px 2px rgba(0, 0, 0, 0.3));\n",
              "      fill: #FFFFFF;\n",
              "    }\n",
              "  </style>\n",
              "\n",
              "      <script>\n",
              "        const buttonEl =\n",
              "          document.querySelector('#df-74de7f89-daeb-4b7f-a969-47bab90b975c button.colab-df-convert');\n",
              "        buttonEl.style.display =\n",
              "          google.colab.kernel.accessAllowed ? 'block' : 'none';\n",
              "\n",
              "        async function convertToInteractive(key) {\n",
              "          const element = document.querySelector('#df-74de7f89-daeb-4b7f-a969-47bab90b975c');\n",
              "          const dataTable =\n",
              "            await google.colab.kernel.invokeFunction('convertToInteractive',\n",
              "                                                     [key], {});\n",
              "          if (!dataTable) return;\n",
              "\n",
              "          const docLinkHtml = 'Like what you see? Visit the ' +\n",
              "            '<a target=\"_blank\" href=https://colab.research.google.com/notebooks/data_table.ipynb>data table notebook</a>'\n",
              "            + ' to learn more about interactive tables.';\n",
              "          element.innerHTML = '';\n",
              "          dataTable['output_type'] = 'display_data';\n",
              "          await google.colab.output.renderOutput(dataTable, element);\n",
              "          const docLink = document.createElement('div');\n",
              "          docLink.innerHTML = docLinkHtml;\n",
              "          element.appendChild(docLink);\n",
              "        }\n",
              "      </script>\n",
              "    </div>\n",
              "  </div>\n",
              "  "
            ],
            "text/plain": [
              "                                                text  ...  positive\n",
              "0  It might be the best sit down food I've had in...  ...         0\n",
              "1  Hostess was extremely accommodating when we ar...  ...         0\n",
              "2  We were a couple of minutes late for our reser...  ...         0\n",
              "3  Though the service might be a little slow, the...  ...         1\n",
              "4  Although we arrived at the restaurant 10 min l...  ...         0\n",
              "\n",
              "[5 rows x 12 columns]"
            ]
          },
          "metadata": {},
          "execution_count": 39
        }
      ]
    },
    {
      "cell_type": "code",
      "source": [
        "data = df['text']\n",
        "data = list(data)\n",
        "labels = df.drop(['text'], axis = 1)"
      ],
      "metadata": {
        "id": "HeAOZHTUd2Dr"
      },
      "execution_count": 40,
      "outputs": []
    },
    {
      "cell_type": "code",
      "source": [
        "def split_training_and_validation_sets(data, labels, validation_split):\n",
        "\n",
        "    num_training_samples = int((1 - validation_split) * len(data))\n",
        "    return ((data[:num_training_samples], labels[:num_training_samples]),\n",
        "            (data[num_training_samples:], labels[num_training_samples:]))\n",
        "    \n",
        "(train_data, train_label), (valid_data, valid_label) = split_training_and_validation_sets(data, labels, 0.1)\n"
      ],
      "metadata": {
        "id": "eHMCF8Dgiav6"
      },
      "execution_count": 41,
      "outputs": []
    },
    {
      "cell_type": "code",
      "source": [
        "print(valid_label)"
      ],
      "metadata": {
        "colab": {
          "base_uri": "https://localhost:8080/"
        },
        "id": "b9IpycIWN95t",
        "outputId": "4eadc818-d6c6-453f-b538-08c4c0faa0f8"
      },
      "execution_count": 42,
      "outputs": [
        {
          "output_type": "stream",
          "name": "stdout",
          "text": [
            "      ambience  food  menu  miscellaneous  ...  staff  negative  neutral  positive\n",
            "2820         0     1     0              0  ...      0         0        0         1\n",
            "2821         0     0     0              0  ...      0         1        0         0\n",
            "2822         0     0     1              0  ...      0         0        1         0\n",
            "2823         0     1     0              0  ...      0         1        0         0\n",
            "2824         0     1     0              0  ...      0         0        1         0\n",
            "...        ...   ...   ...            ...  ...    ...       ...      ...       ...\n",
            "3129         0     0     0              0  ...      1         1        0         0\n",
            "3130         0     0     1              0  ...      0         0        1         0\n",
            "3131         0     0     0              0  ...      0         0        1         0\n",
            "3132         0     0     0              0  ...      0         0        0         1\n",
            "3133         0     0     0              0  ...      1         1        0         0\n",
            "\n",
            "[314 rows x 11 columns]\n"
          ]
        }
      ]
    },
    {
      "cell_type": "code",
      "source": [
        "train_label = tf.convert_to_tensor(train_label, dtype=tf.float32)\n",
        "valid_label = tf.convert_to_tensor(valid_label, dtype=tf.float32)"
      ],
      "metadata": {
        "id": "k62-OybCjSyy"
      },
      "execution_count": 43,
      "outputs": []
    },
    {
      "cell_type": "code",
      "source": [
        "def sequence_vectorizer(train_data, valid_data):\n",
        "\n",
        "    # Create vocabulary with training texts.\n",
        "    tokenizer = text.Tokenizer(num_words=20000)\n",
        "    tokenizer.fit_on_texts(train_data)\n",
        "\n",
        "    # Vectorize training and validation texts.\n",
        "    x_train = tokenizer.texts_to_sequences(train_data)\n",
        "    x_val = tokenizer.texts_to_sequences(valid_data)\n",
        "\n",
        "    # Get max sequence length.\n",
        "    max_length = len(max(x_train, key=len))\n",
        "    if max_length > 50:\n",
        "        max_length = 50\n",
        "\n",
        "    # Fix sequence length to max value. Sequences shorter than the length are\n",
        "    # padded in the beginning and sequences longer are truncated\n",
        "    # at the beginning.\n",
        "    x_train = sequence.pad_sequences(x_train, maxlen=max_length)\n",
        "    x_val = sequence.pad_sequences(x_val, maxlen=max_length)\n",
        "\n",
        "    x_train = tf.convert_to_tensor(x_train, dtype=tf.float32)\n",
        "    x_val = tf.convert_to_tensor(x_val, dtype=tf.float32)\n",
        "\n",
        "    return x_train, x_val, tokenizer.word_index"
      ],
      "metadata": {
        "id": "l4VmxGU1Mm3g"
      },
      "execution_count": 44,
      "outputs": []
    },
    {
      "cell_type": "code",
      "source": [
        "x_train, x_val, word_index = sequence_vectorizer(train_data, valid_data)"
      ],
      "metadata": {
        "id": "ZqNhrBt0M9xp"
      },
      "execution_count": 45,
      "outputs": []
    },
    {
      "cell_type": "code",
      "source": [
        "print(word_index)"
      ],
      "metadata": {
        "colab": {
          "base_uri": "https://localhost:8080/"
        },
        "id": "krBWnuRmrUPC",
        "outputId": "1d3b7049-174c-413b-a67f-9aa76835c84e"
      },
      "execution_count": 70,
      "outputs": [
        {
          "output_type": "stream",
          "name": "stdout",
          "text": [
            "{'the': 1, 'and': 2, 'a': 3, 'to': 4, 'was': 5, 'of': 6, 'for': 7, 'we': 8, 'i': 9, 'is': 10, 'but': 11, 'food': 12, 'our': 13, 'in': 14, 'with': 15, 'that': 16, 'it': 17, 'on': 18, 'at': 19, 'were': 20, 'menu': 21, 'had': 22, 'not': 23, 'you': 24, 'us': 25, 'service': 26, 'waiter': 27, 'my': 28, 'they': 29, 'bar': 30, 'have': 31, 'are': 32, 'when': 33, 'as': 34, 'table': 35, 'there': 36, 'so': 37, 'be': 38, 'dinner': 39, 'wait': 40, 'good': 41, 'or': 42, 'an': 43, 'if': 44, 'waitress': 45, 'place': 46, 'get': 47, 'by': 48, 'after': 49, 'out': 50, 'from': 51, 'this': 52, 'one': 53, 'very': 54, 'like': 55, 'drinks': 56, 'up': 57, 'order': 58, 'all': 59, 'even': 60, 'he': 61, 'no': 62, 'about': 63, 'more': 64, 'just': 65, 'staff': 66, 'time': 67, 'wine': 68, 'which': 69, 'only': 70, 'minutes': 71, 'their': 72, 'over': 73, 'me': 74, 'restaurant': 75, 'great': 76, 'while': 77, 'asked': 78, 'would': 79, 'meal': 80, 'drink': 81, 'came': 82, \"didn't\": 83, 'your': 84, 'than': 85, 'long': 86, 'back': 87, 'other': 88, 'go': 89, 'then': 90, 'waiting': 91, 'because': 92, 'price': 93, 'can': 94, 'manager': 95, 'went': 96, 'who': 97, 'been': 98, 'what': 99, 'some': 100, 'took': 101, 'told': 102, 'portions': 103, 'hour': 104, 'reservation': 105, 'atmosphere': 106, 'she': 107, 'never': 108, \"it's\": 109, 'take': 110, 'people': 111, 'night': 112, 'dining': 113, 'seated': 114, 'got': 115, 'tables': 116, 'did': 117, 'small': 118, 'nice': 119, 'water': 120, 'room': 121, 'prices': 122, 'ordered': 123, 'could': 124, 'two': 125, 'lunch': 126, 'though': 127, 'too': 128, 'made': 129, 'well': 130, 'check': 131, \"don't\": 132, 'dessert': 133, 'has': 134, 'better': 135, 'hostess': 136, 'before': 137, 'waiters': 138, 'dishes': 139, 'make': 140, 'another': 141, 'really': 142, 'here': 143, 'server': 144, 'served': 145, 'ask': 146, 'much': 147, 'bit': 148, 'down': 149, 'although': 150, 'best': 151, 'little': 152, '2': 153, 'any': 154, 'glass': 155, 'worth': 156, 'waited': 157, 'around': 158, 'decor': 159, 'appetizers': 160, 'bill': 161, 'come': 162, 'reservations': 163, 'sushi': 164, 'bring': 165, '10': 166, 'also': 167, 'said': 168, 'off': 169, 'always': 170, 'them': 171, 'will': 172, 'times': 173, 'since': 174, \"wasn't\": 175, 'few': 176, 'friendly': 177, 'brought': 178, 'bad': 179, 'experience': 180, 'entrees': 181, 'half': 182, 'its': 183, 'her': 184, 'salad': 185, 'being': 186, 'chicken': 187, 'once': 188, 'party': 189, 'away': 190, 'slow': 191, 'into': 192, 'still': 193, 'brunch': 194, 'most': 195, 'large': 196, 'average': 197, 'enough': 198, 'gave': 199, 'where': 200, 'want': 201, 'quality': 202, 'steak': 203, 'space': 204, '15': 205, 'coffee': 206, 'kitchen': 207, 'dish': 208, 'friends': 209, 'many': 210, 'without': 211, 'scene': 212, 'sauce': 213, '20': 214, 'try': 215, 'his': 216, 'way': 217, 'next': 218, 'plates': 219, 'full': 220, 'seating': 221, 'new': 222, 'chef': 223, '1': 224, 'fresh': 225, 'know': 226, 'do': 227, 'find': 228, 'everything': 229, 'sat': 230, 'friend': 231, 'pizza': 232, 'area': 233, '3': 234, 'seemed': 235, 'every': 236, 'how': 237, '30': 238, \"i've\": 239, 'each': 240, 'bread': 241, 'same': 242, 'eat': 243, 'appetizer': 244, 'something': 245, 'bottle': 246, 'fish': 247, 'arrived': 248, 'entree': 249, 'cheese': 250, 'almost': 251, 'sit': 252, 'found': 253, 'side': 254, 'owner': 255, 'him': 256, 'give': 257, 'having': 258, 'first': 259, 'pretty': 260, 'eating': 261, 'left': 262, 'day': 263, 'three': 264, 'bartender': 265, '5': 266, 'music': 267, 'should': 268, 'both': 269, \"couldn't\": 270, 'right': 271, 'menus': 272, 'top': 273, 'specials': 274, 'high': 275, 'big': 276, 'least': 277, 'crowded': 278, 'plate': 279, 'finally': 280, 'until': 281, 'wrong': 282, 'rude': 283, \"you're\": 284, 'several': 285, 'special': 286, 'course': 287, 'empty': 288, 'wanted': 289, 'huge': 290, 'delicious': 291, 'busy': 292, 'servers': 293, 'during': 294, 'less': 295, 'say': 296, 'else': 297, 'through': 298, 'crowd': 299, 'waitstaff': 300, 'instead': 301, 'expensive': 302, 'late': 303, 'attitude': 304, '45': 305, 'orders': 306, 'hours': 307, 'ok': 308, 'nothing': 309, 'pay': 310, 'italian': 311, 'again': 312, 'later': 313, 'tried': 314, 'think': 315, 'ambience': 316, 'end': 317, 'may': 318, 'forgot': 319, 'main': 320, 'excellent': 321, 'list': 322, 'ever': 323, 'sitting': 324, 'enjoy': 325, 'different': 326, 'loud': 327, 'hot': 328, 'attentive': 329, 'leave': 330, 'host': 331, 'things': 332, 'diners': 333, 'items': 334, 'such': 335, 'feel': 336, 'offered': 337, 'front': 338, 'decent': 339, 'going': 340, 'put': 341, 'yet': 342, 'however': 343, 'shrimp': 344, 'thought': 345, 'lot': 346, 'beer': 347, 'prepared': 348, 'meat': 349, 'seat': 350, 'flavor': 351, 'twice': 352, 'extremely': 353, 'entire': 354, 'ordering': 355, 'cold': 356, \"can't\": 357, 'work': 358, 'tiny': 359, 'sure': 360, 'group': 361, 'last': 362, 'tasty': 363, '4': 364, 'soup': 365, 'free': 366, 'red': 367, 'looked': 368, 'priced': 369, 'selection': 370, 'forever': 371, 'open': 372, 'tell': 373, 'able': 374, 'those': 375, 'actually': 376, 'glasses': 377, 'french': 378, 'quite': 379, 'limited': 380, 'saturday': 381, 'thing': 382, 'promptly': 383, 'started': 384, 'kept': 385, 'tasting': 386, 'whole': 387, 'asking': 388, 'quickly': 389, 'week': 390, 'choices': 391, 'fact': 392, 'portion': 393, 'decided': 394, 'date': 395, 'mind': 396, 'taking': 397, 'spot': 398, 'must': 399, 'style': 400, 'old': 401, 'love': 402, 'diner': 403, 'usually': 404, 'perfect': 405, 'getting': 406, 'someone': 407, 'packed': 408, 'see': 409, 'evening': 410, 'expect': 411, 'early': 412, 'walked': 413, 'keep': 414, 'anything': 415, 'trying': 416, 'kind': 417, '6': 418, 'between': 419, 'change': 420, 'overall': 421, 'couple': 422, 'recommended': 423, 'often': 424, 'cool': 425, 'needed': 426, 'desserts': 427, 'amazing': 428, 'warm': 429, 'pleasant': 430, 'tip': 431, 'look': 432, 'deal': 433, 'rest': 434, 'door': 435, 'sweet': 436, 'under': 437, 'definitely': 438, 'arrive': 439, 'home': 440, 'attention': 441, 'finished': 442, 'serve': 443, 'rushed': 444, 'charged': 445, 'real': 446, 'everyone': 447, 'looking': 448, 'already': 449, 'done': 450, 'makes': 451, 'am': 452, 'short': 453, 'might': 454, 'white': 455, 'despite': 456, 'regular': 457, 'need': 458, 'counter': 459, 'fare': 460, 'behind': 461, 'person': 462, 'horrible': 463, 'round': 464, 'taste': 465, 'outside': 466, 'recommend': 467, 'house': 468, 'tea': 469, 'mediocre': 470, 'corner': 471, 'beef': 472, 'places': 473, 'years': 474, 'ingredients': 475, 'now': 476, 'seats': 477, 'given': 478, \"weren't\": 479, 'salmon': 480, 'fries': 481, 'fun': 482, 'including': 483, 'especially': 484, 'minute': 485, 'mixed': 486, 'w': 487, 'etc': 488, 'single': 489, 'available': 490, 'pork': 491, 'cost': 492, 'coming': 493, 'wall': 494, 'considering': 495, 'poor': 496, 'finish': 497, 'worst': 498, 'care': 499, 'romantic': 500, 'comes': 501, 'expected': 502, 'refill': 503, 'birthday': 504, 'along': 505, 'treated': 506, 'family': 507, 'rather': 508, 'value': 509, 'favorite': 510, 'reasonable': 511, 'offer': 512, 'choice': 513, 'avoid': 514, \"isn't\": 515, \"there's\": 516, 'happy': 517, 'japanese': 518, 'fine': 519, 'burgers': 520, 'patrons': 521, 'live': 522, 'cocktail': 523, 'felt': 524, 'helpful': 525, 'middle': 526, 'upon': 527, 'seafood': 528, 'meals': 529, 'either': 530, 'maybe': 531, 'ignored': 532, 'beautiful': 533, 'sometimes': 534, '8': 535, 'cozy': 536, 'fantastic': 537, 'close': 538, '7': 539, 'wife': 540, 'completely': 541, 'taken': 542, 'quick': 543, 'rice': 544, 'except': 545, 'returned': 546, 'let': 547, 'lobster': 548, 'saw': 549, 'pasta': 550, 'saying': 551, 'show': 552, 'rolls': 553, 'ended': 554, 'non': 555, 'customers': 556, 'looks': 557, 'above': 558, 'seems': 559, 'street': 560, 'ice': 561, 'friday': 562, 'called': 563, 'sunday': 564, 'delivery': 565, 'hard': 566, 'seem': 567, 'thai': 568, 'share': 569, 'used': 570, 'cooked': 571, 'wines': 572, 'nearly': 573, 'paying': 574, 'second': 575, 'light': 576, 'why': 577, \"i'm\": 578, 'ready': 579, 'type': 580, 'mexican': 581, 'waitresses': 582, 'min': 583, 'throughout': 584, 'filled': 585, 'casual': 586, 'desert': 587, 'disappointed': 588, 'informed': 589, 'spilled': 590, 'forget': 591, 'chefs': 592, 'recently': 593, 'past': 594, 'practically': 595, 'showed': 596, 'cuisine': 597, 'part': 598, 'near': 599, 'name': 600, 'burger': 601, 'world': 602, 'money': 603, 'spicy': 604, 'bland': 605, 'favorites': 606, 'paid': 607, 'charge': 608, 'cup': 609, 'probably': 610, 'raw': 611, 'does': 612, 'chinese': 613, 'gone': 614, 'four': 615, 'low': 616, 'cheap': 617, 'included': 618, 'fixe': 619, 'butter': 620, 'lovely': 621, \"that's\": 622, 'extra': 623, 'ambiance': 624, 'management': 625, 'fast': 626, 'refused': 627, 'selections': 628, 'remember': 629, 'location': 630, 'size': 631, 'town': 632, 'setting': 633, 'nyc': 634, 'authentic': 635, 'dim': 636, 'bottles': 637, 'line': 638, 'simple': 639, 'blue': 640, 'together': 641, 'perhaps': 642, 'wonderful': 643, 'restaurants': 644, 'crab': 645, '40': 646, 'stop': 647, 'five': 648, 'own': 649, 'immediately': 650, 'slightly': 651, 'oil': 652, 'roll': 653, 'lack': 654, 'heard': 655, 'described': 656, 'black': 657, 'lounge': 658, 'cooking': 659, 'whether': 660, 'tapas': 661, 'b': 662, 'ago': 663, 'prix': 664, 'point': 665, 'explained': 666, 'head': 667, 'unless': 668, 'city': 669, 'walls': 670, 'sent': 671, 'absolutely': 672, 'options': 673, 'fairly': 674, 'reviews': 675, \"they're\": 676, 'reason': 677, 'set': 678, 'inside': 679, 'worse': 680, 'cafe': 681, 'add': 682, 'unfortunately': 683, 'mussels': 684, 'trendy': 685, 'awesome': 686, 'start': 687, 'yes': 688, \"i'd\": 689, 'milk': 690, 'certainly': 691, 'making': 692, 'barely': 693, 'enjoyed': 694, 'clear': 695, 'prompt': 696, 'lighting': 697, 'mins': 698, 'certain': 699, 'cocktails': 700, 'bother': 701, 'owners': 702, 'greeted': 703, 'received': 704, '12': 705, '25': 706, 'per': 707, 'oysters': 708, 'bathroom': 709, 'beers': 710, 'use': 711, 'interesting': 712, 'simply': 713, 'american': 714, 'fried': 715, 'dine': 716, 'spend': 717, 'serves': 718, 'vegetarian': 719, \"you'll\": 720, \"won't\": 721, 'smaller': 722, 'variety': 723, 'highly': 724, 'move': 725, 'dj': 726, 'mentioned': 727, 'par': 728, 'cream': 729, 'lines': 730, 'changed': 731, \"doesn't\": 732, 'seen': 733, 'green': 734, 'threw': 735, 'run': 736, 'watch': 737, 'fix': 738, 'manhattan': 739, 'myself': 740, 'checked': 741, 'comfortable': 742, 'overly': 743, 'popular': 744, 'spoke': 745, 'guy': 746, 'mostly': 747, '9': 748, 'gets': 749, 'paper': 750, 'indian': 751, 'slices': 752, 'offers': 753, 'salads': 754, 'nor': 755, 'below': 756, 'c': 757, 'explain': 758, 'chips': 759, 'ribs': 760, 'calamari': 761, 'steaks': 762, 'tap': 763, 'okay': 764, '100': 765, 'answer': 766, 'grilled': 767, 'cut': 768, 'club': 769, 'lamb': 770, 'literally': 771, 'choose': 772, 'basically': 773, 'apologized': 774, 'flag': 775, 'upstairs': 776, 'sandwiches': 777, 'serving': 778, 'anyway': 779, 'eyes': 780, 'leaves': 781, 'far': 782, 'brick': 783, 'cramped': 784, 'rudely': 785, 'added': 786, 'courses': 787, 'awful': 788, 'watching': 789, 'downstairs': 790, \"friend's\": 791, 'walking': 792, 'requested': 793, 'range': 794, 'dropped': 795, 'questions': 796, 'complained': 797, 'eaten': 798, 'complaints': 799, 'complain': 800, 'somewhat': 801, 'comfort': 802, 'earlier': 803, 'pricey': 804, 'la': 805, 'agree': 806, 'stay': 807, 'call': 808, 'doing': 809, 'salsa': 810, 'addition': 811, 'apologize': 812, 'greek': 813, 'lacking': 814, 'opened': 815, 'level': 816, 'tasted': 817, \"chef's\": 818, 'working': 819, 'suggested': 820, 'plenty': 821, 'liked': 822, 'chose': 823, 'chocolate': 824, 'sauces': 825, 'due': 826, 'garlic': 827, 'broth': 828, 'outdoor': 829, 'traditional': 830, 'standard': 831, 'fair': 832, 'floor': 833, 'reasonably': 834, 'tuna': 835, 'impressive': 836, \"aren't\": 837, 'accommodating': 838, 'man': 839, 'surprised': 840, 'double': 841, 'boyfriend': 842, 'provide': 843, 'chairs': 844, 'margaritas': 845, 'spanish': 846, 'visit': 847, 'decorated': 848, 'ceiling': 849, 'cake': 850, 'didnt': 851, 'busboy': 852, 'features': 853, 'overpriced': 854, 'bartenders': 855, 'intimate': 856, 'recommendations': 857, 'wood': 858, 'pre': 859, 'mistake': 860, 'hip': 861, 'lost': 862, 'speak': 863, 'pieces': 864, 'leaving': 865, 'crowds': 866, 'ate': 867, 'veal': 868, 'consistently': 869, 'customer': 870, 'face': 871, 'outstanding': 872, 'standing': 873, 'noise': 874, 'read': 875, 'review': 876, 'constantly': 877, 'complimentary': 878, 'mix': 879, 'pm': 880, 'beyond': 881, 'hardly': 882, 'duck': 883, 'onto': 884, 'basil': 885, 'talking': 886, 'conversation': 887, 'sides': 888, 'martini': 889, 'disappeared': 890, 'weekend': 891, 'ten': 892, 'spent': 893, 'potatoes': 894, 'playing': 895, 'realized': 896, 'local': 897, 'problem': 898, 'clean': 899, 'dirty': 900, 'breakfast': 901, 'oh': 902, 'stuffed': 903, 'foie': 904, 'gras': 905, 'creative': 906, 'politely': 907, 'these': 908, 'pancakes': 909, 'chance': 910, 'pie': 911, 'quiet': 912, 'soon': 913, 'finishing': 914, 'surprisingly': 915, 'treats': 916, 'reading': 917, 'mine': 918, 'recommendation': 919, 'stand': 920, 'moved': 921, 'bunch': 922, 'remove': 923, 'higher': 924, 'narrow': 925, 'help': 926, 'soy': 927, 'incredibly': 928, 'interior': 929, 'husband': 930, 'bite': 931, 'employees': 932, 'card': 933, 'noticed': 934, 'apps': 935, 'hands': 936, 'ravioli': 937, 'known': 938, 'advance': 939, 'year': 940, 'include': 941, 'knew': 942, 'normal': 943, \"you've\": 944, 'poured': 945, 'spice': 946, 'turned': 947, 'delivered': 948, 'totally': 949, 'true': 950, 'charming': 951, 'noisy': 952, 'guess': 953, 'smoked': 954, 'upscale': 955, 'parties': 956, 'includes': 957, 'bag': 958, 'apology': 959, 'olives': 960, '30pm': 961, 'brooklyn': 962, 'clearly': 963, 'says': 964, 'nearby': 965, 'generally': 966, 'plus': 967, 'hear': 968, 'chic': 969, 'please': 970, 'smile': 971, \"waiter's\": 972, 'longer': 973, 'noodles': 974, 'hand': 975, 'relaxed': 976, 'carte': 977, 'across': 978, 'insisted': 979, 'sum': 980, 'candle': 981, 'bowl': 982, 'view': 983, 'surprise': 984, 'tight': 985, 'refills': 986, 'aside': 987, 'lettuce': 988, 'thin': 989, 'spectacular': 990, 'weekends': 991, 'topped': 992, 'shared': 993, 'rolled': 994, 'accomodating': 995, 'ran': 996, 'garden': 997, 'generous': 998, 'notch': 999, 'request': 1000, 'unique': 1001, \"server's\": 1002, 'drinking': 1003, 'dumplings': 1004, 'bistro': 1005, 'establishment': 1006, 'business': 1007, 'lower': 1008, 'takes': 1009, 'allowed': 1010, 'store': 1011, 'supposed': 1012, 'oven': 1013, 'word': 1014, 'placed': 1015, 'guests': 1016, 'gotten': 1017, 'eager': 1018, 'octopus': 1019, 'pies': 1020, 'mushrooms': 1021, 'condescending': 1022, 'groups': 1023, 'rich': 1024, 'asian': 1025, 'cheeses': 1026, 'baked': 1027, 'dressing': 1028, 'truly': 1029, 'bigger': 1030, 'particular': 1031, 'tag': 1032, 'reserved': 1033, 'draw': 1034, 'helped': 1035, 'obnoxious': 1036, 'east': 1037, 'jazz': 1038, 'enjoying': 1039, 'maitre': 1040, 'hanging': 1041, 'bumped': 1042, \"we'd\": 1043, 'opted': 1044, 'realize': 1045, 'partner': 1046, 'flavors': 1047, 'fat': 1048, 'frozen': 1049, 'uncomfortable': 1050, 'cigarette': 1051, 'terrible': 1052, 'hang': 1053, 'filet': 1054, 'return': 1055, 'sizes': 1056, 'particularly': 1057, 'presentation': 1058, 'girlfriend': 1059, 'hurry': 1060, 'fancy': 1061, 'pick': 1062, 'mood': 1063, 'bacon': 1064, 'months': 1065, 'nicely': 1066, 'super': 1067, 'afternoon': 1068, 'adequate': 1069, 'bothered': 1070, 'sampled': 1071, 'band': 1072, 'snooty': 1073, 'environment': 1074, 'chop': 1075, 'suggest': 1076, 'featuring': 1077, 'knows': 1078, 'phone': 1079, 'managers': 1080, 'sign': 1081, 'talk': 1082, 'neighborhood': 1083, 'elsewhere': 1084, 'colored': 1085, 'ranging': 1086, 'booths': 1087, 'star': 1088, 'private': 1089, 'solid': 1090, 'tender': 1091, 'requests': 1092, 'plain': 1093, 'york': 1094, 'toast': 1095, 'missing': 1096, 'box': 1097, 'sandwich': 1098, 'annoyed': 1099, 'item': 1100, 'sip': 1101, '50': 1102, 'windows': 1103, 'vegetable': 1104, 'himself': 1105, 'coconut': 1106, 'guest': 1107, 'alcoholic': 1108, 'rounds': 1109, 'pass': 1110, 'happen': 1111, 'apparently': 1112, 'entering': 1113, 'impressed': 1114, 'wasnt': 1115, 'soups': 1116, 'delay': 1117, 'telling': 1118, 'none': 1119, 'sake': 1120, 'wooden': 1121, 'negative': 1122, 'regulars': 1123, 'exciting': 1124, 'mention': 1125, 'nowhere': 1126, 'loved': 1127, 'deliver': 1128, 'stuck': 1129, 'mean': 1130, 'listen': 1131, 'fed': 1132, 'air': 1133, 'others': 1134, 'somewhere': 1135, 'spending': 1136, 'wrap': 1137, 'understanding': 1138, 'strange': 1139, 'assured': 1140, 'eventually': 1141, 'shop': 1142, 'tomatoes': 1143, 'snatched': 1144, 'replaced': 1145, 'similar': 1146, 'using': 1147, 'credit': 1148, 'dinners': 1149, 'handle': 1150, 'example': 1151, 'rush': 1152, 'curry': 1153, 'gentleman': 1154, 'giving': 1155, 'experienced': 1156, 'ourselves': 1157, 'hungry': 1158, '11': 1159, 'takeout': 1160, 'needs': 1161, 'kids': 1162, 'onion': 1163, 'feeling': 1164, 'meats': 1165, 'unable': 1166, 'ground': 1167, 'young': 1168, 'kid': 1169, 'wide': 1170, 'buffet': 1171, 'properly': 1172, 'grill': 1173, '35': 1174, 'summer': 1175, 'anywhere': 1176, 'bought': 1177, 'wings': 1178, 'closer': 1179, 'holding': 1180, 'approached': 1181, 'usual': 1182, 'diverse': 1183, 'third': 1184, 'charm': 1185, 'typical': 1186, 'monday': 1187, \"wouldn't\": 1188, 'believe': 1189, 'bottom': 1190, \"haven't\": 1191, 'hair': 1192, 'number': 1193, 'toppings': 1194, 'lit': 1195, 'describe': 1196, 'till': 1197, 'sort': 1198, 'olive': 1199, 'throw': 1200, 'listened': 1201, 'martinis': 1202, 'mushroom': 1203, 'adding': 1204, 'enormous': 1205, 'alone': 1206, 'understand': 1207, 'decide': 1208, 'amount': 1209, 'changes': 1210, 'spinach': 1211, 'terrific': 1212, 'bustling': 1213, 'thrown': 1214, 'art': 1215, 'receive': 1216, 'passed': 1217, 'stopped': 1218, 'drunk': 1219, 'solo': 1220, 'theater': 1221, 'mother': 1222, 'pot': 1223, 'chopped': 1224, 'knocked': 1225, \"i'll\": 1226, 'window': 1227, 'flavorful': 1228, 'lucky': 1229, 'presented': 1230, 'bright': 1231, 'de': 1232, 'knowledge': 1233, 'break': 1234, 'italy': 1235, 'occasion': 1236, 'days': 1237, 'sorry': 1238, 'outrageous': 1239, 'bbq': 1240, 'offerings': 1241, 'formal': 1242, '14': 1243, 'match': 1244, 'visited': 1245, 'satisfied': 1246, 'tomato': 1247, 'spotty': 1248, 'strong': 1249, 'patron': 1250, 'stood': 1251, 'pushing': 1252, 'onions': 1253, 'trip': 1254, 'turkey': 1255, 'idea': 1256, 'become': 1257, 'named': 1258, 'juice': 1259, 'clientele': 1260, 'stools': 1261, 'besides': 1262, 'lime': 1263, 'drop': 1264, 'plan': 1265, 'note': 1266, 'sommelier': 1267, 'bringing': 1268, 'vodka': 1269, 'bucks': 1270, 'baby': 1271, 'job': 1272, 'superb': 1273, 'lemon': 1274, 'medium': 1275, 'slice': 1276, 'platter': 1277, 'miss': 1278, 'whatever': 1279, 'meet': 1280, 'pushy': 1281, 'closed': 1282, 'basic': 1283, 'wish': 1284, 'ideal': 1285, 'followed': 1286, 'chili': 1287, 'itself': 1288, 'split': 1289, 'random': 1290, 'possible': 1291, 'sangria': 1292, 'inexpensive': 1293, 'impossible': 1294, 'multiple': 1295, 'bites': 1296, 'expecting': 1297, 'towards': 1298, 'beginning': 1299, 'difficult': 1300, 'attempted': 1301, 'gladly': 1302, 'broke': 1303, 'final': 1304, 'larger': 1305, 'bloody': 1306, 'chopsticks': 1307, 'desired': 1308, 'dined': 1309, 'entrance': 1310, 'alright': 1311, 'updated': 1312, 'pulled': 1313, 'expanded': 1314, 'case': 1315, 'watched': 1316, 'miniscule': 1317, 'ridiculous': 1318, 'happily': 1319, 'ginger': 1320, 'downtown': 1321, 'cakes': 1322, 'cleaned': 1323, 'noodle': 1324, 'liver': 1325, 'grabbed': 1326, 'previous': 1327, 'booth': 1328, 'heaven': 1329, 'continued': 1330, 'managed': 1331, 'ones': 1332, 'crispy': 1333, 'greatly': 1334, '2nd': 1335, 'weekday': 1336, 'tall': 1337, 'prior': 1338, 'mess': 1339, 'village': 1340, 'patio': 1341, 'grand': 1342, 'vibe': 1343, 'question': 1344, 'partying': 1345, 'korean': 1346, 'faster': 1347, 'fusion': 1348, \"they'll\": 1349, \"else's\": 1350, 'willing': 1351, 'running': 1352, 'goat': 1353, 'theme': 1354, 'themselves': 1355, 'daily': 1356, 'stuff': 1357, 'booked': 1358, 'gratuity': 1359, 'stated': 1360, 'apparent': 1361, 'putting': 1362, 'women': 1363, 'familiar': 1364, 'combinations': 1365, 'weeks': 1366, 'chatting': 1367, 'starting': 1368, 'o': 1369, 'cod': 1370, 'invited': 1371, 'inattentive': 1372, 'yummy': 1373, 'lengthy': 1374, 'ample': 1375, 'eye': 1376, '80': 1377, 'alot': 1378, 'count': 1379, 'suitable': 1380, 'spacious': 1381, 'incredible': 1382, 'margarita': 1383, 'sense': 1384, 'block': 1385, 'offering': 1386, 'omakase': 1387, 'mary': 1388, 'keeps': 1389, 'fork': 1390, 'hits': 1391, 'pepper': 1392, 'pleasent': 1393, 'peanut': 1394, 'shot': 1395, 'design': 1396, 'recent': 1397, 'confused': 1398, 'slowly': 1399, 'six': 1400, '9pm': 1401, 'entertaining': 1402, 'original': 1403, 'faux': 1404, 'walk': 1405, 'eight': 1406, 'honestly': 1407, 'anyone': 1408, 'pastries': 1409, 'dark': 1410, 'burrito': 1411, 'frustrated': 1412, 'mojitos': 1413, 'comp': 1414, \"what's\": 1415, 'steakhouse': 1416, 'smallish': 1417, 'book': 1418, '21': 1419, 'thanks': 1420, 'sliced': 1421, 'lights': 1422, 'english': 1423, 'arrival': 1424, 'secret': 1425, 'deep': 1426, 'loudly': 1427, 'corn': 1428, 'likely': 1429, 'sipping': 1430, 'juicy': 1431, 'dancing': 1432, 'unbelievably': 1433, 'mango': 1434, 'unusual': 1435, 'eggs': 1436, 'calling': 1437, 'refilled': 1438, 'matter': 1439, 'surly': 1440, 'unlike': 1441, 'prefer': 1442, 'privacy': 1443, 'deciding': 1444, 'modern': 1445, 'neither': 1446, 'fashioned': 1447, 'inform': 1448, 'grease': 1449, \"you'd\": 1450, 'tired': 1451, 'ny': 1452, 'month': 1453, 'bus': 1454, 'boy': 1455, 'budget': 1456, 'dry': 1457, 'improved': 1458, 'miso': 1459, 'write': 1460, 'cash': 1461, 'sized': 1462, 'consider': 1463, 'tv': 1464, 'god': 1465, 'park': 1466, 'horrific': 1467, 'ceasar': 1468, 'sausage': 1469, 'cabbage': 1470, 'apathetic': 1471, 'amateur': 1472, 'interrupted': 1473, 'sauteed': 1474, 'clams': 1475, 'hey': 1476, 'additional': 1477, 'soda': 1478, '24': 1479, 'folks': 1480, 'member': 1481, 'clam': 1482, 'failed': 1483, 'ceilings': 1484, 'downside': 1485, 'spaghetti': 1486, 'fireplace': 1487, 'sashimi': 1488, 'page': 1489, 'chewy': 1490, 'yelled': 1491, 'ruined': 1492, 'compare': 1493, 'appitizers': 1494, 'words': 1495, 'machine': 1496, 'female': 1497, \"maitre'd\": 1498, 'grab': 1499, 'wrapped': 1500, '200': 1501, 'greens': 1502, 'became': 1503, 'prime': 1504, 'moment': 1505, 'suited': 1506, 'filling': 1507, 'boring': 1508, 'palate': 1509, 'tax': 1510, 'fruit': 1511, 'yelling': 1512, 'crazy': 1513, 'sour': 1514, 'arriving': 1515, 'overcooked': 1516, 'points': 1517, 'gnocchi': 1518, 'hill': 1519, 'problems': 1520, 'potato': 1521, 'nobu': 1522, 'weird': 1523, 'seven': 1524, 'serious': 1525, 'bottled': 1526, 'square': 1527, 'cooks': 1528, 'perfectly': 1529, 'tray': 1530, 'blocks': 1531, 'knowing': 1532, 'describing': 1533, 'creating': 1534, 'oyster': 1535, 'flagged': 1536, 'squeeze': 1537, 'country': 1538, 'mild': 1539, 'requesting': 1540, 'hearty': 1541, 'goes': 1542, 'preparation': 1543, 'west': 1544, 'warned': 1545, 'guacamole': 1546, 'throwing': 1547, 'tells': 1548, 'visits': 1549, 'surrounded': 1550, 'decorations': 1551, 'exposed': 1552, 'spumoni': 1553, '00': 1554, 'blown': 1555, 'planning': 1556, 'worked': 1557, 'section': 1558, 'j': 1559, 'mac': 1560, 'smiling': 1561, 'fill': 1562, 'couples': 1563, 'tone': 1564, 'quote': 1565, 'root': 1566, 'legs': 1567, 'reserve': 1568, 'theatre': 1569, 'reputation': 1570, 'honest': 1571, 'resturant': 1572, 'general': 1573, 'cheesy': 1574, 'snack': 1575, 'situation': 1576, 'wanting': 1577, 'brief': 1578, 'satisfying': 1579, 'bass': 1580, 'knowledgeable': 1581, 'complaint': 1582, 'track': 1583, 'gracious': 1584, 'hefty': 1585, 'insult': 1586, 'sharing': 1587, 'disappointing': 1588, 'burnt': 1589, 'mint': 1590, 'sesame': 1591, 'attraction': 1592, 'feature': 1593, 'reflect': 1594, 'listed': 1595, 'stare': 1596, 'snobby': 1597, 'palm': 1598, 'thinking': 1599, 'hung': 1600, 'polite': 1601, 'werent': 1602, 'seconds': 1603, 'presumably': 1604, 'remarkable': 1605, 'father': 1606, 'sexy': 1607, 'weak': 1608, 'safe': 1609, 'greatest': 1610, 'present': 1611, 'compared': 1612, 'beat': 1613, 'buffalo': 1614, '90': 1615, 'speedy': 1616, 'classics': 1617, 'barbecue': 1618, 'save': 1619, 'ribbon': 1620, 'clients': 1621, 'conversations': 1622, 'latin': 1623, 'communal': 1624, 'pretentious': 1625, \"d'\": 1626, 'staples': 1627, 'gem': 1628, 'sea': 1629, 'hop': 1630, 'afford': 1631, 'wonder': 1632, 'nights': 1633, 'written': 1634, 'fans': 1635, 'lip': 1636, 'beans': 1637, 'plantains': 1638, 'homemade': 1639, '18': 1640, 'easily': 1641, 'reviewers': 1642, 'heavy': 1643, 'ac': 1644, 'sticks': 1645, 'stella': 1646, 'unattentive': 1647, 'closely': 1648, 'salt': 1649, 'plastic': 1650, 'le': 1651, 'tastes': 1652, 'total': 1653, 'pour': 1654, 'lists': 1655, 'affordable': 1656, 'organized': 1657, 'sounds': 1658, 'fixed': 1659, 'favor': 1660, 'against': 1661, 'tacky': 1662, 'hummus': 1663, 'overheard': 1664, 'nasty': 1665, 'aggressive': 1666, 'vegetables': 1667, 'leftovers': 1668, 'select': 1669, 'roasted': 1670, 'version': 1671, 'further': 1672, 'hudson': 1673, 'likes': 1674, 'appropriate': 1675, 'shellfish': 1676, 'event': 1677, 'mignon': 1678, 'suit': 1679, 'messed': 1680, 'key': 1681, 'sub': 1682, '16': 1683, 'rubbery': 1684, 'smoking': 1685, 'yourself': 1686, 'surely': 1687, 'force': 1688, 'experiences': 1689, 'yellow': 1690, 'south': 1691, 'explanation': 1692, 'sold': 1693, 'accommodate': 1694, 'surroundings': 1695, 'annoying': 1696, 'obviously': 1697, 'chinatown': 1698, 'basket': 1699, 'inedible': 1700, 'ways': 1701, 'ladies': 1702, 'cafeteria': 1703, 'wednesday': 1704, 'savory': 1705, 'creamy': 1706, 'loaf': 1707, 'mashed': 1708, 'among': 1709, \"menu's\": 1710, 'specialties': 1711, 'kobe': 1712, 'rock': 1713, 'fuss': 1714, \"staff's\": 1715, 'belly': 1716, 'matters': 1717, 'provided': 1718, 'sicilian': 1719, 'whose': 1720, \"restaurant's\": 1721, 'deliciously': 1722, 'famous': 1723, 'concerned': 1724, 'st': 1725, 'factor': 1726, 'truffle': 1727, 'mustard': 1728, 'sister': 1729, '400': 1730, 'tend': 1731, 'cast': 1732, 'opposed': 1733, 'means': 1734, 'sounded': 1735, 'patient': 1736, 'laden': 1737, 'con': 1738, 'inquiry': 1739, 'cook': 1740, 'flickering': 1741, 'marble': 1742, 'app': 1743, 'dont': 1744, 'buzz': 1745, 'hopping': 1746, 'john': 1747, 'candy': 1748, 'cannot': 1749, 'bags': 1750, 'pain': 1751, 'explaining': 1752, 'confronted': 1753, 'adds': 1754, 'handful': 1755, 'teas': 1756, 'ignoring': 1757, 'shoulder': 1758, 'slope': 1759, 'weather': 1760, 'pastas': 1761, 'linguine': 1762, 'apologetic': 1763, 'forced': 1764, 'fit': 1765, 'imported': 1766, 'giant': 1767, 'counts': 1768, 'effort': 1769, 'orderd': 1770, 'tart': 1771, 'napkins': 1772, 'significantly': 1773, 'difference': 1774, 'remembered': 1775, 'painted': 1776, 'fills': 1777, 'dance': 1778, 'pho': 1779, 'tofu': 1780, 'rave': 1781, 'patties': 1782, 'chat': 1783, 'serene': 1784, 'hole': 1785, 'tortilla': 1786, 'interested': 1787, 'hosts': 1788, 'acknowledge': 1789, 'within': 1790, 'hovering': 1791, 'charred': 1792, 'porterhouse': 1793, 'kinda': 1794, 'queens': 1795, 'skip': 1796, 'egg': 1797, 'banana': 1798, 'jalapeno': 1799, 'stiff': 1800, 'liquor': 1801, 'description': 1802, 'industry': 1803, 'notice': 1804, 'unbearable': 1805, 'process': 1806, 'professional': 1807, 'necessary': 1808, 'members': 1809, 'signature': 1810, 'garlicky': 1811, 'age': 1812, 'slight': 1813, 'imagine': 1814, 're': 1815, 'lacks': 1816, 'waits': 1817, 'complete': 1818, 'accomodate': 1819, 'il': 1820, '8pm': 1821, 'claimed': 1822, 'happened': 1823, 'sell': 1824, 'craving': 1825, 'suprise': 1826, 'actual': 1827, 'chow': 1828, 'custard': 1829, 'tourists': 1830, 'leading': 1831, 'handsome': 1832, \"we've\": 1833, \"we're\": 1834, 'flirting': 1835, 'initial': 1836, 'omelette': 1837, 'cell': 1838, 'duty': 1839, 'result': 1840, 'sample': 1841, 'older': 1842, 'al': 1843, 'sing': 1844, 'crust': 1845, 'tickets': 1846, 'arrogant': 1847, 'udon': 1848, 'apple': 1849, 'gold': 1850, '60': 1851, 'hovered': 1852, 'cleared': 1853, 'various': 1854, 'discount': 1855, '22': 1856, 'louder': 1857, 'apologizing': 1858, 'irving': 1859, 'personally': 1860, \"one's\": 1861, 'boasts': 1862, 'christmas': 1863, 'delightful': 1864, 'fall': 1865, 'port': 1866, 'buy': 1867, 'smoke': 1868, 'captain': 1869, 'separate': 1870, 'amazed': 1871, 'chops': 1872, 'healthy': 1873, 'comped': 1874, 'rolling': 1875, 'flow': 1876, 'detail': 1877, 'suddenly': 1878, 'cons': 1879, 'names': 1880, 'greasy': 1881, 'picked': 1882, 'response': 1883, 'manner': 1884, 'seemingly': 1885, 'joint': 1886, 'king': 1887, 'choosing': 1888, 'forgetting': 1889, 'remind': 1890, 'terms': 1891, 'excuse': 1892, \"hadn't\": 1893, 'tartare': 1894, 'dressed': 1895, 'entertainment': 1896, 'champagne': 1897, \"'\": 1898, 'halfway': 1899, 'learned': 1900, 'advice': 1901, 'turn': 1902, 'fondue': 1903, 'barbecued': 1904, 'dollars': 1905, 'thick': 1906, 'cares': 1907, 'cutting': 1908, 'coke': 1909, 'played': 1910, 'dive': 1911, 'bean': 1912, 'peter': 1913, 'sports': 1914, 'drawback': 1915, 'score': 1916, 'destination': 1917, 'dissapointing': 1918, 'fault': 1919, 'portrait': 1920, 'smallest': 1921, 'fully': 1922, 'broccoli': 1923, 'companion': 1924, 'poorly': 1925, 'whisked': 1926, 'singing': 1927, 'union': 1928, 'compensate': 1929, 'showing': 1930, 'rooms': 1931, 'causing': 1932, 'relax': 1933, 'soaked': 1934, 'twenty': 1935, 'sparkling': 1936, 'somehow': 1937, 'cajun': 1938, 'conventional': 1939, 'scallops': 1940, 'empanadas': 1941, 'zen': 1942, 'minus': 1943, 'deserved': 1944, 'shots': 1945, 'paella': 1946, 'brings': 1947, 'specialty': 1948, 'mini': 1949, 'specific': 1950, 'scrape': 1951, 'shift': 1952, 'v': 1953, 'stared': 1954, 'austrian': 1955, 'blow': 1956, 'eventhough': 1957, 'responded': 1958, 'beforehand': 1959, 'terribly': 1960, 'forgotten': 1961, 'broadway': 1962, 'po': 1963, 'quaint': 1964, \"mary's\": 1965, 'clearing': 1966, 'die': 1967, 'leads': 1968, \"hasn't\": 1969, 'swear': 1970, 'spongy': 1971, 'seasoned': 1972, 'unhelpful': 1973, 'crusted': 1974, 'jack': 1975, 'movie': 1976, 'miffed': 1977, 'lingering': 1978, 'heck': 1979, 'send': 1980, 'classic': 1981, 'steamed': 1982, 'morning': 1983, 'prepare': 1984, 'fin': 1985, 'previously': 1986, 'opposite': 1987, 'acting': 1988, 'breathe': 1989, 'sets': 1990, 'inviting': 1991, 'sparse': 1992, 'occasionally': 1993, 'waving': 1994, 'accepted': 1995, 'piece': 1996, '15pm': 1997, 'specifically': 1998, 'au': 1999, 'lives': 2000, 'haute': 2001, 'somelier': 2002, 'label': 2003, 'tons': 2004, 'cases': 2005, 'resembles': 2006, 'pop': 2007, 'pennsylvania': 2008, 'understated': 2009, 'easy': 2010, 'pizzas': 2011, 'striped': 2012, 'drizzled': 2013, 'reviewer': 2014, 'admittedly': 2015, 'ages': 2016, 'stares': 2017, 'conveniently': 2018, 'pudding': 2019, 'returning': 2020, 'shortly': 2021, 'odd': 2022, 'thursday': 2023, 'effect': 2024, 'diamond': 2025, 'rum': 2026, 'allow': 2027, 'leisurely': 2028, 'enjoyment': 2029, 'manages': 2030, 'comping': 2031, 'crisp': 2032, 'edge': 2033, 'mozzarella': 2034, 'tolerated': 2035, 'watercress': 2036, 'indoors': 2037, 'tabs': 2038, 'woman': 2039, 'lined': 2040, 'tempting': 2041, 'social': 2042, 'hipsters': 2043, 'meeting': 2044, 'girls': 2045, 'models': 2046, 'chill': 2047, 'therefore': 2048, 'wondering': 2049, 'characters': 2050, 'shame': 2051, 'pizzeria': 2052, 'slapped': 2053, 'nicer': 2054, 'abyssmal': 2055, '101': 2056, 'starter': 2057, 'horse': 2058, \"should've\": 2059, 'circle': 2060, 'lazy': 2061, 'appeared': 2062, 'topping': 2063, 'degree': 2064, 'personal': 2065, 's': 2066, 'pearl': 2067, 'identify': 2068, 'bolognese': 2069, 'melted': 2070, 'variations': 2071, 'hotspot': 2072, 'horrendous': 2073, 'mouth': 2074, 'inquire': 2075, 'outdoors': 2076, 'altogether': 2077, 'sale': 2078, 'whom': 2079, 'silverware': 2080, 'frites': 2081, 'falafel': 2082, 'actors': 2083, 'mirrors': 2084, 'frills': 2085, 'pitchers': 2086, 'gorgeous': 2087, 'nerve': 2088, 'moves': 2089, 'former': 2090, 'planned': 2091, 'texas': 2092, 'mediterranean': 2093, 'bakery': 2094, 'packs': 2095, 'strip': 2096, 'helps': 2097, 'peek': 2098, 'd': 2099, 'typically': 2100, 'quarter': 2101, 'community': 2102, 'intriguing': 2103, 'strongly': 2104, 'couldnt': 2105, 'hopes': 2106, 'translation': 2107, 'anna': 2108, 'richard': 2109, 'ultra': 2110, 'honey': 2111, 'prevented': 2112, 'shine': 2113, 'dimly': 2114, 'alternative': 2115, 'y': 2116, 'flat': 2117, 'waste': 2118, 'stale': 2119, 'busboys': 2120, 'ensure': 2121, 'flatbread': 2122, 'rushing': 2123, 'cheaper': 2124, 'complement': 2125, 'linguini': 2126, 'generic': 2127, 'norm': 2128, 'uniformly': 2129, 'unfriendly': 2130, 'empties': 2131, 'soul': 2132, 'flan': 2133, 'creme': 2134, 'unusually': 2135, 'mayonnaise': 2136, 'step': 2137, 'growing': 2138, 'celebrity': 2139, 'clue': 2140, 'policy': 2141, 'wound': 2142, 'create': 2143, 'signs': 2144, 'authenticity': 2145, 'shrugged': 2146, 'package': 2147, 'farm': 2148, 'suggestions': 2149, 'gives': 2150, 'firm': 2151, 'girlfriends': 2152, 'finding': 2153, 'obscene': 2154, 'flowers': 2155, 'iron': 2156, 'texture': 2157, 'color': 2158, 'garnish': 2159, 'beg': 2160, 'tab': 2161, 'spoiled': 2162, 'smoothly': 2163, 'carefully': 2164, 'negligent': 2165, 'support': 2166, 'feast': 2167, 'sampling': 2168, 'oak': 2169, 'neighbor': 2170, 'prospect': 2171, 'indicate': 2172, 'backed': 2173, 'unbeatable': 2174, 'claims': 2175, 'longest': 2176, \"boyfriend's\": 2177, 'peppers': 2178, 'hint': 2179, 'shocked': 2180, 'existent': 2181, 'spoken': 2182, 'homey': 2183, 'letting': 2184, 'according': 2185, 'attract': 2186, 'alas': 2187, 'admit': 2188, 'damn': 2189, 'referred': 2190, 'won': 2191, 'talked': 2192, 'visiting': 2193, 'delish': 2194, 'preferred': 2195, 'inquired': 2196, 'belgian': 2197, 'satisfyingly': 2198, 'stewed': 2199, 'prunes': 2200, 'croque': 2201, 'monsieur': 2202, 'mousse': 2203, 'kaiseki': 2204, 'dragging': 2205, 'angry': 2206, 'neighbors': 2207, 'staying': 2208, 'jukebox': 2209, 'tunes': 2210, 'nite': 2211, 'forgiving': 2212, 'journey': 2213, 'correct': 2214, 'linger': 2215, 'liqueurs': 2216, 'lbs': 2217, 'pig': 2218, 'exceptional': 2219, 'smacking': 2220, 'entre': 2221, 'product': 2222, 'carts': 2223, 'cheesecake': 2224, 'state': 2225, 'airy': 2226, 'cuts': 2227, 'minimum': 2228, 'combination': 2229, 'triple': 2230, 'common': 2231, 'vegetarians': 2232, 'complaining': 2233, \"husband's\": 2234, 'cheeseburger': 2235, 'accompany': 2236, 'matre': 2237, 'comment': 2238, 'showcases': 2239, 'press': 2240, 'inspired': 2241, 'rear': 2242, 'establishments': 2243, 'rate': 2244, 'yucky': 2245, 'dumped': 2246, 'eggplant': 2247, 'decision': 2248, 'quieter': 2249, 'bins': 2250, 'books': 2251, 'dough': 2252, 'sconces': 2253, 'rough': 2254, 'elegantly': 2255, 'slick': 2256, 'spices': 2257, 'encouraged': 2258, 'tex': 2259, 'mex': 2260, 'slipped': 2261, 'dozen': 2262, 'kinds': 2263, 'standards': 2264, 'ability': 2265, 'spare': 2266, \"bar's\": 2267, 'forks': 2268, 'leg': 2269, '95': 2270, 'adults': 2271, 'information': 2272, 'bf': 2273, 'babbo': 2274, 'term': 2275, 'lasted': 2276, 'interminable': 2277, 'omelet': 2278, 'slab': 2279, 'balsamic': 2280, 'offended': 2281, 'grace': 2282, 'agreed': 2283, 'audacity': 2284, 'receipt': 2285, 'knock': 2286, 'enter': 2287, 'seasons': 2288, 'eg': 2289, 'ordinary': 2290, 'push': 2291, 'promised': 2292, 'mahi': 2293, 'assume': 2294, 'substantial': 2295, 'health': 2296, 'portioned': 2297, 'candles': 2298, 'wearing': 2299, 'arm': 2300, 'avenue': 2301, 'caesar': 2302, 'iceberg': 2303, 'continue': 2304, 'factory': 2305, 'stocked': 2306, 'tourist': 2307, 'metro': 2308, 'pricing': 2309, 'shrimps': 2310, 'sky': 2311, 'salty': 2312, 'verde': 2313, 'heat': 2314, 'benches': 2315, 'overlook': 2316, 'downright': 2317, 'hiding': 2318, 'banquettes': 2319, 'antique': 2320, 'pushed': 2321, 'chatty': 2322, 'met': 2323, 'otherwise': 2324, 'kindly': 2325, 'gimmicky': 2326, 'figured': 2327, 'overcrowded': 2328, 'carry': 2329, 'cattle': 2330, 'pan': 2331, 'format': 2332, \"he'd\": 2333, 'heart': 2334, 'trek': 2335, 'citrus': 2336, 'fiery': 2337, 'chorizo': 2338, 'speakers': 2339, 'daunting': 2340, 'handed': 2341, 'excited': 2342, 'site': 2343, 'parmigiana': 2344, 'giovanni': 2345, 'breast': 2346, 'bombay': 2347, \"person's\": 2348, \"valentine's\": 2349, 'worthy': 2350, 'chris': 2351, 'disco': 2352, 'balls': 2353, 'tvs': 2354, 'beats': 2355, 'beverage': 2356, 'draws': 2357, 'veg': 2358, 'un': 2359, 'informal': 2360, 'fabulous': 2361, 'chutney': 2362, 'expectations': 2363, 'trimmed': 2364, 'canopy': 2365, 'sluggish': 2366, 'pure': 2367, 'stir': 2368, 'fruity': 2369, 'surrounding': 2370, 'doggie': 2371, 'equally': 2372, 'dead': 2373, 'haughty': 2374, 'sun': 2375, '70s': 2376, 'blvd': 2377, 'straight': 2378, 'artificial': 2379, 'cherry': 2380, 'museum': 2381, 'warming': 2382, 'expertly': 2383, 'yellowtail': 2384, 'avocado': 2385, 'seasonal': 2386, 'endure': 2387, 'stayed': 2388, 'attitudes': 2389, 'dinnertime': 2390, 'occasions': 2391, 'minimal': 2392, 'upper': 2393, 'atop': 2394, 'vintage': 2395, 'removed': 2396, 'hover': 2397, 'communicate': 2398, 'extraordinary': 2399, 'mario': 2400, 'piano': 2401, 'mistakenly': 2402, 'lovers': 2403, 'hunt': 2404, 'update': 2405, 'joke': 2406, 'sliding': 2407, 'samples': 2408, 'spots': 2409, 'energetic': 2410, 'lively': 2411, 'informing': 2412, 'issues': 2413, 'blink': 2414, 'missed': 2415, 'sadly': 2416, 'puts': 2417, 'exactly': 2418, \"menu'\": 2419, 'joy': 2420, 'vacate': 2421, 'sage': 2422, 'remainder': 2423, 'trash': 2424, 'dump': 2425, \"they've\": 2426, 'reliable': 2427, 'based': 2428, 'avg': 2429, 'relatively': 2430, 'computer': 2431, 'pastry': 2432, 'apologies': 2433, 'wasting': 2434, 'action': 2435, 'delicate': 2436, 'carpaccio': 2437, 'loads': 2438, 'cuisines': 2439, 'comparable': 2440, 'slammed': 2441, 'attempting': 2442, 'reminded': 2443, 'hunan': 2444, 'mein': 2445, 'located': 2446, 'scurrying': 2447, 'stacks': 2448, 'brownie': 2449, 'predominantly': 2450, 'scones': 2451, 'delight': 2452, 'insight': 2453, 'smart': 2454, 'checking': 2455, 'evident': 2456, 'cute': 2457, 'concept': 2458, 'peak': 2459, 'celery': 2460, 'letdown': 2461, 'era': 2462, 'disappear': 2463, 'roommate': 2464, 'relaxing': 2465, 'workers': 2466, 'bone': 2467, 'jasmine': 2468, 'cause': 2469, 'def': 2470, 'eel': 2471, 'penny': 2472, 'message': 2473, 'suggestion': 2474, 'possibly': 2475, 'begged': 2476, 'stumbled': 2477, 'suggesting': 2478, \"they'd\": 2479, 'touch': 2480, 'savor': 2481, 'twist': 2482, 'shifts': 2483, 'cancelled': 2484, 'infamous': 2485, \"entree's\": 2486, 'opinion': 2487, 'cater': 2488, 'shouting': 2489, 'shell': 2490, 'tough': 2491, 'chatter': 2492, 'squeezed': 2493, 'crew': 2494, 'decore': 2495, 'joked': 2496, 'dinning': 2497, 'feels': 2498, 'james': 2499, 'brown': 2500, 'dress': 2501, 'peace': 2502, 'parking': 2503, 'sooo': 2504, 'aware': 2505, 'wants': 2506, 'cuban': 2507, 'suppose': 2508, '00pm': 2509, 'seviche': 2510, 'sophisticated': 2511, 'mole': 2512, 'scoop': 2513, 'trouble': 2514, 'gray': 2515, 'overlooking': 2516, 'winter': 2517, 'cleaning': 2518, 'chip': 2519, 'cookie': 2520, 'ripped': 2521, 'upside': 2522, 'claim': 2523, 'depending': 2524, \"who's\": 2525, 'reach': 2526, 'helping': 2527, 'lastly': 2528, 'romance': 2529, 'exotic': 2530, 'beverages': 2531, 'terrace': 2532, 'welcoming': 2533, 'darn': 2534, 'lovingly': 2535, 'buttery': 2536, 'crack': 2537, 'orange': 2538, 'extend': 2539, 'sucks': 2540, 'spaced': 2541, 'dates': 2542, 'sam': 2543, 'realm': 2544, 'tails': 2545, 'pleased': 2546, 'highlight': 2547, 'mojito': 2548, 'refreshed': 2549, 'covered': 2550, 'granted': 2551, 'ot': 2552, 'di': 2553, 'bedford': 2554, 'girl': 2555, 'hate': 2556, 'bouley': 2557, 'replied': 2558, 'hosting': 2559, 'passion': 2560, 'roof': 2561, 'gourmet': 2562, 'charging': 2563, 'meets': 2564, 'dancers': 2565, 'becuase': 2566, 'contents': 2567, 'drama': 2568, 'catch': 2569, 'reception': 2570, 'petite': 2571, 'worry': 2572, 'directed': 2573, 'polished': 2574, 'acted': 2575, 'shredded': 2576, 'timely': 2577, 'existant': 2578, 'arriba': 2579, 'beside': 2580, 'array': 2581, 'enchiladas': 2582, 'hawaiian': 2583, 'attempt': 2584, 'allows': 2585, 'memory': 2586, 'exceptionally': 2587, 'blamed': 2588, 'wrote': 2589, 'challenged': 2590, 'harlem': 2591, 'earned': 2592, 'lots': 2593, 'nobody': 2594, 'welcome': 2595, 'perfection': 2596, 'culinary': 2597, 'bored': 2598, 'barbeque': 2599, 'versed': 2600, 'platters': 2601, \"food's\": 2602, 'bay': 2603, 'continuously': 2604, 'fajitas': 2605, 'hotel': 2606, 'u': 2607, 'pleasure': 2608, 'goodies': 2609, 'terrine': 2610, 'children': 2611, 'pointed': 2612, 'multi': 2613, 'upbeat': 2614, 'listening': 2615, 'snacking': 2616, 'summary': 2617, 'deli': 2618, 'buffett': 2619, 'pared': 2620, 'shanghai': 2621, 'held': 2622, 'lie': 2623, 'alike': 2624, 'humus': 2625, 'facts': 2626, 'handing': 2627, 'answered': 2628, 'japan': 2629, 'eats': 2630, 'tips': 2631, 'yesterday': 2632, 'tempted': 2633, 'solitary': 2634, 'designed': 2635, 'burning': 2636, 'tries': 2637, 'ours': 2638, 'lick': 2639, 'fingers': 2640, 'risotto': 2641, 'soaking': 2642, 'bargain': 2643, 'festive': 2644, 'indeed': 2645, 'thank': 2646, 'diet': 2647, 'irritated': 2648, 'lentils': 2649, 'cous': 2650, 'vinegar': 2651, 'song': 2652, 'mid': 2653, 'building': 2654, 'insincere': 2655, 'arguing': 2656, 'elderly': 2657, 'moderate': 2658, 'definately': 2659, \"dinner's\": 2660, \"would've\": 2661, 'alongside': 2662, 'layer': 2663, 'flank': 2664, \"luger's\": 2665, 'varied': 2666, 'mulino': 2667, 'screen': 2668, 'hold': 2669, 'stunning': 2670, 'deserts': 2671, \"he'll\": 2672, 'descriptions': 2673, 'cans': 2674, 'boisterous': 2675, 'oversized': 2676, 'midtown': 2677, 'consideration': 2678, 'involved': 2679, 'control': 2680, 'fordham': 2681, 'life': 2682, 'history': 2683, 'wacky': 2684, 'enjoyable': 2685, 'spartan': 2686, 'exquisite': 2687, 'downstair': 2688, 'bamboo': 2689, 'thatched': 2690, 'brightly': 2691, 'witness': 2692, 'initially': 2693, 'huffy': 2694, 'warning': 2695, 'expert': 2696, 'individual': 2697, 'sad': 2698, 'arepas': 2699, 'drove': 2700, 'rabe': 2701, 'knives': 2702, 'luke': 2703, 'invariably': 2704, 'sorbet': 2705, 'hash': 2706, 'combo': 2707, 'college': 2708, '17': 2709, 'bits': 2710, 'turns': 2711, 'downhill': 2712, 'managment': 2713, 'fortune': 2714, 'fee': 2715, 'tikka': 2716, 'masala': 2717, 'grass': 2718, 'unacceptable': 2719, 'crammed': 2720, 'lady': 2721, 'guys': 2722, 'views': 2723, 'appreciated': 2724, 'twists': 2725, 'appetites': 2726, 'inventive': 2727, 'attended': 2728, 'switch': 2729, 'frustration': 2730, 'north': 2731, 'appears': 2732, 'dealing': 2733, 'lends': 2734, 'nonetheless': 2735, 'asks': 2736, 'carrying': 2737, 'rudeness': 2738, 'foot': 2739, 'vietnamese': 2740, 'meatballs': 2741, 'parmesan': 2742, 'vastly': 2743, '13': 2744, 'premises': 2745, 'trees': 2746, 'drive': 2747, 'souk': 2748, 'matches': 2749, 'cobb': 2750, 'philly': 2751, 'public': 2752, 'opening': 2753, 'obliging': 2754, 'vinyl': 2755, 'chunks': 2756, 'sink': 2757, 'speaking': 2758, 'following': 2759, 'fan': 2760, 'fifteen': 2761, 'fortunately': 2762, 'performance': 2763, 'unpretentious': 2764, 'enlivened': 2765, '300': 2766, 'fire': 2767, 'stick': 2768, 'becomes': 2769, 'doors': 2770, 'awning': 2771, 'sugar': 2772, 'creates': 2773, 'recieved': 2774, 'eatery': 2775, 'slim': 2776, 'mixture': 2777, 'adventurous': 2778, 'whim': 2779, 'habit': 2780, 'lose': 2781, 'colorful': 2782, 'kick': 2783, 'bizarrely': 2784, 'danube': 2785, 'costs': 2786, 'translate': 2787, 'veggie': 2788, 'alcohol': 2789, 'river': 2790, 'improve': 2791, 'herbs': 2792, 'pace': 2793, 'families': 2794, 'discovered': 2795, 'injera': 2796, 'hit': 2797, 'gossipping': 2798, 'ultimately': 2799, 'distinct': 2800, 'areas': 2801, 'wet': 2802, 'consisted': 2803, 'issue': 2804, 'bathrooms': 2805, 'appearance': 2806, 'identical': 2807, 'complemented': 2808, 'celebratory': 2809, 'marinated': 2810, 'maintenance': 2811, 'refuse': 2812, 'peri': 2813, 'veggies': 2814, 'broken': 2815, 'softie': 2816, 'apricots': 2817, 'encounter': 2818, 'gruyere': 2819, 'rare': 2820, 'upright': 2821, 'citizen': 2822, 'brigade': 2823, \"chair's\": 2824, 'vallenciana': 2825, 'skull': 2826, 'mugs': 2827, 'canteens': 2828, 'nifty': 2829, 'souvenirs': 2830, 'pleasantly': 2831, 'eastern': 2832, 'familar': 2833, 'peers': 2834, \"peoples'\": 2835, 'enticing': 2836, 'vegan': 2837, \"items'\": 2838, 'confident': 2839, 'unwanted': 2840, 'socializing': 2841, 'forcing': 2842, 'blankly': 2843, 'slower': 2844, 'extreme': 2845, 'battle': 2846, 'latter': 2847, 'separately': 2848, 'burdened': 2849, 'shown': 2850, 'brusque': 2851, 'cornelia': 2852, 'story': 2853, 'killer': 2854, 'bearable': 2855, 'ouor': 2856, 'asean': 2857, 'unmatchable': 2858, 'arched': 2859, 'ices': 2860, 'secretly': 2861, 'sushiden': 2862, 'quantity': 2863, 'tamales': 2864, 'steaming': 2865, 'crocks': 2866, 'erk': 2867, 'maize': 2868, 'quiz': 2869, 'trivia': 2870, 'luckly': 2871, 'anthony': 2872, 'fixing': 2873, 'hangar': 2874, 'peppercorn': 2875, 'stays': 2876, 'expecially': 2877, 'majorly': 2878, 'dissapointed': 2879, 'accomdating': 2880, 'online': 2881, 'outrageuos': 2882, '63': 2883, '23': 2884, 'model': 2885, 'wannabes': 2886, 'concentrate': 2887, 'parish': 2888, 'tasy': 2889, 'absurdly': 2890, 'proportion': 2891, \"waiters'\": 2892, 'faves': 2893, 'elegant': 2894, 'gobble': 2895, \"mcdonald's\": 2896, \"waitstaff's\": 2897, '500': 2898, 'knelt': 2899, 'emphasize': 2900, 'purchased': 2901, 'contained': 2902, 'numbness': 2903, 'compensated': 2904, 'morimoto': 2905, 'sick': 2906, '45pm': 2907, 'legit': 2908, 'prixe': 2909, 'boost': 2910, 'atleast': 2911, 'poivre': 2912, 'lofty': 2913, \"shuoldn't\": 2914, 'overshadow': 2915, 'delicacies': 2916, 'frisee': 2917, 'bird': 2918, \"that'\": 2919, 'pretensions': 2920, \"family's\": 2921, 'uninterested': 2922, 'flanked': 2923, 'sweets': 2924, 'mom': 2925, 'dutch': 2926, 'gift': 2927, 'anytime': 2928, 'hence': 2929, 'verified': 2930, '66': 2931, 'shorter': 2932, 'quoted': 2933, 'deeply': 2934, 'wintry': 2935, 'seared': 2936, \"calf's\": 2937, 'dried': 2938, 'lighter': 2939, 'textbook': 2940, 'beurre': 2941, 'blanc': 2942, 'receptive': 2943, 'serveral': 2944, 'greets': 2945, 'hopelessly': 2946, 'scores': 2947, 'partners': 2948, 'expletive': 2949, 'mock': 2950, \"shouldn't\": 2951, 'letters': 2952, 'sacrificing': 2953, 'overflowing': 2954, 'madai': 2955, 'kanzuri': 2956, 'unpolished': 2957, 'direct': 2958, 'inquisitors': 2959, 'strengths': 2960, 'flambeed': 2961, 'bananas': 2962, 'foster': 2963, 'ceviche': 2964, 'unobtrusive': 2965, 'existing': 2966, 'mixing': 2967, 'outer': 2968, 'gooey': 2969, 'unorthodox': 2970, 'layering': 2971, 'hype': 2972, 'battali': 2973, 'cache': 2974, 'whence': 2975, 'originate': 2976, 'cheerfully': 2977, 'bub': 2978, 'embarrassed': 2979, 'kao': 2980, 'absent': 2981, 'unaccomodating': 2982, 'thunder': 2983, 'blank': 2984, 'shrug': 2985, 'rained': 2986, 'miyagi': 2987, 'insanely': 2988, 'nastiness': 2989, 'snottily': 2990, 'works': 2991, 'clad': 2992, 'raver': 2993, 'brunching': 2994, 'backyard': 2995, 'spread': 2996, 'splash': 2997, 'southern': 2998, 'marnier': 2999, 'overwelming': 3000, 'georgous': 3001, 'clubs': 3002, 'celebrate': 3003, 'sisters': 3004, '1st': 3005, 'answering': 3006, 'craft': 3007, 'entertained': 3008, 'intrusive': 3009, 'yen': 3010, '00am': 3011, 'kang': 3012, 'suh': 3013, 'shook': 3014, 'hillarious': 3015, 'ecclectic': 3016, 'dozens': 3017, 'encourage': 3018, 'ably': 3019, 'pulls': 3020, 'decadent': 3021, 'craze': 3022, 'market': 3023, 'reflected': 3024, 'technique': 3025, 'overcharged': 3026, 'gratuitis': 3027, 'deserve': 3028, 'romano': 3029, 'supervising': 3030, 'santo': 3031, 'son': 3032, 'gia': 3033, 'lam': 3034, \"i'\": 3035, 'phony': 3036, 'yuppies': 3037, 'areos': 3038, 'understandable': 3039, 'cow': 3040, 'ziti': 3041, 'ues': 3042, 'container': 3043, 'adult': 3044, 'experiance': 3045, 'del': 3046, \"frisco's\": 3047, 'leper': 3048, 'locker': 3049, 'satisfaction': 3050, 'conclusion': 3051, 'suffered': 3052, 'muddled': 3053, 'indifferent': 3054, 'excessive': 3055, 'wind': 3056, \"girlfriend's\": 3057, 'oversight': 3058, 'gf': 3059, 'yummies': 3060, 'ayce': 3061, 'atlantic': 3062, 'straining': 3063, 'chandelier': 3064, 'motif': 3065, 'introduce': 3066, 'trashy': 3067, 'grey': 3068, \"dog's\": 3069, '71': 3070, 'landed': 3071, 'hanger': 3072, 'marjoram': 3073, 'aioli': 3074, 'mister': 3075, \"couldnt'\": 3076, 'crutches': 3077, 'til': 3078, 'moroe': 3079, 'orderes': 3080, 'nightly': 3081, 'tenders': 3082, 'happening': 3083, 'panelling': 3084, 'tablecloths': 3085, 'afterwards': 3086, 'overlap': 3087, 'persons': 3088, 'naext': 3089, 'unfamiliar': 3090, 'inclusive': 3091, 'portuguese': 3092, 'knack': 3093, 'exploration': 3094, 'expansive': 3095, 'bacalhau': 3096, 'encompass': 3097, 'colonies': 3098, 'motherland': 3099, 'liquid': 3100, 'bogarted': 3101, 'brisket': 3102, 'links': 3103, 'quirky': 3104, 'appealing': 3105, 'influences': 3106, 'maine': 3107, 'admitably': 3108, 'tad': 3109, 'remedy': 3110, 'concerns': 3111, 'supper': 3112, 'fighting': 3113, 'menue': 3114, 'attached': 3115, 'reminds': 3116, 'miami': 3117, 'nightclubs': 3118, 'beautifull': 3119, 'damper': 3120, 'cellar': 3121, 'demanded': 3122, 'greeeted': 3123, 'sked': 3124, 'today': 3125, 'troubles': 3126, 'tostades': 3127, 'busser': 3128, \"hour's\": 3129, 'objected': 3130, 'ill': 3131, 'fhte': 3132, 'hiden': 3133, 'amuse': 3134, 'grapefruit': 3135, 'marred': 3136, 'excess': 3137, 'bitterness': 3138, 'diminutive': 3139, 'discuss': 3140, 'nme': 3141, 'scott': 3142, 'heather': 3143, 'scensters': 3144, 'ranked': 3145, 'doubled': 3146, 'foreign': 3147, 'language': 3148, 'dictionary': 3149, 'stripe': 3150, 'biscuits': 3151, 'accomadidate': 3152, 'allegeries': 3153, 'outweigh': 3154, 'nicole': 3155, 'smith': 3156, 'helpings': 3157, 'anxious': 3158, 'poorest': 3159, 'zucchini': 3160, 'cavatelli': 3161, 'rib': 3162, 'advertised': 3163, 'unlimited': 3164, 'mimosas': 3165, 'marys': 3166, 'bt': 3167, 'becuause': 3168, 'wherebv': 3169, 'ony': 3170, 'impose': 3171, 'accomodations': 3172, 'animal': 3173, 'products': 3174, 'casien': 3175, 'crave': 3176, 'piccolo': 3177, 'angolo': 3178, 'dissappoint': 3179, 'angel': 3180, 'sparking': 3181, 'mineral': 3182, 'sogginess': 3183, 'intense': 3184, 'mozarella': 3185, 'watered': 3186, 'backroom': 3187, 'galley': 3188, 'ship': 3189, 'cabin': 3190, 'flaw': 3191, 'strictly': 3192, 'roots': 3193, 'decade': 3194, 'dietary': 3195, \"harlem's\": 3196, 'cholesterol': 3197, 'wears': 3198, 'philosophy': 3199, 'facade': 3200, 'crawls': 3201, 'walks': 3202, 'swims': 3203, 'flies': 3204, 'whiting': 3205, 'receives': 3206, 'responsible': 3207, 'redding': 3208, 'camp': 3209, 'rod': 3210, 'reel': 3211, 'rental': 3212, 'rules': 3213, 'backs': 3214, 'whisking': 3215, 'questioned': 3216, 'purpose': 3217, 'faucets': 3218, 'unporfessional': 3219, 'intervals': 3220, 'bodyguard': 3221, 'dramatic': 3222, 'complements': 3223, 'wow': 3224, 'towners': 3225, 'monitoring': 3226, 'consistency': 3227, 'freezing': 3228, 'accomidating': 3229, 'renovated': 3230, 'accomidate': 3231, 'overfill': 3232, 'sheet': 3233, 'tended': 3234, 'madeleine': 3235, 'ben': 3236, 'textures': 3237, 'cleaner': 3238, 'excursion': 3239, 'extending': 3240, 'foul': 3241, 'faced': 3242, 'yama': 3243, 'revival': 3244, '15th': 3245, 'remaining': 3246, 'unfortunate': 3247, 'convince': 3248, 'brulee': 3249, 'doused': 3250, 'gross': 3251, 'morsels': 3252, 'sons': 3253, 'joined': 3254, 'dads': 3255, 'quest': 3256, 'demigraphic': 3257, 'nabe': 3258, 'obvious': 3259, 'hunky': 3260, 'dub': 3261, 'darling': 3262, 'hr': 3263, 'regard': 3264, 'handedly': 3265, 'solved': 3266, 'famine': 3267, 'unpaid': 3268, 'forces': 3269, 'greater': 3270, 'announce': 3271, 'prompting': 3272, 'cancel': 3273, 'claustaphobic': 3274, 'simultaneously': 3275, 'extraordinarily': 3276, 'hellenic': 3277, 'replete': 3278, 'columns': 3279, 'zodiac': 3280, 'carved': 3281, 'plaster': 3282, 'bursts': 3283, 'regardless': 3284, 'brand': 3285, 'gloss': 3286, 'plunk': 3287, 'spill': 3288, 'passive': 3289, 'avail': 3290, 'areain': 3291, '07': 3292, 'tribeca': 3293, 'adamantly': 3294, 'accompanied': 3295, 'pregnant': 3296, 'boyardee': 3297, 'resemble': 3298, 'bedouin': 3299, 'tent': 3300, 'crucial': 3301, 'allergic': 3302, 'appetizier': 3303, 'skilled': 3304, \"cappuccino's\": 3305, 'mug': 3306, 'sudsy': 3307, 'foam': 3308, 'law': 3309, 'recruiting': 3310, 'abysmal': 3311, 'inconvenient': 3312, 'justin': 3313, 'reservationist': 3314, 'coffees': 3315, 'functional': 3316, 'status': 3317, \"'by\": 3318, \"dessert'\": 3319, 'choppy': 3320, 'aiter': 3321, 'scallop': 3322, 'transferred': 3323, 'casino': 3324, 'g': 3325, 'f': 3326, 'coats': 3327, 'actions': 3328, 'karl': 3329, 'season': 3330, 'hostile': 3331, 'creamed': 3332, \"sammy's\": 3333, 'divided': 3334, 'sections': 3335, 'magazine': 3336, 'grades': 3337, 'fellow': 3338, 'teachers': 3339, 'futura': 3340, 'postive': 3341, 'slat': 3342, 'nautical': 3343, 'worn': 3344, 'onetime': 3345, \"fishermen's\": 3346, 'lair': 3347, 'snug': 3348, 'seaport': 3349, 'sequoias': 3350, 'displeasure': 3351, \"party's\": 3352, 'disapointing': 3353, 'pretends': 3354, 'disinterested': 3355, 'swiss': 3356, \"boylan's\": 3357, 'freshly': 3358, 'born': 3359, 'france': 3360, 'aggressing': 3361, 'verbally': 3362, 'intervene': 3363, 'ambitious': 3364, 'popularity': 3365, 'frantic': 3366, 'bernard': 3367, 'recited': 3368, 'mozzerella': 3369, 'produce': 3370, 'otherworldly': 3371, \"grimaldi's\": 3372, 'deceived': 3373, 'collection': 3374, 'stormy': 3375, 'paintings': 3376, 'mermaid': 3377, 'figureheads': 3378, 'hoisting': 3379, 'lulled': 3380, 'maritime': 3381, 'smell': 3382, 'wafting': 3383, 'anyplace': 3384, 'inexcusable': 3385, 'disorganized': 3386, 'amateurish': 3387, 'ratings': 3388, 'amends': 3389, 'mismatched': 3390, 'fishy': 3391, 'believing': 3392, 'dogs': 3393, 'delayed': 3394, 'flight': 3395, 'fails': 3396, 'heeled': 3397, 'gelled': 3398, 'men': 3399, 'commend': 3400, \"'cause\": 3401, 'patiently': 3402, \"'hungry\": 3403, 'animals': 3404, 'attacking': 3405, \"food'\": 3406, 'scary': 3407, 'milieu': 3408, 'taxed': 3409, 'houston': 3410, 'conneticut': 3411, \"shula's\": 3412, 'manners': 3413, 'consume': 3414, 'complicated': 3415, 'uncle': 3416, \"ben's\": 3417, 'peas': 3418, 'calculating': 3419, 'checks': 3420, 'drinkless': 3421, 'gaze': 3422, 'avoiding': 3423, 'ease': 3424, 'environs': 3425, 'hunched': 3426, 'chianti': 3427, 'grandmother': 3428, 'aunt': 3429, 'begin': 3430, 'eases': 3431, 'crush': 3432, 'gamey': 3433, 'walnuts': 3434, 'multicourse': 3435, 'pottery': 3436, 'porcelain': 3437, 'promises': 3438, 'adventure': 3439, 'remotely': 3440, 'enquire': 3441, 'dancer': 3442, 'scarf': 3443, 'recommedation': 3444, 'purity': 3445, 'bucket': 3446, 'riesling': 3447, 'sencere': 3448, 'shy': 3449, 'aisles': 3450, 'jumping': 3451, 'mon': 3452, 'intrigued': 3453, 'paladar': 3454, 'flavored': 3455, 'gelatin': 3456, 'finishes': 3457, 'coddling': 3458, 'peopl': 3459, 'bartendars': 3460, 'laughter': 3461, 'gesturing': 3462, 'zee': 3463, 'dog': 3464, '36': 3465, 'insulted': 3466, 'rely': 3467, 'expertise': 3468, 'ottoman': 3469, 'antiques': 3470, 'artwork': 3471, 'mezzes': 3472, 'coated': 3473, 'hollandaise': 3474, 'raviolis': 3475, 'blanche': 3476, 'communication': 3477, 'skills': 3478, 'overlooked': 3479, 'tri': 3480, 'windowed': 3481, 'stuffy': 3482, 'gap': 3483, 'whick': 3484, 'mansion': 3485, 'tilt': 3486, 'overwhelm': 3487, 'winning': 3488, 'mott': 3489, 'boon': 3490, 'pity': 3491, 'radio': 3492, 'content': 3493, 'decidedly': 3494, \"arturo's\": 3495, 'escape': 3496, 'bottleneck': 3497, 'shoehorned': 3498, 'improperly': 3499, 'amply': 3500, 'stool': 3501, 'engagements': 3502, 'nostalgic': 3503, 'lodgey': 3504, 'bric': 3505, 'brac': 3506, 'adorns': 3507, 'livelier': 3508, 'stained': 3509, 'mission': 3510, 'cherries': 3511, 'peaches': 3512, 'shocking': 3513, 'needless': 3514, 'wirh': 3515, '10min': 3516, 'frankie': 3517, \"johnnie's\": 3518, 'sunny': 3519, 'jerry': 3520, \"gang's\": 3521, 'dingy': 3522, 'haunt': 3523, 'ephemera': 3524, 'seinfeld': 3525, 'autographs': 3526, 'clips': 3527, 'musical': 3528, 'ode': 3529, 'suzanne': 3530, 'vega': 3531, 'relegated': 3532, 'stepchildren': 3533, 'extras': 3534, 'automatic': 3535, '1950s': 3536, 'cookbook': 3537, 'bizarre': 3538, 'tapestries': 3539, 'grocer': 3540, 'roses': 3541, \"'80s\": 3542, 'mirrored': 3543, 'appered': 3544, 'impatient': 3545, 'apptizer': 3546, 'verify': 3547, 'logistics': 3548, 'oversauced': 3549, 'pile': 3550, 'leathery': 3551, \"night's\": 3552, 'humor': 3553, 'resentment': 3554, 'gripe': 3555, 'spenders': 3556, 'upto': 3557, 'appetite': 3558, 'tabletop': 3559, 'crayons': 3560, 'coloring': 3561, 'pleaser': 3562, 'lumps': 3563, 'interpreted': 3564, 'offense': 3565, 'commands': 3566, 'hired': 3567, 'hewn': 3568, 'crispo': 3569, 'restored': 3570, 'farmhouse': 3571, 'frenzied': 3572, 'hopefuls': 3573, 'sweaty': 3574, 'frazzled': 3575, 'theres': 3576, 'cursed': 3577, 'tipping': 3578, 'cutlery': 3579, 'physically': 3580, 'notches': 3581, \"'loud'\": 3582, 'chances': 3583, 'slopers': 3584, 'munching': 3585, 'pressed': 3586, 'saltimbocca': 3587, 'succulent': 3588, 'grizzle': 3589, \"denny's\": 3590, 'slam': 3591, 'touted': 3592, 'fluke': 3593, 'jackson': 3594, 'intro': 3595, '10yrs': 3596, 'unbelievable': 3597, 'eben': 3598, 'solicitious': 3599, 'spooning': 3600, 'sixth': 3601, 'reached': 3602, 'scratching': 3603, 'seperatley': 3604, 'mumbled': 3605, 'obstained': 3606, 'subjective': 3607, 'communicative': 3608, 'storage': 3609, 'ticket': 3610, 'hambone': 3611, 'performances': 3612, 'fugettaboutit': 3613, 'embarassing': 3614, 'hide': 3615, 'accidentally': 3616, 'knowledgable': 3617, 'spirits': 3618, 'guided': 3619, \"'frozen\": 3620, 'wny': 3621, 'closing': 3622, 'stopping': 3623, 'inconsistant': 3624, 'drastically': 3625, 'spewed': 3626, 'stream': 3627, 'profanities': 3628, 'dip': 3629, 'pancake': 3630, 'uncooked': 3631, 'bed': 3632, 'julienned': 3633, 'vinagarette': 3634, 'boi': 3635, 'saving': 3636, 'descending': 3637, 'orderred': 3638, 'production': 3639, 'aid': 3640, 'digestion': 3641, 'hidden': 3642, 'luxe': 3643, 'windowless': 3644, 'murals': 3645, 'depicting': 3646, 'landmarks': 3647, 'finery': 3648, 'adhere': 3649, 'traditionality': 3650, 'samovar': 3651, 'russian': 3652, 'labours': 3653, 'restrictions': 3654, 'entered': 3655, 'merits': 3656, 'da': 3657, 'umberto': 3658, 'justify': 3659, 'masses': 3660, 'personalized': 3661, 'reads': 3662, 'whats': 3663, 'luring': 3664, 'placing': 3665, 'hearing': 3666, 'tapped': 3667, 'fancier': 3668, 'rated': 3669, 'dated': 3670, 'spacey': 3671, 'tangerine': 3672, 'trattoria': 3673, 'breeziness': 3674, 'spinning': 3675, 'kudos': 3676, 'hero': 3677, 'fifth': 3678, 'hooted': 3679, 'hollered': 3680, 'crouton': 3681, 'stomach': 3682, 'horrors': 3683, 'pepperoni': 3684, 'tch': 3685, 'catering': 3686, 'ites': 3687, 'financial': 3688, 'office': 3689, 'metrotech': 3690, 'pickled': 3691, 'carrots': 3692, 'valentines': 3693, 'snapper': 3694, \"child's\": 3695, 'attend': 3696, 'appallingly': 3697, 'superior': 3698, 'morels': 3699, \"daniel's\": 3700, 'revelations': 3701, 'refreshingly': 3702, 'avoids': 3703, 'overkill': 3704, 'influence': 3705, 'pigeonhole': 3706, 'genre': 3707, 'incorporated': 3708, 'scribbing': 3709, 'cheezy': 3710, 'fastest': 3711, 'bagels': 3712, 'convenient': 3713, 'claws': 3714, 'containing': 3715, 'bath': 3716, 'aweful': 3717, 'fulfilling': 3718, 'celebrities': 3719, 'sunglasses': 3720, 'volumous': 3721, 'carlessly': 3722, 'naive': 3723, 'latest': 3724, 'trends': 3725, 'taxes': 3726, 'lukewarm': 3727, 'urinals': 3728, 'zinc': 3729, 'mosaic': 3730, 'tiles': 3731, 'mahogany': 3732, 'trim': 3733, 'reminding': 3734, 'soggy': 3735, 'moisture': 3736, 'stifling': 3737, 'chair': 3738, 'preparing': 3739, 'professionals': 3740, 'ominous': 3741, 'errors': 3742, 'underestimated': 3743, 'inexcusably': 3744, 'excruciatingly': 3745, 'insufficient': 3746, 'heads': 3747, 'discouraged': 3748, 'forgoes': 3749, 'bailed': 3750, 'managing': 3751, 'fallen': 3752, 'victim': 3753, 'success': 3754, 'desiring': 3755, '89': 3756, 'dominant': 3757, 'standout': 3758, 'starters': 3759, 'pepperoncini': 3760, 'flaky': 3761, 'caramelized': 3762, 'folk': 3763, 'blaring': 3764, 'bull': 3765, 'pen': 3766, 'testicles': 3767, '110': 3768, 'prune': 3769, 'apizz': 3770, 'hood': 3771, 'aback': 3772, 'flyer': 3773, 'nevertheless': 3774, 'praised': 3775, 'sensible': 3776, 'sapphire': 3777, 'lupa': 3778, 'redo': 3779, 'subtle': 3780, 'stinks': 3781, 'length': 3782, 'marrige': 3783, \"telly's\": 3784, 'miscellany': 3785, 'adorn': 3786, 'strings': 3787, 'pad': 3788, 'bac': 3789, 'bangkok': 3790, 'heaping': 3791, 'gathered': 3792, 'bussing': 3793, 'vacant': 3794, 'wouldnt': 3795, 'uninspired': 3796, 'tiramisu': 3797, 'strawberries': 3798, 'whipped': 3799, 'trace': 3800, 'snooby': 3801, \"we'll\": 3802, 'vegi': 3803, \"abijah's\": 3804, 'mckate': 3805, 'dairy': 3806, 'nondairy': 3807, 'sashay': 3808, 'patterned': 3809, 'ducking': 3810, 'lampshades': 3811, 'cheerful': 3812, 'insouciance': 3813, 'phones': 3814, 'swarming': 3815, 'cokes': 3816, 'freindly': 3817, 'lawyers': 3818, 'publishers': 3819, 'flock': 3820, 'wheel': 3821, 'justly': 3822, 'remains': 3823, 'hearts': 3824, 'shun': 3825, 'lee': 3826, 'shortcoming': 3827, 'silently': 3828, 'passes': 3829, 'drops': 3830, 'seabass': 3831, 'exceeded': 3832, 'hell': 3833, 'rarely': 3834, 'conceptually': 3835, '30minutes': 3836, 'thinner': 3837, 'crepe': 3838, 'costumer': 3839, 'whimsical': 3840, 'inscriptions': 3841, 'wiped': 3842, 'abounds': 3843, 'forms': 3844, 'squares': 3845, 'glistening': 3846, 'hijiki': 3847, 'patty': 3848, 'tastily': 3849, 'shreds': 3850, 'seaweed': 3851, 'headed': 3852, 'cube': 3853, 'shabu': 3854, 'sahbu': 3855, 'oden': 3856, 'sandwhich': 3857, 'macaroni': 3858, 'ride': 3859, 'prelude': 3860, 'cooled': 3861, 'enhance': 3862, 'isolates': 3863, 'gates': 3864, 'surf': 3865, 'turf': 3866, 'encompasses': 3867, 'ponzu': 3868, 'gently': 3869, 'juxtaposes': 3870, 'espresso': 3871, 'rubbed': 3872, 'cadet': 3873, 'sodas': 3874, 'feedback': 3875, 'chap': 3876, 'wth': 3877, 'kimchee': 3878, 'appetiser': 3879, 'waterview': 3880, 'evr': 3881, 'interms': 3882, 'swimming': 3883, 'chilly': 3884, \"ping's\": 3885, 'elmhurst': 3886, 'fished': 3887, 'tanks': 3888, 'liitle': 3889, 'chheesy': 3890, 'spoon': 3891, 'luncheonette': 3892, 'festooned': 3893, 'touting': 3894, 'rickeys': 3895, 'creams': 3896, 'walnut': 3897, 'pitstop': 3898, 'botanical': 3899, 'gardens': 3900, 'unbeknownst': 3901, 'celebrating': 3902, 'reference': 3903, 'represent': 3904, 'maki': 3905, 'scallions': 3906, 'pair': 3907, 'shochu': 3908, 'tequila': 3909, \"mafrici's\": 3910, 'approach': 3911, 'enthralls': 3912, 'euro': 3913, 'baraonda': 3914, 'resies': 3915, 'patently': 3916, 'false': 3917, 'notion': 3918, 'existence': 3919, \"that'll\": 3920, 'drool': 3921, \"domenico's\": 3922, 'solidly': 3923, 'regularly': 3924, 'comprehend': 3925, 'quadruple': 3926, 'uncleared': 3927, 'contrast': 3928, 'mills': 3929, 'solicitous': 3930, 'occasional': 3931, 'stemming': 3932, 'intolerable': 3933, 'appologies': 3934, 'crusty': 3935, 'scungilli': 3936, 'pizzaiola': 3937, 'heroic': 3938, 'pool': 3939, 'marinara': 3940, 'suitcases': 3941, 'photos': 3942, 'ocean': 3943, 'liners': 3944, 'evoke': 3945, 'golden': 3946, 'travel': 3947, 'worldly': 3948, 'sips': 3949, 'row': 3950, 'whip': 3951, 'constructed': 3952, 'aprroximately': 3953, 'sangiovese': 3954, 'loosey': 3955, 'goosey': 3956, 'wasted': 3957, 'gin': 3958, 'definitive': 3959, 'exception': 3960, 'caffe': 3961, 'birds': 3962, 'prey': 3963, 'brighter': 3964, 'leaned': 3965, 'meh': 3966, 'faded': 3967, 'calico': 3968, 'jacks': 3969, 'philippe': 3970, 'train': 3971, 'orchestrate': 3972, 'timing': 3973, 'profusely': 3974, 'allowing': 3975, \"kids'\": 3976, 'carmelo': 3977, 'leotta': 3978, 'pietro': 3979, 'cinquemani': 3980, 'belting': 3981, 'lanzi': 3982, 'steinway': 3983, 'ridiculously': 3984, 'observed': 3985, 'effectively': 3986, 'swished': 3987, 'floors': 3988, 'stating': 3989, 'plainly': 3990, 'jeollado': 3991, 'filets': 3992, 'accomidations': 3993, 'negetive': 3994, 'forgive': 3995, 'believes': 3996, 'act': 3997, 'momentarily': 3998, 'tuesdays': 3999, 'heights': 4000, 'institution': 4001, 'fountain': 4002, 'pedastals': 4003, 'covers': 4004, 'attracts': 4005, 'loyal': 4006, 'inadequate': 4007, 'playlist': 4008, 'chuckled': 4009, 'herself': 4010, 'headset': 4011, 'horney': 4012, 'drunken': 4013, 'investment': 4014, 'bankers': 4015, 'haplessly': 4016, 'collect': 4017, 'daughters': 4018, 'intimidated': 4019, 'notwithstanding': 4020, 'simplicity': 4021, 'fathers': 4022, 'confuzed': 4023, 'becasue': 4024, 'towels': 4025, 'robb': 4026, 'report': 4027, 'lefthand': 4028, 'interferes': 4029, 'forking': 4030, 'mega': 4031, 'tale': 4032, 'furniture': 4033, 'jo': 4034, 'brother': 4035, 'baggato': 4036, 'nonstop': 4037, 'napkin': 4038, 'lap': 4039, 'hunted': 4040, \"ruth's\": 4041, 'cutie': 4042, 'poised': 4043, 'mill': 4044, 'seitan': 4045, 'evokes': 4046, 'peking': 4047, 'trencherman': 4048, 'sweetbreads': 4049, 'monkfish': 4050, \"'off\": 4051, 'grotto': 4052, 'grotta': 4053, 'premixed': 4054, 'heap': 4055, 'slept': 4056, 'leche': 4057, \"law's\": 4058, 'tacos': 4059, 'huevos': 4060, 'rancheros': 4061, 'rank': 4062, 'afterward': 4063, 'wed': 4064, 'crunch': 4065, 'realistic': 4066, 'scared': 4067, 'discrepancy': 4068, 'lounging': 4069, 'skate': 4070, 'wing': 4071, 'patronage': 4072, 'discontinuing': 4073, 'presumptive': 4074, 'caliber': 4075, 'downfall': 4076, 'jumbo': 4077, 'chowder': 4078, 'crackers': 4079, 'buyback': 4080, 'designated': 4081, 'inexperienced': 4082, 'tension': 4083, 'chief': 4084, 'uniform': 4085, 'midway': 4086, 'excused': 4087, 'recognizing': 4088, 'results': 4089, 'vicinity': 4090, 'caught': 4091, 'chart': 4092, 'cyrillic': 4093, 'determining': 4094, 'piling': 4095, 'unremarkable': 4096, 'definitly': 4097, 'struggle': 4098, 'idli': 4099, 'chapathi': 4100, 'noticing': 4101, 'frowns': 4102, 'faces': 4103, 'luck': 4104, 'dampened': 4105, 'trundle': 4106, 'lifts': 4107, 'escalators': 4108, 'sterile': 4109, 'via': 4110, 'whatsoever': 4111, 'beach': 4112, 'concourse': 4113, 'central': 4114, 'terminal': 4115, 'commuters': 4116, 'progresses': 4117, 'cards': 4118, 'clutching': 4119, 'steamers': 4120, 'respectful': 4121, 'passageway': 4122, 'mekong': 4123, 'tremendously': 4124, 'oddly': 4125, 'shaped': 4126, 'refined': 4127, 'caters': 4128, 'oriented': 4129, 'auspiciously': 4130, 'presumes': 4131, 'razor': 4132, 'bottomless': 4133, \"o'\": 4134, 'muffins': 4135, \"dizzy's\": 4136, \"sm's\": 4137, 'guide': 4138, 'branzino': 4139, 'unruly': 4140, 'offsprings': 4141, 'rip': 4142, 'purchase': 4143, 'expense': 4144, 'account': 4145, 'sinful': 4146, 'moroccan': 4147, 'hospitality': 4148, 'friendliness': 4149, 'flip': 4150, 'waitor': 4151, 'cashier': 4152, 'distracted': 4153, 'disdainful': 4154, 'novices': 4155, 'depression': 4156, 'plane': 4157, 'madiba': 4158, 'ineffective': 4159, 'charges': 4160, 'noting': 4161, 'misleading': 4162, 'mad': 4163, 'dirtier': 4164, 'reshaking': 4165, 'broght': 4166, 'penalty': 4167, 'disgruntled': 4168, 'occassion': 4169, 'co': 4170, 'falling': 4171, 'periodically': 4172, 'dinin': 4173, 'raucous': 4174, 'gig': 4175, 'sleek': 4176, 'suck': 4177, 'spigleau': 4178, 'riedel': 4179, 'opa': 4180, 'confusion': 4181, 'overwhelming': 4182, 'obtrusive': 4183, 'laughing': 4184, 'upped': 4185, 'dente': 4186, 'respond': 4187, 'sword': 4188, 'trout': 4189, 'mackerel': 4190, 'roe': 4191, 'aptz': 4192, 'fool': 4193, 'deals': 4194, 'curryoke': 4195, 'naively': 4196, 'shows': 4197, 'outposts': 4198, \"sarabeth's\": 4199, 'definatly': 4200, 'hoot': 4201, 'uptight': 4202, 'school': 4203, 'cranking': 4204, 'introduction': 4205, 'grandma': 4206, 'tradtional': 4207, 'uses': 4208, 'msg': 4209, 'body': 4210, 'shaking': 4211, 'hugging': 4212, 'lemonade': 4213, 'dissappointing': 4214, 'becco': 4215, 'manageable': 4216, 'stretched': 4217, 'reds': 4218, 'behold': 4219, 'caravan': 4220, 'arroganrt': 4221, 'harkens': 4222, 'napoli': 4223, 'yours': 4224, 'ciao': 4225, 'lead': 4226, 'kashmiri': 4227, 'refute': 4228, \"strip's\": 4229, 'fits': 4230, 'hummos': 4231, 'brie': 4232, 'pertain': 4233, 'travelled': 4234, '3rd': 4235, 'diets': 4236, 'surprising': 4237, 'shopping': 4238, 'unhappy': 4239, 'supplies': 4240, 'deliverymen': 4241, 'flying': 4242, 'fabulously': 4243, 'lobsters': 4244, 'crumble': 4245, 'stench': 4246, 'frying': 4247, 'soothe': 4248, 'baritone': 4249, 'nordic': 4250, 'patrol': 4251, 'proffering': 4252, 'juices': 4253, 'pots': 4254, 'figure': 4255, 'nightmare': 4256, 'registers': 4257, 'appertizers': 4258, 'shirted': 4259, 'whisk': 4260, 'luncheon': 4261, 'power': 4262, 'lunchers': 4263, 'swiming': 4264, 'purchases': 4265, 'practice': 4266, 'joking': 4267, 'talkative': 4268, 'april': 4269, 'increedible': 4270, 'everyday': 4271, 'organic': 4272, 'seldom': 4273, 'gazpacho': 4274, 'saucers': 4275, 'bowls': 4276, 'dreafully': 4277, 'hearded': 4278, 'aerosmith': 4279, 'metallica': 4280, 'chapeau': 4281, 'accessories': 4282, 'yukon': 4283, 'bitter': 4284, 'wilted': 4285, 'accent': 4286, 'occupied': 4287, 'bridge': 4288, 'search': 4289, 'rating': 4290, 'engaging': 4291, 'converasation': 4292, 'en': 4293, 'pointe': 4294, 'punctual': 4295, 'mannered': 4296, 'fattouch': 4297, 'tabbouleh': 4298, 'youll': 4299, 'unwelcomeness': 4300, 'prevalent': 4301, 'asap': 4302, 'supposedly': 4303, 'shines': 4304, 'bold': 4305, 'negro': 4306, 'nello': 4307, 'birkin': 4308, 'kate': 4309, 'toting': 4310, 'rosa': 4311, 'maya': 4312, 'zarela': 4313, 'tops': 4314, 'sometime': 4315, \"atmosphere's\": 4316, 'grungy': 4317, 'cuz': 4318, 'loungy': 4319, 'seeing': 4320, 'manageress': 4321, 'asthma': 4322, 'comedy': 4323, 'pompous': 4324, 'courteous': 4325, 'bucolic': 4326, 'suspects': 4327, 'omelets': 4328, 'skillets': 4329, 'griddles': 4330, 'junk': 4331, 'desperation': 4332, 'practicly': 4333, 'coma': 4334, 'southeast': 4335, 'represents': 4336, 'melting': 4337, 'cultures': 4338, 'variation': 4339, 'similarly': 4340, \"yuo're\": 4341, 'throws': 4342, 'drip': 4343, \"amarin's\": 4344, 'vary': 4345, 'togehter': 4346, 'haphazardly': 4347, 'wld': 4348, 'stalked': 4349, 'helper': 4350, 'waterperson': 4351, 'busperson': 4352, 'runner': 4353, 'supervisors': 4354, \"she's\": 4355, 'barked': 4356, 'situated': 4357, 'chimney': 4358, 'memorial': 4359, 'condition': 4360, \"doens't\": 4361, 'india': 4362, 'deftly': 4363, 'resist': 4364, 'considerate': 4365, '32nd': 4366, 'rumor': 4367, 'tenting': 4368, 'midtowners': 4369, 'heralded': 4370, 'excitement': 4371, 'awkward': 4372, 'standoff': 4373, 'ish': 4374, 'beleive': 4375, 'featured': 4376, 'oversea': 4377, 'bz': 4378, 'greeting': 4379, '75': 4380, 'pleasently': 4381, 'grocery': 4382, 'carmelized': 4383, 'perfected': 4384, 'smokey': 4385, 'n': 4386, 'spicey': 4387, 'coleslaw': 4388, 'proceeded': 4389, 'abundantly': 4390, 'thankfully': 4391, 'succinct': 4392, 'ponder': 4393, 'churn': 4394, 'specified': 4395, 'ownership': 4396, 'valve': 4397, 'penetrated': 4398, 'voices': 4399, 'tonight': 4400, 'hustle': 4401, 'anyhow': 4402, 'rialto': 4403, 'discover': 4404, 'jerked': 4405, 'subpar': 4406, 'fourth': 4407, 'hookah': 4408, 'dominic': 4409, 'immigrants': 4410, 'equivalent': 4411, 'unforgettable': 4412, 'element': 4413, 'proper': 4414, 'british': 4415, 'flabby': 4416, 'pale': 4417, 'specimens': 4418, 'ranges': 4419, 'varies': 4420, 'unhealthy': 4421, 'youre': 4422, 'wont': 4423, 'courteously': 4424, 'saturdays': 4425, 'turning': 4426, 'sean': 4427, 'toussaint': 4428, 'mayonaisse': 4429, 'runners': 4430, 'btw': 4431, 'mediocer': 4432, 'tolerable': 4433, 'eloquently': 4434, 'vividly': 4435, 'describes': 4436, 'sees': 4437, 'poultry': 4438, 'imagination': 4439, 'rope': 4440, 'reeking': 4441, 'passing': 4442, 'coworker': 4443, 'restuarant': 4444, '3am': 4445, 'picky': 4446, 'mainly': 4447, 'sweetner': 4448, 'liguria': 4449, 'neapolitan': 4450, 'artsy': 4451, 'taco': 4452, 'rb': 4453, 'fir': 4454, 'heros': 4455, 'wars': 4456, 'canteena': 4457, 'hipster': 4458, \"maria's\": 4459, '5x': 4460, 'iced': 4461, 'artworks': 4462, 'klimty': 4463, 'completes': 4464, 'thrity': 4465, 'clarify': 4466, \"'tango\": 4467, \"bar'\": 4468, 'standby': 4469, 'board': 4470, 'posted': 4471, 'brule': 4472, 'compromises': 4473, 'soaring': 4474, \"guastavino's\": 4475, 'eerything': 4476, 'noted': 4477, 'recognized': 4478, 'matched': 4479, 'protesting': 4480, 'uncouth': 4481, 'annoyance': 4482, 'sassy': 4483, 'manage': 4484, 'fixins': 4485, 'combos': 4486, '1hr': 4487, 'refusing': 4488, 'smoker': 4489, \"'absolutely\": 4490, \"fabulous'\": 4491, 'versace': 4492, 'outlet': 4493, 'regret': 4494, 'fortunate': 4495, 'camino': 4496, 'sur': 4497, 'strutted': 4498, 'dancefloor': 4499, '70': 4500, '1hour': 4501, 'waters': 4502, 'printed': 4503, 'relatives': 4504, 'assistance': 4505, \"'computer'\": 4506, 'jalebi': 4507, 'paratha': 4508, 'instad': 4509, 'naan': 4510, 'colder': 4511, 'tuesday': 4512, 'reminders': 4513, 'abeille': 4514, 'restorative': 4515, 'heavily': 4516, 'bleeding': 4517, 'gums': 4518, \"quartino's\": 4519, 'hinges': 4520, 'blunt': 4521, 'tumblers': 4522, 'swapping': 4523, 'stories': 4524, 'upwards': 4525, 'period': 4526, 'raise': 4527, 'newcomers': 4528, 'challenge': 4529, 'standings': 4530, 'watering': 4531, 'damned': 4532, 'talkie': 4533, 'addictive': 4534, 'refreshing': 4535, 'wash': 4536, 'emptyits': 4537, 'heroes': 4538, 'indignant': 4539, 'chatted': 4540, 'overcome': 4541, 'foods': 4542, 'scallion': 4543, 'delectably': 4544, 'preserved': 4545, 'tangy': 4546, 'retake': 4547, 'lo': 4548, 'screw': 4549, 'maintained': 4550, 'brucetta': 4551, 'munch': 4552, 'agressive': 4553, 'acknowledgement': 4554, 'lies': 4555, 'pouring': 4556, 'margs': 4557, 'hoopla': 4558, 'critical': 4559, 'praise': 4560, 'gonna': 4561, 'flawless': 4562, 'jackets': 4563, 'trish': 4564, 'mi': 4565, \"nidito's\": 4566, 'considerable': 4567, 'almond': 4568, 'macadamia': 4569, 'nut': 4570, 'complementary': 4571, 'smoothie': 4572, 'taci': 4573, 'nyu': 4574, 'igloo': 4575, 'lax': 4576, \"melissa's\": 4577, 'calm': 4578, 'waterfall': 4579, 'completed': 4580, 'upheld': 4581, 'frequently': 4582, 'loss': 4583, 'lately': 4584, 'poster': 4585, 'unapologetic': 4586, 'backpedal': 4587, 'bastion': 4588, 'raves': 4589, 'gringos': 4590, 'nervously': 4591, 'venture': 4592, 'pretend': 4593, 'marginally': 4594, 'retreated': 4595, 'glanced': 4596, 'guessing': 4597, 'renovation': 4598, 'electric': 4599, 'attain': 4600, 'restauarnt': 4601, 'lame': 4602, 'revise': 4603, 'flexibility': 4604, 'shacks': 4605, 'overdressed': 4606, 'snootily': 4607, 'originally': 4608, 'extrodinarily': 4609, 'friendliest': 4610, 'pricier': 4611, 'lackluster': 4612, 'wast': 4613, 'ranged': 4614, 'curious': 4615, 'ostrich': 4616, 'hoegardden': 4617, 'bonus': 4618, 'hottest': 4619, 'yeah': 4620, 'carried': 4621, '140': 4622, 'versus': 4623, 'ridge': 4624, 'atomsphere': 4625, 'interrrupted': 4626, 'attendant': 4627, 'lean': 4628, 'musicians': 4629, 'singers': 4630, 'alessandro': 4631, 'play': 4632, 'california': 4633, 'regretful': 4634, 'smothered': 4635, 'noon': 4636, 'reasoned': 4637, 'centered': 4638, 'ethnicity': 4639, 'option': 4640, 'budgets': 4641, 'versions': 4642, 'lone': 4643, 'basted': 4644, 'behaviour': 4645, 'behavior': 4646, \"'full'\": 4647, 'lobby': 4648, 'pluck': 4649, 'semi': 4650, 'vast': 4651, 'edited': 4652, 'disappointingly': 4653, 'indistinct': 4654, 'overbearing': 4655, 'thoughtful': 4656, 'candlelit': 4657, 'accented': 4658, 'funky': 4659, 'lamps': 4660, 'background': 4661, 'greet': 4662, 'warmly': 4663, 'companions': 4664, 'naturally': 4665, 'luckily': 4666, 'modest': 4667, 'ditmars': 4668, 'eventaully': 4669, 'hustled': 4670, 'lucy': 4671, 'gourmands': 4672, 'balcony': 4673, 'compact': 4674, 'thinks': 4675, \"'parisian'\": 4676, 'mn': 4677, 'hi': 4678, 'matzo': 4679, 'ounce': 4680, 'claustrophobic': 4681, 'wallet': 4682, 'commission': 4683, 'receiving': 4684, 'imporve': 4685, 'tom': 4686, 'kearney': 4687, 'jean': 4688, 'georges': 4689, 'presides': 4690, 'contemporary': 4691, 'makeover': 4692, 'steel': 4693, 'drums': 4694, 'amped': 4695, 'industrial': 4696, 'seeps': 4697, 'streamlined': 4698, 'passionless': 4699, 'temperture': 4700, \"joe's\": 4701, 'shumai': 4702, 'foodthe': 4703, 'forgettful': 4704, 'contains': 4705, 'interacting': 4706, 'puss': 4707, 'melissa': 4708, 'consistent': 4709, \"yokocho's\": 4710, 'youthful': 4711, 'cultural': 4712, 'natives': 4713, 'gaijin': 4714, '44': 4715, 'required': 4716, 'supplement': 4717, '105': 4718, 'arguments': 4719, \"'d\": 4720, 'evidently': 4721, 'mediterrean': 4722, 'pita': 4723, 'slump': 4724, 'zone': 4725, 'teriyaki': 4726, 'possesses': 4727, 'negated': 4728, \"here's\": 4729, 'disaster': 4730, 'cheapest': 4731, 'beware': 4732, 'assaulted': 4733, 'disappearing': 4734, 'chain': 4735, 'doughy': 4736, 'road': 4737, 'brunches': 4738, 'ourself': 4739, '1940s': 4740, 'inefficiently': 4741, 'grow': 4742, 'cultured': 4743, 'pronounce': 4744, 'nuisance': 4745, 'conspicuously': 4746, 'eyeing': 4747, 'brim': 4748, 'innovative': 4749, 'saffron': 4750, 'powerful': 4751, 'gulab': 4752, 'jamun': 4753, 'curries': 4754, 'pa': 4755, 'nang': 4756, 'lemongrass': 4757, 'gang': 4758, 'paa': 4759, 'downer': 4760, 'prie': 4761, 'runny': 4762, 'aggressively': 4763, 'overstuffed': 4764, 'placemats': 4765, 'advertising': 4766, 'spectacularly': 4767, 'comfy': 4768, 'signals': 4769, \"grandfather's\": 4770, 'goodness': 4771, 'floating': 4772, 'cooing': 4773, 'formality': 4774, 'subterranean': 4775, 'hunkered': 4776, 'loungier': 4777, 'visibly': 4778, 'flavorless': 4779, 'ribeye': 4780, 'boot': 4781, 'musice': 4782, 'growling': 4783, 'satisfy': 4784, 'moderately': 4785, 'ginza': 4786, 'capped': 4787, 'implies': 4788, 'outway': 4789, 'blew': 4790, 'heartland': 4791, 'cuties': 4792, 'accidently': 4793, 'dutiful': 4794, 'normally': 4795, 'restaraunt': 4796, 'javi': 4797, 'lentil': 4798, 'avacado': 4799, 'saks': 4800, 'dory': 4801, 'feat': 4802, 'unadorned': 4803, 'eaters': 4804, 'daring': 4805, 'conservative': 4806, 'orangey': 4807, 'glow': 4808, 'prints': 4809, 'wee': 4810, 'vowed': 4811, 'wedding': 4812, 'rehearsal': 4813, 'coldly': 4814, 'spite': 4815, \"girl's\": 4816, 'wishes': 4817, 'resevations': 4818, 'alter': 4819, 'voicemail': 4820, 'callback': 4821, 'numerous': 4822, 'consisting': 4823, 'chewing': 4824, 'rubber': 4825, 'tire': 4826, 'kills': 4827, 'pierogis': 4828, 'polish': 4829, 'kielbasa': 4830, 'entreesbut': 4831, 'stars': 4832, 'tossed': 4833, 'personality': 4834, 'scream': 4835, 'winners': 4836, \"could've\": 4837, 'overhear': 4838, 'usda': 4839, 'las': 4840, 'vegas': 4841, 'lancaster': 4842, 'viet': 4843, 'huong': 4844, 'cloudy': 4845, 'oily': 4846, 'mee': 4847, 'krob': 4848, 'plum': 4849, 'nur': 4850, 'yang': 4851, 'num': 4852, 'tok': 4853, 'curd': 4854, 'experimental': 4855, 'ethnic': 4856, 'patina': 4857, 'sparks': 4858, \"steakhouse's\": 4859, 'telltale': 4860, 'paneling': 4861, 'chalkboard': 4862, 'decorative': 4863, 'quater': 4864, 'memorable': 4865, 'anyhting': 4866, '35pp': 4867, 'parents': 4868, 'inconveniences': 4869, 'stormed': 4870, 'banquette': 4871, 'videos': 4872, 'ashamed': 4873, 'sippers': 4874, 'snackers': 4875, 'rustic': 4876, 'arches': 4877, 'sidewalk': 4878, 'terrazza': 4879, 'appaled': 4880, '03': 4881, 'eve': 4882, 'scorned': 4883, 'wild': 4884, 'enebriated': 4885, 'tiiiiiiiny': 4886, 'ridicoulas': 4887, 'esperanto': 4888, 'mercy': 4889, 'bday': 4890, 'din': 4891, 'portly': 4892, 'penne': 4893, 'kinks': 4894, 'learning': 4895, 'thoroughly': 4896, 'target': 4897, 'dropping': 4898, 'amusement': 4899, 'lest': 4900, 'morsel': 4901, 'lunches': 4902, 'cub': 4903, 'proximity': 4904, 'university': 4905, 'standbys': 4906, 'upscaled': 4907, 'interpretations': 4908, 'wasabi': 4909, 'mayo': 4910, 'waffles': 4911, 'fluffy': 4912, 'buttermilk': 4913, 'wrecked': 4914, 'conserative': 4915, 'types': 4916, 'simpler': 4917, 'appreciate': 4918, \"tabla's\": 4919, 'distinctive': 4920, 'quotes': 4921, 'pepperidge': 4922, 'croutons': 4923, 'fettuccine': 4924, 'alfredo': 4925, 'hijinks': 4926, 'pestering': 4927, 'suggests': 4928, 'relied': 4929, 'capable': 4930, 'abundant': 4931, 'unpleasant': 4932, 'midst': 4933, \"critics'\": 4934, 'praises': 4935, 'wallpapering': 4936, 'longtime': 4937, \"area's\": 4938, 'finds': 4939, 'stray': 4940, 'adjacent': 4941, 'bi': 4942, 'hut': 4943, 'laminated': 4944, 'depictions': 4945, 'wooing': 4946, 'drenched': 4947, 'overrated': 4948, 'threatening': 4949, 'bon': 4950, 'apetit': 4951, 'aske': 4952, 'questios': 4953, 'imposing': 4954, 'shark': 4955, 'inbetween': 4956, 'whilst': 4957, 'naughtily': 4958, \"'where's\": 4959, 'separated': 4960, 'immaculate': 4961, 'undeniable': 4962, 'heartfelt': 4963, 'asia': 4964, 'cuba': 4965, 'sound': 4966, 'accounted': 4967, 'itsuperb': 4968, 'billed': 4969, 'collaboration': 4970, 'vongerichten': 4971, 'kunz': 4972, 'unmistakable': 4973, 'finesse': 4974, 'meditarranean': 4975, 'rabbit': 4976, 'overworked': 4977, 'stressed': 4978, 'dumps': 4979, 'tapa': 4980, 'announcing': 4981, 'limit': 4982, 'overburden': 4983, 'groove': 4984, 'sits': 4985, 'alerting': 4986, 'deceptively': 4987, 'extensive': 4988, 'lured': 4989, 'synch': 4990, 'flower': 4991, 'lump': 4992, 'bowties': 4993, 'broiled': 4994, 'sole': 4995, 'laughed': 4996, 'litany': 4997, 'shady': 4998, 'fabulosity': 4999, 'mr': 5000, 'bouncers': 5001, 'greenwich': 5002, 'ave': 5003, 'smelling': 5004, 'visible': 5005, 'initiative': 5006, 'starving': 5007, 'consulting': 5008, 'douglas': 5009, \"rodriguez's\": 5010, 'forte': 5011, 'blending': 5012, 'diversity': 5013, 'cools': 5014, 'crunchy': 5015, 'coat': 5016, 'halibut': 5017, 'resting': 5018, 'plantain': 5019, 'escabeche': 5020, 'moistens': 5021, 'skirt': 5022, 'delux': 5023, 'anniversary': 5024, 'stock': 5025, 'chasers': 5026, 'deliberately': 5027, 'mislead': 5028, 'resented': 5029, 'yell': 5030, 'thailand': 5031, 'veracruz': 5032, 'infinitely': 5033, \"avenue's\": 5034, 'stretch': 5035, 'marinera': 5036, 'judge': 5037, 'fashions': 5038, 'smooth': 5039, 'bursting': 5040, 'shoots': 5041, 'omelettes': 5042, 'child': 5043, 'teaspoon': 5044, 'stuffing': 5045, 'washed': 5046, 'soil': 5047, 'couches': 5048, 'positive': 5049, 'prematurely': 5050, 'operation': 5051, 'risotteria': 5052, 'stove': 5053, 'skylight': 5054, 'tenament': 5055, 'sushisamba': 5056, 'surprises': 5057, 'meditating': 5058, 'meditation': 5059, 'descent': 5060, 'untill': 5061, 'crystal': 5062, 'ballroom': 5063, 'stranger': 5064, 'inches': 5065, 'recharge': 5066, 'hitting': 5067, 'messes': 5068, 'refilling': 5069, 'homefried': 5070, 'substitute': 5071, 'lcb': 5072, 'ammenities': 5073, 'toaster': 5074, 'shabby': 5075, 'blemish': 5076, 'assortment': 5077, 'slip': 5078, 'category': 5079, \"everyone's\": 5080, 'counted': 5081, 'confit': 5082, 'battered': 5083, 'lesson': 5084, 'injury': 5085, 'pakora': 5086, 'tandoori': 5087, 'unexpected': 5088, 'alaska': 5089, 'mules': 5090, 'hunks': 5091, 'responses': 5092, 'follows': 5093, 'details': 5094, 'busier': 5095, 'volume': 5096, 'tempura': 5097, 'hire': 5098, 'instructions': 5099, 'regaled': 5100, 'televisions': 5101, 'unobstructed': 5102, 'sight': 5103, 'pints': 5104, 'pub': 5105, 'munchies': 5106, 'nachos': 5107, 'shucked': 5108, \"crave's\": 5109, 'resumes': 5110, 'boast': 5111, 'stints': 5112, 'payard': 5113, 'bests': 5114, 'worsts': 5115, 'pineapple': 5116, 'mmmm': 5117, 'denied': 5118, 'concoction': 5119, 'mere': 5120, 'dessrt': 5121, 'transformation': 5122, 'recommen': 5123, 'nudged': 5124, '40times': 5125, 'bouncer': 5126, 'slimmers': 5127, 'svc': 5128, 'snatch': 5129, 'finer': 5130, 'energy': 5131, 'nastier': 5132, 'curtly': 5133, 'hai': 5134, 'address': 5135, 'bumbling': 5136, 'idiots': 5137, 'fingertips': 5138, 'impatience': 5139, 'steep': 5140, 'clueless': 5141, 'asssortment': 5142, 'recomendation': 5143, 'schnazzy': 5144, '68': 5145, 'reeeeeeeally': 5146, 'undercooked': 5147, 'fascinating': 5148, 'pat': 5149, 'win': 5150, 'awards': 5151, 'champange': 5152, 'moutarde': 5153, 'undecided': 5154, 'indecision': 5155, 'trio': 5156, 'burst': 5157, 'anger': 5158, 'lousy': 5159, 'ketchup': 5160, \"'bombay'\": 5161, 'huff': 5162, 'changing': 5163, 'glamourpuss': 5164, 'encouraging': 5165, 'center': 5166, 'glorified': 5167, 'potent': 5168, 'pulling': 5169, 'punches': 5170, 'focus': 5171, 'brocolli': 5172, 'clumsily': 5173, 'flash': 5174, 'jovially': 5175, 'phenomenal': 5176, \"year's\": 5177, 'fernando': 5178, 'campari': 5179, 'cinzano': 5180, 'eternity': 5181, '1993': 5182, \"nick's\": 5183, '40min': 5184, 'client': 5185, \"parents'\": 5186, 'hoisin': 5187, 'circles': 5188, 'upsetting': 5189, 'everybody': 5190, 'wins': 5191, 'thurs': 5192, 'businessmen': 5193, 'outdid': 5194, 'peaceful': 5195, 'giggling': 5196, 'uncomplicated': 5197, 'tasteful': 5198, 'touches': 5199, 'soothing': 5200, 'abstract': 5201, 'painting': 5202, 'neutral': 5203, 'toned': 5204, 'error': 5205, 'fluent': 5206, 'slipping': 5207, \"tv's\": 5208, 'games': 5209, 'dominate': 5210, 'grumpy': 5211, 'website': 5212, 'godot': 5213, 'news': 5214, 'wrongly': 5215, 'alternate': 5216, 'baguette': 5217, 'granola': 5218, 'torn': 5219, 'marked': 5220, 'traffic': 5221, 'publications': 5222, 'nicest': 5223, 'allabaster': 5224, 'globes': 5225, 'clientelle': 5226, 'critic': 5227, 'confront': 5228, 'pooris': 5229, '58': 5230, 'honeycomb': 5231, 'combine': 5232, 'themed': 5233, '2000ish': 5234, 'pleasing': 5235, 'pound': 5236, 'pavement': 5237, 'likewise': 5238, 'steinhof': 5239, \"'people\": 5240, \"watching'\": 5241, 'boardwalk': 5242, 'conversing': 5243, 'splattered': 5244, 'drycleaning': 5245, 'demi': 5246, 'carafes': 5247, 'rediculous': 5248, 'orechiette': 5249, 'brocoli': 5250, 'rape': 5251, 'characteristic': 5252, 'biggest': 5253, 'andtomato': 5254, 'wedges': 5255, 'vinagrette': 5256, \"tom's\": 5257, 'newly': 5258, 'hugely': 5259, 'promising': 5260, 'kicker': 5261, 'dallas': 5262, 'homogeneous': 5263, 'bustelo': 5264, 'vacumed': 5265, 'jam': 5266, 'renditions': 5267, 'panini': 5268, 'bruschetta': 5269, 'tramezzini': 5270, 'fillings': 5271, 'pesto': 5272, 'bresaola': 5273, 'arugula': 5274, 'roster': 5275, 'cured': 5276, 'finger': 5277, 'clay': 5278, 'loaded': 5279, 'thet': 5280, 'hav': 5281, 'partially': 5282, 'dieing': 5283, 'quail': 5284, 'bisque': 5285, 'divine': 5286, 'thru': 5287, 'seemly': 5288, 'shall': 5289, 'signaled': 5290, 'merit': 5291, 'yells': 5292, 'goodbye': 5293, 'exiled': 5294, 'siberia': 5295, 'treating': 5296, 'handy': 5297, 'corridor': 5298, 'tiled': 5299, 'counters': 5300, 'retaurant': 5301, 'bd': 5302, 'isslow': 5303, 'midtownwent': 5304, 'dessertb': 5305, 'colors': 5306, \"cafe's\": 5307, 'vivid': 5308, 'litter': 5309, 'sceney': 5310, 'warmed': 5311, 'cracking': 5312, 'jokes': 5313, 'visually': 5314, 'ingredient': 5315, 'gigantic': 5316, 'cheesesteaks': 5317, 'anchovy': 5318, 'licking': 5319, 'ordeal': 5320, 'clientel': 5321, 'talented': 5322, 'inlcuding': 5323, 'director': 5324, 'laidback': 5325, 'irregular': 5326, 'quiete': 5327, 'laid': 5328, 'rewarding': 5329, 'harried': 5330, 'frits': 5331, 'tues': 5332, 'royalty': 5333, 'somesuch': 5334, 'meager': 5335, 'thais': 5336, 'freezer': 5337, 'opens': 5338, 'swiped': 5339, 'finised': 5340, 'sunset': 5341, 'ongoing': 5342, 'diatribe': 5343, 'staffs': 5344, 'educate': 5345, 'shuck': 5346, \"'em\": 5347, 'purse': 5348, 'absoloutely': 5349, 'begins': 5350, 'cracked': 5351, 'filthy': 5352, 'tile': 5353, 'flooring': 5354, 'sandwhiches': 5355, 'probbably': 5356, 'prepped': 5357, 'doubt': 5358, 'trust': 5359, 'silky': 5360, 'porcini': 5361, 'carries': 5362, 'smoky': 5363, 'earthy': 5364, 'overtones': 5365, 'overpower': 5366, 'braised': 5367, 'glaze': 5368, 'converge': 5369, 'substitutions': 5370, 'tune': 5371, 'fo': 5372, 'bars': 5373, 'lokie': 5374, 'lake': 5375, 'aperitif': 5376, 'casablanca': 5377, 'carelessly': 5378, 'titanic': 5379, 'incomplete': 5380, 'discounting': 5381, 'canard': 5382, 'syrupy': 5383, 'detailed': 5384, 'samplings': 5385, 'bait': 5386, 'mentally': 5387, '3times': 5388, 'chipssalsa': 5389, 'seedy': 5390, \"70's\": 5391, 'porn': 5392, 'department': 5393, 'processed': 5394, 'rewarded': 5395, 'genuinely': 5396, 'irony': 5397, 'tastier': 5398, 'miniblueberrrymuffins': 5399, 'bakeries': 5400, 'mimosa': 5401, 'funny': 5402, 'relally': 5403, 'hats': 5404, 'ricotta': 5405, 'pdiddy': 5406, 'pickles': 5407, 'helpfull': 5408, 'button': 5409, 'downs': 5410, 'anticipate': 5411, 'fulfill': 5412, 'trained': 5413, 'readers': 5414, 'lasagna': 5415, 'icy': 5416, 'parm': 5417, 'anymore': 5418, 'adn': 5419, 'glasswine': 5420, 'fromaround': 5421, 'breadsticks': 5422, 'parmasean': 5423, 'nibble': 5424, 'albeit': 5425, 'important': 5426, 'arrivals': 5427, 'tearoom': 5428, 'indulge': 5429, 'yoursef': 5430, 'compnay': 5431, 'cab': 5432, 'whihc': 5433, 'occupy': 5434, 'heartedly': 5435, 'stature': 5436, 'tolerate': 5437, 'lengthier': 5438, 'counterparts': 5439, 'adventuresome': 5440, 'peel': 5441, 'andouille': 5442, 'famed': 5443, 'emporium': 5444, \"zabar's\": 5445, 'unwarranted': 5446, 'goof': 5447, 'ups': 5448, 'cracker': 5449, 'barrel': 5450, 'popped': 5451, 'daughter': 5452, 'recourse': 5453, 'fake': 5454, 'perception': 5455, 'starts': 5456, 'bronx': 5457, 'coney': 5458, 'island': 5459, 'hoping': 5460, 'unfotunately': 5461, 'congeniality': 5462, 'deteriorated': 5463, 'overf': 5464, 'transfer': 5465, 'disgracefully': 5466, 'torro': 5467, 'overpaying': 5468, 'queso': 5469, 'fundido': 5470, 'flashing': 5471, 'overhead': 5472, 'beams': 5473, 'bollywood': 5474, 'mtv': 5475, 'resteraunt': 5476, 'screwing': 5477, 'scratch': 5478, 'pf': 5479, 'sir': 5480, 'routine': 5481, 'infer': 5482, 'moules': 5483, 'chopstick': 5484, 'competely': 5485, 'amd': 5486, 'carnegie': 5487, 'hall': 5488, 'dubbed': 5489, 'cavernous': 5490, 'sweeping': 5491, 'porportions': 5492, 'ballooned': 5493, \"staffs'\": 5494, 'concern': 5495, 'slighly': 5496, 'ostentatiously': 5497, 'fry': 5498, 'interestingly': 5499, 'peanuts': 5500, 'tostones': 5501, 'european': 5502, 'nicoise': 5503, 'tightly': 5504, 'decently': 5505, 'approx': 5506, 'intimidating': 5507, 'eric': 5508, 'rescue': 5509, 'otoro': 5510, 'gorgeously': 5511, 'marbled': 5512, 'captivating': 5513, 'hamachi': 5514, 'whisper': 5515, 'commented': 5516, 'snapped': 5517, 'alta': 5518, 'ironically': 5519, 'misguide': 5520, 'prchase': 5521, 'plentiful': 5522, 'monitors': 5523, '8ish': 5524, 'gruner': 5525, 'diver': 5526, 'crushed': 5527, 'glazed': 5528, 'caramel': 5529, 'infused': 5530, 'wd': 5531, 'drinkers': 5532, 'trays': 5533, 'replace': 5534, 'wary': 5535, 'jungle': 5536, 'hustling': 5537, 'olds': 5538, 'gainfully': 5539, 'employed': 5540, 'murray': 5541, 'locals': 5542, 'dull': 5543, 'fluorescent': 5544, \"jaiya's\": 5545, 'increasing': 5546, 'sales': 5547, 'swiftly': 5548, 'plans': 5549, \"schiller's\": 5550, 'thwarted': 5551, 'matinee': 5552, 'promtply': 5553, 'hing': 5554, 'pitcher': 5555, 'disorganised': 5556, 'pretensious': 5557, 'began': 5558, 'adams': 5559, 'outright': 5560, 'howver': 5561, 'furthermore': 5562, 'roast': 5563, 'pastitichio': 5564, 'blatantly': 5565, 'huh': 5566, 'touristy': 5567, 'elements': 5568, 'thzt': 5569, 'tribute': 5570, 'hurt': 5571, 'sticky': 5572, 'unclean': 5573, 'lunchs': 5574, 'permits': 5575, 'blasting': 5576, 'quibbles': 5577, 'immediatly': 5578, 'earnest': 5579, 'emerges': 5580, 'miserable': 5581, 'recommandation': 5582, 'jerks': 5583, 'activity': 5584, 'environments': 5585, 'prepares': 5586, 'superfine': 5587, 'easygoing': 5588, 'instantly': 5589, 'appreciable': 5590, 'hangout': 5591, 'armed': 5592, 'inconveniencing': 5593, 'snubbed': 5594, 'reject': 5595, '26': 5596, \"tony's\": 5597, \"ernie's\": 5598, 'rows': 5599, 'chosen': 5600, 'profession': 5601, 'maintains': 5602, 'class': 5603, 'landmark': 5604, 'testament': 5605, 'badly': 5606, 'repeatedly': 5607, 'overshadowed': 5608, 'originality': 5609, 'belleville': 5610, 'distrupted': 5611, 'virgin': 5612, 'watches': 5613, 'moody': 5614, 'confirmations': 5615, 'agozar': 5616, 'afterthought': 5617, 'sumptuous': 5618, 'aurora': 5619, 'aromatic': 5620, 'caper': 5621, 'berries': 5622, 'prevelant': 5623, 'poilte': 5624, 'addicting': 5625, 'cant': 5626, 'delious': 5627, 'bobby': 5628, 'flay': 5629, 'steps': 5630, 'americain': 5631, 'skin': 5632, 'copious': 5633, 'amounts': 5634, 'spilt': 5635, 'karaoke': 5636, 'silly': 5637, 'absolute': 5638, 'booking': 5639, 'graciously': 5640, 'immediate': 5641, 'fireplaces': 5642, \"'manager'\": 5643, 'minimun': 5644, 'opportunities': 5645, 'drew': 5646, 'verbatim': 5647, 'rearely': 5648, 'e': 5649, 'xcept': 5650, 'thier': 5651, 'focuses': 5652, 'centric': 5653, 'portobello': 5654, 'roma': 5655, 'post': 5656, 'master': 5657, 'reacted': 5658, 'embarrassment': 5659, 'anipasto': 5660, 'newyork': 5661, 'paris': 5662, 'efficient': 5663, 'fired': 5664, 'promplty': 5665, 'hassled': 5666, 'pony': 5667, 'tail': 5668, 'quaintly': 5669, 'fly': 5670, 'strips': 5671, 'wiping': 5672, 'afterall': 5673, 'labor': 5674, 'additions': 5675, 'successful': 5676, 'riser': 5677, '3pm': 5678, 'african': 5679, 'sancerre': 5680, 'baba': 5681, 'jaya': 5682, 'confronting': 5683, 'clerck': 5684, 'argue': 5685, \"where's\": 5686, 'trendier': 5687, 'stylish': 5688, 'aged': 5689, 'surperb': 5690, 'banquet': 5691, 'bustles': 5692, 'sprawling': 5693, 'precision': 5694, 'merengue': 5695, 'curving': 5696, 'distance': 5697, 'blueberry': 5698, 'mohitos': 5699, 'spring': 5700, 'porch': 5701, 'expand': 5702, 'massive': 5703, 'frequented': 5704, 'greeks': 5705, 'mezze': 5706, 'feta': 5707, 'grape': 5708, 'kebabs': 5709, 'vintages': 5710, '2003': 5711, '2004': 5712, 'bouillabaisse': 5713, 'unprofessional': 5714, 'discussion': 5715, 'essentially': 5716, 'manhattanites': 5717, 'meatpacking': 5718, 'district': 5719, 'althought': 5720, 'increadibly': 5721, 'optional': 5722, 'matching': 5723, '125pp': 5724, 'tummy': 5725, 'expensice': 5726, 'nan': 5727, 'percentage': 5728, \"she'd\": 5729, 'bridges': 5730, 'hospital': 5731, '25min': 5732, 'romaine': 5733, 'audibly': 5734, 'follow': 5735, 'tirade': 5736, 'secondary': 5737, 'ive': 5738, 'forward': 5739, \"rice's\": 5740, 'eclectic': 5741, 'nature': 5742, \"it'll\": 5743, 'lived': 5744, 'uplit': 5745, 'attractive': 5746, 'kimchi': 5747, 'bulgogi': 5748, 'mintues': 5749, 'forty': 5750, 'oops': 5751, 'teenie': 5752, 'weenie': 5753, 'agonizingly': 5754, 'prefers': 5755, 'infront': 5756, 'appreciating': 5757, \"reviewer's\": 5758, 'remark': 5759, \"'til\": 5760, '50pm': 5761, 'arms': 5762, 'quibbling': 5763, 'intending': 5764, 'lock': 5765, 'prevent': 5766, 'skipping': 5767, 'atm': 5768, 'leans': 5769, 'toward': 5770, 'tantamount': 5771, 'ignore': 5772, 'louie': 5773, 'oddest': 5774, 'tendency': 5775, 'schnapps': 5776, 'convesation': 5777, 'crumbed': 5778, 'solied': 5779, 'te': 5780, 'absentminded': 5781, 'responsive': 5782, 'accordingly': 5783, 'vinegary': 5784, 'proved': 5785, 'favorable': 5786, 'losing': 5787, 'doorstep': 5788, 'extent': 5789, 'sevice': 5790, 'excelent': 5791, 'locations': 5792, 'covering': 5793, 'basics': 5794, 'ethiopian': 5795, 'sambosas': 5796, 'kifto': 5797, 'tibs': 5798, 'rosemary': 5799, 'doubles': 5800, 'utensil': 5801, 'acceptable': 5802, 'trippy': 5803, 'sci': 5804, 'fi': 5805, 'magnet': 5806, 'retrospect': 5807, 'foolish': 5808, 'furnishings': 5809, 'scattershot': 5810, 'smiles': 5811, 'mains': 5812, '172': 5813, 'unworth': 5814, 'ninth': 5815, 'explains': 5816, 'max': 5817, '05': 5818, 'hiccup': 5819, 'ludicrous': 5820, 'immeadiately': 5821, 'replacements': 5822, 'buffer': 5823, \"jesse's\": 5824, 'pubby': 5825, 'holds': 5826, 'letdowns': 5827, 'cone': 5828, 'kulfi': 5829, 'licorice': 5830, 'cinnamon': 5831, 'souffle': 5832, 'olympic': 5833, 'flame': 5834, 'passable': 5835, 'prompted': 5836, 'shareable': 5837, 'drawing': 5838, 'bourbon': 5839, 'steepest': 5840, \"n'awlins\": 5841, 'cover': 5842, 'execution': 5843, 'thus': 5844, 'begging': 5845, 'descript': 5846, 'mercer': 5847, 'pulsing': 5848, 'basement': 5849, 'dribble': 5850, 'frustrating': 5851, 'kicking': 5852, 'bruising': 5853, 'thoroughfare': 5854, '57th': 5855, 'adorably': 5856, 'northern': 5857, 'mounds': 5858, 'mozz': 5859, 'interest': 5860, 'preposterous': 5861, 'personalities': 5862, 'notably': 5863, 'subdued': 5864, 'detiorated': 5865, 'batter': 5866, 'ins': 5867, 'gummi': 5868, 'bears': 5869, 'fudge': 5870, 'mash': 5871, 'granite': 5872, 'twenties': 5873, 'cloth': 5874, 'instant': 5875, 'seamlessly': 5876, 'consistantly': 5877, 'deafening': 5878, 'fastly': 5879, 'painless': 5880, 'posters': 5881, 'addressing': 5882, 'oppressively': 5883, \"franny's\": 5884, 'adamant': 5885, 'refusal': 5886, 'adaquate': 5887, 'scare': 5888, 'moving': 5889, 'scintillating': 5890, 'qualities': 5891, 'gus': 5892, 'freebies': 5893, 'oranges': 5894, 'cookies': 5895, 'lollies': 5896, 'naps': 5897, 'pomodoro': 5898, 'muzak': 5899, 'antipasto': 5900, 'pages': 5901, 'surprize': 5902, 'preoccupied': 5903, 'googling': 5904, 'blame': 5905, 'moon': 5906, 'architect': 5907, 'designer': 5908, 'repeated': 5909, 'dug': 5910, 'meanwhile': 5911, 'posing': 5912, 'participate': 5913, 'assumed': 5914, 'frowned': 5915, 'tha': 5916, 'pilled': 5917, 'voucher': 5918, 'deak': 5919, 'accident': 5920, 'dependable': 5921, 'male': 5922, 'recived': 5923, 'recommand': 5924, 'major': 5925, 'improvements': 5926, 'ie': 5927, 'keeping': 5928, '11pm': 5929, 'recieving': 5930, 'boys': 5931, 'cubes': 5932, 'everywhere': 5933, 'sticking': 5934, 'mozart': 5935, 'litte': 5936, 'banquets': 5937, 'wether': 5938, 'perference': 5939, 'fav': 5940, 'pumkin': 5941, 'raviloi': 5942, 'cared': 5943, '100pp': 5944, 'noone': 5945, 'touched': 5946, 'untouched': 5947, 'additionally': 5948, 'picturesque': 5949, 'techno': 5950, 'ensuing': 5951, 'dreaming': 5952, 'jodi': 5953, \"williams'\": 5954, 'squash': 5955, 'blossoms': 5956, 'genial': 5957, 'weirdly': 5958, 'haphazard': 5959, 'mysteriously': 5960, 'reemerge': 5961, 'understaffing': 5962, 'civilized': 5963, 'biting': 5964, 'argentine': 5965, 'insipid': 5966, 'expirience': 5967, 'balthazar': 5968, 'prove': 5969, 'legitimacy': 5970, 'chomp': 5971, '250': 5972, 'lingered': 5973, 'cheesiest': 5974, 'lightly': 5975, 'sings': 5976, 'partnered': 5977, 'notes': 5978, 'alternates': 5979, 'skins': 5980, 'angus': 5981, 'modestly': 5982, 'international': 5983, 'wraps': 5984, 'stickers': 5985, \"pro's\": 5986, \"con's\": 5987, 'hsared': 5988, 'abnormally': 5989, 'program': 5990, 'offshoot': 5991, 'besieged': 5992, 'hampton': 5993, 'copper': 5994, 'display': 5995, 'royal': 5996, 'oceanic': 5997, 'mural': 5998, 'cramming': 5999, 'microphone': 6000, 'dictate': 6001, 'feet': 6002, '150': 6003, 'loooooong': 6004, 'recalling': 6005, 'calorie': 6006, 'defying': 6007, 'decadence': 6008, 'cigars': 6009, 'mammoth': 6010, 'gluttony': 6011, 'operative': 6012, 'ear': 6013, 'reviewing': 6014, 'machines': 6015, 'miracle': 6016, 'formerly': 6017, 'unuusal': 6018, 'sushis': 6019, 'faultlessly': 6020, 'executed': 6021, 'splurge': 6022, 'redeeming': 6023, 'horible': 6024, \"'stand\": 6025, \"in'\": 6026, 'protocol': 6027, 'persuade': 6028, 'melts': 6029, 'skewers': 6030, 'buttered': 6031, 'collapse': 6032, 'brine': 6033, 'chawanmushi': 6034, 'quivering': 6035, 'truffles': 6036, 'hyped': 6037, 'kitchenette': 6038, 'tucked': 6039, 'nondescript': 6040, 'madison': 6041, 'caviar': 6042, 'russe': 6043, 'hoped': 6044, 'visual': 6045, 'comments': 6046, 'thoughts': 6047, \"artisanal's\": 6048, 'declined': 6049, 'snotty': 6050, 'apertif': 6051, 'produced': 6052, 'steward': 6053, 'minor': 6054, 'attentively': 6055, 'treat': 6056, 'sincere': 6057, 'delights': 6058, 'sizeable': 6059, 'crowed': 6060, 'subway': 6061, 'contend': 6062, 'navigate': 6063, 'secluded': 6064, 'disrespect': 6065, 'constructive': 6066, 'criticism': 6067, 'recipes': 6068, 'somebody': 6069, 'carafe': 6070, 'cotes': 6071, 'du': 6072, 'rhone': 6073, 'escargot': 6074, 'inputs': 6075, 'allergies': 6076, 'poking': 6077, 'prodding': 6078, 'restuarnt': 6079, 'company': 6080, 'comply': 6081, 'courtesy': 6082, 'cheff': 6083, 'resturaunt': 6084, 'straw': 6085, 'layed': 6086, 'arrives': 6087, 'rapidly': 6088, 'whenever': 6089, 'pinpointed': 6090, \"xunta's\": 6091, 'billy': 6092, 'usualy': 6093, 'reaction': 6094, 'brioche': 6095, 'alfama': 6096, 'deceptive': 6097, 'starch': 6098, 'napoleon': 6099, 'mis': 6100, 'cocky': 6101, 'shockingly': 6102, 'directly': 6103, 'quicker': 6104, 'undoubtedly': 6105, 'slots': 6106, 'luger': 6107, 'guarantee': 6108, 'game': 6109, 'xanax': 6110, 'res': 6111, 'pane': 6112, 'bulletproof': 6113, \"drinkin'\": 6114, 'overflow': 6115, 'cappuccino': 6116, 'applies': 6117, 'raspberry': 6118, 'cough': 6119, 'syrup': 6120, 'starburst': 6121, 'whereas': 6122, 'permitted': 6123, 'fattened': 6124, 'goose': 6125, 'livers': 6126, 'materialized': 6127, 'bearing': 6128, 'profound': 6129, 'unneccessary': 6130, 'gesture': 6131, 'brazenly': 6132, 'substitue': 6133, 'gelato': 6134, 'snobbishly': 6135, \"80's\": 6136, 'idiot': 6137, 'treatment': 6138, 'jewel': 6139, 'undecorated': 6140, 'mars': 6141, '2112': 6142, 'detract': 6143, 'stinky': 6144, 'anchovies': 6145, 'crostini': 6146, 'fogged': 6147, 'filipino': 6148, 'professionalism': 6149, 'dipping': 6150, 'someplace': 6151, 'totaly': 6152, 'neglected': 6153, 'lag': 6154, 'puching': 6155, 'learn': 6156, 'amateurs': 6157, 'atichoke': 6158, 'palms': 6159, 'monthly': 6160, 'basis': 6161, 'questioning': 6162, 'sq': 6163, 'versatile': 6164, 'fused': 6165, 'rewards': 6166, 'ham': 6167, 'bunned': 6168, 'velvety': 6169, 'kumquat': 6170, 'cranberry': 6171, 'compote': 6172, 'speck': 6173, 'charcuterie': 6174, 'vegs': 6175, 'fruits': 6176, 'astounded': 6177, \"eatery's\": 6178, 'rep': 6179, 'accents': 6180, 'swaths': 6181, 'cleverly': 6182, 'accenting': 6183, 'apart': 6184, 'freezers': 6185, 'temperature': 6186, 'giovanny': 6187, 'mike': 6188, 'cheetah': 6189, 'skimpy': 6190, 'irksome': 6191, 'elevated': 6192, 'origin': 6193, 'spide': 6194, 'plated': 6195, 'arragance': 6196, 'student': 6197, 'alien': 6198, 'belonged': 6199, 'fastfood': 6200, 'huuge': 6201, 'easier': 6202, '350': 6203, 'brasserie': 6204, 'gratinee': 6205, 'bubbles': 6206, 'shoestring': 6207, 'adore': 6208, 'pros': 6209, 'scooped': 6210, 'removes': 6211, 'fears': 6212, 'phenomonal': 6213, 'misplaced': 6214, 'purple': 6215, 'koi': 6216, 'pond': 6217, 'glimpses': 6218, 'superiority': 6219, 'newspaper': 6220, 'remained': 6221, 'unoccupied': 6222, 'tooted': 6223, 'dreadful': 6224, 'kosher': 6225, 'indication': 6226, 'carb': 6227, 'lure': 6228, 'conscious': 6229, 'teeth': 6230, 'baguettes': 6231, 'piled': 6232, 'mesquite': 6233, 'continually': 6234, 'shorted': 6235, 'reversed': 6236, 'neck': 6237, 'digest': 6238, 'occurance': 6239, 'ghost': 6240, 'corny': 6241, 'needing': 6242, 'adornment': 6243, 'confections': 6244, 'replacing': 6245, 'bussed': 6246, 'chai': 6247, 'crema': 6248, 'catalana': 6249, 'cheddar': 6250, 'encountered': 6251, 'neighboorhood': 6252, 'anthipathy': 6253, 'yea': 6254, 'curb': 6255, 'mondays': 6256, 'fajita': 6257, 'afraid': 6258, 'investigate': 6259, 'sans': 6260, 'conditioned': 6261, 'grew': 6262, 'warn': 6263, 'saves': 6264, 'uncork': 6265, 'inconspicuous': 6266, 'bottino': 6267, 'gallery': 6268, 'chelsea': 6269}\n"
          ]
        }
      ]
    },
    {
      "cell_type": "code",
      "source": [
        "len(word_index)"
      ],
      "metadata": {
        "colab": {
          "base_uri": "https://localhost:8080/"
        },
        "id": "_ts9HSGGNwGR",
        "outputId": "70a66916-ea75-4f49-f6cc-39f1206c0edd"
      },
      "execution_count": 46,
      "outputs": [
        {
          "output_type": "execute_result",
          "data": {
            "text/plain": [
              "6269"
            ]
          },
          "metadata": {},
          "execution_count": 46
        }
      ]
    },
    {
      "cell_type": "code",
      "source": [
        "print(x_train.shape)"
      ],
      "metadata": {
        "colab": {
          "base_uri": "https://localhost:8080/"
        },
        "id": "dCLOJE0R9U6U",
        "outputId": "e41fdf1d-a493-43df-90df-2e83f50d1248"
      },
      "execution_count": 47,
      "outputs": [
        {
          "output_type": "stream",
          "name": "stdout",
          "text": [
            "(2820, 50)\n"
          ]
        }
      ]
    },
    {
      "cell_type": "code",
      "source": [
        "!unzip \"/content/gdrive/MyDrive/glove.42B.300d.zip\" -d \"/content\""
      ],
      "metadata": {
        "colab": {
          "base_uri": "https://localhost:8080/"
        },
        "id": "FMP4Tx-XdvD4",
        "outputId": "97630a4a-11e8-475c-cb41-41c0b3d25be3"
      },
      "execution_count": 48,
      "outputs": [
        {
          "output_type": "stream",
          "name": "stdout",
          "text": [
            "Archive:  /content/gdrive/MyDrive/glove.42B.300d.zip\n",
            "  inflating: /content/glove.42B.300d.txt  \n"
          ]
        }
      ]
    },
    {
      "cell_type": "code",
      "source": [
        "glove_file = \"glove.42B.300d.txt\"\n",
        "import tqdm\n",
        "\n",
        "EMBEDDING_VECTOR_LENGTH = 200 # <=200\n",
        "def construct_embedding_matrix(glove_file, word_index):\n",
        "    embedding_dict = {}\n",
        "    with open(glove_file,'r') as f:\n",
        "        for line in f:\n",
        "            values=line.split()\n",
        "            # get the word\n",
        "            word=values[0]\n",
        "            if word in word_index.keys():\n",
        "                # get the vector\n",
        "                vector = np.asarray(values[1:], 'float32')\n",
        "                embedding_dict[word] = vector\n",
        "    ###  oov words (out of vacabulary words) will be mapped to 0 vectors\n",
        "\n",
        "    num_words=len(word_index)+1\n",
        "    #initialize it to 0\n",
        "    embedding_matrix=np.zeros((num_words, EMBEDDING_VECTOR_LENGTH))\n",
        "\n",
        "    for word,i in tqdm.tqdm(word_index.items()):\n",
        "        if i < num_words:\n",
        "            vect=embedding_dict.get(word, [])\n",
        "            if len(vect)>0:\n",
        "                embedding_matrix[i] = vect[:EMBEDDING_VECTOR_LENGTH]\n",
        "    return embedding_matrix\n",
        "  \n",
        "embedding_matrix =  construct_embedding_matrix(glove_file, word_index)"
      ],
      "metadata": {
        "colab": {
          "base_uri": "https://localhost:8080/"
        },
        "id": "ol5qYhC3fRZg",
        "outputId": "f282d8a6-012d-4dd4-f5b6-620eb5316097"
      },
      "execution_count": 49,
      "outputs": [
        {
          "output_type": "stream",
          "name": "stderr",
          "text": [
            "100%|██████████| 6269/6269 [00:00<00:00, 315651.57it/s]\n"
          ]
        }
      ]
    },
    {
      "cell_type": "code",
      "source": [
        "embedding_matrix.shape"
      ],
      "metadata": {
        "colab": {
          "base_uri": "https://localhost:8080/"
        },
        "id": "qNXhnuTmpUc8",
        "outputId": "b5ac6116-f38a-4518-e331-7445ce884ef9"
      },
      "execution_count": 50,
      "outputs": [
        {
          "output_type": "execute_result",
          "data": {
            "text/plain": [
              "(6270, 200)"
            ]
          },
          "metadata": {},
          "execution_count": 50
        }
      ]
    },
    {
      "cell_type": "code",
      "source": [
        "def LSTM_Model(embedding_matrix):\n",
        "  model = models.Sequential()\n",
        "  model.add(Embedding(len(word_index) + 1,\n",
        "                            EMBEDDING_VECTOR_LENGTH,\n",
        "                            weights=[embedding_matrix],\n",
        "                            input_length=50,\n",
        "                            trainable=False))\n",
        "  model.add(SpatialDropout1D(0.4))\n",
        "  model.add(CuDNNLSTM(176, return_sequences=True))\n",
        "  model.add(Dropout(0.8))\n",
        "  model.add(CuDNNLSTM(64, return_sequences=True))\n",
        "  model.add(Dropout(0.8))\n",
        "  model.add(CuDNNLSTM(32))\n",
        "  model.add(Dense(11,activation='sigmoid'))\n",
        "  return model"
      ],
      "metadata": {
        "id": "tTLIv7oYiDIg"
      },
      "execution_count": 53,
      "outputs": []
    },
    {
      "cell_type": "code",
      "source": [
        "model = LSTM_Model(embedding_matrix)\n",
        "model.summary()\n",
        "model.compile(loss='binary_crossentropy', optimizer='adam', metrics = ['accuracy'])"
      ],
      "metadata": {
        "colab": {
          "base_uri": "https://localhost:8080/"
        },
        "id": "afeLtasFjRJE",
        "outputId": "36aecc4e-45f8-40c6-9a0b-c7c91136d0cf"
      },
      "execution_count": 54,
      "outputs": [
        {
          "output_type": "stream",
          "name": "stdout",
          "text": [
            "Model: \"sequential\"\n",
            "_________________________________________________________________\n",
            " Layer (type)                Output Shape              Param #   \n",
            "=================================================================\n",
            " embedding (Embedding)       (None, 50, 200)           1254000   \n",
            "                                                                 \n",
            " spatial_dropout1d (SpatialD  (None, 50, 200)          0         \n",
            " ropout1D)                                                       \n",
            "                                                                 \n",
            " cu_dnnlstm (CuDNNLSTM)      (None, 50, 176)           266112    \n",
            "                                                                 \n",
            " dropout (Dropout)           (None, 50, 176)           0         \n",
            "                                                                 \n",
            " cu_dnnlstm_1 (CuDNNLSTM)    (None, 50, 64)            61952     \n",
            "                                                                 \n",
            " dropout_1 (Dropout)         (None, 50, 64)            0         \n",
            "                                                                 \n",
            " cu_dnnlstm_2 (CuDNNLSTM)    (None, 32)                12544     \n",
            "                                                                 \n",
            " dense (Dense)               (None, 11)                363       \n",
            "                                                                 \n",
            "=================================================================\n",
            "Total params: 1,594,971\n",
            "Trainable params: 340,971\n",
            "Non-trainable params: 1,254,000\n",
            "_________________________________________________________________\n"
          ]
        }
      ]
    },
    {
      "cell_type": "code",
      "source": [
        "callbacks = [EarlyStopping(monitor='val_loss', patience=5)]\n",
        "history = model.fit(x_train, train_label,\n",
        "            epochs=200,\n",
        "            #callbacks = callbacks,\n",
        "            validation_data=(x_val, valid_label),\n",
        "            verbose=2,\n",
        "            batch_size=64)"
      ],
      "metadata": {
        "colab": {
          "base_uri": "https://localhost:8080/"
        },
        "id": "bsZpEfnVjYv8",
        "outputId": "fc89edb0-7ccb-452f-b04c-4c2d088bfe58"
      },
      "execution_count": 55,
      "outputs": [
        {
          "output_type": "stream",
          "name": "stdout",
          "text": [
            "Epoch 1/200\n",
            "45/45 - 7s - loss: 0.4995 - accuracy: 0.0688 - val_loss: 0.4116 - val_accuracy: 0.0000e+00 - 7s/epoch - 156ms/step\n",
            "Epoch 2/200\n",
            "45/45 - 2s - loss: 0.4163 - accuracy: 0.0050 - val_loss: 0.4094 - val_accuracy: 0.0000e+00 - 2s/epoch - 46ms/step\n",
            "Epoch 3/200\n",
            "45/45 - 2s - loss: 0.4148 - accuracy: 0.0053 - val_loss: 0.4096 - val_accuracy: 0.0000e+00 - 2s/epoch - 46ms/step\n",
            "Epoch 4/200\n",
            "45/45 - 2s - loss: 0.4150 - accuracy: 0.0018 - val_loss: 0.4094 - val_accuracy: 0.0000e+00 - 2s/epoch - 44ms/step\n",
            "Epoch 5/200\n",
            "45/45 - 2s - loss: 0.4149 - accuracy: 0.0000e+00 - val_loss: 0.4089 - val_accuracy: 0.0000e+00 - 2s/epoch - 44ms/step\n",
            "Epoch 6/200\n",
            "45/45 - 2s - loss: 0.4141 - accuracy: 0.0000e+00 - val_loss: 0.4082 - val_accuracy: 0.0000e+00 - 2s/epoch - 44ms/step\n",
            "Epoch 7/200\n",
            "45/45 - 2s - loss: 0.4120 - accuracy: 0.0131 - val_loss: 0.4066 - val_accuracy: 0.0000e+00 - 2s/epoch - 44ms/step\n",
            "Epoch 8/200\n",
            "45/45 - 2s - loss: 0.4089 - accuracy: 0.0507 - val_loss: 0.4045 - val_accuracy: 0.0000e+00 - 2s/epoch - 44ms/step\n",
            "Epoch 9/200\n",
            "45/45 - 2s - loss: 0.4043 - accuracy: 0.0780 - val_loss: 0.4002 - val_accuracy: 0.0159 - 2s/epoch - 44ms/step\n",
            "Epoch 10/200\n",
            "45/45 - 2s - loss: 0.3989 - accuracy: 0.0933 - val_loss: 0.3849 - val_accuracy: 0.1306 - 2s/epoch - 45ms/step\n",
            "Epoch 11/200\n",
            "45/45 - 2s - loss: 0.3905 - accuracy: 0.1511 - val_loss: 0.3777 - val_accuracy: 0.1592 - 2s/epoch - 44ms/step\n",
            "Epoch 12/200\n",
            "45/45 - 2s - loss: 0.3823 - accuracy: 0.1199 - val_loss: 0.3738 - val_accuracy: 0.0924 - 2s/epoch - 44ms/step\n",
            "Epoch 13/200\n",
            "45/45 - 2s - loss: 0.3690 - accuracy: 0.1411 - val_loss: 0.3597 - val_accuracy: 0.1561 - 2s/epoch - 45ms/step\n",
            "Epoch 14/200\n",
            "45/45 - 2s - loss: 0.3566 - accuracy: 0.1326 - val_loss: 0.3517 - val_accuracy: 0.1624 - 2s/epoch - 44ms/step\n",
            "Epoch 15/200\n",
            "45/45 - 2s - loss: 0.3517 - accuracy: 0.1418 - val_loss: 0.3442 - val_accuracy: 0.1783 - 2s/epoch - 45ms/step\n",
            "Epoch 16/200\n",
            "45/45 - 2s - loss: 0.3414 - accuracy: 0.1546 - val_loss: 0.3446 - val_accuracy: 0.1465 - 2s/epoch - 45ms/step\n",
            "Epoch 17/200\n",
            "45/45 - 2s - loss: 0.3390 - accuracy: 0.1518 - val_loss: 0.3364 - val_accuracy: 0.1529 - 2s/epoch - 45ms/step\n",
            "Epoch 18/200\n",
            "45/45 - 2s - loss: 0.3345 - accuracy: 0.1720 - val_loss: 0.3247 - val_accuracy: 0.1401 - 2s/epoch - 44ms/step\n",
            "Epoch 19/200\n",
            "45/45 - 2s - loss: 0.3226 - accuracy: 0.1752 - val_loss: 0.3244 - val_accuracy: 0.1529 - 2s/epoch - 44ms/step\n",
            "Epoch 20/200\n",
            "45/45 - 2s - loss: 0.3180 - accuracy: 0.1887 - val_loss: 0.3226 - val_accuracy: 0.1656 - 2s/epoch - 45ms/step\n",
            "Epoch 21/200\n",
            "45/45 - 2s - loss: 0.3095 - accuracy: 0.1957 - val_loss: 0.3191 - val_accuracy: 0.2038 - 2s/epoch - 44ms/step\n",
            "Epoch 22/200\n",
            "45/45 - 2s - loss: 0.3035 - accuracy: 0.1830 - val_loss: 0.3121 - val_accuracy: 0.2102 - 2s/epoch - 44ms/step\n",
            "Epoch 23/200\n",
            "45/45 - 2s - loss: 0.3008 - accuracy: 0.2344 - val_loss: 0.3076 - val_accuracy: 0.2707 - 2s/epoch - 44ms/step\n",
            "Epoch 24/200\n",
            "45/45 - 2s - loss: 0.2979 - accuracy: 0.2472 - val_loss: 0.3127 - val_accuracy: 0.2675 - 2s/epoch - 44ms/step\n",
            "Epoch 25/200\n",
            "45/45 - 2s - loss: 0.2931 - accuracy: 0.2387 - val_loss: 0.3051 - val_accuracy: 0.2930 - 2s/epoch - 44ms/step\n",
            "Epoch 26/200\n",
            "45/45 - 2s - loss: 0.2849 - accuracy: 0.2674 - val_loss: 0.3130 - val_accuracy: 0.2866 - 2s/epoch - 44ms/step\n",
            "Epoch 27/200\n",
            "45/45 - 2s - loss: 0.2808 - accuracy: 0.2660 - val_loss: 0.3096 - val_accuracy: 0.3057 - 2s/epoch - 44ms/step\n",
            "Epoch 28/200\n",
            "45/45 - 2s - loss: 0.2863 - accuracy: 0.2979 - val_loss: 0.3103 - val_accuracy: 0.2866 - 2s/epoch - 44ms/step\n",
            "Epoch 29/200\n",
            "45/45 - 2s - loss: 0.2772 - accuracy: 0.3035 - val_loss: 0.3020 - val_accuracy: 0.3312 - 2s/epoch - 44ms/step\n",
            "Epoch 30/200\n",
            "45/45 - 2s - loss: 0.2708 - accuracy: 0.3252 - val_loss: 0.3059 - val_accuracy: 0.3025 - 2s/epoch - 44ms/step\n",
            "Epoch 31/200\n",
            "45/45 - 2s - loss: 0.2680 - accuracy: 0.3294 - val_loss: 0.2979 - val_accuracy: 0.3408 - 2s/epoch - 44ms/step\n",
            "Epoch 32/200\n",
            "45/45 - 2s - loss: 0.2663 - accuracy: 0.3259 - val_loss: 0.3167 - val_accuracy: 0.3057 - 2s/epoch - 44ms/step\n",
            "Epoch 33/200\n",
            "45/45 - 2s - loss: 0.2584 - accuracy: 0.3351 - val_loss: 0.3121 - val_accuracy: 0.3025 - 2s/epoch - 44ms/step\n",
            "Epoch 34/200\n",
            "45/45 - 2s - loss: 0.2560 - accuracy: 0.3383 - val_loss: 0.3041 - val_accuracy: 0.3153 - 2s/epoch - 46ms/step\n",
            "Epoch 35/200\n",
            "45/45 - 2s - loss: 0.2505 - accuracy: 0.3415 - val_loss: 0.3027 - val_accuracy: 0.3185 - 2s/epoch - 45ms/step\n",
            "Epoch 36/200\n",
            "45/45 - 2s - loss: 0.2483 - accuracy: 0.3472 - val_loss: 0.3079 - val_accuracy: 0.3344 - 2s/epoch - 44ms/step\n",
            "Epoch 37/200\n",
            "45/45 - 2s - loss: 0.2431 - accuracy: 0.3518 - val_loss: 0.2980 - val_accuracy: 0.3280 - 2s/epoch - 44ms/step\n",
            "Epoch 38/200\n",
            "45/45 - 2s - loss: 0.2425 - accuracy: 0.3755 - val_loss: 0.2976 - val_accuracy: 0.3376 - 2s/epoch - 44ms/step\n",
            "Epoch 39/200\n",
            "45/45 - 2s - loss: 0.2391 - accuracy: 0.3738 - val_loss: 0.3051 - val_accuracy: 0.3185 - 2s/epoch - 44ms/step\n",
            "Epoch 40/200\n",
            "45/45 - 2s - loss: 0.2389 - accuracy: 0.3699 - val_loss: 0.3090 - val_accuracy: 0.3217 - 2s/epoch - 44ms/step\n",
            "Epoch 41/200\n",
            "45/45 - 2s - loss: 0.2380 - accuracy: 0.3738 - val_loss: 0.2994 - val_accuracy: 0.3631 - 2s/epoch - 46ms/step\n",
            "Epoch 42/200\n",
            "45/45 - 2s - loss: 0.2280 - accuracy: 0.3784 - val_loss: 0.3003 - val_accuracy: 0.3217 - 2s/epoch - 45ms/step\n",
            "Epoch 43/200\n",
            "45/45 - 2s - loss: 0.2294 - accuracy: 0.3840 - val_loss: 0.3065 - val_accuracy: 0.3567 - 2s/epoch - 45ms/step\n",
            "Epoch 44/200\n",
            "45/45 - 2s - loss: 0.2233 - accuracy: 0.3872 - val_loss: 0.2985 - val_accuracy: 0.3503 - 2s/epoch - 46ms/step\n",
            "Epoch 45/200\n",
            "45/45 - 2s - loss: 0.2214 - accuracy: 0.3965 - val_loss: 0.3014 - val_accuracy: 0.3885 - 2s/epoch - 44ms/step\n",
            "Epoch 46/200\n",
            "45/45 - 2s - loss: 0.2172 - accuracy: 0.4082 - val_loss: 0.3223 - val_accuracy: 0.3471 - 2s/epoch - 44ms/step\n",
            "Epoch 47/200\n",
            "45/45 - 2s - loss: 0.2158 - accuracy: 0.3933 - val_loss: 0.3157 - val_accuracy: 0.3248 - 2s/epoch - 45ms/step\n",
            "Epoch 48/200\n",
            "45/45 - 2s - loss: 0.2203 - accuracy: 0.3585 - val_loss: 0.3119 - val_accuracy: 0.3344 - 2s/epoch - 45ms/step\n",
            "Epoch 49/200\n",
            "45/45 - 2s - loss: 0.2123 - accuracy: 0.3904 - val_loss: 0.3161 - val_accuracy: 0.3439 - 2s/epoch - 45ms/step\n",
            "Epoch 50/200\n",
            "45/45 - 2s - loss: 0.2139 - accuracy: 0.3922 - val_loss: 0.3088 - val_accuracy: 0.3822 - 2s/epoch - 45ms/step\n",
            "Epoch 51/200\n",
            "45/45 - 2s - loss: 0.2069 - accuracy: 0.4018 - val_loss: 0.3076 - val_accuracy: 0.3662 - 2s/epoch - 45ms/step\n",
            "Epoch 52/200\n",
            "45/45 - 2s - loss: 0.2031 - accuracy: 0.3872 - val_loss: 0.3162 - val_accuracy: 0.3248 - 2s/epoch - 45ms/step\n",
            "Epoch 53/200\n",
            "45/45 - 2s - loss: 0.2072 - accuracy: 0.4021 - val_loss: 0.3134 - val_accuracy: 0.3599 - 2s/epoch - 45ms/step\n",
            "Epoch 54/200\n",
            "45/45 - 2s - loss: 0.2014 - accuracy: 0.4071 - val_loss: 0.3065 - val_accuracy: 0.3694 - 2s/epoch - 44ms/step\n",
            "Epoch 55/200\n",
            "45/45 - 2s - loss: 0.1966 - accuracy: 0.3989 - val_loss: 0.3066 - val_accuracy: 0.4299 - 2s/epoch - 45ms/step\n",
            "Epoch 56/200\n",
            "45/45 - 2s - loss: 0.2023 - accuracy: 0.4496 - val_loss: 0.3108 - val_accuracy: 0.4076 - 2s/epoch - 45ms/step\n",
            "Epoch 57/200\n",
            "45/45 - 2s - loss: 0.1925 - accuracy: 0.4255 - val_loss: 0.3198 - val_accuracy: 0.4140 - 2s/epoch - 45ms/step\n",
            "Epoch 58/200\n",
            "45/45 - 2s - loss: 0.1901 - accuracy: 0.4202 - val_loss: 0.3216 - val_accuracy: 0.4236 - 2s/epoch - 45ms/step\n",
            "Epoch 59/200\n",
            "45/45 - 2s - loss: 0.1893 - accuracy: 0.4376 - val_loss: 0.3251 - val_accuracy: 0.4490 - 2s/epoch - 44ms/step\n",
            "Epoch 60/200\n",
            "45/45 - 2s - loss: 0.1846 - accuracy: 0.4369 - val_loss: 0.3393 - val_accuracy: 0.4490 - 2s/epoch - 44ms/step\n",
            "Epoch 61/200\n",
            "45/45 - 2s - loss: 0.1878 - accuracy: 0.4199 - val_loss: 0.3319 - val_accuracy: 0.4013 - 2s/epoch - 45ms/step\n",
            "Epoch 62/200\n",
            "45/45 - 2s - loss: 0.1813 - accuracy: 0.4252 - val_loss: 0.3389 - val_accuracy: 0.4045 - 2s/epoch - 45ms/step\n",
            "Epoch 63/200\n",
            "45/45 - 2s - loss: 0.1802 - accuracy: 0.4245 - val_loss: 0.3274 - val_accuracy: 0.3854 - 2s/epoch - 45ms/step\n",
            "Epoch 64/200\n",
            "45/45 - 2s - loss: 0.1784 - accuracy: 0.4287 - val_loss: 0.3357 - val_accuracy: 0.4522 - 2s/epoch - 45ms/step\n",
            "Epoch 65/200\n",
            "45/45 - 2s - loss: 0.1753 - accuracy: 0.4557 - val_loss: 0.3335 - val_accuracy: 0.4841 - 2s/epoch - 45ms/step\n",
            "Epoch 66/200\n",
            "45/45 - 2s - loss: 0.1713 - accuracy: 0.4496 - val_loss: 0.3344 - val_accuracy: 0.4459 - 2s/epoch - 45ms/step\n",
            "Epoch 67/200\n",
            "45/45 - 2s - loss: 0.1730 - accuracy: 0.4638 - val_loss: 0.3268 - val_accuracy: 0.4618 - 2s/epoch - 45ms/step\n",
            "Epoch 68/200\n",
            "45/45 - 2s - loss: 0.1674 - accuracy: 0.4489 - val_loss: 0.3245 - val_accuracy: 0.4841 - 2s/epoch - 45ms/step\n",
            "Epoch 69/200\n",
            "45/45 - 2s - loss: 0.1686 - accuracy: 0.4752 - val_loss: 0.3431 - val_accuracy: 0.4713 - 2s/epoch - 45ms/step\n",
            "Epoch 70/200\n",
            "45/45 - 2s - loss: 0.1664 - accuracy: 0.4493 - val_loss: 0.3339 - val_accuracy: 0.4522 - 2s/epoch - 45ms/step\n",
            "Epoch 71/200\n",
            "45/45 - 2s - loss: 0.1636 - accuracy: 0.4504 - val_loss: 0.3293 - val_accuracy: 0.4873 - 2s/epoch - 44ms/step\n",
            "Epoch 72/200\n",
            "45/45 - 2s - loss: 0.1610 - accuracy: 0.4589 - val_loss: 0.3414 - val_accuracy: 0.4427 - 2s/epoch - 45ms/step\n",
            "Epoch 73/200\n",
            "45/45 - 2s - loss: 0.1651 - accuracy: 0.4791 - val_loss: 0.3366 - val_accuracy: 0.4236 - 2s/epoch - 46ms/step\n",
            "Epoch 74/200\n",
            "45/45 - 2s - loss: 0.1628 - accuracy: 0.4447 - val_loss: 0.3412 - val_accuracy: 0.4586 - 2s/epoch - 44ms/step\n",
            "Epoch 75/200\n",
            "45/45 - 2s - loss: 0.1555 - accuracy: 0.4652 - val_loss: 0.3482 - val_accuracy: 0.4204 - 2s/epoch - 44ms/step\n",
            "Epoch 76/200\n",
            "45/45 - 2s - loss: 0.1531 - accuracy: 0.4560 - val_loss: 0.3404 - val_accuracy: 0.4331 - 2s/epoch - 45ms/step\n",
            "Epoch 77/200\n",
            "45/45 - 2s - loss: 0.1528 - accuracy: 0.4553 - val_loss: 0.3370 - val_accuracy: 0.4522 - 2s/epoch - 45ms/step\n",
            "Epoch 78/200\n",
            "45/45 - 2s - loss: 0.1510 - accuracy: 0.4755 - val_loss: 0.3706 - val_accuracy: 0.4268 - 2s/epoch - 45ms/step\n",
            "Epoch 79/200\n",
            "45/45 - 2s - loss: 0.1514 - accuracy: 0.4730 - val_loss: 0.3408 - val_accuracy: 0.4395 - 2s/epoch - 45ms/step\n",
            "Epoch 80/200\n",
            "45/45 - 2s - loss: 0.1489 - accuracy: 0.4723 - val_loss: 0.3379 - val_accuracy: 0.4395 - 2s/epoch - 46ms/step\n",
            "Epoch 81/200\n",
            "45/45 - 2s - loss: 0.1451 - accuracy: 0.4755 - val_loss: 0.3399 - val_accuracy: 0.4586 - 2s/epoch - 44ms/step\n",
            "Epoch 82/200\n",
            "45/45 - 2s - loss: 0.1454 - accuracy: 0.4599 - val_loss: 0.3416 - val_accuracy: 0.4650 - 2s/epoch - 44ms/step\n",
            "Epoch 83/200\n",
            "45/45 - 2s - loss: 0.1514 - accuracy: 0.5004 - val_loss: 0.3506 - val_accuracy: 0.4586 - 2s/epoch - 44ms/step\n",
            "Epoch 84/200\n",
            "45/45 - 2s - loss: 0.1437 - accuracy: 0.4837 - val_loss: 0.3521 - val_accuracy: 0.4618 - 2s/epoch - 44ms/step\n",
            "Epoch 85/200\n",
            "45/45 - 2s - loss: 0.1406 - accuracy: 0.4777 - val_loss: 0.3482 - val_accuracy: 0.4554 - 2s/epoch - 44ms/step\n",
            "Epoch 86/200\n",
            "45/45 - 2s - loss: 0.1378 - accuracy: 0.4691 - val_loss: 0.3416 - val_accuracy: 0.4522 - 2s/epoch - 44ms/step\n",
            "Epoch 87/200\n",
            "45/45 - 2s - loss: 0.1403 - accuracy: 0.4784 - val_loss: 0.3440 - val_accuracy: 0.4490 - 2s/epoch - 46ms/step\n",
            "Epoch 88/200\n",
            "45/45 - 2s - loss: 0.1407 - accuracy: 0.4865 - val_loss: 0.3741 - val_accuracy: 0.4490 - 2s/epoch - 44ms/step\n",
            "Epoch 89/200\n",
            "45/45 - 2s - loss: 0.1376 - accuracy: 0.4479 - val_loss: 0.3575 - val_accuracy: 0.4682 - 2s/epoch - 44ms/step\n",
            "Epoch 90/200\n",
            "45/45 - 2s - loss: 0.1310 - accuracy: 0.4865 - val_loss: 0.3640 - val_accuracy: 0.4809 - 2s/epoch - 44ms/step\n",
            "Epoch 91/200\n",
            "45/45 - 2s - loss: 0.1314 - accuracy: 0.4691 - val_loss: 0.3724 - val_accuracy: 0.4331 - 2s/epoch - 46ms/step\n",
            "Epoch 92/200\n",
            "45/45 - 2s - loss: 0.1279 - accuracy: 0.4645 - val_loss: 0.3610 - val_accuracy: 0.4363 - 2s/epoch - 44ms/step\n",
            "Epoch 93/200\n",
            "45/45 - 2s - loss: 0.1279 - accuracy: 0.4755 - val_loss: 0.3588 - val_accuracy: 0.4650 - 2s/epoch - 46ms/step\n",
            "Epoch 94/200\n",
            "45/45 - 2s - loss: 0.1264 - accuracy: 0.4408 - val_loss: 0.3715 - val_accuracy: 0.4809 - 2s/epoch - 45ms/step\n",
            "Epoch 95/200\n",
            "45/45 - 2s - loss: 0.1543 - accuracy: 0.4191 - val_loss: 0.3695 - val_accuracy: 0.4395 - 2s/epoch - 44ms/step\n",
            "Epoch 96/200\n",
            "45/45 - 2s - loss: 0.1338 - accuracy: 0.4450 - val_loss: 0.3808 - val_accuracy: 0.4427 - 2s/epoch - 45ms/step\n",
            "Epoch 97/200\n",
            "45/45 - 2s - loss: 0.1295 - accuracy: 0.4635 - val_loss: 0.3672 - val_accuracy: 0.4459 - 2s/epoch - 45ms/step\n",
            "Epoch 98/200\n",
            "45/45 - 2s - loss: 0.1242 - accuracy: 0.4773 - val_loss: 0.3616 - val_accuracy: 0.4650 - 2s/epoch - 46ms/step\n",
            "Epoch 99/200\n",
            "45/45 - 2s - loss: 0.1254 - accuracy: 0.4766 - val_loss: 0.3554 - val_accuracy: 0.4395 - 2s/epoch - 47ms/step\n",
            "Epoch 100/200\n",
            "45/45 - 2s - loss: 0.1256 - accuracy: 0.4489 - val_loss: 0.3743 - val_accuracy: 0.4427 - 2s/epoch - 46ms/step\n",
            "Epoch 101/200\n",
            "45/45 - 2s - loss: 0.1243 - accuracy: 0.4333 - val_loss: 0.3647 - val_accuracy: 0.4076 - 2s/epoch - 45ms/step\n",
            "Epoch 102/200\n",
            "45/45 - 2s - loss: 0.1177 - accuracy: 0.4571 - val_loss: 0.3677 - val_accuracy: 0.4522 - 2s/epoch - 44ms/step\n",
            "Epoch 103/200\n",
            "45/45 - 2s - loss: 0.1206 - accuracy: 0.4610 - val_loss: 0.3578 - val_accuracy: 0.4459 - 2s/epoch - 45ms/step\n",
            "Epoch 104/200\n",
            "45/45 - 2s - loss: 0.1264 - accuracy: 0.4567 - val_loss: 0.3781 - val_accuracy: 0.4713 - 2s/epoch - 46ms/step\n",
            "Epoch 105/200\n",
            "45/45 - 2s - loss: 0.1211 - accuracy: 0.4734 - val_loss: 0.3762 - val_accuracy: 0.3981 - 2s/epoch - 45ms/step\n",
            "Epoch 106/200\n",
            "45/45 - 2s - loss: 0.1186 - accuracy: 0.4684 - val_loss: 0.3734 - val_accuracy: 0.3949 - 2s/epoch - 46ms/step\n",
            "Epoch 107/200\n",
            "45/45 - 2s - loss: 0.1162 - accuracy: 0.4472 - val_loss: 0.3761 - val_accuracy: 0.4554 - 2s/epoch - 45ms/step\n",
            "Epoch 108/200\n",
            "45/45 - 2s - loss: 0.1135 - accuracy: 0.4518 - val_loss: 0.3541 - val_accuracy: 0.4363 - 2s/epoch - 44ms/step\n",
            "Epoch 109/200\n",
            "45/45 - 2s - loss: 0.1150 - accuracy: 0.4365 - val_loss: 0.3728 - val_accuracy: 0.4490 - 2s/epoch - 44ms/step\n",
            "Epoch 110/200\n",
            "45/45 - 2s - loss: 0.1124 - accuracy: 0.4624 - val_loss: 0.3701 - val_accuracy: 0.4299 - 2s/epoch - 44ms/step\n",
            "Epoch 111/200\n",
            "45/45 - 2s - loss: 0.1057 - accuracy: 0.4550 - val_loss: 0.3710 - val_accuracy: 0.4172 - 2s/epoch - 45ms/step\n",
            "Epoch 112/200\n",
            "45/45 - 2s - loss: 0.1025 - accuracy: 0.4340 - val_loss: 0.3764 - val_accuracy: 0.4490 - 2s/epoch - 44ms/step\n",
            "Epoch 113/200\n",
            "45/45 - 2s - loss: 0.1020 - accuracy: 0.4408 - val_loss: 0.3823 - val_accuracy: 0.3917 - 2s/epoch - 44ms/step\n",
            "Epoch 114/200\n",
            "45/45 - 2s - loss: 0.1006 - accuracy: 0.4064 - val_loss: 0.3927 - val_accuracy: 0.4204 - 2s/epoch - 44ms/step\n",
            "Epoch 115/200\n",
            "45/45 - 2s - loss: 0.1006 - accuracy: 0.4479 - val_loss: 0.4054 - val_accuracy: 0.4140 - 2s/epoch - 45ms/step\n",
            "Epoch 116/200\n",
            "45/45 - 2s - loss: 0.0973 - accuracy: 0.4202 - val_loss: 0.4135 - val_accuracy: 0.4108 - 2s/epoch - 46ms/step\n",
            "Epoch 117/200\n",
            "45/45 - 2s - loss: 0.1005 - accuracy: 0.4181 - val_loss: 0.4084 - val_accuracy: 0.4172 - 2s/epoch - 46ms/step\n",
            "Epoch 118/200\n",
            "45/45 - 2s - loss: 0.0992 - accuracy: 0.4319 - val_loss: 0.3867 - val_accuracy: 0.4236 - 2s/epoch - 44ms/step\n",
            "Epoch 119/200\n",
            "45/45 - 2s - loss: 0.0889 - accuracy: 0.4401 - val_loss: 0.3795 - val_accuracy: 0.3408 - 2s/epoch - 44ms/step\n",
            "Epoch 120/200\n",
            "45/45 - 2s - loss: 0.0942 - accuracy: 0.3982 - val_loss: 0.4045 - val_accuracy: 0.3599 - 2s/epoch - 44ms/step\n",
            "Epoch 121/200\n",
            "45/45 - 2s - loss: 0.0954 - accuracy: 0.4128 - val_loss: 0.3989 - val_accuracy: 0.3631 - 2s/epoch - 44ms/step\n",
            "Epoch 122/200\n",
            "45/45 - 2s - loss: 0.0908 - accuracy: 0.4355 - val_loss: 0.4192 - val_accuracy: 0.4299 - 2s/epoch - 45ms/step\n",
            "Epoch 123/200\n",
            "45/45 - 2s - loss: 0.0897 - accuracy: 0.4216 - val_loss: 0.4151 - val_accuracy: 0.3248 - 2s/epoch - 44ms/step\n",
            "Epoch 124/200\n",
            "45/45 - 2s - loss: 0.0948 - accuracy: 0.4191 - val_loss: 0.4119 - val_accuracy: 0.3631 - 2s/epoch - 44ms/step\n",
            "Epoch 125/200\n",
            "45/45 - 2s - loss: 0.0896 - accuracy: 0.4096 - val_loss: 0.3946 - val_accuracy: 0.3248 - 2s/epoch - 44ms/step\n",
            "Epoch 126/200\n",
            "45/45 - 2s - loss: 0.0858 - accuracy: 0.4163 - val_loss: 0.4065 - val_accuracy: 0.3726 - 2s/epoch - 45ms/step\n",
            "Epoch 127/200\n",
            "45/45 - 2s - loss: 0.1036 - accuracy: 0.4610 - val_loss: 0.4162 - val_accuracy: 0.3631 - 2s/epoch - 44ms/step\n",
            "Epoch 128/200\n",
            "45/45 - 2s - loss: 0.0923 - accuracy: 0.4092 - val_loss: 0.4133 - val_accuracy: 0.3312 - 2s/epoch - 44ms/step\n",
            "Epoch 129/200\n",
            "45/45 - 2s - loss: 0.0887 - accuracy: 0.3961 - val_loss: 0.4412 - val_accuracy: 0.3057 - 2s/epoch - 44ms/step\n",
            "Epoch 130/200\n",
            "45/45 - 2s - loss: 0.0889 - accuracy: 0.3833 - val_loss: 0.4201 - val_accuracy: 0.3822 - 2s/epoch - 44ms/step\n",
            "Epoch 131/200\n",
            "45/45 - 2s - loss: 0.0880 - accuracy: 0.4007 - val_loss: 0.4296 - val_accuracy: 0.3439 - 2s/epoch - 44ms/step\n",
            "Epoch 132/200\n",
            "45/45 - 2s - loss: 0.0920 - accuracy: 0.4039 - val_loss: 0.4309 - val_accuracy: 0.3503 - 2s/epoch - 44ms/step\n",
            "Epoch 133/200\n",
            "45/45 - 2s - loss: 0.0862 - accuracy: 0.4230 - val_loss: 0.4518 - val_accuracy: 0.3185 - 2s/epoch - 44ms/step\n",
            "Epoch 134/200\n",
            "45/45 - 2s - loss: 0.0820 - accuracy: 0.3982 - val_loss: 0.4240 - val_accuracy: 0.3471 - 2s/epoch - 44ms/step\n",
            "Epoch 135/200\n",
            "45/45 - 2s - loss: 0.0807 - accuracy: 0.4167 - val_loss: 0.4542 - val_accuracy: 0.4204 - 2s/epoch - 44ms/step\n",
            "Epoch 136/200\n",
            "45/45 - 2s - loss: 0.0836 - accuracy: 0.4213 - val_loss: 0.4332 - val_accuracy: 0.3185 - 2s/epoch - 46ms/step\n",
            "Epoch 137/200\n",
            "45/45 - 2s - loss: 0.0814 - accuracy: 0.4135 - val_loss: 0.4263 - val_accuracy: 0.3567 - 2s/epoch - 44ms/step\n",
            "Epoch 138/200\n",
            "45/45 - 2s - loss: 0.0823 - accuracy: 0.4039 - val_loss: 0.4230 - val_accuracy: 0.3631 - 2s/epoch - 44ms/step\n",
            "Epoch 139/200\n",
            "45/45 - 2s - loss: 0.0839 - accuracy: 0.4454 - val_loss: 0.4389 - val_accuracy: 0.4363 - 2s/epoch - 44ms/step\n",
            "Epoch 140/200\n",
            "45/45 - 2s - loss: 0.0834 - accuracy: 0.4209 - val_loss: 0.4341 - val_accuracy: 0.4045 - 2s/epoch - 44ms/step\n",
            "Epoch 141/200\n",
            "45/45 - 2s - loss: 0.0774 - accuracy: 0.4170 - val_loss: 0.4382 - val_accuracy: 0.3408 - 2s/epoch - 44ms/step\n",
            "Epoch 142/200\n",
            "45/45 - 2s - loss: 0.0764 - accuracy: 0.4004 - val_loss: 0.4618 - val_accuracy: 0.3408 - 2s/epoch - 44ms/step\n",
            "Epoch 143/200\n",
            "45/45 - 2s - loss: 0.0750 - accuracy: 0.3996 - val_loss: 0.4316 - val_accuracy: 0.3662 - 2s/epoch - 44ms/step\n",
            "Epoch 144/200\n",
            "45/45 - 2s - loss: 0.0781 - accuracy: 0.4060 - val_loss: 0.4337 - val_accuracy: 0.3535 - 2s/epoch - 44ms/step\n",
            "Epoch 145/200\n",
            "45/45 - 2s - loss: 0.0775 - accuracy: 0.3840 - val_loss: 0.4288 - val_accuracy: 0.3057 - 2s/epoch - 44ms/step\n",
            "Epoch 146/200\n",
            "45/45 - 2s - loss: 0.0773 - accuracy: 0.3454 - val_loss: 0.4455 - val_accuracy: 0.3153 - 2s/epoch - 45ms/step\n",
            "Epoch 147/200\n",
            "45/45 - 2s - loss: 0.0763 - accuracy: 0.3840 - val_loss: 0.4431 - val_accuracy: 0.3217 - 2s/epoch - 44ms/step\n",
            "Epoch 148/200\n",
            "45/45 - 2s - loss: 0.0746 - accuracy: 0.4106 - val_loss: 0.4621 - val_accuracy: 0.3248 - 2s/epoch - 46ms/step\n",
            "Epoch 149/200\n",
            "45/45 - 2s - loss: 0.0796 - accuracy: 0.3794 - val_loss: 0.4637 - val_accuracy: 0.3121 - 2s/epoch - 44ms/step\n",
            "Epoch 150/200\n",
            "45/45 - 2s - loss: 0.0730 - accuracy: 0.4018 - val_loss: 0.4640 - val_accuracy: 0.3662 - 2s/epoch - 46ms/step\n",
            "Epoch 151/200\n",
            "45/45 - 2s - loss: 0.0703 - accuracy: 0.3996 - val_loss: 0.4403 - val_accuracy: 0.3408 - 2s/epoch - 45ms/step\n",
            "Epoch 152/200\n",
            "45/45 - 2s - loss: 0.0684 - accuracy: 0.3823 - val_loss: 0.4817 - val_accuracy: 0.3248 - 2s/epoch - 44ms/step\n",
            "Epoch 153/200\n",
            "45/45 - 2s - loss: 0.0700 - accuracy: 0.3702 - val_loss: 0.4699 - val_accuracy: 0.4140 - 2s/epoch - 46ms/step\n",
            "Epoch 154/200\n",
            "45/45 - 2s - loss: 0.0754 - accuracy: 0.4298 - val_loss: 0.4735 - val_accuracy: 0.3631 - 2s/epoch - 47ms/step\n",
            "Epoch 155/200\n",
            "45/45 - 2s - loss: 0.0785 - accuracy: 0.3986 - val_loss: 0.4608 - val_accuracy: 0.3535 - 2s/epoch - 48ms/step\n",
            "Epoch 156/200\n",
            "45/45 - 2s - loss: 0.0748 - accuracy: 0.3699 - val_loss: 0.4578 - val_accuracy: 0.3758 - 2s/epoch - 48ms/step\n",
            "Epoch 157/200\n",
            "45/45 - 2s - loss: 0.0695 - accuracy: 0.3723 - val_loss: 0.4670 - val_accuracy: 0.3471 - 2s/epoch - 47ms/step\n",
            "Epoch 158/200\n",
            "45/45 - 2s - loss: 0.0684 - accuracy: 0.3950 - val_loss: 0.4835 - val_accuracy: 0.3822 - 2s/epoch - 44ms/step\n",
            "Epoch 159/200\n",
            "45/45 - 2s - loss: 0.0715 - accuracy: 0.3894 - val_loss: 0.4831 - val_accuracy: 0.3758 - 2s/epoch - 44ms/step\n",
            "Epoch 160/200\n",
            "45/45 - 2s - loss: 0.0688 - accuracy: 0.4035 - val_loss: 0.4652 - val_accuracy: 0.3376 - 2s/epoch - 45ms/step\n",
            "Epoch 161/200\n",
            "45/45 - 2s - loss: 0.0669 - accuracy: 0.4110 - val_loss: 0.4964 - val_accuracy: 0.4172 - 2s/epoch - 44ms/step\n",
            "Epoch 162/200\n",
            "45/45 - 2s - loss: 0.0632 - accuracy: 0.3915 - val_loss: 0.4777 - val_accuracy: 0.3567 - 2s/epoch - 44ms/step\n",
            "Epoch 163/200\n",
            "45/45 - 2s - loss: 0.0625 - accuracy: 0.3766 - val_loss: 0.4914 - val_accuracy: 0.3344 - 2s/epoch - 44ms/step\n",
            "Epoch 164/200\n",
            "45/45 - 2s - loss: 0.0851 - accuracy: 0.4518 - val_loss: 0.4836 - val_accuracy: 0.3408 - 2s/epoch - 44ms/step\n",
            "Epoch 165/200\n",
            "45/45 - 2s - loss: 0.0742 - accuracy: 0.4195 - val_loss: 0.4581 - val_accuracy: 0.3408 - 2s/epoch - 44ms/step\n",
            "Epoch 166/200\n",
            "45/45 - 2s - loss: 0.0677 - accuracy: 0.3989 - val_loss: 0.4712 - val_accuracy: 0.3408 - 2s/epoch - 45ms/step\n",
            "Epoch 167/200\n",
            "45/45 - 2s - loss: 0.0680 - accuracy: 0.3950 - val_loss: 0.4790 - val_accuracy: 0.3312 - 2s/epoch - 44ms/step\n",
            "Epoch 168/200\n",
            "45/45 - 2s - loss: 0.0645 - accuracy: 0.3759 - val_loss: 0.4525 - val_accuracy: 0.3185 - 2s/epoch - 44ms/step\n",
            "Epoch 169/200\n",
            "45/45 - 2s - loss: 0.0610 - accuracy: 0.4145 - val_loss: 0.4668 - val_accuracy: 0.3089 - 2s/epoch - 44ms/step\n",
            "Epoch 170/200\n",
            "45/45 - 2s - loss: 0.0576 - accuracy: 0.4199 - val_loss: 0.4477 - val_accuracy: 0.4363 - 2s/epoch - 44ms/step\n",
            "Epoch 171/200\n",
            "45/45 - 2s - loss: 0.0591 - accuracy: 0.4408 - val_loss: 0.4622 - val_accuracy: 0.4299 - 2s/epoch - 44ms/step\n",
            "Epoch 172/200\n",
            "45/45 - 2s - loss: 0.0609 - accuracy: 0.4138 - val_loss: 0.4834 - val_accuracy: 0.3312 - 2s/epoch - 44ms/step\n",
            "Epoch 173/200\n",
            "45/45 - 2s - loss: 0.0693 - accuracy: 0.3968 - val_loss: 0.4850 - val_accuracy: 0.3280 - 2s/epoch - 44ms/step\n",
            "Epoch 174/200\n",
            "45/45 - 2s - loss: 0.0711 - accuracy: 0.3908 - val_loss: 0.4728 - val_accuracy: 0.3408 - 2s/epoch - 44ms/step\n",
            "Epoch 175/200\n",
            "45/45 - 2s - loss: 0.0645 - accuracy: 0.4053 - val_loss: 0.4646 - val_accuracy: 0.4204 - 2s/epoch - 44ms/step\n",
            "Epoch 176/200\n",
            "45/45 - 2s - loss: 0.0643 - accuracy: 0.4181 - val_loss: 0.4703 - val_accuracy: 0.3535 - 2s/epoch - 44ms/step\n",
            "Epoch 177/200\n",
            "45/45 - 2s - loss: 0.0612 - accuracy: 0.3784 - val_loss: 0.4917 - val_accuracy: 0.3535 - 2s/epoch - 45ms/step\n",
            "Epoch 178/200\n",
            "45/45 - 2s - loss: 0.0612 - accuracy: 0.3660 - val_loss: 0.4604 - val_accuracy: 0.3121 - 2s/epoch - 44ms/step\n",
            "Epoch 179/200\n",
            "45/45 - 2s - loss: 0.0584 - accuracy: 0.3851 - val_loss: 0.4707 - val_accuracy: 0.3471 - 2s/epoch - 44ms/step\n",
            "Epoch 180/200\n",
            "45/45 - 2s - loss: 0.0637 - accuracy: 0.4004 - val_loss: 0.4863 - val_accuracy: 0.4076 - 2s/epoch - 46ms/step\n",
            "Epoch 181/200\n",
            "45/45 - 2s - loss: 0.0594 - accuracy: 0.4270 - val_loss: 0.4920 - val_accuracy: 0.3758 - 2s/epoch - 44ms/step\n",
            "Epoch 182/200\n",
            "45/45 - 2s - loss: 0.0545 - accuracy: 0.3723 - val_loss: 0.4962 - val_accuracy: 0.3471 - 2s/epoch - 44ms/step\n",
            "Epoch 183/200\n",
            "45/45 - 2s - loss: 0.0590 - accuracy: 0.3830 - val_loss: 0.4874 - val_accuracy: 0.4299 - 2s/epoch - 44ms/step\n",
            "Epoch 184/200\n",
            "45/45 - 2s - loss: 0.0576 - accuracy: 0.4142 - val_loss: 0.4802 - val_accuracy: 0.4204 - 2s/epoch - 45ms/step\n",
            "Epoch 185/200\n",
            "45/45 - 2s - loss: 0.0562 - accuracy: 0.4156 - val_loss: 0.4777 - val_accuracy: 0.3758 - 2s/epoch - 44ms/step\n",
            "Epoch 186/200\n",
            "45/45 - 2s - loss: 0.0579 - accuracy: 0.3691 - val_loss: 0.4819 - val_accuracy: 0.3217 - 2s/epoch - 44ms/step\n",
            "Epoch 187/200\n",
            "45/45 - 2s - loss: 0.0556 - accuracy: 0.4000 - val_loss: 0.4929 - val_accuracy: 0.3153 - 2s/epoch - 46ms/step\n",
            "Epoch 188/200\n",
            "45/45 - 2s - loss: 0.0551 - accuracy: 0.3613 - val_loss: 0.5066 - val_accuracy: 0.3949 - 2s/epoch - 45ms/step\n",
            "Epoch 189/200\n",
            "45/45 - 2s - loss: 0.0552 - accuracy: 0.3876 - val_loss: 0.4899 - val_accuracy: 0.3599 - 2s/epoch - 44ms/step\n",
            "Epoch 190/200\n",
            "45/45 - 2s - loss: 0.0545 - accuracy: 0.3887 - val_loss: 0.4877 - val_accuracy: 0.3312 - 2s/epoch - 45ms/step\n",
            "Epoch 191/200\n",
            "45/45 - 2s - loss: 0.0581 - accuracy: 0.3929 - val_loss: 0.5268 - val_accuracy: 0.3153 - 2s/epoch - 45ms/step\n",
            "Epoch 192/200\n",
            "45/45 - 2s - loss: 0.0536 - accuracy: 0.3918 - val_loss: 0.5088 - val_accuracy: 0.3089 - 2s/epoch - 44ms/step\n",
            "Epoch 193/200\n",
            "45/45 - 2s - loss: 0.0544 - accuracy: 0.3738 - val_loss: 0.5264 - val_accuracy: 0.3503 - 2s/epoch - 44ms/step\n",
            "Epoch 194/200\n",
            "45/45 - 2s - loss: 0.0478 - accuracy: 0.3613 - val_loss: 0.5268 - val_accuracy: 0.3376 - 2s/epoch - 44ms/step\n",
            "Epoch 195/200\n",
            "45/45 - 2s - loss: 0.0534 - accuracy: 0.3738 - val_loss: 0.5210 - val_accuracy: 0.3280 - 2s/epoch - 46ms/step\n",
            "Epoch 196/200\n",
            "45/45 - 2s - loss: 0.0554 - accuracy: 0.3631 - val_loss: 0.5208 - val_accuracy: 0.3439 - 2s/epoch - 45ms/step\n",
            "Epoch 197/200\n",
            "45/45 - 2s - loss: 0.0513 - accuracy: 0.3578 - val_loss: 0.5323 - val_accuracy: 0.3312 - 2s/epoch - 46ms/step\n",
            "Epoch 198/200\n",
            "45/45 - 2s - loss: 0.0519 - accuracy: 0.3677 - val_loss: 0.5319 - val_accuracy: 0.3344 - 2s/epoch - 44ms/step\n",
            "Epoch 199/200\n",
            "45/45 - 2s - loss: 0.0529 - accuracy: 0.3879 - val_loss: 0.5295 - val_accuracy: 0.3248 - 2s/epoch - 44ms/step\n",
            "Epoch 200/200\n",
            "45/45 - 2s - loss: 0.0492 - accuracy: 0.3649 - val_loss: 0.5376 - val_accuracy: 0.3121 - 2s/epoch - 45ms/step\n"
          ]
        }
      ]
    },
    {
      "cell_type": "code",
      "source": [
        "model.save('/content/gdrive/MyDrive/models/NLU_Assignment2_LSTM.h5',save_format= 'tf')"
      ],
      "metadata": {
        "id": "QYiThtZ4ehr3"
      },
      "execution_count": 56,
      "outputs": []
    },
    {
      "cell_type": "code",
      "source": [
        "loaded_model = keras.models.load_model('/content/gdrive/MyDrive/models/NLU_Assignment2_LSTM.h5')"
      ],
      "metadata": {
        "id": "_BF_oTGafXXW"
      },
      "execution_count": 57,
      "outputs": []
    },
    {
      "cell_type": "code",
      "source": [
        "x_test, _, _ = sequence_vectorizer(\"Although we arrived at the restaurant 10 min late, the hostess did not have a table for us.\", valid_data)\n",
        "predictions = loaded_model.predict(x_test)\n",
        "print(predictions)"
      ],
      "metadata": {
        "colab": {
          "base_uri": "https://localhost:8080/"
        },
        "id": "z5DgB4IMgCcM",
        "outputId": "cee51117-ceb2-4f61-88d3-0c3dbbaabbeb"
      },
      "execution_count": 72,
      "outputs": [
        {
          "output_type": "stream",
          "name": "stdout",
          "text": [
            "[[0.32281014 0.4199003  0.26239967 ... 0.27403194 0.6840205  0.28740087]\n",
            " [0.3205972  0.4949718  0.24566877 ... 0.33984515 0.5173809  0.40900558]\n",
            " [0.36110568 0.1774546  0.36009824 ... 0.29445332 0.70019907 0.26022416]\n",
            " ...\n",
            " [0.3735081  0.48918402 0.2557344  ... 0.3022051  0.41059914 0.5909355 ]\n",
            " [0.34248018 0.35011306 0.22291422 ... 0.2569673  0.72992307 0.25311083]\n",
            " [0.3320897  0.37959927 0.2271816  ... 0.43549755 0.46592516 0.36119357]]\n"
          ]
        }
      ]
    },
    {
      "cell_type": "code",
      "source": [
        "x_test.shape"
      ],
      "metadata": {
        "colab": {
          "base_uri": "https://localhost:8080/"
        },
        "id": "JEXKX5hsthoO",
        "outputId": "cc91e4e7-a6aa-4834-b15a-f825467dd7f3"
      },
      "execution_count": 74,
      "outputs": [
        {
          "output_type": "execute_result",
          "data": {
            "text/plain": [
              "TensorShape([91, 1])"
            ]
          },
          "metadata": {},
          "execution_count": 74
        }
      ]
    },
    {
      "cell_type": "code",
      "source": [
        "predictions.shape"
      ],
      "metadata": {
        "colab": {
          "base_uri": "https://localhost:8080/"
        },
        "id": "yvmu_TzZr-xK",
        "outputId": "b5f64fd1-30e1-473f-95f3-dac63d6de7af"
      },
      "execution_count": 73,
      "outputs": [
        {
          "output_type": "execute_result",
          "data": {
            "text/plain": [
              "(91, 11)"
            ]
          },
          "metadata": {},
          "execution_count": 73
        }
      ]
    },
    {
      "cell_type": "code",
      "source": [
        "predictions[0]"
      ],
      "metadata": {
        "id": "iIPr8n5tg0XX",
        "colab": {
          "base_uri": "https://localhost:8080/"
        },
        "outputId": "52900e11-1af6-4513-e6a9-1ecd29c7a62b"
      },
      "execution_count": 59,
      "outputs": [
        {
          "output_type": "execute_result",
          "data": {
            "text/plain": [
              "array([0.34761372, 0.5223378 , 0.24546376, 0.31441423, 0.2358985 ,\n",
              "       0.2882726 , 0.33422673, 0.41480562, 0.47579768, 0.28826883,\n",
              "       0.56180507], dtype=float32)"
            ]
          },
          "metadata": {},
          "execution_count": 59
        }
      ]
    },
    {
      "cell_type": "code",
      "source": [
        "plt.figure(figsize=(10, 10))\n",
        "# summarize history for accuracy\n",
        "plt.plot(history.history['accuracy'])\n",
        "plt.plot(history.history['val_accuracy'])\n",
        "plt.title('model accuracy')\n",
        "plt.ylabel('accuracy')\n",
        "plt.xlabel('epoch')\n",
        "plt.legend(['train', 'test'], loc='upper left')\n",
        "plt.show()\n"
      ],
      "metadata": {
        "colab": {
          "base_uri": "https://localhost:8080/",
          "height": 621
        },
        "id": "XsQdoBYzkn8n",
        "outputId": "f7dfb793-4755-443d-de7a-e494634c9b80"
      },
      "execution_count": 68,
      "outputs": [
        {
          "output_type": "display_data",
          "data": {
            "image/png": "[encoded data removed]",
            "text/plain": [
              "<Figure size 720x720 with 1 Axes>"
            ]
          },
          "metadata": {
            "needs_background": "light"
          }
        }
      ]
    },
    {
      "cell_type": "code",
      "source": [
        "plt.figure(figsize=(10, 10))\n",
        "plt.plot(history.history['loss'])\n",
        "plt.plot(history.history['val_loss'])\n",
        "plt.title('model loss')\n",
        "plt.ylabel('loss')\n",
        "plt.xlabel('epoch')\n",
        "plt.legend(['train', 'test'], loc='upper left')\n",
        "plt.show()"
      ],
      "metadata": {
        "colab": {
          "base_uri": "https://localhost:8080/",
          "height": 621
        },
        "id": "sS-cr8B2oLho",
        "outputId": "db57009b-228b-45ea-e800-bd4e4d31a500"
      },
      "execution_count": 69,
      "outputs": [
        {
          "output_type": "display_data",
          "data": {
            "image/png": "[encoded data removed]",
            "text/plain": [
              "<Figure size 720x720 with 1 Axes>"
            ]
          },
          "metadata": {
            "needs_background": "light"
          }
        }
      ]
    }
  ]
}