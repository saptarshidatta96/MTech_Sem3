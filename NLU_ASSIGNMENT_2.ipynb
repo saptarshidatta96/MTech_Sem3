{
  "nbformat": 4,
  "nbformat_minor": 0,
  "metadata": {
    "colab": {
      "name": "NLU-ASSIGNMENT 2.ipynb",
      "provenance": [],
      "authorship_tag": "ABX9TyPv7bVSCDEO3CpYQ7ziLgYO",
      "include_colab_link": true
    },
    "kernelspec": {
      "name": "python3",
      "display_name": "Python 3"
    },
    "language_info": {
      "name": "python"
    },
    "accelerator": "GPU"
  },
  "cells": [
    {
      "cell_type": "markdown",
      "metadata": {
        "id": "view-in-github",
        "colab_type": "text"
      },
      "source": [
        "<a href=\"https://colab.research.google.com/github/saptarshidatta96/MTech_Sem3/blob/main/NLU_ASSIGNMENT_2.ipynb\" target=\"_parent\"><img src=\"https://colab.research.google.com/assets/colab-badge.svg\" alt=\"Open In Colab\"/></a>"
      ]
    },
    {
      "cell_type": "code",
      "source": [
        "import csv\n",
        "import requests\n",
        "import numpy as np\n",
        "import xml.etree.ElementTree as ET\n",
        "import random\n",
        "import tensorflow as tf\n",
        "from scipy.sparse import csr_matrix\n",
        "import tensorflow as tf\n",
        "from keras.preprocessing import sequence\n",
        "from keras.preprocessing import text\n",
        "from tensorflow import keras\n",
        "from keras.models import Sequential\n",
        "from keras import models\n",
        "from keras import initializers\n",
        "from keras import regularizers\n",
        "from keras.layers import Dense, Embedding, LSTM, SpatialDropout1D, Bidirectional, Attention, Flatten, Activation, RepeatVector, Permute, Multiply\n",
        "from keras.layers import CuDNNLSTM\n",
        "from keras.layers import Dropout, Multiply, Lambda\n",
        "from tensorflow.keras.optimizers import Adam\n",
        "from tensorflow.keras.callbacks import EarlyStopping\n",
        "from sklearn.metrics import accuracy_score, confusion_matrix, classification_report"
      ],
      "metadata": {
        "id": "k9wpPfdU5pKc"
      },
      "execution_count": 3,
      "outputs": []
    },
    {
      "cell_type": "code",
      "execution_count": 4,
      "metadata": {
        "colab": {
          "base_uri": "https://localhost:8080/"
        },
        "id": "B6Kl42783JJX",
        "outputId": "46c67e79-d1ef-46b1-9e21-b150d1d50a5d"
      },
      "outputs": [
        {
          "output_type": "stream",
          "name": "stdout",
          "text": [
            "Mounted at /content/gdrive\n"
          ]
        }
      ],
      "source": [
        "from google.colab import drive\n",
        "drive.mount('/content/gdrive', force_remount=True)"
      ]
    },
    {
      "cell_type": "code",
      "source": [
        "import pandas as pd\n",
        "import xml.etree.ElementTree as ET\n",
        "import io\n",
        "import xml.dom.minidom\n",
        "\n",
        "def iter_docs(author):\n",
        "  author_attr = author.attrib\n",
        "  for doc in author.iter('sentence'):\n",
        "    doc_dict = author_attr.copy()\n",
        "    for text in doc.iter('text'):\n",
        "      doc_dict['text'] = text.text\n",
        "      for cat in doc.iter('aspectCategory'):\n",
        "        doc_dict.update(cat.attrib)\n",
        "      yield doc_dict\n",
        "\n",
        "\n",
        "etree = ET.parse(\"/content/gdrive/MyDrive/train.xml\")\n",
        "doc_df = pd.DataFrame(list(iter_docs(etree.getroot())))"
      ],
      "metadata": {
        "id": "9a2RlAJbX6AG"
      },
      "execution_count": 5,
      "outputs": []
    },
    {
      "cell_type": "code",
      "source": [
        "doc_df.head()"
      ],
      "metadata": {
        "colab": {
          "base_uri": "https://localhost:8080/",
          "height": 206
        },
        "id": "CjWruD22YJgi",
        "outputId": "880675f4-ed10-47a3-be4f-1c41a2b725b6"
      },
      "execution_count": 6,
      "outputs": [
        {
          "output_type": "execute_result",
          "data": {
            "text/html": [
              "\n",
              "  <div id=\"df-c0924fcb-8cee-42f6-9996-26621ae6e669\">\n",
              "    <div class=\"colab-df-container\">\n",
              "      <div>\n",
              "<style scoped>\n",
              "    .dataframe tbody tr th:only-of-type {\n",
              "        vertical-align: middle;\n",
              "    }\n",
              "\n",
              "    .dataframe tbody tr th {\n",
              "        vertical-align: top;\n",
              "    }\n",
              "\n",
              "    .dataframe thead th {\n",
              "        text-align: right;\n",
              "    }\n",
              "</style>\n",
              "<table border=\"1\" class=\"dataframe\">\n",
              "  <thead>\n",
              "    <tr style=\"text-align: right;\">\n",
              "      <th></th>\n",
              "      <th>text</th>\n",
              "      <th>category</th>\n",
              "      <th>polarity</th>\n",
              "    </tr>\n",
              "  </thead>\n",
              "  <tbody>\n",
              "    <tr>\n",
              "      <th>0</th>\n",
              "      <td>It might be the best sit down food I've had in...</td>\n",
              "      <td>place</td>\n",
              "      <td>neutral</td>\n",
              "    </tr>\n",
              "    <tr>\n",
              "      <th>1</th>\n",
              "      <td>Hostess was extremely accommodating when we ar...</td>\n",
              "      <td>miscellaneous</td>\n",
              "      <td>neutral</td>\n",
              "    </tr>\n",
              "    <tr>\n",
              "      <th>2</th>\n",
              "      <td>We were a couple of minutes late for our reser...</td>\n",
              "      <td>staff</td>\n",
              "      <td>negative</td>\n",
              "    </tr>\n",
              "    <tr>\n",
              "      <th>3</th>\n",
              "      <td>Though the service might be a little slow, the...</td>\n",
              "      <td>staff</td>\n",
              "      <td>positive</td>\n",
              "    </tr>\n",
              "    <tr>\n",
              "      <th>4</th>\n",
              "      <td>Although we arrived at the restaurant 10 min l...</td>\n",
              "      <td>miscellaneous</td>\n",
              "      <td>neutral</td>\n",
              "    </tr>\n",
              "  </tbody>\n",
              "</table>\n",
              "</div>\n",
              "      <button class=\"colab-df-convert\" onclick=\"convertToInteractive('df-c0924fcb-8cee-42f6-9996-26621ae6e669')\"\n",
              "              title=\"Convert this dataframe to an interactive table.\"\n",
              "              style=\"display:none;\">\n",
              "        \n",
              "  <svg xmlns=\"http://www.w3.org/2000/svg\" height=\"24px\"viewBox=\"0 0 24 24\"\n",
              "       width=\"24px\">\n",
              "    <path d=\"M0 0h24v24H0V0z\" fill=\"none\"/>\n",
              "    <path d=\"M18.56 5.44l.94 2.06.94-2.06 2.06-.94-2.06-.94-.94-2.06-.94 2.06-2.06.94zm-11 1L8.5 8.5l.94-2.06 2.06-.94-2.06-.94L8.5 2.5l-.94 2.06-2.06.94zm10 10l.94 2.06.94-2.06 2.06-.94-2.06-.94-.94-2.06-.94 2.06-2.06.94z\"/><path d=\"M17.41 7.96l-1.37-1.37c-.4-.4-.92-.59-1.43-.59-.52 0-1.04.2-1.43.59L10.3 9.45l-7.72 7.72c-.78.78-.78 2.05 0 2.83L4 21.41c.39.39.9.59 1.41.59.51 0 1.02-.2 1.41-.59l7.78-7.78 2.81-2.81c.8-.78.8-2.07 0-2.86zM5.41 20L4 18.59l7.72-7.72 1.47 1.35L5.41 20z\"/>\n",
              "  </svg>\n",
              "      </button>\n",
              "      \n",
              "  <style>\n",
              "    .colab-df-container {\n",
              "      display:flex;\n",
              "      flex-wrap:wrap;\n",
              "      gap: 12px;\n",
              "    }\n",
              "\n",
              "    .colab-df-convert {\n",
              "      background-color: #E8F0FE;\n",
              "      border: none;\n",
              "      border-radius: 50%;\n",
              "      cursor: pointer;\n",
              "      display: none;\n",
              "      fill: #1967D2;\n",
              "      height: 32px;\n",
              "      padding: 0 0 0 0;\n",
              "      width: 32px;\n",
              "    }\n",
              "\n",
              "    .colab-df-convert:hover {\n",
              "      background-color: #E2EBFA;\n",
              "      box-shadow: 0px 1px 2px rgba(60, 64, 67, 0.3), 0px 1px 3px 1px rgba(60, 64, 67, 0.15);\n",
              "      fill: #174EA6;\n",
              "    }\n",
              "\n",
              "    [theme=dark] .colab-df-convert {\n",
              "      background-color: #3B4455;\n",
              "      fill: #D2E3FC;\n",
              "    }\n",
              "\n",
              "    [theme=dark] .colab-df-convert:hover {\n",
              "      background-color: #434B5C;\n",
              "      box-shadow: 0px 1px 3px 1px rgba(0, 0, 0, 0.15);\n",
              "      filter: drop-shadow(0px 1px 2px rgba(0, 0, 0, 0.3));\n",
              "      fill: #FFFFFF;\n",
              "    }\n",
              "  </style>\n",
              "\n",
              "      <script>\n",
              "        const buttonEl =\n",
              "          document.querySelector('#df-c0924fcb-8cee-42f6-9996-26621ae6e669 button.colab-df-convert');\n",
              "        buttonEl.style.display =\n",
              "          google.colab.kernel.accessAllowed ? 'block' : 'none';\n",
              "\n",
              "        async function convertToInteractive(key) {\n",
              "          const element = document.querySelector('#df-c0924fcb-8cee-42f6-9996-26621ae6e669');\n",
              "          const dataTable =\n",
              "            await google.colab.kernel.invokeFunction('convertToInteractive',\n",
              "                                                     [key], {});\n",
              "          if (!dataTable) return;\n",
              "\n",
              "          const docLinkHtml = 'Like what you see? Visit the ' +\n",
              "            '<a target=\"_blank\" href=https://colab.research.google.com/notebooks/data_table.ipynb>data table notebook</a>'\n",
              "            + ' to learn more about interactive tables.';\n",
              "          element.innerHTML = '';\n",
              "          dataTable['output_type'] = 'display_data';\n",
              "          await google.colab.output.renderOutput(dataTable, element);\n",
              "          const docLink = document.createElement('div');\n",
              "          docLink.innerHTML = docLinkHtml;\n",
              "          element.appendChild(docLink);\n",
              "        }\n",
              "      </script>\n",
              "    </div>\n",
              "  </div>\n",
              "  "
            ],
            "text/plain": [
              "                                                text       category  polarity\n",
              "0  It might be the best sit down food I've had in...          place   neutral\n",
              "1  Hostess was extremely accommodating when we ar...  miscellaneous   neutral\n",
              "2  We were a couple of minutes late for our reser...          staff  negative\n",
              "3  Though the service might be a little slow, the...          staff  positive\n",
              "4  Although we arrived at the restaurant 10 min l...  miscellaneous   neutral"
            ]
          },
          "metadata": {},
          "execution_count": 6
        }
      ]
    },
    {
      "cell_type": "code",
      "source": [
        "doc_df.shape"
      ],
      "metadata": {
        "colab": {
          "base_uri": "https://localhost:8080/"
        },
        "id": "KHdsdJghIaaM",
        "outputId": "f09daa8a-aeb3-47c5-cee8-6d23124853af"
      },
      "execution_count": 7,
      "outputs": [
        {
          "output_type": "execute_result",
          "data": {
            "text/plain": [
              "(3134, 3)"
            ]
          },
          "metadata": {},
          "execution_count": 7
        }
      ]
    },
    {
      "cell_type": "code",
      "source": [
        "doc_df['category'].unique()"
      ],
      "metadata": {
        "colab": {
          "base_uri": "https://localhost:8080/"
        },
        "id": "jo4mItemcFiQ",
        "outputId": "b923ef44-6648-4a66-9b91-727c1dcae927"
      },
      "execution_count": 8,
      "outputs": [
        {
          "output_type": "execute_result",
          "data": {
            "text/plain": [
              "array(['place', 'miscellaneous', 'staff', 'food', 'ambience', 'service',\n",
              "       'menu', 'price'], dtype=object)"
            ]
          },
          "metadata": {},
          "execution_count": 8
        }
      ]
    },
    {
      "cell_type": "code",
      "source": [
        "doc_df['polarity'].unique()"
      ],
      "metadata": {
        "colab": {
          "base_uri": "https://localhost:8080/"
        },
        "id": "S18gS9-6EB6X",
        "outputId": "5559db87-9f95-42aa-85e5-9d402fe55a68"
      },
      "execution_count": 9,
      "outputs": [
        {
          "output_type": "execute_result",
          "data": {
            "text/plain": [
              "array(['neutral', 'negative', 'positive'], dtype=object)"
            ]
          },
          "metadata": {},
          "execution_count": 9
        }
      ]
    },
    {
      "cell_type": "code",
      "source": [
        "df_category = pd.get_dummies(doc_df['category'], columns = ['food', 'place', 'staff', 'miscellaneous', 'service', 'price', 'menu', 'ambience'])"
      ],
      "metadata": {
        "id": "qJIUIDStbJYi"
      },
      "execution_count": 10,
      "outputs": []
    },
    {
      "cell_type": "code",
      "source": [
        "df_polarity = pd.get_dummies(doc_df['polarity'], columns = ['neutral', 'negative', 'positive'])"
      ],
      "metadata": {
        "id": "r3viKwtgFJBw"
      },
      "execution_count": 11,
      "outputs": []
    },
    {
      "cell_type": "code",
      "source": [
        "df = pd.concat([df_category, df_polarity], axis=1)"
      ],
      "metadata": {
        "id": "UDREQmUhEf6E"
      },
      "execution_count": 12,
      "outputs": []
    },
    {
      "cell_type": "code",
      "source": [
        "df = pd.concat([doc_df['text'], df], axis=1)"
      ],
      "metadata": {
        "id": "bQi967VvdRVj"
      },
      "execution_count": 13,
      "outputs": []
    },
    {
      "cell_type": "code",
      "source": [
        "df.head()"
      ],
      "metadata": {
        "colab": {
          "base_uri": "https://localhost:8080/",
          "height": 206
        },
        "id": "FQnqT6POdD5s",
        "outputId": "2d6496d9-ec2e-4f8f-8cee-522e4b002884"
      },
      "execution_count": 14,
      "outputs": [
        {
          "output_type": "execute_result",
          "data": {
            "text/html": [
              "\n",
              "  <div id=\"df-75265d15-e1fb-48d6-b32c-3777186dd453\">\n",
              "    <div class=\"colab-df-container\">\n",
              "      <div>\n",
              "<style scoped>\n",
              "    .dataframe tbody tr th:only-of-type {\n",
              "        vertical-align: middle;\n",
              "    }\n",
              "\n",
              "    .dataframe tbody tr th {\n",
              "        vertical-align: top;\n",
              "    }\n",
              "\n",
              "    .dataframe thead th {\n",
              "        text-align: right;\n",
              "    }\n",
              "</style>\n",
              "<table border=\"1\" class=\"dataframe\">\n",
              "  <thead>\n",
              "    <tr style=\"text-align: right;\">\n",
              "      <th></th>\n",
              "      <th>text</th>\n",
              "      <th>ambience</th>\n",
              "      <th>food</th>\n",
              "      <th>menu</th>\n",
              "      <th>miscellaneous</th>\n",
              "      <th>place</th>\n",
              "      <th>price</th>\n",
              "      <th>service</th>\n",
              "      <th>staff</th>\n",
              "      <th>negative</th>\n",
              "      <th>neutral</th>\n",
              "      <th>positive</th>\n",
              "    </tr>\n",
              "  </thead>\n",
              "  <tbody>\n",
              "    <tr>\n",
              "      <th>0</th>\n",
              "      <td>It might be the best sit down food I've had in...</td>\n",
              "      <td>0</td>\n",
              "      <td>0</td>\n",
              "      <td>0</td>\n",
              "      <td>0</td>\n",
              "      <td>1</td>\n",
              "      <td>0</td>\n",
              "      <td>0</td>\n",
              "      <td>0</td>\n",
              "      <td>0</td>\n",
              "      <td>1</td>\n",
              "      <td>0</td>\n",
              "    </tr>\n",
              "    <tr>\n",
              "      <th>1</th>\n",
              "      <td>Hostess was extremely accommodating when we ar...</td>\n",
              "      <td>0</td>\n",
              "      <td>0</td>\n",
              "      <td>0</td>\n",
              "      <td>1</td>\n",
              "      <td>0</td>\n",
              "      <td>0</td>\n",
              "      <td>0</td>\n",
              "      <td>0</td>\n",
              "      <td>0</td>\n",
              "      <td>1</td>\n",
              "      <td>0</td>\n",
              "    </tr>\n",
              "    <tr>\n",
              "      <th>2</th>\n",
              "      <td>We were a couple of minutes late for our reser...</td>\n",
              "      <td>0</td>\n",
              "      <td>0</td>\n",
              "      <td>0</td>\n",
              "      <td>0</td>\n",
              "      <td>0</td>\n",
              "      <td>0</td>\n",
              "      <td>0</td>\n",
              "      <td>1</td>\n",
              "      <td>1</td>\n",
              "      <td>0</td>\n",
              "      <td>0</td>\n",
              "    </tr>\n",
              "    <tr>\n",
              "      <th>3</th>\n",
              "      <td>Though the service might be a little slow, the...</td>\n",
              "      <td>0</td>\n",
              "      <td>0</td>\n",
              "      <td>0</td>\n",
              "      <td>0</td>\n",
              "      <td>0</td>\n",
              "      <td>0</td>\n",
              "      <td>0</td>\n",
              "      <td>1</td>\n",
              "      <td>0</td>\n",
              "      <td>0</td>\n",
              "      <td>1</td>\n",
              "    </tr>\n",
              "    <tr>\n",
              "      <th>4</th>\n",
              "      <td>Although we arrived at the restaurant 10 min l...</td>\n",
              "      <td>0</td>\n",
              "      <td>0</td>\n",
              "      <td>0</td>\n",
              "      <td>1</td>\n",
              "      <td>0</td>\n",
              "      <td>0</td>\n",
              "      <td>0</td>\n",
              "      <td>0</td>\n",
              "      <td>0</td>\n",
              "      <td>1</td>\n",
              "      <td>0</td>\n",
              "    </tr>\n",
              "  </tbody>\n",
              "</table>\n",
              "</div>\n",
              "      <button class=\"colab-df-convert\" onclick=\"convertToInteractive('df-75265d15-e1fb-48d6-b32c-3777186dd453')\"\n",
              "              title=\"Convert this dataframe to an interactive table.\"\n",
              "              style=\"display:none;\">\n",
              "        \n",
              "  <svg xmlns=\"http://www.w3.org/2000/svg\" height=\"24px\"viewBox=\"0 0 24 24\"\n",
              "       width=\"24px\">\n",
              "    <path d=\"M0 0h24v24H0V0z\" fill=\"none\"/>\n",
              "    <path d=\"M18.56 5.44l.94 2.06.94-2.06 2.06-.94-2.06-.94-.94-2.06-.94 2.06-2.06.94zm-11 1L8.5 8.5l.94-2.06 2.06-.94-2.06-.94L8.5 2.5l-.94 2.06-2.06.94zm10 10l.94 2.06.94-2.06 2.06-.94-2.06-.94-.94-2.06-.94 2.06-2.06.94z\"/><path d=\"M17.41 7.96l-1.37-1.37c-.4-.4-.92-.59-1.43-.59-.52 0-1.04.2-1.43.59L10.3 9.45l-7.72 7.72c-.78.78-.78 2.05 0 2.83L4 21.41c.39.39.9.59 1.41.59.51 0 1.02-.2 1.41-.59l7.78-7.78 2.81-2.81c.8-.78.8-2.07 0-2.86zM5.41 20L4 18.59l7.72-7.72 1.47 1.35L5.41 20z\"/>\n",
              "  </svg>\n",
              "      </button>\n",
              "      \n",
              "  <style>\n",
              "    .colab-df-container {\n",
              "      display:flex;\n",
              "      flex-wrap:wrap;\n",
              "      gap: 12px;\n",
              "    }\n",
              "\n",
              "    .colab-df-convert {\n",
              "      background-color: #E8F0FE;\n",
              "      border: none;\n",
              "      border-radius: 50%;\n",
              "      cursor: pointer;\n",
              "      display: none;\n",
              "      fill: #1967D2;\n",
              "      height: 32px;\n",
              "      padding: 0 0 0 0;\n",
              "      width: 32px;\n",
              "    }\n",
              "\n",
              "    .colab-df-convert:hover {\n",
              "      background-color: #E2EBFA;\n",
              "      box-shadow: 0px 1px 2px rgba(60, 64, 67, 0.3), 0px 1px 3px 1px rgba(60, 64, 67, 0.15);\n",
              "      fill: #174EA6;\n",
              "    }\n",
              "\n",
              "    [theme=dark] .colab-df-convert {\n",
              "      background-color: #3B4455;\n",
              "      fill: #D2E3FC;\n",
              "    }\n",
              "\n",
              "    [theme=dark] .colab-df-convert:hover {\n",
              "      background-color: #434B5C;\n",
              "      box-shadow: 0px 1px 3px 1px rgba(0, 0, 0, 0.15);\n",
              "      filter: drop-shadow(0px 1px 2px rgba(0, 0, 0, 0.3));\n",
              "      fill: #FFFFFF;\n",
              "    }\n",
              "  </style>\n",
              "\n",
              "      <script>\n",
              "        const buttonEl =\n",
              "          document.querySelector('#df-75265d15-e1fb-48d6-b32c-3777186dd453 button.colab-df-convert');\n",
              "        buttonEl.style.display =\n",
              "          google.colab.kernel.accessAllowed ? 'block' : 'none';\n",
              "\n",
              "        async function convertToInteractive(key) {\n",
              "          const element = document.querySelector('#df-75265d15-e1fb-48d6-b32c-3777186dd453');\n",
              "          const dataTable =\n",
              "            await google.colab.kernel.invokeFunction('convertToInteractive',\n",
              "                                                     [key], {});\n",
              "          if (!dataTable) return;\n",
              "\n",
              "          const docLinkHtml = 'Like what you see? Visit the ' +\n",
              "            '<a target=\"_blank\" href=https://colab.research.google.com/notebooks/data_table.ipynb>data table notebook</a>'\n",
              "            + ' to learn more about interactive tables.';\n",
              "          element.innerHTML = '';\n",
              "          dataTable['output_type'] = 'display_data';\n",
              "          await google.colab.output.renderOutput(dataTable, element);\n",
              "          const docLink = document.createElement('div');\n",
              "          docLink.innerHTML = docLinkHtml;\n",
              "          element.appendChild(docLink);\n",
              "        }\n",
              "      </script>\n",
              "    </div>\n",
              "  </div>\n",
              "  "
            ],
            "text/plain": [
              "                                                text  ...  positive\n",
              "0  It might be the best sit down food I've had in...  ...         0\n",
              "1  Hostess was extremely accommodating when we ar...  ...         0\n",
              "2  We were a couple of minutes late for our reser...  ...         0\n",
              "3  Though the service might be a little slow, the...  ...         1\n",
              "4  Although we arrived at the restaurant 10 min l...  ...         0\n",
              "\n",
              "[5 rows x 12 columns]"
            ]
          },
          "metadata": {},
          "execution_count": 14
        }
      ]
    },
    {
      "cell_type": "code",
      "source": [
        "data = df['text']\n",
        "data = list(data)\n",
        "labels = df.drop(['text'], axis = 1)"
      ],
      "metadata": {
        "id": "HeAOZHTUd2Dr"
      },
      "execution_count": 15,
      "outputs": []
    },
    {
      "cell_type": "code",
      "source": [
        "def split_training_and_validation_sets(data, labels, validation_split):\n",
        "\n",
        "    num_training_samples = int((1 - validation_split) * len(data))\n",
        "    return ((data[:num_training_samples], labels[:num_training_samples]),\n",
        "            (data[num_training_samples:], labels[num_training_samples:]))\n",
        "    \n",
        "(train_data, train_label), (valid_data, valid_label) = split_training_and_validation_sets(data, labels, 0.1)\n"
      ],
      "metadata": {
        "id": "eHMCF8Dgiav6"
      },
      "execution_count": 16,
      "outputs": []
    },
    {
      "cell_type": "code",
      "source": [
        "print(valid_label)"
      ],
      "metadata": {
        "colab": {
          "base_uri": "https://localhost:8080/"
        },
        "id": "b9IpycIWN95t",
        "outputId": "fb04f09a-c353-4f26-c817-1b33f2c46fb4"
      },
      "execution_count": 17,
      "outputs": [
        {
          "output_type": "stream",
          "name": "stdout",
          "text": [
            "      ambience  food  menu  miscellaneous  ...  staff  negative  neutral  positive\n",
            "2820         0     1     0              0  ...      0         0        0         1\n",
            "2821         0     0     0              0  ...      0         1        0         0\n",
            "2822         0     0     1              0  ...      0         0        1         0\n",
            "2823         0     1     0              0  ...      0         1        0         0\n",
            "2824         0     1     0              0  ...      0         0        1         0\n",
            "...        ...   ...   ...            ...  ...    ...       ...      ...       ...\n",
            "3129         0     0     0              0  ...      1         1        0         0\n",
            "3130         0     0     1              0  ...      0         0        1         0\n",
            "3131         0     0     0              0  ...      0         0        1         0\n",
            "3132         0     0     0              0  ...      0         0        0         1\n",
            "3133         0     0     0              0  ...      1         1        0         0\n",
            "\n",
            "[314 rows x 11 columns]\n"
          ]
        }
      ]
    },
    {
      "cell_type": "code",
      "source": [
        "train_label = tf.convert_to_tensor(train_label, dtype=tf.float32)\n",
        "valid_label = tf.convert_to_tensor(valid_label, dtype=tf.float32)"
      ],
      "metadata": {
        "id": "k62-OybCjSyy"
      },
      "execution_count": 18,
      "outputs": []
    },
    {
      "cell_type": "code",
      "source": [
        "def sequence_vectorizer(train_data, valid_data):\n",
        "\n",
        "    # Create vocabulary with training texts.\n",
        "    tokenizer = text.Tokenizer(num_words=20000)\n",
        "    tokenizer.fit_on_texts(train_data)\n",
        "\n",
        "    # Vectorize training and validation texts.\n",
        "    x_train = tokenizer.texts_to_sequences(train_data)\n",
        "    x_val = tokenizer.texts_to_sequences(valid_data)\n",
        "\n",
        "    # Get max sequence length.\n",
        "    max_length = len(max(x_train, key=len))\n",
        "    if max_length > 50:\n",
        "        max_length = 50\n",
        "\n",
        "    # Fix sequence length to max value. Sequences shorter than the length are\n",
        "    # padded in the beginning and sequences longer are truncated\n",
        "    # at the beginning.\n",
        "    x_train = sequence.pad_sequences(x_train, maxlen=max_length)\n",
        "    x_val = sequence.pad_sequences(x_val, maxlen=max_length)\n",
        "\n",
        "    x_train = tf.convert_to_tensor(x_train, dtype=tf.float32)\n",
        "    x_val = tf.convert_to_tensor(x_val, dtype=tf.float32)\n",
        "\n",
        "    return x_train, x_val, tokenizer.word_index"
      ],
      "metadata": {
        "id": "l4VmxGU1Mm3g"
      },
      "execution_count": 19,
      "outputs": []
    },
    {
      "cell_type": "code",
      "source": [
        "x_train, x_val, word_index = sequence_vectorizer(train_data, valid_data)"
      ],
      "metadata": {
        "id": "ZqNhrBt0M9xp"
      },
      "execution_count": 20,
      "outputs": []
    },
    {
      "cell_type": "code",
      "source": [
        "len(word_index)"
      ],
      "metadata": {
        "colab": {
          "base_uri": "https://localhost:8080/"
        },
        "id": "_ts9HSGGNwGR",
        "outputId": "b7ac8ace-4c87-4afe-c1a3-04d18a196f76"
      },
      "execution_count": 21,
      "outputs": [
        {
          "output_type": "execute_result",
          "data": {
            "text/plain": [
              "6269"
            ]
          },
          "metadata": {},
          "execution_count": 21
        }
      ]
    },
    {
      "cell_type": "code",
      "source": [
        "print(x_train.shape)"
      ],
      "metadata": {
        "colab": {
          "base_uri": "https://localhost:8080/"
        },
        "id": "dCLOJE0R9U6U",
        "outputId": "55d8cb71-35c8-432e-b1b2-ef4224aef552"
      },
      "execution_count": 22,
      "outputs": [
        {
          "output_type": "stream",
          "name": "stdout",
          "text": [
            "(2820, 50)\n"
          ]
        }
      ]
    },
    {
      "cell_type": "code",
      "source": [
        "!unzip \"/content/gdrive/MyDrive/glove.42B.300d.zip\" -d \"/content\""
      ],
      "metadata": {
        "colab": {
          "base_uri": "https://localhost:8080/"
        },
        "id": "FMP4Tx-XdvD4",
        "outputId": "6fe01aaa-7658-471e-f698-9613432f0444"
      },
      "execution_count": 23,
      "outputs": [
        {
          "output_type": "stream",
          "name": "stdout",
          "text": [
            "Archive:  /content/gdrive/MyDrive/glove.42B.300d.zip\n",
            "  inflating: /content/glove.42B.300d.txt  \n"
          ]
        }
      ]
    },
    {
      "cell_type": "code",
      "source": [
        "glove_file = \"glove.42B.300d.txt\"\n",
        "import tqdm\n",
        "\n",
        "EMBEDDING_VECTOR_LENGTH = 50 # <=200\n",
        "def construct_embedding_matrix(glove_file, word_index):\n",
        "    embedding_dict = {}\n",
        "    with open(glove_file,'r') as f:\n",
        "        for line in f:\n",
        "            values=line.split()\n",
        "            # get the word\n",
        "            word=values[0]\n",
        "            if word in word_index.keys():\n",
        "                # get the vector\n",
        "                vector = np.asarray(values[1:], 'float32')\n",
        "                embedding_dict[word] = vector\n",
        "    ###  oov words (out of vacabulary words) will be mapped to 0 vectors\n",
        "\n",
        "    num_words=len(word_index)+1\n",
        "    #initialize it to 0\n",
        "    embedding_matrix=np.zeros((num_words, EMBEDDING_VECTOR_LENGTH))\n",
        "\n",
        "    for word,i in tqdm.tqdm(word_index.items()):\n",
        "        if i < num_words:\n",
        "            vect=embedding_dict.get(word, [])\n",
        "            if len(vect)>0:\n",
        "                embedding_matrix[i] = vect[:EMBEDDING_VECTOR_LENGTH]\n",
        "    return embedding_matrix\n",
        "  \n",
        "embedding_matrix =  construct_embedding_matrix(glove_file, word_index)"
      ],
      "metadata": {
        "colab": {
          "base_uri": "https://localhost:8080/"
        },
        "id": "ol5qYhC3fRZg",
        "outputId": "28e2f0ca-03ce-45e2-8069-89b200105215"
      },
      "execution_count": 32,
      "outputs": [
        {
          "output_type": "stream",
          "name": "stderr",
          "text": [
            "100%|██████████| 6269/6269 [00:00<00:00, 359032.33it/s]\n"
          ]
        }
      ]
    },
    {
      "cell_type": "code",
      "source": [
        "embedding_matrix.shape"
      ],
      "metadata": {
        "colab": {
          "base_uri": "https://localhost:8080/"
        },
        "id": "qNXhnuTmpUc8",
        "outputId": "7359cbf1-89f3-4f3a-f551-d7f3249ca207"
      },
      "execution_count": 25,
      "outputs": [
        {
          "output_type": "execute_result",
          "data": {
            "text/plain": [
              "(6270, 50)"
            ]
          },
          "metadata": {},
          "execution_count": 25
        }
      ]
    },
    {
      "cell_type": "code",
      "source": [
        "from keras import backend as K\n",
        "\n",
        "def recall_m(y_true, y_pred):\n",
        "    true_positives = K.sum(K.round(K.clip(y_true * y_pred, 0, 1)))\n",
        "    possible_positives = K.sum(K.round(K.clip(y_true, 0, 1)))\n",
        "    recall = true_positives / (possible_positives + K.epsilon())\n",
        "    return recall\n",
        "\n",
        "def precision_m(y_true, y_pred):\n",
        "    true_positives = K.sum(K.round(K.clip(y_true * y_pred, 0, 1)))\n",
        "    predicted_positives = K.sum(K.round(K.clip(y_pred, 0, 1)))\n",
        "    precision = true_positives / (predicted_positives + K.epsilon())\n",
        "    return precision\n",
        "\n",
        "def f1_m(y_true, y_pred):\n",
        "    precision = precision_m(y_true, y_pred)\n",
        "    recall = recall_m(y_true, y_pred)\n",
        "    return 2*((precision*recall)/(precision+recall+K.epsilon()))"
      ],
      "metadata": {
        "id": "-tV9vkzHmvT6"
      },
      "execution_count": 26,
      "outputs": []
    },
    {
      "cell_type": "code",
      "source": [
        "EMBEDDING_VECTOR_LENGTH"
      ],
      "metadata": {
        "colab": {
          "base_uri": "https://localhost:8080/"
        },
        "id": "_BRPvdbMunDa",
        "outputId": "f963cbad-d3e5-4ce6-8592-c41feb4f9787"
      },
      "execution_count": 27,
      "outputs": [
        {
          "output_type": "execute_result",
          "data": {
            "text/plain": [
              "50"
            ]
          },
          "metadata": {},
          "execution_count": 27
        }
      ]
    },
    {
      "cell_type": "code",
      "source": [
        "embed_dim = 128\n",
        "lstm_out = 196\n",
        "model = Sequential()\n",
        "embedding_layer = Embedding(len(word_index) + 1,\n",
        "                            EMBEDDING_VECTOR_LENGTH,\n",
        "                            weights=[embedding_matrix],\n",
        "                            input_length=50,\n",
        "                            trainable=True)\n",
        "\n",
        "\n",
        "model.add(embedding_layer)\n",
        "model.add(Bidirectional(LSTM(lstm_out,return_sequences=True)))\n",
        "model.add(LSTM(lstm_out, dropout=0.2, recurrent_dropout=0.2))\n",
        "\n",
        "\n",
        "model.add(Flatten())\n",
        "model.add(Dropout(0.3))\n",
        "\n",
        "\n",
        "\n",
        "model.add(Dense(11, activation='sigmoid'))\n",
        "model.compile(loss='binary_crossentropy', optimizer='adam', metrics=['accuracy'])\n",
        "model.summary()"
      ],
      "metadata": {
        "colab": {
          "base_uri": "https://localhost:8080/"
        },
        "id": "MJQMvfP-lm5z",
        "outputId": "d6823f23-1016-4c9b-e40f-f4071d67ae96"
      },
      "execution_count": 59,
      "outputs": [
        {
          "output_type": "stream",
          "name": "stdout",
          "text": [
            "WARNING:tensorflow:Layer lstm_34 will not use cuDNN kernels since it doesn't meet the criteria. It will use a generic GPU kernel as fallback when running on GPU.\n",
            "Model: \"sequential_13\"\n",
            "_________________________________________________________________\n",
            " Layer (type)                Output Shape              Param #   \n",
            "=================================================================\n",
            " embedding_18 (Embedding)    (None, 50, 50)            313500    \n",
            "                                                                 \n",
            " bidirectional_21 (Bidirecti  (None, 50, 392)          387296    \n",
            " onal)                                                           \n",
            "                                                                 \n",
            " lstm_34 (LSTM)              (None, 196)               461776    \n",
            "                                                                 \n",
            " flatten_7 (Flatten)         (None, 196)               0         \n",
            "                                                                 \n",
            " dropout_7 (Dropout)         (None, 196)               0         \n",
            "                                                                 \n",
            " dense_16 (Dense)            (None, 11)                2167      \n",
            "                                                                 \n",
            "=================================================================\n",
            "Total params: 1,164,739\n",
            "Trainable params: 1,164,739\n",
            "Non-trainable params: 0\n",
            "_________________________________________________________________\n"
          ]
        }
      ]
    },
    {
      "cell_type": "code",
      "source": [
        "callbacks = [EarlyStopping(monitor='val_loss', patience=5)]"
      ],
      "metadata": {
        "id": "-loDwqQf9tJN"
      },
      "execution_count": 61,
      "outputs": []
    },
    {
      "cell_type": "code",
      "source": [
        "model.fit(x_train, train_label,\n",
        "            epochs=100,\n",
        "            callbacks=callbacks,\n",
        "            validation_data=(x_val, valid_label),\n",
        "            verbose=2,\n",
        "            batch_size=128)"
      ],
      "metadata": {
        "colab": {
          "base_uri": "https://localhost:8080/"
        },
        "id": "QJKdYTKhpesS",
        "outputId": "54b6f616-59ee-41fa-a006-6703c1c4c874"
      },
      "execution_count": 62,
      "outputs": [
        {
          "output_type": "stream",
          "name": "stdout",
          "text": [
            "Epoch 1/100\n",
            "23/23 - 19s - loss: 0.4489 - accuracy: 0.0621 - val_loss: 0.4088 - val_accuracy: 0.0000e+00 - 19s/epoch - 805ms/step\n",
            "Epoch 2/100\n",
            "23/23 - 11s - loss: 0.4161 - accuracy: 0.0514 - val_loss: 0.4052 - val_accuracy: 0.1019 - 11s/epoch - 462ms/step\n",
            "Epoch 3/100\n",
            "23/23 - 11s - loss: 0.4014 - accuracy: 0.0560 - val_loss: 0.3847 - val_accuracy: 0.0764 - 11s/epoch - 457ms/step\n",
            "Epoch 4/100\n",
            "23/23 - 11s - loss: 0.3766 - accuracy: 0.0855 - val_loss: 0.3807 - val_accuracy: 0.0637 - 11s/epoch - 461ms/step\n",
            "Epoch 5/100\n",
            "23/23 - 11s - loss: 0.3636 - accuracy: 0.0809 - val_loss: 0.3645 - val_accuracy: 0.1465 - 11s/epoch - 477ms/step\n",
            "Epoch 6/100\n",
            "23/23 - 11s - loss: 0.3326 - accuracy: 0.1422 - val_loss: 0.3615 - val_accuracy: 0.1401 - 11s/epoch - 463ms/step\n",
            "Epoch 7/100\n",
            "23/23 - 12s - loss: 0.3094 - accuracy: 0.1543 - val_loss: 0.3575 - val_accuracy: 0.2739 - 12s/epoch - 506ms/step\n",
            "Epoch 8/100\n",
            "23/23 - 10s - loss: 0.2863 - accuracy: 0.2078 - val_loss: 0.3500 - val_accuracy: 0.2134 - 10s/epoch - 439ms/step\n",
            "Epoch 9/100\n",
            "23/23 - 10s - loss: 0.2643 - accuracy: 0.2482 - val_loss: 0.3449 - val_accuracy: 0.2739 - 10s/epoch - 426ms/step\n",
            "Epoch 10/100\n",
            "23/23 - 10s - loss: 0.2514 - accuracy: 0.2514 - val_loss: 0.3463 - val_accuracy: 0.1943 - 10s/epoch - 453ms/step\n",
            "Epoch 11/100\n",
            "23/23 - 10s - loss: 0.2295 - accuracy: 0.2603 - val_loss: 0.3565 - val_accuracy: 0.2803 - 10s/epoch - 444ms/step\n",
            "Epoch 12/100\n",
            "23/23 - 10s - loss: 0.2106 - accuracy: 0.2961 - val_loss: 0.3547 - val_accuracy: 0.3089 - 10s/epoch - 452ms/step\n",
            "Epoch 13/100\n",
            "23/23 - 10s - loss: 0.1928 - accuracy: 0.3528 - val_loss: 0.3711 - val_accuracy: 0.3121 - 10s/epoch - 438ms/step\n",
            "Epoch 14/100\n",
            "23/23 - 10s - loss: 0.1831 - accuracy: 0.3018 - val_loss: 0.3613 - val_accuracy: 0.3217 - 10s/epoch - 433ms/step\n"
          ]
        },
        {
          "output_type": "execute_result",
          "data": {
            "text/plain": [
              "<keras.callbacks.History at 0x7f82ee5305d0>"
            ]
          },
          "metadata": {},
          "execution_count": 62
        }
      ]
    }
  ]
}