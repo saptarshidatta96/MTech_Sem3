{
  "nbformat": 4,
  "nbformat_minor": 0,
  "metadata": {
    "colab": {
      "name": "NLU-ASSIGNMENT 2.ipynb",
      "provenance": [],
      "collapsed_sections": [],
      "authorship_tag": "ABX9TyNIhmi6ZouvzmA0oMpxH7xr",
      "include_colab_link": true
    },
    "kernelspec": {
      "name": "python3",
      "display_name": "Python 3"
    },
    "language_info": {
      "name": "python"
    },
    "accelerator": "GPU"
  },
  "cells": [
    {
      "cell_type": "markdown",
      "metadata": {
        "id": "view-in-github",
        "colab_type": "text"
      },
      "source": [
        "<a href=\"https://colab.research.google.com/github/saptarshidatta96/MTech_Sem3/blob/main/NLU_ASSIGNMENT_2.ipynb\" target=\"_parent\"><img src=\"https://colab.research.google.com/assets/colab-badge.svg\" alt=\"Open In Colab\"/></a>"
      ]
    },
    {
      "cell_type": "code",
      "source": [
        "import csv\n",
        "import requests\n",
        "from itertools import islice\n",
        "import numpy as np\n",
        "import xml.etree.ElementTree as ET\n",
        "import random\n",
        "import tensorflow as tf\n",
        "from scipy.sparse import csr_matrix\n",
        "import tensorflow as tf\n",
        "from keras.preprocessing import sequence\n",
        "from keras.preprocessing import text\n",
        "from tensorflow import keras\n",
        "from keras.models import Sequential\n",
        "from keras import models\n",
        "from keras.layers import *\n",
        "from keras.models import *\n",
        "from keras import backend as K\n",
        "from keras import initializers\n",
        "from keras import regularizers\n",
        "from keras.layers import Dense, Embedding, LSTM, SpatialDropout1D, Bidirectional, Attention, Flatten, Activation, RepeatVector, Permute, Multiply\n",
        "from keras.layers import CuDNNLSTM\n",
        "from keras.layers import Dropout, Multiply, Lambda\n",
        "from tensorflow.keras.optimizers import Adam\n",
        "from tensorflow.keras.callbacks import EarlyStopping\n",
        "from sklearn.metrics import accuracy_score, confusion_matrix, classification_report\n",
        "import matplotlib.pyplot as plt"
      ],
      "metadata": {
        "id": "k9wpPfdU5pKc"
      },
      "execution_count": 178,
      "outputs": []
    },
    {
      "cell_type": "code",
      "execution_count": 179,
      "metadata": {
        "colab": {
          "base_uri": "https://localhost:8080/"
        },
        "id": "B6Kl42783JJX",
        "outputId": "ab8c11f1-edc4-46f5-cdbe-f486e8431d35"
      },
      "outputs": [
        {
          "output_type": "stream",
          "name": "stdout",
          "text": [
            "Mounted at /content/gdrive\n"
          ]
        }
      ],
      "source": [
        "from google.colab import drive\n",
        "drive.mount('/content/gdrive', force_remount=True)"
      ]
    },
    {
      "cell_type": "code",
      "source": [
        "import pandas as pd\n",
        "import xml.etree.ElementTree as ET\n",
        "import io\n",
        "import xml.dom.minidom\n",
        "\n",
        "def iter_docs(author):\n",
        "  author_attr = author.attrib\n",
        "  for doc in author.iter('sentence'):\n",
        "    doc_dict = author_attr.copy()\n",
        "    for text in doc.iter('text'):\n",
        "      doc_dict['text'] = text.text\n",
        "      for cat in doc.iter('aspectCategory'):\n",
        "        doc_dict.update(cat.attrib)\n",
        "      yield doc_dict\n",
        "\n",
        "\n",
        "etree = ET.parse(\"/content/gdrive/MyDrive/train.xml\")\n",
        "doc_df = pd.DataFrame(list(iter_docs(etree.getroot())))"
      ],
      "metadata": {
        "id": "9a2RlAJbX6AG"
      },
      "execution_count": 180,
      "outputs": []
    },
    {
      "cell_type": "code",
      "source": [
        "doc_df.head()"
      ],
      "metadata": {
        "colab": {
          "base_uri": "https://localhost:8080/",
          "height": 206
        },
        "id": "CjWruD22YJgi",
        "outputId": "b7f0e6d3-3376-4911-aefb-35bebcfbd8f0"
      },
      "execution_count": 181,
      "outputs": [
        {
          "output_type": "execute_result",
          "data": {
            "text/html": [
              "\n",
              "  <div id=\"df-e84076d2-913b-46be-b6d1-319f800ac024\">\n",
              "    <div class=\"colab-df-container\">\n",
              "      <div>\n",
              "<style scoped>\n",
              "    .dataframe tbody tr th:only-of-type {\n",
              "        vertical-align: middle;\n",
              "    }\n",
              "\n",
              "    .dataframe tbody tr th {\n",
              "        vertical-align: top;\n",
              "    }\n",
              "\n",
              "    .dataframe thead th {\n",
              "        text-align: right;\n",
              "    }\n",
              "</style>\n",
              "<table border=\"1\" class=\"dataframe\">\n",
              "  <thead>\n",
              "    <tr style=\"text-align: right;\">\n",
              "      <th></th>\n",
              "      <th>text</th>\n",
              "      <th>category</th>\n",
              "      <th>polarity</th>\n",
              "    </tr>\n",
              "  </thead>\n",
              "  <tbody>\n",
              "    <tr>\n",
              "      <th>0</th>\n",
              "      <td>It might be the best sit down food I've had in...</td>\n",
              "      <td>place</td>\n",
              "      <td>neutral</td>\n",
              "    </tr>\n",
              "    <tr>\n",
              "      <th>1</th>\n",
              "      <td>Hostess was extremely accommodating when we ar...</td>\n",
              "      <td>miscellaneous</td>\n",
              "      <td>neutral</td>\n",
              "    </tr>\n",
              "    <tr>\n",
              "      <th>2</th>\n",
              "      <td>We were a couple of minutes late for our reser...</td>\n",
              "      <td>staff</td>\n",
              "      <td>negative</td>\n",
              "    </tr>\n",
              "    <tr>\n",
              "      <th>3</th>\n",
              "      <td>Though the service might be a little slow, the...</td>\n",
              "      <td>staff</td>\n",
              "      <td>positive</td>\n",
              "    </tr>\n",
              "    <tr>\n",
              "      <th>4</th>\n",
              "      <td>Although we arrived at the restaurant 10 min l...</td>\n",
              "      <td>miscellaneous</td>\n",
              "      <td>neutral</td>\n",
              "    </tr>\n",
              "  </tbody>\n",
              "</table>\n",
              "</div>\n",
              "      <button class=\"colab-df-convert\" onclick=\"convertToInteractive('df-e84076d2-913b-46be-b6d1-319f800ac024')\"\n",
              "              title=\"Convert this dataframe to an interactive table.\"\n",
              "              style=\"display:none;\">\n",
              "        \n",
              "  <svg xmlns=\"http://www.w3.org/2000/svg\" height=\"24px\"viewBox=\"0 0 24 24\"\n",
              "       width=\"24px\">\n",
              "    <path d=\"M0 0h24v24H0V0z\" fill=\"none\"/>\n",
              "    <path d=\"M18.56 5.44l.94 2.06.94-2.06 2.06-.94-2.06-.94-.94-2.06-.94 2.06-2.06.94zm-11 1L8.5 8.5l.94-2.06 2.06-.94-2.06-.94L8.5 2.5l-.94 2.06-2.06.94zm10 10l.94 2.06.94-2.06 2.06-.94-2.06-.94-.94-2.06-.94 2.06-2.06.94z\"/><path d=\"M17.41 7.96l-1.37-1.37c-.4-.4-.92-.59-1.43-.59-.52 0-1.04.2-1.43.59L10.3 9.45l-7.72 7.72c-.78.78-.78 2.05 0 2.83L4 21.41c.39.39.9.59 1.41.59.51 0 1.02-.2 1.41-.59l7.78-7.78 2.81-2.81c.8-.78.8-2.07 0-2.86zM5.41 20L4 18.59l7.72-7.72 1.47 1.35L5.41 20z\"/>\n",
              "  </svg>\n",
              "      </button>\n",
              "      \n",
              "  <style>\n",
              "    .colab-df-container {\n",
              "      display:flex;\n",
              "      flex-wrap:wrap;\n",
              "      gap: 12px;\n",
              "    }\n",
              "\n",
              "    .colab-df-convert {\n",
              "      background-color: #E8F0FE;\n",
              "      border: none;\n",
              "      border-radius: 50%;\n",
              "      cursor: pointer;\n",
              "      display: none;\n",
              "      fill: #1967D2;\n",
              "      height: 32px;\n",
              "      padding: 0 0 0 0;\n",
              "      width: 32px;\n",
              "    }\n",
              "\n",
              "    .colab-df-convert:hover {\n",
              "      background-color: #E2EBFA;\n",
              "      box-shadow: 0px 1px 2px rgba(60, 64, 67, 0.3), 0px 1px 3px 1px rgba(60, 64, 67, 0.15);\n",
              "      fill: #174EA6;\n",
              "    }\n",
              "\n",
              "    [theme=dark] .colab-df-convert {\n",
              "      background-color: #3B4455;\n",
              "      fill: #D2E3FC;\n",
              "    }\n",
              "\n",
              "    [theme=dark] .colab-df-convert:hover {\n",
              "      background-color: #434B5C;\n",
              "      box-shadow: 0px 1px 3px 1px rgba(0, 0, 0, 0.15);\n",
              "      filter: drop-shadow(0px 1px 2px rgba(0, 0, 0, 0.3));\n",
              "      fill: #FFFFFF;\n",
              "    }\n",
              "  </style>\n",
              "\n",
              "      <script>\n",
              "        const buttonEl =\n",
              "          document.querySelector('#df-e84076d2-913b-46be-b6d1-319f800ac024 button.colab-df-convert');\n",
              "        buttonEl.style.display =\n",
              "          google.colab.kernel.accessAllowed ? 'block' : 'none';\n",
              "\n",
              "        async function convertToInteractive(key) {\n",
              "          const element = document.querySelector('#df-e84076d2-913b-46be-b6d1-319f800ac024');\n",
              "          const dataTable =\n",
              "            await google.colab.kernel.invokeFunction('convertToInteractive',\n",
              "                                                     [key], {});\n",
              "          if (!dataTable) return;\n",
              "\n",
              "          const docLinkHtml = 'Like what you see? Visit the ' +\n",
              "            '<a target=\"_blank\" href=https://colab.research.google.com/notebooks/data_table.ipynb>data table notebook</a>'\n",
              "            + ' to learn more about interactive tables.';\n",
              "          element.innerHTML = '';\n",
              "          dataTable['output_type'] = 'display_data';\n",
              "          await google.colab.output.renderOutput(dataTable, element);\n",
              "          const docLink = document.createElement('div');\n",
              "          docLink.innerHTML = docLinkHtml;\n",
              "          element.appendChild(docLink);\n",
              "        }\n",
              "      </script>\n",
              "    </div>\n",
              "  </div>\n",
              "  "
            ],
            "text/plain": [
              "                                                text       category  polarity\n",
              "0  It might be the best sit down food I've had in...          place   neutral\n",
              "1  Hostess was extremely accommodating when we ar...  miscellaneous   neutral\n",
              "2  We were a couple of minutes late for our reser...          staff  negative\n",
              "3  Though the service might be a little slow, the...          staff  positive\n",
              "4  Although we arrived at the restaurant 10 min l...  miscellaneous   neutral"
            ]
          },
          "metadata": {},
          "execution_count": 181
        }
      ]
    },
    {
      "cell_type": "code",
      "source": [
        "doc_df.shape"
      ],
      "metadata": {
        "colab": {
          "base_uri": "https://localhost:8080/"
        },
        "id": "KHdsdJghIaaM",
        "outputId": "0b7e5e77-c9c0-48b0-fff1-430d62526701"
      },
      "execution_count": 182,
      "outputs": [
        {
          "output_type": "execute_result",
          "data": {
            "text/plain": [
              "(3134, 3)"
            ]
          },
          "metadata": {},
          "execution_count": 182
        }
      ]
    },
    {
      "cell_type": "code",
      "source": [
        "doc_df['category'].unique()"
      ],
      "metadata": {
        "colab": {
          "base_uri": "https://localhost:8080/"
        },
        "id": "jo4mItemcFiQ",
        "outputId": "224c6fe3-d685-4c9c-f58d-e6dd03f15b8f"
      },
      "execution_count": 183,
      "outputs": [
        {
          "output_type": "execute_result",
          "data": {
            "text/plain": [
              "array(['place', 'miscellaneous', 'staff', 'food', 'ambience', 'service',\n",
              "       'menu', 'price'], dtype=object)"
            ]
          },
          "metadata": {},
          "execution_count": 183
        }
      ]
    },
    {
      "cell_type": "code",
      "source": [
        "doc_df['polarity'].unique()"
      ],
      "metadata": {
        "colab": {
          "base_uri": "https://localhost:8080/"
        },
        "id": "S18gS9-6EB6X",
        "outputId": "28018369-fe5b-478f-95cb-97628324b0bb"
      },
      "execution_count": 184,
      "outputs": [
        {
          "output_type": "execute_result",
          "data": {
            "text/plain": [
              "array(['neutral', 'negative', 'positive'], dtype=object)"
            ]
          },
          "metadata": {},
          "execution_count": 184
        }
      ]
    },
    {
      "cell_type": "code",
      "source": [
        "df_category = pd.get_dummies(doc_df['category'], columns = ['food', 'place', 'staff', 'miscellaneous', 'service', 'price', 'menu', 'ambience'])"
      ],
      "metadata": {
        "id": "qJIUIDStbJYi"
      },
      "execution_count": 185,
      "outputs": []
    },
    {
      "cell_type": "code",
      "source": [
        "df_polarity = pd.get_dummies(doc_df['polarity'], columns = ['neutral', 'negative', 'positive'])"
      ],
      "metadata": {
        "id": "r3viKwtgFJBw"
      },
      "execution_count": 186,
      "outputs": []
    },
    {
      "cell_type": "code",
      "source": [
        "df = pd.concat([df_category, df_polarity], axis=1)"
      ],
      "metadata": {
        "id": "UDREQmUhEf6E"
      },
      "execution_count": 187,
      "outputs": []
    },
    {
      "cell_type": "code",
      "source": [
        "df = pd.concat([doc_df['text'], df], axis=1)"
      ],
      "metadata": {
        "id": "bQi967VvdRVj"
      },
      "execution_count": 188,
      "outputs": []
    },
    {
      "cell_type": "code",
      "source": [
        "df.head()"
      ],
      "metadata": {
        "colab": {
          "base_uri": "https://localhost:8080/",
          "height": 206
        },
        "id": "FQnqT6POdD5s",
        "outputId": "7389db2c-9d55-451b-aaad-49f3d176158b"
      },
      "execution_count": 189,
      "outputs": [
        {
          "output_type": "execute_result",
          "data": {
            "text/html": [
              "\n",
              "  <div id=\"df-ac304d7a-26bf-4678-b5af-b172d6cb77ea\">\n",
              "    <div class=\"colab-df-container\">\n",
              "      <div>\n",
              "<style scoped>\n",
              "    .dataframe tbody tr th:only-of-type {\n",
              "        vertical-align: middle;\n",
              "    }\n",
              "\n",
              "    .dataframe tbody tr th {\n",
              "        vertical-align: top;\n",
              "    }\n",
              "\n",
              "    .dataframe thead th {\n",
              "        text-align: right;\n",
              "    }\n",
              "</style>\n",
              "<table border=\"1\" class=\"dataframe\">\n",
              "  <thead>\n",
              "    <tr style=\"text-align: right;\">\n",
              "      <th></th>\n",
              "      <th>text</th>\n",
              "      <th>ambience</th>\n",
              "      <th>food</th>\n",
              "      <th>menu</th>\n",
              "      <th>miscellaneous</th>\n",
              "      <th>place</th>\n",
              "      <th>price</th>\n",
              "      <th>service</th>\n",
              "      <th>staff</th>\n",
              "      <th>negative</th>\n",
              "      <th>neutral</th>\n",
              "      <th>positive</th>\n",
              "    </tr>\n",
              "  </thead>\n",
              "  <tbody>\n",
              "    <tr>\n",
              "      <th>0</th>\n",
              "      <td>It might be the best sit down food I've had in...</td>\n",
              "      <td>0</td>\n",
              "      <td>0</td>\n",
              "      <td>0</td>\n",
              "      <td>0</td>\n",
              "      <td>1</td>\n",
              "      <td>0</td>\n",
              "      <td>0</td>\n",
              "      <td>0</td>\n",
              "      <td>0</td>\n",
              "      <td>1</td>\n",
              "      <td>0</td>\n",
              "    </tr>\n",
              "    <tr>\n",
              "      <th>1</th>\n",
              "      <td>Hostess was extremely accommodating when we ar...</td>\n",
              "      <td>0</td>\n",
              "      <td>0</td>\n",
              "      <td>0</td>\n",
              "      <td>1</td>\n",
              "      <td>0</td>\n",
              "      <td>0</td>\n",
              "      <td>0</td>\n",
              "      <td>0</td>\n",
              "      <td>0</td>\n",
              "      <td>1</td>\n",
              "      <td>0</td>\n",
              "    </tr>\n",
              "    <tr>\n",
              "      <th>2</th>\n",
              "      <td>We were a couple of minutes late for our reser...</td>\n",
              "      <td>0</td>\n",
              "      <td>0</td>\n",
              "      <td>0</td>\n",
              "      <td>0</td>\n",
              "      <td>0</td>\n",
              "      <td>0</td>\n",
              "      <td>0</td>\n",
              "      <td>1</td>\n",
              "      <td>1</td>\n",
              "      <td>0</td>\n",
              "      <td>0</td>\n",
              "    </tr>\n",
              "    <tr>\n",
              "      <th>3</th>\n",
              "      <td>Though the service might be a little slow, the...</td>\n",
              "      <td>0</td>\n",
              "      <td>0</td>\n",
              "      <td>0</td>\n",
              "      <td>0</td>\n",
              "      <td>0</td>\n",
              "      <td>0</td>\n",
              "      <td>0</td>\n",
              "      <td>1</td>\n",
              "      <td>0</td>\n",
              "      <td>0</td>\n",
              "      <td>1</td>\n",
              "    </tr>\n",
              "    <tr>\n",
              "      <th>4</th>\n",
              "      <td>Although we arrived at the restaurant 10 min l...</td>\n",
              "      <td>0</td>\n",
              "      <td>0</td>\n",
              "      <td>0</td>\n",
              "      <td>1</td>\n",
              "      <td>0</td>\n",
              "      <td>0</td>\n",
              "      <td>0</td>\n",
              "      <td>0</td>\n",
              "      <td>0</td>\n",
              "      <td>1</td>\n",
              "      <td>0</td>\n",
              "    </tr>\n",
              "  </tbody>\n",
              "</table>\n",
              "</div>\n",
              "      <button class=\"colab-df-convert\" onclick=\"convertToInteractive('df-ac304d7a-26bf-4678-b5af-b172d6cb77ea')\"\n",
              "              title=\"Convert this dataframe to an interactive table.\"\n",
              "              style=\"display:none;\">\n",
              "        \n",
              "  <svg xmlns=\"http://www.w3.org/2000/svg\" height=\"24px\"viewBox=\"0 0 24 24\"\n",
              "       width=\"24px\">\n",
              "    <path d=\"M0 0h24v24H0V0z\" fill=\"none\"/>\n",
              "    <path d=\"M18.56 5.44l.94 2.06.94-2.06 2.06-.94-2.06-.94-.94-2.06-.94 2.06-2.06.94zm-11 1L8.5 8.5l.94-2.06 2.06-.94-2.06-.94L8.5 2.5l-.94 2.06-2.06.94zm10 10l.94 2.06.94-2.06 2.06-.94-2.06-.94-.94-2.06-.94 2.06-2.06.94z\"/><path d=\"M17.41 7.96l-1.37-1.37c-.4-.4-.92-.59-1.43-.59-.52 0-1.04.2-1.43.59L10.3 9.45l-7.72 7.72c-.78.78-.78 2.05 0 2.83L4 21.41c.39.39.9.59 1.41.59.51 0 1.02-.2 1.41-.59l7.78-7.78 2.81-2.81c.8-.78.8-2.07 0-2.86zM5.41 20L4 18.59l7.72-7.72 1.47 1.35L5.41 20z\"/>\n",
              "  </svg>\n",
              "      </button>\n",
              "      \n",
              "  <style>\n",
              "    .colab-df-container {\n",
              "      display:flex;\n",
              "      flex-wrap:wrap;\n",
              "      gap: 12px;\n",
              "    }\n",
              "\n",
              "    .colab-df-convert {\n",
              "      background-color: #E8F0FE;\n",
              "      border: none;\n",
              "      border-radius: 50%;\n",
              "      cursor: pointer;\n",
              "      display: none;\n",
              "      fill: #1967D2;\n",
              "      height: 32px;\n",
              "      padding: 0 0 0 0;\n",
              "      width: 32px;\n",
              "    }\n",
              "\n",
              "    .colab-df-convert:hover {\n",
              "      background-color: #E2EBFA;\n",
              "      box-shadow: 0px 1px 2px rgba(60, 64, 67, 0.3), 0px 1px 3px 1px rgba(60, 64, 67, 0.15);\n",
              "      fill: #174EA6;\n",
              "    }\n",
              "\n",
              "    [theme=dark] .colab-df-convert {\n",
              "      background-color: #3B4455;\n",
              "      fill: #D2E3FC;\n",
              "    }\n",
              "\n",
              "    [theme=dark] .colab-df-convert:hover {\n",
              "      background-color: #434B5C;\n",
              "      box-shadow: 0px 1px 3px 1px rgba(0, 0, 0, 0.15);\n",
              "      filter: drop-shadow(0px 1px 2px rgba(0, 0, 0, 0.3));\n",
              "      fill: #FFFFFF;\n",
              "    }\n",
              "  </style>\n",
              "\n",
              "      <script>\n",
              "        const buttonEl =\n",
              "          document.querySelector('#df-ac304d7a-26bf-4678-b5af-b172d6cb77ea button.colab-df-convert');\n",
              "        buttonEl.style.display =\n",
              "          google.colab.kernel.accessAllowed ? 'block' : 'none';\n",
              "\n",
              "        async function convertToInteractive(key) {\n",
              "          const element = document.querySelector('#df-ac304d7a-26bf-4678-b5af-b172d6cb77ea');\n",
              "          const dataTable =\n",
              "            await google.colab.kernel.invokeFunction('convertToInteractive',\n",
              "                                                     [key], {});\n",
              "          if (!dataTable) return;\n",
              "\n",
              "          const docLinkHtml = 'Like what you see? Visit the ' +\n",
              "            '<a target=\"_blank\" href=https://colab.research.google.com/notebooks/data_table.ipynb>data table notebook</a>'\n",
              "            + ' to learn more about interactive tables.';\n",
              "          element.innerHTML = '';\n",
              "          dataTable['output_type'] = 'display_data';\n",
              "          await google.colab.output.renderOutput(dataTable, element);\n",
              "          const docLink = document.createElement('div');\n",
              "          docLink.innerHTML = docLinkHtml;\n",
              "          element.appendChild(docLink);\n",
              "        }\n",
              "      </script>\n",
              "    </div>\n",
              "  </div>\n",
              "  "
            ],
            "text/plain": [
              "                                                text  ...  positive\n",
              "0  It might be the best sit down food I've had in...  ...         0\n",
              "1  Hostess was extremely accommodating when we ar...  ...         0\n",
              "2  We were a couple of minutes late for our reser...  ...         0\n",
              "3  Though the service might be a little slow, the...  ...         1\n",
              "4  Although we arrived at the restaurant 10 min l...  ...         0\n",
              "\n",
              "[5 rows x 12 columns]"
            ]
          },
          "metadata": {},
          "execution_count": 189
        }
      ]
    },
    {
      "cell_type": "code",
      "source": [
        "data = df['text']\n",
        "data = list(data)\n",
        "labels = df.drop(['text'], axis = 1)"
      ],
      "metadata": {
        "id": "HeAOZHTUd2Dr"
      },
      "execution_count": 190,
      "outputs": []
    },
    {
      "cell_type": "code",
      "source": [
        "def split_training_and_validation_sets(data, labels, validation_split):\n",
        "\n",
        "    num_training_samples = int((1 - validation_split) * len(data))\n",
        "    return ((data[:num_training_samples], labels[:num_training_samples]),\n",
        "            (data[num_training_samples:], labels[num_training_samples:]))\n",
        "    \n",
        "(train_data, train_label), (valid_data, valid_label) = split_training_and_validation_sets(data, labels, 0.1)\n"
      ],
      "metadata": {
        "id": "eHMCF8Dgiav6"
      },
      "execution_count": 191,
      "outputs": []
    },
    {
      "cell_type": "code",
      "source": [
        "len(valid_data)"
      ],
      "metadata": {
        "colab": {
          "base_uri": "https://localhost:8080/"
        },
        "id": "N4bomd1B5wov",
        "outputId": "5aa87e78-d3fd-4e1b-9d56-b35f5bb1eb05"
      },
      "execution_count": 240,
      "outputs": [
        {
          "output_type": "execute_result",
          "data": {
            "text/plain": [
              "314"
            ]
          },
          "metadata": {},
          "execution_count": 240
        }
      ]
    },
    {
      "cell_type": "code",
      "source": [
        "print(valid_label)"
      ],
      "metadata": {
        "colab": {
          "base_uri": "https://localhost:8080/"
        },
        "id": "b9IpycIWN95t",
        "outputId": "f6e1efc0-1693-4747-fe5c-458203e4dcd4"
      },
      "execution_count": 193,
      "outputs": [
        {
          "output_type": "stream",
          "name": "stdout",
          "text": [
            "      ambience  food  menu  miscellaneous  ...  staff  negative  neutral  positive\n",
            "2820         0     1     0              0  ...      0         0        0         1\n",
            "2821         0     0     0              0  ...      0         1        0         0\n",
            "2822         0     0     1              0  ...      0         0        1         0\n",
            "2823         0     1     0              0  ...      0         1        0         0\n",
            "2824         0     1     0              0  ...      0         0        1         0\n",
            "...        ...   ...   ...            ...  ...    ...       ...      ...       ...\n",
            "3129         0     0     0              0  ...      1         1        0         0\n",
            "3130         0     0     1              0  ...      0         0        1         0\n",
            "3131         0     0     0              0  ...      0         0        1         0\n",
            "3132         0     0     0              0  ...      0         0        0         1\n",
            "3133         0     0     0              0  ...      1         1        0         0\n",
            "\n",
            "[314 rows x 11 columns]\n"
          ]
        }
      ]
    },
    {
      "cell_type": "code",
      "source": [
        "train_label = tf.convert_to_tensor(train_label, dtype=tf.float32)\n",
        "valid_label = tf.convert_to_tensor(valid_label, dtype=tf.float32)"
      ],
      "metadata": {
        "id": "k62-OybCjSyy"
      },
      "execution_count": 194,
      "outputs": []
    },
    {
      "cell_type": "code",
      "source": [
        "def sequence_vectorizer(train_data, valid_data):\n",
        "\n",
        "    # Create vocabulary with training texts.\n",
        "    tokenizer = text.Tokenizer(num_words=20000)\n",
        "    tokenizer.fit_on_texts(valid_data)\n",
        "\n",
        "    # Vectorize training and validation texts.\n",
        "    x_train = tokenizer.texts_to_sequences(train_data)\n",
        "    x_val = tokenizer.texts_to_sequences(valid_data)\n",
        "\n",
        "\n",
        "    # Fix sequence length to max value. Sequences shorter than the length are\n",
        "    # padded in the beginning and sequences longer are truncated\n",
        "    # at the beginning.\n",
        "    x_train = sequence.pad_sequences(x_train, maxlen=100)\n",
        "    x_val = sequence.pad_sequences(x_val, maxlen=100)\n",
        "\n",
        "    x_train = tf.convert_to_tensor(x_train, dtype=tf.float32)\n",
        "    x_val = tf.convert_to_tensor(x_val, dtype=tf.float32)\n",
        "\n",
        "    return x_train, x_val, tokenizer.word_index"
      ],
      "metadata": {
        "id": "l4VmxGU1Mm3g"
      },
      "execution_count": 195,
      "outputs": []
    },
    {
      "cell_type": "code",
      "source": [
        "x_train, x_val, word_index = sequence_vectorizer(train_data, valid_data)"
      ],
      "metadata": {
        "id": "ZqNhrBt0M9xp"
      },
      "execution_count": 196,
      "outputs": []
    },
    {
      "cell_type": "code",
      "source": [
        "x_train.shape"
      ],
      "metadata": {
        "colab": {
          "base_uri": "https://localhost:8080/"
        },
        "id": "YWvZ7tuS5Lpc",
        "outputId": "ed11a519-1b36-4e7e-97dc-78cc8d2232f0"
      },
      "execution_count": 197,
      "outputs": [
        {
          "output_type": "execute_result",
          "data": {
            "text/plain": [
              "TensorShape([2820, 100])"
            ]
          },
          "metadata": {},
          "execution_count": 197
        }
      ]
    },
    {
      "cell_type": "code",
      "source": [
        "print(word_index)"
      ],
      "metadata": {
        "colab": {
          "base_uri": "https://localhost:8080/"
        },
        "id": "krBWnuRmrUPC",
        "outputId": "ba033014-65fa-48af-ea97-70fd91275539"
      },
      "execution_count": 198,
      "outputs": [
        {
          "output_type": "stream",
          "name": "stdout",
          "text": [
            "{'the': 1, 'and': 2, 'to': 3, 'a': 4, 'was': 5, 'of': 6, 'we': 7, 'for': 8, 'i': 9, 'our': 10, 'is': 11, 'us': 12, 'in': 13, 'but': 14, 'food': 15, 'were': 16, 'it': 17, 'with': 18, 'service': 19, 'at': 20, 'that': 21, 'not': 22, 'waiter': 23, 'on': 24, 'had': 25, 'you': 26, 'menu': 27, 'have': 28, 'they': 29, 'my': 30, 'drinks': 31, 'when': 32, 'dinner': 33, 'bar': 34, 'be': 35, 'table': 36, 'after': 37, 'get': 38, 'are': 39, 'if': 40, 'or': 41, 'there': 42, 'so': 43, 'as': 44, 'out': 45, 'from': 46, 'good': 47, 'time': 48, 'manager': 49, 'just': 50, 'great': 51, 'staff': 52, 'very': 53, 'place': 54, 'waitress': 55, 'even': 56, 'their': 57, 'wait': 58, 'up': 59, 'more': 60, 'by': 61, 'all': 62, 'asked': 63, 'meal': 64, 'an': 65, 'order': 66, 'about': 67, 'over': 68, 'he': 69, 'one': 70, 'drink': 71, 'could': 72, 'which': 73, 'while': 74, 'your': 75, 'only': 76, 'came': 77, 'party': 78, 'wine': 79, 'me': 80, 'restaurant': 81, 'before': 82, 'minutes': 83, '2': 84, 'hostess': 85, 'seated': 86, 'them': 87, 'like': 88, 'people': 89, 'room': 90, 'took': 91, 'this': 92, 'did': 93, 'tables': 94, 'down': 95, 'other': 96, 'though': 97, 'can': 98, 'long': 99, 'then': 100, 'check': 101, 'another': 102, 'never': 103, 'who': 104, 'dining': 105, 'go': 106, 'much': 107, 'some': 108, 'than': 109, 'rude': 110, \"didn't\": 111, 'nice': 112, 'no': 113, 'off': 114, 'appetizers': 115, 'lunch': 116, 'water': 117, 'well': 118, 'waiting': 119, 'atmosphere': 120, 'has': 121, 'waiters': 122, 'said': 123, 'here': 124, \"it's\": 125, 'night': 126, 'would': 127, 'told': 128, 'reservation': 129, 'small': 130, 'empty': 131, 'little': 132, 'got': 133, 'crowd': 134, 'because': 135, 'know': 136, 'two': 137, 'price': 138, 'every': 139, \"don't\": 140, 'eat': 141, 'brought': 142, 'nothing': 143, 'her': 144, 'went': 145, 'what': 146, 'really': 147, 'hour': 148, 'ordered': 149, 'around': 150, 'any': 151, 'take': 152, 'attentive': 153, 'portions': 154, 'few': 155, 'many': 156, 'coffee': 157, 'half': 158, 'seat': 159, 'prices': 160, 'still': 161, 'without': 162, 'main': 163, 'area': 164, 'server': 165, 'bill': 166, 'do': 167, 'served': 168, 'leave': 169, 'back': 170, '30': 171, 'next': 172, 'gave': 173, 'see': 174, 'better': 175, 'having': 176, '20': 177, 'waited': 178, 'however': 179, '1': 180, 'being': 181, 'instead': 182, 'average': 183, 'perfect': 184, 'glass': 185, 'spot': 186, 'worth': 187, 'where': 188, 'once': 189, 'since': 190, 'course': 191, 'etc': 192, 'how': 193, 'bad': 194, 'expect': 195, 'times': 196, 'reservations': 197, 'going': 198, 'been': 199, 'space': 200, 'start': 201, 'enough': 202, 'cheese': 203, 'large': 204, 'beer': 205, 'last': 206, 'list': 207, 'friends': 208, 'ask': 209, 'too': 210, 'entire': 211, 'make': 212, 'him': 213, 'selection': 214, 'left': 215, 'each': 216, 'slow': 217, 'into': 218, 'its': 219, 'hard': 220, 'offer': 221, 'although': 222, 'promptly': 223, '12': 224, 'french': 225, '3': 226, \"wasn't\": 227, 'packed': 228, 'entree': 229, 'group': 230, 'hot': 231, 'sushi': 232, 'want': 233, 'specials': 234, 'sitting': 235, 'first': 236, 'kept': 237, 'chicken': 238, 'tell': 239, 'outside': 240, 'end': 241, 'always': 242, 'anything': 243, 'wanted': 244, 'menus': 245, 'host': 246, 'bartender': 247, 'chef': 248, 'desert': 249, 'several': 250, 'made': 251, 'cuisine': 252, 'new': 253, 'excellent': 254, 'sit': 255, 'together': 256, 'spent': 257, 'dessert': 258, 'same': 259, 'something': 260, 'quite': 261, 'way': 262, 'entrees': 263, 'family': 264, 'serving': 265, 'might': 266, 'best': 267, 'pizza': 268, 'yet': 269, 'reserved': 270, 'she': 271, 'charge': 272, 'black': 273, \"you're\": 274, 'bottle': 275, 'finish': 276, 'old': 277, 'appetizer': 278, 'salad': 279, 'kind': 280, 'arrived': 281, '5': 282, 'heard': 283, '100': 284, 'wrong': 285, 'attitude': 286, 'give': 287, 'saturday': 288, 'pork': 289, 'bit': 290, 'despite': 291, 'big': 292, 'available': 293, 'entrance': 294, 'top': 295, 'bread': 296, 'front': 297, 'orders': 298, 'things': 299, 'ice': 300, 'cream': 301, 'free': 302, 'rice': 303, 'busy': 304, 'later': 305, 'under': 306, 'walked': 307, 'restaurants': 308, 'fine': 309, 'hours': 310, 'spicy': 311, 'offered': 312, 'during': 313, 'ambiance': 314, 'eating': 315, 'am': 316, 'customers': 317, 'three': 318, 'late': 319, 'makes': 320, \"couldn't\": 321, 'meals': 322, 'especially': 323, 'love': 324, 'korean': 325, 'york': 326, 'such': 327, 'evening': 328, 'upstairs': 329, 'different': 330, 'corner': 331, 'glasses': 332, 'along': 333, 'found': 334, 'friendly': 335, 'flag': 336, 'poor': 337, 'sat': 338, 'happened': 339, 'pasta': 340, 'dish': 341, 'quickly': 342, 'ever': 343, 'scene': 344, 'decor': 345, 'set': 346, 'pancakes': 347, 'pay': 348, 'martini': 349, 'fries': 350, 'almost': 351, '10': 352, 'finally': 353, 'repeatedly': 354, 'someone': 355, 'cocktail': 356, 'waitresses': 357, 'warm': 358, 'vegetables': 359, 'thought': 360, 'music': 361, 'lot': 362, 'waitstaff': 363, 'sake': 364, 'world': 365, 'friday': 366, 'lounge': 367, 'should': 368, 'ok': 369, 'his': 370, 'finished': 371, 'looking': 372, 'noodles': 373, 'didnt': 374, 'let': 375, 'serve': 376, 'mins': 377, 'looked': 378, 'both': 379, '45': 380, 'spending': 381, 'wines': 382, 'compensate': 383, 'bus': 384, 'making': 385, 'eye': 386, 'counter': 387, 'incredibly': 388, 'complaint': 389, 'chocolate': 390, 'also': 391, 'high': 392, \"you'd\": 393, 'come': 394, 'round': 395, 'decided': 396, 'maybe': 397, 'choices': 398, 'put': 399, 'week': 400, 'comes': 401, 'think': 402, \"i'm\": 403, 'taking': 404, 'date': 405, 'casual': 406, 'delivered': 407, 'home': 408, 'owner': 409, \"won't\": 410, 'decent': 411, \"there's\": 412, 'fixe': 413, 'items': 414, 'romantic': 415, 'less': 416, 'say': 417, 'cafe': 418, 'true': 419, 'years': 420, '15': 421, 'treated': 422, 'hungry': 423, 'fare': 424, 'used': 425, 'special': 426, 'plates': 427, 'brunch': 428, 'everything': 429, 'pricey': 430, 'walk': 431, 'right': 432, 'asking': 433, 'snacks': 434, 'choose': 435, 'tasty': 436, 'neglected': 437, 'asian': 438, 'egg': 439, 'oil': 440, 'flavored': 441, 'trendy': 442, 'cost': 443, 'anyone': 444, 'entirely': 445, 'again': 446, \"i've\": 447, 'noticed': 448, 'gone': 449, 'beers': 450, 'behind': 451, 'help': 452, 'move': 453, 'prompt': 454, 'setting': 455, 'private': 456, 'received': 457, 'disappointed': 458, 'calamari': 459, 'tasteless': 460, '6': 461, 'seemed': 462, 'forget': 463, 'disappeared': 464, 'definitely': 465, 'recommend': 466, 'alone': 467, 'desired': 468, 'eaten': 469, 'ny': 470, 'management': 471, 'claimed': 472, 'older': 473, 'parties': 474, 'town': 475, 'lack': 476, 'crispy': 477, 'atrocious': 478, 'rushed': 479, 'track': 480, \"you'll\": 481, 'school': 482, 'white': 483, 'wood': 484, 'ambience': 485, 'crowds': 486, 'bass': 487, 'refused': 488, 'quiet': 489, 'cold': 490, 'windows': 491, 'open': 492, 'garden': 493, 'noon': 494, 'catch': 495, 'sort': 496, 'shoot': 497, 'minute': 498, 'weekend': 499, 'finishing': 500, 'forgot': 501, 'side': 502, 'dishes': 503, 'enjoying': 504, 'busboys': 505, 'texture': 506, 'flat': 507, 'understand': 508, 'garlic': 509, 'servers': 510, 'telling': 511, 'these': 512, 'ten': 513, 'ingredients': 514, 'crust': 515, 'except': 516, 'does': 517, 'lobster': 518, 'delicious': 519, 'may': 520, 'unable': 521, 'absolutely': 522, 'yes': 523, 'seem': 524, 'fill': 525, 'establishments': 526, 'customer': 527, 'overpriced': 528, 'tiny': 529, 'desserts': 530, 'horrendous': 531, 'shows': 532, 'often': 533, 'contact': 534, 'sharing': 535, 'business': 536, 'says': 537, 'offers': 538, 'favorites': 539, 'mustard': 540, 'greens': 541, 'between': 542, 'fun': 543, 'watching': 544, 'talking': 545, 'monday': 546, 'sauce': 547, 'hair': 548, 'consists': 549, 'traditional': 550, 'recommended': 551, 'done': 552, 'smaller': 553, 'getting': 554, 'crowded': 555, 'platters': 556, 'band': 557, 'names': 558, 'use': 559, 'serious': 560, 'courteous': 561, 'rooms': 562, 'various': 563, 'courses': 564, 'flagged': 565, 'cheap': 566, 'surprise': 567, 'chefs': 568, 'stop': 569, 'play': 570, 'tip': 571, 'patrons': 572, 'b': 573, 'c': 574, 'frustrated': 575, 'sweet': 576, 'knew': 577, 'generous': 578, \"doesn't\": 579, 'mean': 580, 'second': 581, 'suggested': 582, '40': 583, 'soft': 584, 'part': 585, 'started': 586, 'door': 587, 'friend': 588, 'ready': 589, 'required': 590, 'saw': 591, 'work': 592, 'quick': 593, 'seats': 594, 'due': 595, '10mins': 596, 'guacamole': 597, 'sign': 598, 'destination': 599, 'clientele': 600, 'straight': 601, 'plus': 602, 'chance': 603, 'relatively': 604, 'near': 605, 'impossible': 606, 'below': 607, 'fool': 608, '25': 609, 'prix': 610, 'deal': 611, 'money': 612, 'mediocre': 613, 'given': 614, 'seating': 615, 'label': 616, 'ahead': 617, 'barely': 618, 'throughout': 619, 'style': 620, 'run': 621, 'original': 622, 'rich': 623, 'wrapped': 624, 'plain': 625, 'busboy': 626, 'ignored': 627, 'noise': 628, 'paid': 629, 'air': 630, \"that's\": 631, 'sample': 632, 'superb': 633, 'creations': 634, 'remember': 635, 'rolls': 636, 'paper': 637, 'cute': 638, 'find': 639, 'apologize': 640, \"waiter's\": 641, 'attention': 642, 'pre': 643, 'full': 644, 'asks': 645, 'value': 646, 'nearly': 647, 'playing': 648, 'pretty': 649, 'booked': 650, 'ended': 651, 'pot': 652, 'far': 653, 'daily': 654, 'earned': 655, 'star': 656, 'coat': 657, 'seems': 658, 'walking': 659, 'presented': 660, 'five': 661, 'provide': 662, 'specific': 663, 'fresh': 664, 'twice': 665, 'starting': 666, 'huge': 667, 'across': 668, 'rudely': 669, 'care': 670, 'stuff': 671, 'steak': 672, 'reflect': 673, 'soon': 674, 'sip': 675, 'spilled': 676, 'fix': 677, 'whether': 678, 'pongal': 679, 'suggestions': 680, 'greeted': 681, 'suspect': 682, 'quality': 683, 'dry': 684, 'sure': 685, 'call': 686, 'request': 687, 'able': 688, 'inexpensive': 689, 'presentation': 690, 'clever': 691, 'accompanied': 692, 'feel': 693, \"dish's\": 694, 'add': 695, 'consider': 696, 'resist': 697, 'expensive': 698, 'extremely': 699, 'greasy': 700, 'alternatives': 701, 'whites': 702, 'pam': 703, 'spray': 704, 'crystal': 705, 'rock': 706, 'office': 707, 'sqc': 708, 'light': 709, 'oysters': 710, 'shell': 711, 'honest': 712, 'enjoyed': 713, 'separate': 714, 'practically': 715, 'opened': 716, 'flawed': 717, 'cleaning': 718, 'ruin': 719, 'occupied': 720, 'whole': 721, 'attempted': 722, 'digest': 723, 'browse': 724, 'members': 725, 'approached': 726, 'co': 727, 'workers': 728, 'moved': 729, 'silverware': 730, 'considering': 731, 'reply': 732, '9': 733, 'apetizers': 734, 'fact': 735, 'tough': 736, 'mess': 737, 'simple': 738, 'must': 739, 'admit': 740, 'inordinate': 741, 'somebody': 742, 'lacking': 743, 'trip': 744, 'esca': 745, 'fish': 746, 'agrees': 747, 'baked': 748, 'ziti': 749, 'classic': 750, 'strangers': 751, 'north': 752, \"square's\": 753, 'discreet': 754, 'sedate': 755, 'appeals': 756, 'largley': 757, 'occupying': 758, 'whilst': 759, 'younger': 760, 'idea': 761, 'mingle': 762, 'outrageous': 763, 'cover': 764, 'wear': 765, 'fit': 766, 'watered': 767, 'lucky': 768, \"island's\": 769, 'cited': 770, 'thick': 771, 'salt': 772, 'vinegar': 773, 'chips': 774, 'satisfies': 775, 'craving': 776, 'tracked': 777, 'pour': 778, 'mapquest': 779, 'arrive': 780, 'early': 781, 'fabulous': 782, 'tablecloths': 783, 'covering': 784, 'closely': 785, 'accents': 786, 'turned': 787, 'noses': 788, 'firelight': 789, 'boisterous': 790, 'drinking': 791, 'endive': 792, 'bleu': 793, 'surprisingly': 794, 'balanced': 795, 'striped': 796, 'bed': 797, '4th': 798, 'assured': 799, 'starters': 800, 'roofdeck': 801, 'somethings': 802, 'leaves': 803, 'runs': 804, 'chickens': 805, 'heads': 806, 'stand': 807, 'rail': 808, 'leafy': 809, 'summertime': 810, 'partially': 811, 'forced': 812, 'noisily': 813, 'chatting': 814, 'hanging': 815, 'w': 816, 'loungable': 817, 'chairs': 818, 'booths': 819, 'beside': 820, 'unfriendly': 821, 'words': 822, 'wisked': 823, 'away': 824, \"maitre'd\": 825, 'eyes': 826, 'downside': 827, 'nowhere': 828, 'experienced': 829, 'thing': 830, 'annoying': 831, 'rushing': 832, 'plenty': 833, 'leftovers': 834, 'actually': 835, 'lots': 836, 'chinese': 837, 'hear': 838, \"wouldn't\": 839, 'freshness': 840, 'perfection': 841, 'truly': 842, 'offering': 843, 'chilean': 844, 'sea': 845, 'written': 846, 'board': 847, 'correct': 848, 'steep': 849, 'demonstrate': 850, 'professionalism': 851, 'mentality': 852, 'terrible': 853, 'watied': 854, 'afordable': 855, 'couple': 856, 'dissatisfied': 857, 'uncomfortable': 858, 'rush': 859, 'bromberg': 860, 'brothers': 861, 'lousy': 862, 'sophistication': 863, 'sangria': 864, 'persons': 865, 'dart': 866, 'forth': 867, 'through': 868, 'needs': 869, 'bacon': 870, 'cheeseburger': 871, 'ridiculous': 872, 'announced': 873, '4': 874, 'zinc': 875, 'plush': 876, 'couches': 877, 'patterned': 878, 'suede': 879, 'walls': 880, 'swank': 881, \"midtown's\": 882, 'china': 883, 'mellow': 884, 'lake': 885, 'tung': 886, 'ting': 887, 'shrimp': 888, 'hunan': 889, 'peppery': 890, 'sichuan': 891, 'tofu': 892, 'minced': 893, 'shanghainese': 894, 'soups': 895, 'pickled': 896, 'window': 897, 'weekday': 898, 'prior': 899, 'agreed': 900, 'mariano': 901, 'helpful': 902, 'problems': 903, 'listed': 904, 'will': 905, 'provid': 906, 'smile': 907, 'nearby': 908, 'dropped': 909, 'tray': 910, 'splattered': 911, 'neck': 912, 'sweater': 913, \"boyfriend's\": 914, 'clothes': 915, 'talk': 916, 'sending': 917, 'previously': 918, 'seen': 919, 'doing': 920, 'tasting': 921, 'austrian': 922, 'american': 923, \"chef's\": 924, 'edge': 925, 'narrow': 926, 'shoved': 927, 'desparate': 928, 'job': 929, 'try': 930, 'became': 931, 'unpleasant': 932, 'towards': 933, 'sandwiches': 934, 'pitzas': 935, 'notch': 936, 'pita': 937, 'babaganoush': 938, 'positioned': 939, 'roughly': 940, 'size': 941, 'living': 942, 'enthused': 943, 'bustling': 944, 'unpretentious': 945, 'lusciously': 946, 'lighting': 947, \"they'll\": 948, 'honor': 949, 'skip': 950, 'massive': 951, 'spoken': 952, 'yelled': 953, 'knows': 954, \"patrons'\": 955, 'dogs': 956, 'assistance': 957, 'tasted': 958, 'swap': 959, 'petron': 960, 'margarita': 961, 'wearing': 962, 'suits': 963, 'knowledgeable': 964, 'ornate': 965, 'convivial': 966, 'celebrating': 967, 'interspersed': 968, 'dressed': 969, 'couples': 970, 'dates': 971, 'spectacular': 972, 'hand': 973, 'painted': 974, 'ceiling': 975, 'admitted': 976, 'joint': 977, 'snide': 978, 'gruff': 979, 'man': 980, 'suited': 981, 'trucker': 982, 'shop': 983, 'rest': 984, 'sporadically': 985, 'refilled': 986, 'demanding': 987, 'third': 988, 'bail': 989, 'horrific': 990, 'import': 991, 'line': 992, 'most': 993, 'burgers': 994, 'pleasant': 995, 'enhanced': 996, '1999': 997, 'pinot': 998, 'grigio': 999, 'recmmended': 1000, 'cool': 1001, 'afternoon': 1002, 'games': 1003, 'complimentary': 1004, 'lava': 1005, 'cake': 1006, 'scoop': 1007, 'cinnamon': 1008, 'shock': 1009, 'stinking': 1010, 'penny': 1011, 'added': 1012, 'sipping': 1013, 'explained': 1014, 'detail': 1015, 'everytime': 1016, 'aspect': 1017, 'dylan': 1018, 'prime': 1019, 'bite': 1020, 'gentleman': 1021, 'checked': 1022, 'book': 1023, 'aloof': 1024, 'timely': 1025, 'fashion': 1026, 'hunt': 1027, 'liked': 1028, 'error': 1029, 'taken': 1030, 'cocktails': 1031, 'unaccomidating': 1032, 'substutions': 1033, 'entertained': 1034, 'enormous': 1035, 'heaping': 1036, 'plate': 1037, \"c'mon\": 1038, 'porridge': 1039, 'hit': 1040, 'fighting': 1041, 'chinatown': 1042, 'bottles': 1043, 'helped': 1044, 'pick': 1045, 'quaint': 1046, 'expectations': 1047, 'gonna': 1048, 'relaxed': 1049, 'neighborhooders': 1050, 'treat': 1051, 'calling': 1052, 'name': 1053, 'lingering': 1054, 'smallish': 1055, 'hurried': 1056, 'worked': 1057, 'rehearsal': 1058, 'wasa': 1059, 'waffle': 1060, 'spoke': 1061, 'inmediatly': 1062, 'changed': 1063, 'decadence': 1064, 'toast': 1065, 'inedible': 1066, 'burned': 1067, 'heat': 1068, 'lamp': 1069, 'inattentive': 1070, 'forgetful': 1071, 'subjected': 1072, 'abrupt': 1073, 'unmercifully': 1074, 'waits': 1075, 'moment': 1076, 'lied': 1077, 'placed': 1078, 'oh': 1079, 'now': 1080, 'expressed': 1081, 'chimed': 1082, \"simpleton's\": 1083, 'remark': 1084, 'sir': 1085, 'coming': 1086, 'minimum': 1087, 'experiences': 1088, 'spill': 1089, \"diner's\": 1090, 'foot': 1091, \"'97\": 1092, 'italian': 1093, 'red': 1094, 'join': 1095, 'ours': 1096, 'abruptly': 1097, 'complaints': 1098, 'perhaps': 1099, 'unfortunate': 1100, 'encounter': 1101, 'cranky': 1102, 'realize': 1103, 'weird': 1104, 'form': 1105, 'standing': 1106, '7': 1107, 'portion': 1108, 'stack': 1109, 'si': 1110, 'ortega': 1111, 'taco': 1112, 'shells': 1113, '26': 1114, 'tap': 1115, 'pull': 1116, 'pint': 1117, 'need': 1118, 'crew': 1119, 'alittle': 1120, 'point': 1121, 'grime': 1122, 'clean': 1123, 'superfine': 1124, 'preferred': 1125, 'city': 1126, 'hip': 1127, 'extraordinary': 1128, 'chat': 1129, 'pool': 1130, 'beautiful': 1131, 'gay': 1132, '146': 1133, 'll': 1134, 'random': 1135, 'famous': 1136, 'actors': 1137, 'occasion': 1138, 'upwards': 1139, '200': 1140, 'feeling': 1141, 'unsatisfied': 1142, 'watch': 1143, 'cozy': 1144, 'priced': 1145, 'bolognese': 1146, \"we've\": 1147, 'disappoint': 1148, 'heeled': 1149, 'fashionable': 1150, 'packs': 1151, 'polished': 1152, 'partitioned': 1153, 'settling': 1154, 'located': 1155, 'farthest': 1156, 'bagels': 1157, 'softness': 1158, 'crispiness': 1159, 'hold': 1160, 'stuttering': 1161, 'majority': 1162, 'atmostphere': 1163, 'cheesy': 1164, 'sounds': 1165, '35': 1166, 'clearly': 1167, 'defensively': 1168, 'insisted': 1169, 'lb': 1170, \"host's\": 1171, 'explanation': 1172, 'control': 1173, 'nasty': 1174, 'hosts': 1175, \"'friends'\": 1176, 'immediately': 1177, 'buffalo': 1178, 'cajun': 1179, 'wraps': 1180, 'salads': 1181, 'enjoy': 1182, 'team': 1183, 'whisked': 1184, 'mysteriously': 1185, 'stayed': 1186, 'booth': 1187, \"would've\": 1188, 'intrusive': 1189, 'loud': 1190, 'filter': 1191, 'thru': 1192, 'grandmother': 1193, 'law': 1194, 'problem': 1195, 'replace': 1196, 'itself': 1197, 'opens': 1198, 'outdoors': 1199, 'seedy': 1200, 'homey': 1201, 'share': 1202, 'summer': 1203, 'outdoor': 1204, 'cava': 1205, 'candles': 1206, 'spanish': 1207, 'antiques': 1208, 'deep': 1209, 'flavor': 1210, 'departure': 1211, 'saying': 1212, 'goodnight': 1213, 'staples': 1214, 'tacos': 1215, 'tortillas': 1216, 'stuffed': 1217, 'beans': 1218, 'burritos': 1219, 'beef': 1220, 'breaded': 1221, 'catfish': 1222, 'pipian': 1223, 'chipotle': 1224, 'choice': 1225, 'four': 1226, 'sauces': 1227, 'mild': 1228, 'stupid': 1229, 'elegance': 1230, 'diff': 1231, 'already': 1232, '8': 1233, 'p': 1234, 'remained': 1235, 'easily': 1236, 'chatted': 1237, 'amongst': 1238, 'themselves': 1239, 'completely': 1240, 'closed': 1241, 'level': 1242, 'equivalent': 1243, 'sports': 1244, 'hoping': 1245, 'stale': 1246, 'shot': 1247, 'deplorable': 1248, \"aren't\": 1249, 'enthusiastic': 1250, 'theatrical': 1251, 'product': 1252, 'tan': 1253, 'dream': 1254, 'those': 1255, 'blackened': 1256, 'bubbles': 1257, 'chewy': 1258, 'center': 1259, 'complaining': 1260, 'options': 1261, 'appealing': 1262, 'beg': 1263, 'appetizing': 1264, 'weekends': 1265, 'health': 1266, 'conscious': 1267, 'century': 1268, 'likely': 1269, 'pub': 1270, 'grub': 1271, 'booze': 1272, 'excellant': 1273, 'custom': 1274, 'smell': 1275, 'unbearable': 1276, 'norm': 1277, 'plan': 1278, 'diners': 1279, 'rudes': 1280, 'brings': 1281, 'owners': 1282, 'visit': 1283, 'frequently': 1284, 'pouring': 1285, 'herself': 1286, 'own': 1287, 'aplogized': 1288, 'informative': 1289, 'works': 1290, 'delivering': 1291, 'crisp': 1292, 'crackling': 1293, 'spring': 1294, 'shredded': 1295, 'boy': 1296, 'retreived': 1297, 'interested': 1298, 'soggy': 1299, 'looks': 1300, 'homestyle': 1301, 'sf': 1302, '1hr': 1303, '8pm': 1304, 'loungy': 1305, 'club': 1306, \"rec'd\": 1307, 'watched': 1308, 'trying': 1309, 'posing': 1310, 'soda': 1311, 'fountain': 1312, 'soufle': 1313, 'believe': 1314, 'nope': 1315, 'soufles': 1316, 'seperate': 1317, 'embracing': 1318, 'enticing': 1319, 'costs': 1320, '55': 1321, 'initial': 1322, 'refill': 1323, 'husband': 1324, 'entreee': 1325, 'pass': 1326, 'royalty': 1327, 'hamburger': 1328, 'showed': 1329, 'mussels': 1330, 'focused': 1331, 'bothered': 1332, 'filet': 1333, 'hearty': 1334, 'apitites': 1335, 'moderate': 1336, 'easy': 1337, 'conversation': 1338, 'fairly': 1339, 'close': 1340, 'ate': 1341, 'default': 1342, 'meatpacking': 1343, 'district': 1344, 'treating': 1345, 'planned': 1346, 'holiday': 1347, 'kurio': 1348, 'usually': 1349, 'happens': 1350, 'provides': 1351, 'boiling': 1352, 'sunken': 1353, 'surface': 1354, 'thin': 1355, 'sliced': 1356, 'meats': 1357, 'kiev': 1358, 'mashed': 1359, 'potato': 1360, 'roll': 1361, 'snooty': 1362, 'match': 1363, 'blue': 1364, 'ribbon': 1365, 'cult': 1366, 'following': 1367, 'till': 1368, 'hipsters': 1369, 'celebrities': 1370, 'sashimi': 1371, 'lovers': 1372, 'soho': 1373, 'locals': 1374, 'breath': 1375, 'lengthy': 1376, 'pro': 1377, 'system': 1378, 'rating': 1379, 'running': 1380, 'park': 1381, 'trench': 1382, 'prepared': 1383, 'expert': 1384, 'delectable': 1385, 'fifteen': 1386, 'confusion': 1387, 'reign': 1388, 'giving': 1389, 'evil': 1390, 'progress': 1391, 'turn': 1392, 'paying': 1393, 'mind': 1394, 'generally': 1395, 'comfortably': 1396, 'selections': 1397, 'separately': 1398, '80': 1399, 'confused': 1400, 'champagne': 1401, 'chatty': 1402, 'sides': 1403, 'requested': 1404, 'pushing': 1405, 'inside': 1406, 'delivery': 1407, 'thursday': 1408, 'pieces': 1409, 'u': 1410, 'r': 1411, \"'buffet'\": 1412, 'rather': 1413, 'limited': 1414, 'bigger': 1415, 'sin': 1416, 'totaled': 1417, 'incorrectly': 1418, 'preview': 1419, 'coca': 1420, 'cola': 1421, 'dominates': 1422, 'whisk': 1423, \"'cue\": 1424, 'sidewalk': 1425, 'patio': 1426, 'tiem': 1427, 'characters': 1428, 'ar': 1429, 'brasserie': 1430, 'bland': 1431, 'eatten': 1432, 'public': 1433, 'sunday': 1434, 'arrogant': 1435, 'despicable': 1436, 'reminder': 1437, 'industry': 1438, 'storefront': 1439, 'eatery': 1440, 'decked': 1441, 'colorful': 1442, 'mexican': 1443, 'art': 1444, 'kitsch': 1445, 'gets': 1446, 'dim': 1447, 'moody': 1448, 'evenings': 1449, 'suit': 1450, 'zero': 1451, 'pseudo': 1452, 'perfectly': 1453, 'besides': 1454, 'annoyances': 1455, 'bleaching': 1456, 'floors': 1457, 'automatically': 1458, 'charging': 1459, 'gratuity': 1460, 'credit': 1461, 'card': 1462, 'knowledge': 1463, 'continued': 1464, 'okay': 1465, 'actions': 1466, 'cups': 1467, 'tom': 1468, \"valenti's\": 1469, 'cooks': 1470, 'masculine': 1471, 'meat': 1472, 'potatoes': 1473, 'terrines': 1474, 'mustards': 1475, 'eggs': 1476, 'bitter': 1477, 'ruins': 1478, 'college': 1479, 'kids': 1480, 'pair': 1481, 'adults': 1482, 'advantage': 1483, 'margaritas': 1484, 'nobu': 1485, 'denied': 1486, '2nd': 1487, 'coupon': 1488, 'returned': 1489, 'slightly': 1490, '1pm': 1491, 'avoid': 1492, 'lines': 1493, 'bartenders': 1494, 'approx': 1495, 'unusual': 1496, 'preety': 1497, 'louder': 1498, 'thn': 1499, 'clients': 1500, \"can't\": 1501, 'flinging': 1502, 'happen': 1503, 'read': 1504, 'posted': 1505, 'ranging': 1506, 'citrus': 1507, 'salmon': 1508, 'pan': 1509, 'seared': 1510, 'trout': 1511, 'pie': 1512, 'sirlion': 1513, 'fried': 1514, 'secret': 1515, 'ingredient': 1516, 'dipping': 1517, 'noisy': 1518, 'become': 1519, '5pm': 1520, 'additionally': 1521, 'necessary': 1522, 'gotten': 1523, 'warmer': 1524, 'friendlier': 1525, 'welcome': 1526, 'outstanding': 1527, 'thai': 1528, 'greenpoint': 1529, 'lastly': 1530, 'learn': 1531, 'argurments': 1532, 'obviously': 1533, 'nobody': 1534, 'soory': 1535, 'guests': 1536, 'quicker': 1537, 'pompous': 1538, 'maitre': 1539, \"d'\": 1540, 'jerked': 1541, 'promising': 1542, \"i'd\": 1543, 'astonished': 1544, 'chow': 1545, 'devote': 1546, 'rolling': 1547, 'forgiving': 1548, 'guzzling': 1549, 'mine': 1550, 'martinis': 1551, 'naan': 1552, 'dal': 1553, 'worthwhile': 1554, 'brother': 1555, 'acknowledge': 1556, 'trained': 1557, \"they're\": 1558, 'fast': 1559, 'jump': 1560, 'details': 1561, 'item': 1562, 'excelent': 1563, 'recomendations': 1564, 'exciting': 1565, 'encroach': 1566, 'kiwitini': 1567, 'watermelon': 1568, 'ecclectic': 1569, 'overall': 1570, 'pictionary': 1571, 'crayons': 1572, 'blank': 1573, 'sheet': 1574, 'cargo': 1575, 'rava': 1576, 'masala': 1577, 'dosa': 1578, 'madras': 1579, 'mahal': 1580, 'doors': 1581, 'certainly': 1582, 'worst': 1583, 'among': 1584, 'indian': 1585, 'block': 1586, 'creation': 1587, 'wow': 1588, 'followed': 1589, 'handsome': 1590, 'cranapple': 1591, 'bbq': 1592, 'duck': 1593, 'tostada': 1594, 'rum': 1595, 'glazed': 1596, 'tenerloin': 1597, 'scandalously': 1598, 'brownie': 1599, 'sundae': 1600, 'expected': 1601, 'thoughtful': 1602, 'trust': 1603, 'bullet': 1604, 'proof': 1605, 'recommendations': 1606, 'exhaustive': 1607, 'satisfaction': 1608, 'picked': 1609, 'knife': 1610, 'platter': 1611, 'wish': 1612, 'led': 1613, 'downstairs': 1614, 'communal': 1615, 'disgusting': 1616, 'particular': 1617, 'kitchen': 1618, 'producing': 1619, 'seriously': 1620, 'crammed': 1621, 'phone': 1622, 'calls': 1623, 'warning': 1624, 'cell': 1625, 'phones': 1626, 'changing': 1627, 'scrawled': 1628, 'erase': 1629, 'boards': 1630, 'blend': 1631, 'haute': 1632, 'texas': 1633, 'roadhouse': 1634, 'bought': 1635, 'proceeded': 1636, 'resturant': 1637, 'squeezed': 1638, 'step': 1639, 'tender': 1640, 'guy': 1641, 'informatively': 1642, 'facts': 1643, 'divided': 1644, 'allows': 1645, 'wife': 1646, 'invited': 1647, 'afterwards': 1648, 'instructed': 1649, 'patient': 1650, 'discounted': 1651, 'unaccomodating': 1652, 'learned': 1653, 'promised': 1654, 'buy': 1655, 'everyone': 1656, 'tastier': 1657, 'bother': 1658, 'suggest': 1659, \"hadn't\": 1660, 'hidden': 1661, 'look': 1662, 'breakfast': 1663, 'included': 1664, 'predominantly': 1665, 'ferreting': 1666, 'anyway': 1667, 'flavors': 1668, 'creme': 1669, 'brulee': 1670, 'downtown': 1671, '2002': 1672, 'prixe': 1673, 'suggestion': 1674, 'southern': 1675, 'comprised': 1676, 'unique': 1677, 'slants': 1678, 'orthodox': 1679, 'single': 1680, 'super': 1681, 'sized': 1682, 'gnocchi': 1683, 'cinammon': 1684, 'tea': 1685, 'ordering': 1686, 'ton': 1687, 'person': 1688, 'freebees': 1689, 'nicer': 1690, 'firends': 1691, 'informed': 1692, 'thursdays': 1693, 'fridays': 1694, 'saturdays': 1695, 'reading': 1696, 'negative': 1697, 'reviews': 1698, 'boyfriend': 1699, 'opted': 1700, 'shocked': 1701, 'dissapointing': 1702, 'miniscule': 1703, 'chevre': 1704, 'tossed': 1705, 'filling': 1706, 'dip': 1707, 'attempts': 1708, 'meaningful': 1709, 'blueberry': 1710, 'produce': 1711, 'blueberries': 1712, 'pancake': 1713, '90': 1714, 'porterhouse': 1715, 'medium': 1716, 'rare': 1717, 'pushy': 1718, 'dumb': 1719}\n"
          ]
        }
      ]
    },
    {
      "cell_type": "code",
      "source": [
        "len(word_index)"
      ],
      "metadata": {
        "colab": {
          "base_uri": "https://localhost:8080/"
        },
        "id": "_ts9HSGGNwGR",
        "outputId": "ec149388-2eb3-4689-9542-99df7d6f627d"
      },
      "execution_count": 199,
      "outputs": [
        {
          "output_type": "execute_result",
          "data": {
            "text/plain": [
              "1719"
            ]
          },
          "metadata": {},
          "execution_count": 199
        }
      ]
    },
    {
      "cell_type": "code",
      "source": [
        "print(x_train.shape)"
      ],
      "metadata": {
        "colab": {
          "base_uri": "https://localhost:8080/"
        },
        "id": "dCLOJE0R9U6U",
        "outputId": "e51c12d3-46b6-4832-bf5c-8f521fb3364e"
      },
      "execution_count": 200,
      "outputs": [
        {
          "output_type": "stream",
          "name": "stdout",
          "text": [
            "(2820, 100)\n"
          ]
        }
      ]
    },
    {
      "cell_type": "code",
      "source": [
        "!unzip \"/content/gdrive/MyDrive/glove.42B.300d.zip\" -d \"/content\""
      ],
      "metadata": {
        "colab": {
          "base_uri": "https://localhost:8080/"
        },
        "id": "FMP4Tx-XdvD4",
        "outputId": "5b8844d5-fc4e-4775-9da1-9c72c6393302"
      },
      "execution_count": 201,
      "outputs": [
        {
          "output_type": "stream",
          "name": "stdout",
          "text": [
            "Archive:  /content/gdrive/MyDrive/glove.42B.300d.zip\n",
            "replace /content/glove.42B.300d.txt? [y]es, [n]o, [A]ll, [N]one, [r]ename: n\n"
          ]
        }
      ]
    },
    {
      "cell_type": "code",
      "source": [
        "glove_file = \"glove.42B.300d.txt\"\n",
        "import tqdm\n",
        "\n",
        "EMBEDDING_VECTOR_LENGTH = 200 # <=200\n",
        "def construct_embedding_matrix(glove_file, word_index):\n",
        "    embedding_dict = {}\n",
        "    with open(glove_file,'r') as f:\n",
        "        for line in f:\n",
        "            values=line.split()\n",
        "            # get the word\n",
        "            word=values[0]\n",
        "            if word in word_index.keys():\n",
        "                # get the vector\n",
        "                vector = np.asarray(values[1:], 'float32')\n",
        "                embedding_dict[word] = vector\n",
        "    ###  oov words (out of vacabulary words) will be mapped to 0 vectors\n",
        "\n",
        "    num_words=len(word_index)+1\n",
        "    #initialize it to 0\n",
        "    embedding_matrix=np.zeros((num_words, EMBEDDING_VECTOR_LENGTH))\n",
        "\n",
        "    for word,i in tqdm.tqdm(word_index.items()):\n",
        "        if i < num_words:\n",
        "            vect=embedding_dict.get(word, [])\n",
        "            if len(vect)>0:\n",
        "                embedding_matrix[i] = vect[:EMBEDDING_VECTOR_LENGTH]\n",
        "    return embedding_matrix\n",
        "  \n",
        "embedding_matrix =  construct_embedding_matrix(glove_file, word_index)"
      ],
      "metadata": {
        "colab": {
          "base_uri": "https://localhost:8080/"
        },
        "id": "ol5qYhC3fRZg",
        "outputId": "6cc26538-07cf-4d36-ffac-b174ee51ddab"
      },
      "execution_count": 202,
      "outputs": [
        {
          "output_type": "stream",
          "name": "stderr",
          "text": [
            "100%|██████████| 1719/1719 [00:00<00:00, 180570.73it/s]\n"
          ]
        }
      ]
    },
    {
      "cell_type": "code",
      "source": [
        "embedding_matrix.shape"
      ],
      "metadata": {
        "colab": {
          "base_uri": "https://localhost:8080/"
        },
        "id": "qNXhnuTmpUc8",
        "outputId": "f1c34a12-06d2-4577-84a6-82dfaf6178ac"
      },
      "execution_count": 203,
      "outputs": [
        {
          "output_type": "execute_result",
          "data": {
            "text/plain": [
              "(1720, 200)"
            ]
          },
          "metadata": {},
          "execution_count": 203
        }
      ]
    },
    {
      "cell_type": "code",
      "source": [
        "len(word_index) + 1"
      ],
      "metadata": {
        "colab": {
          "base_uri": "https://localhost:8080/"
        },
        "id": "gKxhu-w169qI",
        "outputId": "2ad4c64e-6b60-4240-a4ae-c232c378a499"
      },
      "execution_count": 204,
      "outputs": [
        {
          "output_type": "execute_result",
          "data": {
            "text/plain": [
              "1720"
            ]
          },
          "metadata": {},
          "execution_count": 204
        }
      ]
    },
    {
      "cell_type": "code",
      "source": [
        "def LSTM_Model():\n",
        "  model = models.Sequential()\n",
        "  model.add(Embedding(len(word_index) + 1,\n",
        "                            EMBEDDING_VECTOR_LENGTH,\n",
        "                            weights=[embedding_matrix],\n",
        "                            input_length=100,\n",
        "                            trainable=False))\n",
        "  model.add(SpatialDropout1D(0.4))\n",
        "  model.add(CuDNNLSTM(176, return_sequences=True))\n",
        "  model.add(Dropout(0.8))\n",
        "  model.add(CuDNNLSTM(64, return_sequences=True))\n",
        "  model.add(Dropout(0.8))\n",
        "  model.add(CuDNNLSTM(32))\n",
        "  model.add(Dense(11,activation='sigmoid'))\n",
        "  return model"
      ],
      "metadata": {
        "id": "tTLIv7oYiDIg"
      },
      "execution_count": 228,
      "outputs": []
    },
    {
      "cell_type": "code",
      "source": [
        "model = LSTM_Model()\n",
        "model.summary()\n",
        "model.compile(loss='binary_crossentropy', optimizer='adam', metrics = ['accuracy'])"
      ],
      "metadata": {
        "colab": {
          "base_uri": "https://localhost:8080/"
        },
        "id": "afeLtasFjRJE",
        "outputId": "cc62e839-fa60-400b-d33d-e293d1ea3627"
      },
      "execution_count": 229,
      "outputs": [
        {
          "output_type": "stream",
          "name": "stdout",
          "text": [
            "Model: \"sequential_18\"\n",
            "_________________________________________________________________\n",
            " Layer (type)                Output Shape              Param #   \n",
            "=================================================================\n",
            " embedding_18 (Embedding)    (None, 100, 200)          344000    \n",
            "                                                                 \n",
            " spatial_dropout1d_17 (Spati  (None, 100, 200)         0         \n",
            " alDropout1D)                                                    \n",
            "                                                                 \n",
            " cu_dnnlstm_43 (CuDNNLSTM)   (None, 100, 176)          266112    \n",
            "                                                                 \n",
            " dropout_34 (Dropout)        (None, 100, 176)          0         \n",
            "                                                                 \n",
            " cu_dnnlstm_44 (CuDNNLSTM)   (None, 100, 64)           61952     \n",
            "                                                                 \n",
            " dropout_35 (Dropout)        (None, 100, 64)           0         \n",
            "                                                                 \n",
            " cu_dnnlstm_45 (CuDNNLSTM)   (None, 32)                12544     \n",
            "                                                                 \n",
            " dense_17 (Dense)            (None, 11)                363       \n",
            "                                                                 \n",
            "=================================================================\n",
            "Total params: 684,971\n",
            "Trainable params: 340,971\n",
            "Non-trainable params: 344,000\n",
            "_________________________________________________________________\n"
          ]
        }
      ]
    },
    {
      "cell_type": "code",
      "source": [
        "x_train.shape"
      ],
      "metadata": {
        "colab": {
          "base_uri": "https://localhost:8080/"
        },
        "id": "n-sI3wgb8In1",
        "outputId": "f2f6d4a4-5a83-4350-b3b1-4faeda560b14"
      },
      "execution_count": 230,
      "outputs": [
        {
          "output_type": "execute_result",
          "data": {
            "text/plain": [
              "TensorShape([2820, 100])"
            ]
          },
          "metadata": {},
          "execution_count": 230
        }
      ]
    },
    {
      "cell_type": "code",
      "source": [
        "callbacks = [EarlyStopping(monitor='val_loss', patience=3)]\n",
        "history = model.fit(x_train, train_label,\n",
        "            epochs=30,\n",
        "            callbacks = callbacks,\n",
        "            validation_data=(x_val, valid_label),\n",
        "            verbose=2,\n",
        "            batch_size=64)"
      ],
      "metadata": {
        "colab": {
          "base_uri": "https://localhost:8080/"
        },
        "id": "bsZpEfnVjYv8",
        "outputId": "552930f9-e218-4796-ae55-b6dd4b6bd849"
      },
      "execution_count": 232,
      "outputs": [
        {
          "output_type": "stream",
          "name": "stdout",
          "text": [
            "Epoch 1/30\n",
            "45/45 - 3s - loss: 0.2758 - accuracy: 0.2830 - val_loss: 0.3081 - val_accuracy: 0.2771 - 3s/epoch - 69ms/step\n",
            "Epoch 2/30\n",
            "45/45 - 3s - loss: 0.2716 - accuracy: 0.2766 - val_loss: 0.3028 - val_accuracy: 0.3121 - 3s/epoch - 63ms/step\n",
            "Epoch 3/30\n",
            "45/45 - 3s - loss: 0.2677 - accuracy: 0.2830 - val_loss: 0.3038 - val_accuracy: 0.3153 - 3s/epoch - 64ms/step\n",
            "Epoch 4/30\n",
            "45/45 - 3s - loss: 0.2636 - accuracy: 0.3043 - val_loss: 0.2980 - val_accuracy: 0.2930 - 3s/epoch - 65ms/step\n",
            "Epoch 5/30\n",
            "45/45 - 3s - loss: 0.2640 - accuracy: 0.2855 - val_loss: 0.2945 - val_accuracy: 0.2707 - 3s/epoch - 63ms/step\n",
            "Epoch 6/30\n",
            "45/45 - 3s - loss: 0.2586 - accuracy: 0.2957 - val_loss: 0.2989 - val_accuracy: 0.3153 - 3s/epoch - 67ms/step\n",
            "Epoch 7/30\n",
            "45/45 - 3s - loss: 0.2544 - accuracy: 0.3078 - val_loss: 0.3066 - val_accuracy: 0.2930 - 3s/epoch - 68ms/step\n",
            "Epoch 8/30\n",
            "45/45 - 3s - loss: 0.2520 - accuracy: 0.3096 - val_loss: 0.2957 - val_accuracy: 0.3280 - 3s/epoch - 65ms/step\n"
          ]
        }
      ]
    },
    {
      "cell_type": "code",
      "source": [
        "model.save('/content/gdrive/MyDrive/models/NLU_Assignment2_LSTM.h5',save_format= 'tf')"
      ],
      "metadata": {
        "id": "QYiThtZ4ehr3"
      },
      "execution_count": 233,
      "outputs": []
    },
    {
      "cell_type": "code",
      "source": [
        "loaded_model = keras.models.load_model('/content/gdrive/MyDrive/models/NLU_Assignment2_LSTM.h5')"
      ],
      "metadata": {
        "id": "_BF_oTGafXXW"
      },
      "execution_count": 234,
      "outputs": []
    },
    {
      "cell_type": "code",
      "source": [
        "x_test, _, _ = sequence_vectorizer(valid_data, valid_data)\n",
        "predictions = loaded_model.predict(x_test)\n",
        "predictions"
      ],
      "metadata": {
        "colab": {
          "base_uri": "https://localhost:8080/"
        },
        "id": "z5DgB4IMgCcM",
        "outputId": "5f90227c-a704-4c2f-d09b-d7fff9ee5f8b"
      },
      "execution_count": 236,
      "outputs": [
        {
          "output_type": "execute_result",
          "data": {
            "text/plain": [
              "array([[0.02508548, 0.84066594, 0.01131758, ..., 0.10029136, 0.2558458 ,\n",
              "        0.6335904 ],\n",
              "       [0.02441618, 0.03774814, 0.00213159, ..., 0.8566075 , 0.04908288,\n",
              "        0.17422807],\n",
              "       [0.0328551 , 0.66214794, 0.01852339, ..., 0.21336567, 0.1609913 ,\n",
              "        0.6194852 ],\n",
              "       ...,\n",
              "       [0.00250408, 0.84964955, 0.01215868, ..., 0.03089914, 0.95406294,\n",
              "        0.02378267],\n",
              "       [0.04541447, 0.6938224 , 0.00282169, ..., 0.15144555, 0.22970001,\n",
              "        0.5980754 ],\n",
              "       [0.00447439, 0.02686075, 0.00301168, ..., 0.74567646, 0.0739556 ,\n",
              "        0.18197696]], dtype=float32)"
            ]
          },
          "metadata": {},
          "execution_count": 236
        }
      ]
    },
    {
      "cell_type": "code",
      "source": [
        "x_test.shape"
      ],
      "metadata": {
        "colab": {
          "base_uri": "https://localhost:8080/"
        },
        "id": "JEXKX5hsthoO",
        "outputId": "3a482707-de0c-480d-f51f-88204919379c"
      },
      "execution_count": 238,
      "outputs": [
        {
          "output_type": "execute_result",
          "data": {
            "text/plain": [
              "TensorShape([314, 100])"
            ]
          },
          "metadata": {},
          "execution_count": 238
        }
      ]
    },
    {
      "cell_type": "code",
      "source": [
        "predictions.shape"
      ],
      "metadata": {
        "colab": {
          "base_uri": "https://localhost:8080/"
        },
        "id": "yvmu_TzZr-xK",
        "outputId": "8bedd666-dd6f-423c-99db-f6c9256e9e29"
      },
      "execution_count": 237,
      "outputs": [
        {
          "output_type": "execute_result",
          "data": {
            "text/plain": [
              "(314, 11)"
            ]
          },
          "metadata": {},
          "execution_count": 237
        }
      ]
    },
    {
      "cell_type": "code",
      "source": [
        "predictions[0]"
      ],
      "metadata": {
        "id": "iIPr8n5tg0XX",
        "colab": {
          "base_uri": "https://localhost:8080/"
        },
        "outputId": "d54782de-d37d-4631-d1fb-daea466a1334"
      },
      "execution_count": 214,
      "outputs": [
        {
          "output_type": "execute_result",
          "data": {
            "text/plain": [
              "array([0.01976565, 0.64386576, 0.02307718, 0.18096575, 0.05939271,\n",
              "       0.03559697, 0.04144034, 0.00320853, 0.09232077, 0.67474025,\n",
              "       0.2447352 ], dtype=float32)"
            ]
          },
          "metadata": {},
          "execution_count": 214
        }
      ]
    },
    {
      "cell_type": "code",
      "source": [
        "plt.figure(figsize=(10, 10))\n",
        "plt.plot(history.history['accuracy'])\n",
        "plt.plot(history.history['val_accuracy'])\n",
        "plt.title('model accuracy')\n",
        "plt.ylabel('accuracy')\n",
        "plt.xlabel('epoch')\n",
        "plt.legend(['train', 'test'], loc='upper left')\n",
        "plt.show()\n"
      ],
      "metadata": {
        "colab": {
          "base_uri": "https://localhost:8080/",
          "height": 621
        },
        "id": "XsQdoBYzkn8n",
        "outputId": "f58ba339-1bc4-4fe3-ef27-cedf27fea101"
      },
      "execution_count": 241,
      "outputs": [
        {
          "output_type": "display_data",
          "data": {
            "image/png": "[encoded data removed]",
            "text/plain": [
              "<Figure size 720x720 with 1 Axes>"
            ]
          },
          "metadata": {
            "needs_background": "light"
          }
        }
      ]
    },
    {
      "cell_type": "code",
      "source": [
        "plt.figure(figsize=(10, 10))\n",
        "plt.plot(history.history['loss'])\n",
        "plt.plot(history.history['val_loss'])\n",
        "plt.title('model loss')\n",
        "plt.ylabel('loss')\n",
        "plt.xlabel('epoch')\n",
        "plt.legend(['train', 'test'], loc='upper left')\n",
        "plt.show()"
      ],
      "metadata": {
        "colab": {
          "base_uri": "https://localhost:8080/",
          "height": 621
        },
        "id": "sS-cr8B2oLho",
        "outputId": "f85d20c9-3e80-4893-f4d7-7e0349441bea"
      },
      "execution_count": 242,
      "outputs": [
        {
          "output_type": "display_data",
          "data": {
            "image/png": "[encoded data removed]",
            "text/plain": [
              "<Figure size 720x720 with 1 Axes>"
            ]
          },
          "metadata": {
            "needs_background": "light"
          }
        }
      ]
    }
  ]
}