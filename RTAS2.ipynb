{
  "nbformat": 4,
  "nbformat_minor": 0,
  "metadata": {
    "colab": {
      "name": "RTAS2.ipynb",
      "provenance": [],
      "collapsed_sections": [],
      "authorship_tag": "ABX9TyNMjNEMwz62K90Lg5YxuyCa",
      "include_colab_link": true
    },
    "kernelspec": {
      "name": "python3",
      "display_name": "Python 3"
    },
    "language_info": {
      "name": "python"
    }
  },
  "cells": [
    {
      "cell_type": "markdown",
      "metadata": {
        "id": "view-in-github",
        "colab_type": "text"
      },
      "source": [
        "<a href=\"https://colab.research.google.com/github/saptarshidatta96/MTech_Sem3/blob/main/RTAS2.ipynb\" target=\"_parent\"><img src=\"https://colab.research.google.com/assets/colab-badge.svg\" alt=\"Open In Colab\"/></a>"
      ]
    },
    {
      "cell_type": "code",
      "source": [
        "!pip uninstall opencv-python"
      ],
      "metadata": {
        "colab": {
          "base_uri": "https://localhost:8080/"
        },
        "id": "nx6lLuDGgxu_",
        "outputId": "c7427caf-bb3a-4ace-a102-54b55857818f"
      },
      "execution_count": 1,
      "outputs": [
        {
          "output_type": "stream",
          "name": "stdout",
          "text": [
            "Found existing installation: opencv-python 4.1.2.30\n",
            "Uninstalling opencv-python-4.1.2.30:\n",
            "  Would remove:\n",
            "    /usr/local/lib/python3.7/dist-packages/cv2/*\n",
            "    /usr/local/lib/python3.7/dist-packages/opencv_python-4.1.2.30.dist-info/*\n",
            "Proceed (y/n)? y\n",
            "  Successfully uninstalled opencv-python-4.1.2.30\n"
          ]
        }
      ]
    },
    {
      "cell_type": "code",
      "source": [
        "!pip uninstall opencv-contrib-python"
      ],
      "metadata": {
        "colab": {
          "base_uri": "https://localhost:8080/"
        },
        "id": "4f74EwEQiDag",
        "outputId": "716298c2-7e0f-43f0-9aaa-6cedea20f124"
      },
      "execution_count": 2,
      "outputs": [
        {
          "output_type": "stream",
          "name": "stdout",
          "text": [
            "Found existing installation: opencv-contrib-python 4.1.2.30\n",
            "Uninstalling opencv-contrib-python-4.1.2.30:\n",
            "  Would remove:\n",
            "    /usr/local/lib/python3.7/dist-packages/opencv_contrib_python-4.1.2.30.dist-info/*\n",
            "Proceed (y/n)? y\n",
            "  Successfully uninstalled opencv-contrib-python-4.1.2.30\n"
          ]
        }
      ]
    },
    {
      "cell_type": "code",
      "source": [
        "!pip install opencv-contrib-python"
      ],
      "metadata": {
        "colab": {
          "base_uri": "https://localhost:8080/"
        },
        "id": "z6UAj5SblT9M",
        "outputId": "35cb9a2a-6a76-4cd6-83b0-be56369ccfee"
      },
      "execution_count": 3,
      "outputs": [
        {
          "output_type": "stream",
          "name": "stdout",
          "text": [
            "Collecting opencv-contrib-python\n",
            "  Downloading opencv_contrib_python-4.5.5.62-cp36-abi3-manylinux_2_17_x86_64.manylinux2014_x86_64.whl (66.6 MB)\n",
            "\u001b[K     |████████████████████████████████| 66.6 MB 120 kB/s \n",
            "\u001b[?25hRequirement already satisfied: numpy>=1.14.5 in /usr/local/lib/python3.7/dist-packages (from opencv-contrib-python) (1.21.5)\n",
            "Installing collected packages: opencv-contrib-python\n",
            "Successfully installed opencv-contrib-python-4.5.5.62\n"
          ]
        }
      ]
    },
    {
      "cell_type": "code",
      "execution_count": 4,
      "metadata": {
        "id": "IpcPFbmvqr3T"
      },
      "outputs": [],
      "source": [
        "import cv2\n",
        "import numpy as np\n",
        "from matplotlib import pyplot as plt\n",
        "from pylab import *\n",
        "from numpy import *\n",
        "from scipy import linalg"
      ]
    },
    {
      "cell_type": "code",
      "source": [
        "k = [[1698.873755, 0.000000, 971.7497705],\n",
        "     [0.000000, 1698.8796645, 647.7488275],\n",
        "     [0.000000, 0.000000, 1.000000]]\n",
        "\n",
        "k = np.asarray(k)"
      ],
      "metadata": {
        "id": "w4owfvV2rSpU"
      },
      "execution_count": null,
      "outputs": []
    },
    {
      "cell_type": "code",
      "source": [
        "k"
      ],
      "metadata": {
        "id": "nSwJEB8XrrVD",
        "colab": {
          "base_uri": "https://localhost:8080/"
        },
        "outputId": "c232cf9f-e326-4bc6-97ce-19edc82b0679"
      },
      "execution_count": null,
      "outputs": [
        {
          "output_type": "execute_result",
          "data": {
            "text/plain": [
              "array([[1.69887376e+03, 0.00000000e+00, 9.71749770e+02],\n",
              "       [0.00000000e+00, 1.69887966e+03, 6.47748827e+02],\n",
              "       [0.00000000e+00, 0.00000000e+00, 1.00000000e+00]])"
            ]
          },
          "metadata": {},
          "execution_count": 6
        }
      ]
    },
    {
      "cell_type": "code",
      "source": [
        "k_inv = np.linalg.inv(k)"
      ],
      "metadata": {
        "id": "hMmmMF65YiXK"
      },
      "execution_count": null,
      "outputs": []
    },
    {
      "cell_type": "code",
      "source": [
        "k_inv"
      ],
      "metadata": {
        "colab": {
          "base_uri": "https://localhost:8080/"
        },
        "id": "dbF976I6Yjqw",
        "outputId": "90f0e7b4-fbb3-45a5-c19c-1d119eac476e"
      },
      "execution_count": null,
      "outputs": [
        {
          "output_type": "execute_result",
          "data": {
            "text/plain": [
              "array([[ 5.88625257e-04,  0.00000000e+00, -5.71996458e-01],\n",
              "       [ 0.00000000e+00,  5.88623209e-04, -3.81279994e-01],\n",
              "       [ 0.00000000e+00,  0.00000000e+00,  1.00000000e+00]])"
            ]
          },
          "metadata": {},
          "execution_count": 8
        }
      ]
    },
    {
      "cell_type": "code",
      "source": [
        "img1 = cv2.imread('/content/im1.jpg', 0)\n",
        "img2 = cv2.imread('/content/im2.jpg', 0)"
      ],
      "metadata": {
        "id": "miJD0v2W9zxi"
      },
      "execution_count": null,
      "outputs": []
    },
    {
      "cell_type": "code",
      "source": [
        "def find_correspondences(img1, img2):\n",
        "  sift = cv2.xfeatures2d.SIFT_create()\n",
        "  kp1, des1 = sift.detectAndCompute(img1,None)\n",
        "  kp2, des2 = sift.detectAndCompute(img2,None)\n",
        "  flann = cv2.FlannBasedMatcher(dict(algorithm = 0, trees = 5),dict(checks=50))\n",
        "  matches = flann.knnMatch(des1,des2,k=2)\n",
        "  pts1 = []\n",
        "  pts2 = []\n",
        "\n",
        "  # ratio test as per Lowe's paper\n",
        "  j = 0\n",
        "  for i,(m,n) in enumerate(matches):\n",
        "    if m.distance < 0.8*n.distance:\n",
        "        pts2.append((kp2[m.trainIdx].pt, 1))\n",
        "        pts1.append(kp1[m.queryIdx].pt)\n",
        "        j = j+1\n",
        "        if j == 100:\n",
        "          break\n",
        "  pts1 = [list(tup)+[1] for tup in pts1]\n",
        "  pts2 = [list(tup)+[1] for tup in pts2]\n",
        "  pts1, pts2 = np.asarray(pts1), np.asarray(pts2)\n",
        "  pts1 = np.float64(pts1)\n",
        "  pts2 = np.float64(pts1)\n",
        "\n",
        "  return pts1, pts2"
      ],
      "metadata": {
        "id": "ppjtTL0cWUB3"
      },
      "execution_count": null,
      "outputs": []
    },
    {
      "cell_type": "code",
      "source": [
        "pts1, pts2 = find_correspondences(img1, img2)"
      ],
      "metadata": {
        "id": "fzdJt5ldajTX",
        "colab": {
          "base_uri": "https://localhost:8080/"
        },
        "outputId": "94892986-f9b1-4be7-9158-72c90ec32ca8"
      },
      "execution_count": null,
      "outputs": [
        {
          "output_type": "stream",
          "name": "stderr",
          "text": [
            "/usr/local/lib/python3.7/dist-packages/ipykernel_launcher.py:21: VisibleDeprecationWarning: Creating an ndarray from ragged nested sequences (which is a list-or-tuple of lists-or-tuples-or ndarrays with different lengths or shapes) is deprecated. If you meant to do this, you must specify 'dtype=object' when creating the ndarray.\n"
          ]
        }
      ]
    },
    {
      "cell_type": "code",
      "source": [
        "def convert_to_camera_coordinate_system(pts1, pts2, k):\n",
        "  k_inv = np.linalg.inv(k)\n",
        "  pts1 = [np.dot(k_inv, item) for item in pts1]\n",
        "  pts2 = [np.dot(k_inv, item) for item in pts2]\n",
        "  return pts1, pts2"
      ],
      "metadata": {
        "id": "kPWU85uJWSdw"
      },
      "execution_count": null,
      "outputs": []
    },
    {
      "cell_type": "code",
      "source": [
        "def compute_essential(pts1, pts2):\n",
        "  \n",
        "  x1, x2 = convert_to_camera_coordinate_system(pts1, pts2, k)\n",
        "  x1 = np.asarray(x1)\n",
        "  x2 = np.asarray(x2)\n",
        "  n = x1.shape[1]\n",
        "  if x2.shape[1] != n:\n",
        "    raise ValueError(\"Number of points don't match.\")\n",
        " \n",
        "  # build matrix for equations\n",
        "  A = []\n",
        "  for i in range(8):\n",
        "      z = np.kron(pts2[i], pts1[i])\n",
        "      A.append(z)\n",
        "  A = np.asarray(A)\n",
        "  #print(A.shape)\n",
        "\n",
        "  U,S,V = linalg.svd(A)\n",
        "  E = V[-1].reshape(3,3)\n",
        "  # constrain F\n",
        "  # make rank 2 by zeroing out last singular value\n",
        "  Ua,Sa,Va = linalg.svd(E)\n",
        "  \n",
        "  sigma = (Sa[0]+Sa[1])/2\n",
        "  Sa[0] = sigma\n",
        "  Sa[1] = sigma\n",
        "  Sa[2] = 0\n",
        "  \n",
        "  Ea = np.dot(Ua,np.dot(diag(Sa),Va))\n",
        "  \n",
        "\n",
        "  return sigma , Ea\n"
      ],
      "metadata": {
        "id": "H4piv4uJeGkg"
      },
      "execution_count": null,
      "outputs": []
    },
    {
      "cell_type": "code",
      "source": [
        "sigma, E = compute_essential(pts1, pts2)"
      ],
      "metadata": {
        "id": "XOT0TU2TfwpI"
      },
      "execution_count": null,
      "outputs": []
    },
    {
      "cell_type": "code",
      "source": [
        "E"
      ],
      "metadata": {
        "colab": {
          "base_uri": "https://localhost:8080/"
        },
        "id": "M82G_huNgEHW",
        "outputId": "4be5b2ef-6149-4272-ad2e-af1e0a482123"
      },
      "execution_count": null,
      "outputs": [
        {
          "output_type": "execute_result",
          "data": {
            "text/plain": [
              "array([[-3.43233757e-22,  1.80399143e-08, -3.09152220e-06],\n",
              "       [-1.80399142e-08, -1.65426508e-18,  7.07106781e-01],\n",
              "       [ 3.09152221e-06, -7.07106781e-01, -7.18875573e-20]])"
            ]
          },
          "metadata": {},
          "execution_count": 21
        }
      ]
    },
    {
      "cell_type": "code",
      "source": [
        "np.linalg.det(E)"
      ],
      "metadata": {
        "colab": {
          "base_uri": "https://localhost:8080/"
        },
        "id": "dx9odEPYhfRM",
        "outputId": "2bbbdd9b-cfbe-4905-8e6b-7d45a170e941"
      },
      "execution_count": null,
      "outputs": [
        {
          "output_type": "execute_result",
          "data": {
            "text/plain": [
              "5.40243782500198e-30"
            ]
          },
          "metadata": {},
          "execution_count": 22
        }
      ]
    },
    {
      "cell_type": "code",
      "source": [
        "sigma"
      ],
      "metadata": {
        "colab": {
          "base_uri": "https://localhost:8080/"
        },
        "id": "fS5ojblYbmbC",
        "outputId": "a69298b2-1ebc-47d7-cb68-1da3ef1a5a0e"
      },
      "execution_count": null,
      "outputs": [
        {
          "output_type": "execute_result",
          "data": {
            "text/plain": [
              "0.7071067811865477"
            ]
          },
          "metadata": {},
          "execution_count": 57
        }
      ]
    },
    {
      "cell_type": "code",
      "source": [
        "U,S,V = linalg.svd(E)"
      ],
      "metadata": {
        "id": "suo6GwZdhfMo"
      },
      "execution_count": null,
      "outputs": []
    },
    {
      "cell_type": "code",
      "source": [
        "print(U)"
      ],
      "metadata": {
        "id": "cS0PfblmhfJQ",
        "colab": {
          "base_uri": "https://localhost:8080/"
        },
        "outputId": "9b923398-9983-4141-cd0e-913c46881b6d"
      },
      "execution_count": null,
      "outputs": [
        {
          "output_type": "stream",
          "name": "stdout",
          "text": [
            "[[ 4.37214707e-06  2.22044605e-16 -1.00000000e+00]\n",
            " [-9.99982975e-01 -5.83518599e-03 -4.37207263e-06]\n",
            " [-5.83518599e-03  9.99982975e-01 -2.55122913e-08]]\n"
          ]
        }
      ]
    },
    {
      "cell_type": "code",
      "source": [
        "print(-U[:,2])"
      ],
      "metadata": {
        "colab": {
          "base_uri": "https://localhost:8080/"
        },
        "id": "nbkNd4iLdnuz",
        "outputId": "f2cf16e0-ddc8-47e0-80b0-98b918424104"
      },
      "execution_count": null,
      "outputs": [
        {
          "output_type": "stream",
          "name": "stdout",
          "text": [
            "[1.00000000e+00 4.37207263e-06 2.55122913e-08]\n"
          ]
        }
      ]
    },
    {
      "cell_type": "code",
      "source": [
        "def compute_R_and_T(E, sigma):\n",
        "\n",
        "  U,S,V = linalg.svd(E)\n",
        "\n",
        "  R_z = [[0, -1, 0],\n",
        "         [1, 0, 0],\n",
        "         [0, 0, 1]]\n",
        "  R_z = np.asarray(R_z)\n",
        "             \n",
        "  R1 = np.dot(U ,np.dot(R_z, V))\n",
        "  R2 = np.dot(U ,np.dot(np.transpose(R_z), V))\n",
        "  t1 = U[:,2]\n",
        "  t2 = -U[:,2]\n",
        "\n",
        "  return R1, R2, t1, t2"
      ],
      "metadata": {
        "id": "pLdB_NMHfFwk"
      },
      "execution_count": null,
      "outputs": []
    },
    {
      "cell_type": "code",
      "source": [
        "R1, R2, t1, t2 = compute_R_and_T(E, sigma)"
      ],
      "metadata": {
        "id": "gcdpZVU_ffip"
      },
      "execution_count": null,
      "outputs": []
    },
    {
      "cell_type": "code",
      "source": [
        "def compute_P_from_essential(E):\n",
        "    \"\"\"    Computes the second camera matrix (assuming P1 = [I 0]) \n",
        "        from an essential matrix. Output is a list of four \n",
        "        possible camera matrices. \"\"\"\n",
        "    \n",
        "    U,S,V = svd(E)   \n",
        "    \n",
        "    # create matrices (Hartley p 258)\n",
        "    #Z = skew([0,0,-1])\n",
        "    W = array([[0,-1,0],[1,0,0],[0,0,1]])\n",
        "    \n",
        "    # return all four solutions\n",
        "    P2 = [vstack((dot(U,dot(W,V)).T,U[:,2])).T,\n",
        "             vstack((dot(U,dot(W,V)).T,-U[:,2])).T,\n",
        "            vstack((dot(U,dot(W.T,V)).T,U[:,2])).T,\n",
        "            vstack((dot(U,dot(W.T,V)).T,-U[:,2])).T]\n",
        "\n",
        "    return np.asarray(P2)\n"
      ],
      "metadata": {
        "id": "yThrzhuGfDcU"
      },
      "execution_count": null,
      "outputs": []
    },
    {
      "cell_type": "code",
      "source": [
        "N = compute_P_from_essential(E)"
      ],
      "metadata": {
        "id": "VYsa8CHfgFLU"
      },
      "execution_count": null,
      "outputs": []
    },
    {
      "cell_type": "code",
      "source": [
        "N.shape"
      ],
      "metadata": {
        "colab": {
          "base_uri": "https://localhost:8080/"
        },
        "id": "AzB4-GdcgNNy",
        "outputId": "3dfe0054-d38c-4460-c6e2-9b3194c330f3"
      },
      "execution_count": null,
      "outputs": [
        {
          "output_type": "execute_result",
          "data": {
            "text/plain": [
              "(4, 3, 4)"
            ]
          },
          "metadata": {},
          "execution_count": 89
        }
      ]
    },
    {
      "cell_type": "code",
      "source": [
        "I_O = [[1, 0, 0, 0], [0, 1, 0, 0], [0, 0, 1, 0]]\n",
        "M = np.dot(k, I_O)"
      ],
      "metadata": {
        "id": "dP3qPZhPyeId"
      },
      "execution_count": null,
      "outputs": []
    },
    {
      "cell_type": "code",
      "source": [
        "M"
      ],
      "metadata": {
        "colab": {
          "base_uri": "https://localhost:8080/"
        },
        "id": "EDlAd6jhy1s9",
        "outputId": "59d40a9a-4bd0-4119-e2e7-9ed14b42f23e"
      },
      "execution_count": null,
      "outputs": [
        {
          "output_type": "execute_result",
          "data": {
            "text/plain": [
              "array([[1.69887376e+03, 0.00000000e+00, 9.71749770e+02, 0.00000000e+00],\n",
              "       [0.00000000e+00, 1.69887966e+03, 6.47748827e+02, 0.00000000e+00],\n",
              "       [0.00000000e+00, 0.00000000e+00, 1.00000000e+00, 0.00000000e+00]])"
            ]
          },
          "metadata": {},
          "execution_count": 96
        }
      ]
    },
    {
      "cell_type": "code",
      "source": [
        "R1.shape"
      ],
      "metadata": {
        "colab": {
          "base_uri": "https://localhost:8080/"
        },
        "id": "Tsmeh47w0BfU",
        "outputId": "5d95d767-da42-439b-9d0d-a4da1dfe4c4c"
      },
      "execution_count": null,
      "outputs": [
        {
          "output_type": "execute_result",
          "data": {
            "text/plain": [
              "(3, 3)"
            ]
          },
          "metadata": {},
          "execution_count": 103
        }
      ]
    },
    {
      "cell_type": "code",
      "source": [
        "t1 = np.expand_dims(t1, axis = 1)"
      ],
      "metadata": {
        "id": "sUFwBQx40E-0"
      },
      "execution_count": null,
      "outputs": []
    },
    {
      "cell_type": "code",
      "source": [
        "t1.shape"
      ],
      "metadata": {
        "colab": {
          "base_uri": "https://localhost:8080/"
        },
        "id": "jgHzA9_c0Zyx",
        "outputId": "225f42cc-8895-40d3-aa45-c569c1313c47"
      },
      "execution_count": null,
      "outputs": [
        {
          "output_type": "execute_result",
          "data": {
            "text/plain": [
              "(3, 1)"
            ]
          },
          "metadata": {},
          "execution_count": 113
        }
      ]
    },
    {
      "cell_type": "code",
      "source": [
        "R_t = np.hstack((R1, t1))\n",
        "N = np.dot(k, R_t)"
      ],
      "metadata": {
        "id": "GkZiZMdpzWPH"
      },
      "execution_count": null,
      "outputs": []
    },
    {
      "cell_type": "code",
      "source": [
        "R_t"
      ],
      "metadata": {
        "colab": {
          "base_uri": "https://localhost:8080/"
        },
        "id": "HzOg2ZBbzgAP",
        "outputId": "96ce764d-28fb-4f53-f78a-b14471340895"
      },
      "execution_count": null,
      "outputs": [
        {
          "output_type": "execute_result",
          "data": {
            "text/plain": [
              "array([[-1.00000000e+00, -4.93387383e-16, -2.24927448e-16,\n",
              "        -1.00000000e+00],\n",
              "       [ 4.94700143e-16, -1.00000000e+00, -3.23779540e-18,\n",
              "        -4.37207263e-06],\n",
              "       [ 3.12591306e-17,  2.18596596e-18, -1.00000000e+00,\n",
              "        -2.55122913e-08]])"
            ]
          },
          "metadata": {},
          "execution_count": 115
        }
      ]
    },
    {
      "cell_type": "code",
      "source": [
        "N.shape"
      ],
      "metadata": {
        "colab": {
          "base_uri": "https://localhost:8080/"
        },
        "id": "61N6OLUDzyeP",
        "outputId": "8088813c-66c9-40cc-a418-a4d093ee75d1"
      },
      "execution_count": null,
      "outputs": [
        {
          "output_type": "execute_result",
          "data": {
            "text/plain": [
              "(3, 4)"
            ]
          },
          "metadata": {},
          "execution_count": 118
        }
      ]
    },
    {
      "cell_type": "code",
      "source": [
        "M.shape"
      ],
      "metadata": {
        "colab": {
          "base_uri": "https://localhost:8080/"
        },
        "id": "qsOfNzu-0mM0",
        "outputId": "f39ce87e-c3bc-4b68-81b5-53a594c7d084"
      },
      "execution_count": null,
      "outputs": [
        {
          "output_type": "execute_result",
          "data": {
            "text/plain": [
              "(3, 4)"
            ]
          },
          "metadata": {},
          "execution_count": 120
        }
      ]
    },
    {
      "cell_type": "code",
      "source": [
        "A = np.vstack((M, N))"
      ],
      "metadata": {
        "id": "p_wJdarJ02HB"
      },
      "execution_count": null,
      "outputs": []
    },
    {
      "cell_type": "code",
      "source": [
        "A.shape"
      ],
      "metadata": {
        "id": "VTp3_pgL1Sy_",
        "outputId": "7cc2f06c-0ced-4bdf-9998-ddd04971ac51",
        "colab": {
          "base_uri": "https://localhost:8080/"
        }
      },
      "execution_count": null,
      "outputs": [
        {
          "output_type": "execute_result",
          "data": {
            "text/plain": [
              "(6, 4)"
            ]
          },
          "metadata": {},
          "execution_count": 124
        }
      ]
    }
  ]
}