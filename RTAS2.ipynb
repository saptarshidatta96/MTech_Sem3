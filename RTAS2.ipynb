{
  "nbformat": 4,
  "nbformat_minor": 0,
  "metadata": {
    "colab": {
      "name": "RTAS2.ipynb",
      "provenance": [],
      "collapsed_sections": [],
      "authorship_tag": "ABX9TyN1+27anZNq/afS2LepMaLO",
      "include_colab_link": true
    },
    "kernelspec": {
      "name": "python3",
      "display_name": "Python 3"
    },
    "language_info": {
      "name": "python"
    }
  },
  "cells": [
    {
      "cell_type": "markdown",
      "metadata": {
        "id": "view-in-github",
        "colab_type": "text"
      },
      "source": [
        "<a href=\"https://colab.research.google.com/github/saptarshidatta96/MTech_Sem3/blob/main/RTAS2.ipynb\" target=\"_parent\"><img src=\"https://colab.research.google.com/assets/colab-badge.svg\" alt=\"Open In Colab\"/></a>"
      ]
    },
    {
      "cell_type": "code",
      "source": [
        "!pip uninstall opencv-python"
      ],
      "metadata": {
        "colab": {
          "base_uri": "https://localhost:8080/"
        },
        "id": "nx6lLuDGgxu_",
        "outputId": "940b7b9c-a270-4392-e310-f1ec8d100623"
      },
      "execution_count": 1,
      "outputs": [
        {
          "output_type": "stream",
          "name": "stdout",
          "text": [
            "Found existing installation: opencv-python 4.1.2.30\n",
            "Uninstalling opencv-python-4.1.2.30:\n",
            "  Would remove:\n",
            "    /usr/local/lib/python3.7/dist-packages/cv2/*\n",
            "    /usr/local/lib/python3.7/dist-packages/opencv_python-4.1.2.30.dist-info/*\n",
            "Proceed (y/n)? y\n",
            "  Successfully uninstalled opencv-python-4.1.2.30\n"
          ]
        }
      ]
    },
    {
      "cell_type": "code",
      "source": [
        "!pip install opencv-contrib-python"
      ],
      "metadata": {
        "colab": {
          "base_uri": "https://localhost:8080/"
        },
        "id": "4f74EwEQiDag",
        "outputId": "c1c200a5-fd5f-4945-a83d-cab87635fe08"
      },
      "execution_count": 5,
      "outputs": [
        {
          "output_type": "stream",
          "name": "stdout",
          "text": [
            "Collecting opencv-contrib-python\n",
            "  Downloading opencv_contrib_python-4.5.5.62-cp36-abi3-manylinux_2_17_x86_64.manylinux2014_x86_64.whl (66.6 MB)\n",
            "\u001b[K     |████████████████████████████████| 66.6 MB 148 kB/s \n",
            "\u001b[?25hRequirement already satisfied: numpy>=1.14.5 in /usr/local/lib/python3.7/dist-packages (from opencv-contrib-python) (1.21.5)\n",
            "Installing collected packages: opencv-contrib-python\n",
            "Successfully installed opencv-contrib-python-4.5.5.62\n"
          ]
        }
      ]
    },
    {
      "cell_type": "code",
      "execution_count": 52,
      "metadata": {
        "id": "IpcPFbmvqr3T"
      },
      "outputs": [],
      "source": [
        "import cv2\n",
        "import numpy as np\n",
        "from matplotlib import pyplot as plt\n",
        "from pylab import *\n",
        "from numpy import *\n",
        "from scipy import linalg"
      ]
    },
    {
      "cell_type": "code",
      "source": [
        "k = [[1698.873755, 0.000000, 971.7497705],\n",
        "     [0.000000, 1698.8796645, 647.7488275],\n",
        "     [0.000000, 0.000000, 1.000000]]\n",
        "\n",
        "k = np.asarray(k)"
      ],
      "metadata": {
        "id": "w4owfvV2rSpU"
      },
      "execution_count": 7,
      "outputs": []
    },
    {
      "cell_type": "code",
      "source": [
        "k"
      ],
      "metadata": {
        "id": "nSwJEB8XrrVD",
        "colab": {
          "base_uri": "https://localhost:8080/"
        },
        "outputId": "7302a17c-5421-4cfc-9d23-0e41731889fb"
      },
      "execution_count": 8,
      "outputs": [
        {
          "output_type": "execute_result",
          "data": {
            "text/plain": [
              "array([[1.69887376e+03, 0.00000000e+00, 9.71749770e+02],\n",
              "       [0.00000000e+00, 1.69887966e+03, 6.47748827e+02],\n",
              "       [0.00000000e+00, 0.00000000e+00, 1.00000000e+00]])"
            ]
          },
          "metadata": {},
          "execution_count": 8
        }
      ]
    },
    {
      "cell_type": "code",
      "source": [
        "img1 = cv2.imread('/content/im1.jpg', 0)\n",
        "img2 = cv2.imread('/content/im2.jpg', 0)"
      ],
      "metadata": {
        "id": "miJD0v2W9zxi"
      },
      "execution_count": 9,
      "outputs": []
    },
    {
      "cell_type": "code",
      "source": [
        "def find_correspondences(img1, img2):\n",
        "  sift = cv2.xfeatures2d.SIFT_create()\n",
        "  kp1, des1 = sift.detectAndCompute(img1,None)\n",
        "  kp2, des2 = sift.detectAndCompute(img2,None)\n",
        "  flann = cv2.FlannBasedMatcher(dict(algorithm = 0, trees = 5),dict(checks=50))\n",
        "  matches = flann.knnMatch(des1,des2,k=2)\n",
        "  pts1 = []\n",
        "  pts2 = []\n",
        "\n",
        "  # ratio test as per Lowe's paper\n",
        "  j = 1\n",
        "  for i,(m,n) in enumerate(matches):\n",
        "    if m.distance < 0.8*n.distance:\n",
        "        pts2.append(kp2[m.trainIdx].pt)\n",
        "        pts1.append(kp1[m.queryIdx].pt)\n",
        "        j = j+1\n",
        "        if j == 101:\n",
        "          break\n",
        "\n",
        "  return np.asarray(pts1), np.asarray(pts2)"
      ],
      "metadata": {
        "id": "ppjtTL0cWUB3"
      },
      "execution_count": 55,
      "outputs": []
    },
    {
      "cell_type": "code",
      "source": [
        "pts1, pts2 = find_correspondences(img1, img2)"
      ],
      "metadata": {
        "id": "fzdJt5ldajTX"
      },
      "execution_count": 56,
      "outputs": []
    },
    {
      "cell_type": "code",
      "source": [
        "pts1.shape"
      ],
      "metadata": {
        "colab": {
          "base_uri": "https://localhost:8080/"
        },
        "id": "zYsXGxvDgAKq",
        "outputId": "d7f226bc-7cd5-46b2-fdc3-dbccf9eb35d0"
      },
      "execution_count": 57,
      "outputs": [
        {
          "output_type": "execute_result",
          "data": {
            "text/plain": [
              "(100, 2)"
            ]
          },
          "metadata": {},
          "execution_count": 57
        }
      ]
    },
    {
      "cell_type": "code",
      "source": [
        "def compute_essential(x1, x2):\n",
        "  n = x1.shape[1]\n",
        "  print(n)\n",
        "  if x2.shape[1] != n:\n",
        "    raise ValueError(\"Number of points don't match.\")\n",
        "  print(x1)\n",
        "  print(x1[1,1])\n",
        "  # build matrix for equations\n",
        "  A = zeros((n,9))\n",
        "  for i in range(n):\n",
        "      A[i] = [x1[0,i]*x2[0,i], x1[0,i]*x2[1,i], x1[0,i]*x2[2,i],\n",
        "              x1[1,i]*x2[0,i], x1[1,i]*x2[1,i], x1[1,i]*x2[2,i],\n",
        "              x1[2,i]*x2[0,i], x1[2,i]*x2[1,i], x1[2,i]*x2[2,i]]\n",
        "  print(A.shape)\n",
        "            \n",
        "  # compute linear least square solution\n",
        "  U,S,V = linalg.svd(A)\n",
        "  E = V[-1].reshape(3,3)\n",
        "  # constrain F\n",
        "  # make rank 2 by zeroing out last singular value\n",
        "  U,S,V = linalg.svd(E)\n",
        "  S[2] = 0\n",
        "  F = dot(U,dot(diag(S),V))\n",
        "    \n",
        "  return F/F[2,2]\n"
      ],
      "metadata": {
        "id": "H4piv4uJeGkg"
      },
      "execution_count": 113,
      "outputs": []
    },
    {
      "cell_type": "code",
      "source": [
        "E = compute_essential(pts1, pts2)"
      ],
      "metadata": {
        "colab": {
          "base_uri": "https://localhost:8080/"
        },
        "id": "XOT0TU2TfwpI",
        "outputId": "f3ae4e40-15b7-4c37-83ab-63e63ceae3b7"
      },
      "execution_count": 114,
      "outputs": [
        {
          "output_type": "stream",
          "name": "stdout",
          "text": [
            "2\n",
            "[[ 599 1055]\n",
            " [ 605 1068]\n",
            " [ 607 1039]\n",
            " [ 614 1084]\n",
            " [ 615 1029]\n",
            " [ 618 1109]\n",
            " [ 618 1051]\n",
            " [ 620 1117]\n",
            " [ 622 1096]\n",
            " [ 622 1096]\n",
            " [ 622 1100]\n",
            " [ 623 1104]\n",
            " [ 625 1068]\n",
            " [ 631 1111]\n",
            " [ 635 1092]\n",
            " [ 639 1025]\n",
            " [ 639 1105]\n",
            " [ 640 1078]\n",
            " [ 642 1111]\n",
            " [ 642 1111]\n",
            " [ 642 1029]\n",
            " [ 642 1029]\n",
            " [ 645 1081]\n",
            " [ 647 1023]\n",
            " [ 654 1080]\n",
            " [ 659 1119]\n",
            " [ 664 1078]\n",
            " [ 664  977]\n",
            " [ 665 1065]\n",
            " [ 671 1090]\n",
            " [ 676 1075]\n",
            " [ 677 1045]\n",
            " [ 677 1051]\n",
            " [ 679 1119]\n",
            " [ 685 1120]\n",
            " [ 688 1058]\n",
            " [ 690 1064]\n",
            " [ 691  989]\n",
            " [ 695 1110]\n",
            " [ 696 1102]\n",
            " [ 699 1058]\n",
            " [ 700 1054]\n",
            " [ 714 1001]\n",
            " [ 714  961]\n",
            " [ 714 1004]\n",
            " [ 730  782]\n",
            " [ 730  992]\n",
            " [ 731 1060]\n",
            " [ 731  499]\n",
            " [ 732  984]\n",
            " [ 733  543]\n",
            " [ 734  514]\n",
            " [ 735 1018]\n",
            " [ 735  718]\n",
            " [ 735 1018]\n",
            " [ 736  729]\n",
            " [ 736  944]\n",
            " [ 738  752]\n",
            " [ 738  847]\n",
            " [ 739 1010]\n",
            " [ 740 1004]\n",
            " [ 741 1014]\n",
            " [ 742  983]\n",
            " [ 742  970]\n",
            " [ 743  996]\n",
            " [ 743  486]\n",
            " [ 743  505]\n",
            " [ 743  516]\n",
            " [ 744  736]\n",
            " [ 745  568]\n",
            " [ 745  595]\n",
            " [ 746 1056]\n",
            " [ 746  601]\n",
            " [ 747  787]\n",
            " [ 747  902]\n",
            " [ 747  899]\n",
            " [ 748  414]\n",
            " [ 748  974]\n",
            " [ 749  471]\n",
            " [ 750  446]\n",
            " [ 750  537]\n",
            " [ 750  545]\n",
            " [ 750  545]\n",
            " [ 750  995]\n",
            " [ 750 1012]]\n",
            "1068\n",
            "(2, 9)\n"
          ]
        }
      ]
    },
    {
      "cell_type": "code",
      "source": [
        "E"
      ],
      "metadata": {
        "colab": {
          "base_uri": "https://localhost:8080/"
        },
        "id": "M82G_huNgEHW",
        "outputId": "de6efa60-59c6-4ba3-fa6f-df5fda971bae"
      },
      "execution_count": 91,
      "outputs": [
        {
          "output_type": "execute_result",
          "data": {
            "text/plain": [
              "array([[-0.73846857,  1.31708587, -0.50840306],\n",
              "       [ 0.16757726,  0.21367701, -0.43340058],\n",
              "       [-0.45568295, -0.41429911,  1.        ]])"
            ]
          },
          "metadata": {},
          "execution_count": 91
        }
      ]
    },
    {
      "cell_type": "code",
      "source": [
        "F"
      ],
      "metadata": {
        "colab": {
          "base_uri": "https://localhost:8080/"
        },
        "id": "_ywdQSYzjZ4k",
        "outputId": "e2fd619b-6de9-46c0-ba67-9bf5babe805c"
      },
      "execution_count": 95,
      "outputs": [
        {
          "output_type": "execute_result",
          "data": {
            "text/plain": [
              "array([[-2.04394996e-07,  3.44273725e-06,  1.53002765e-03],\n",
              "       [-2.28942782e-06,  6.60486132e-07, -1.60402456e-02],\n",
              "       [-1.54926769e-03,  1.39891852e-02,  1.00000000e+00]])"
            ]
          },
          "metadata": {},
          "execution_count": 95
        }
      ]
    },
    {
      "cell_type": "code",
      "source": [
        "pts1[0]"
      ],
      "metadata": {
        "colab": {
          "base_uri": "https://localhost:8080/"
        },
        "id": "f9E2SgQ3iOV_",
        "outputId": "31d3ad2e-6b6a-40f9-8aa1-8873e86e7919"
      },
      "execution_count": 48,
      "outputs": [
        {
          "output_type": "execute_result",
          "data": {
            "text/plain": [
              "(255.8468780517578, 729.1962890625)"
            ]
          },
          "metadata": {},
          "execution_count": 48
        }
      ]
    },
    {
      "cell_type": "code",
      "source": [
        "pts2[0]"
      ],
      "metadata": {
        "id": "ozRPmmNqiY7-",
        "colab": {
          "base_uri": "https://localhost:8080/"
        },
        "outputId": "6764ecae-58ad-4c78-a9e7-547ff8e81f0c"
      },
      "execution_count": 49,
      "outputs": [
        {
          "output_type": "execute_result",
          "data": {
            "text/plain": [
              "(350.19805908203125, 755.1000366210938)"
            ]
          },
          "metadata": {},
          "execution_count": 49
        }
      ]
    },
    {
      "cell_type": "code",
      "source": [
        "pts1 = np.int32(pts1)\n",
        "pts2 = np.int32(pts2)\n",
        "F, mask = cv2.findFundamentalMat(pts1,pts2,cv2.FM_LMEDS)\n",
        "\n",
        "# We select only inlier points\n",
        "pts1 = pts1[mask.ravel()==1]\n",
        "pts2 = pts2[mask.ravel()==1]"
      ],
      "metadata": {
        "id": "U0hjaThLih4H"
      },
      "execution_count": 94,
      "outputs": []
    },
    {
      "cell_type": "code",
      "source": [
        "print(F)"
      ],
      "metadata": {
        "colab": {
          "base_uri": "https://localhost:8080/"
        },
        "id": "J4egzEMsijme",
        "outputId": "6aedd984-3705-406e-8cc9-ca967910924f"
      },
      "execution_count": 15,
      "outputs": [
        {
          "output_type": "stream",
          "name": "stdout",
          "text": [
            "[[-1.60739701e-07  3.62635851e-06  1.23836270e-03]\n",
            " [-2.43180077e-06  2.84918643e-07 -1.82433307e-02]\n",
            " [-1.35283043e-03  1.66135815e-02  1.00000000e+00]]\n"
          ]
        }
      ]
    },
    {
      "cell_type": "code",
      "source": [
        "def drawlines(img1,img2,lines,pts1,pts2):\n",
        "    ''' img1 - image on which we draw the epilines for the points in img2\n",
        "        lines - corresponding epilines '''\n",
        "    r,c = img1.shape\n",
        "    img1 = cv2.cvtColor(img1,cv2.COLOR_GRAY2BGR)\n",
        "    img2 = cv2.cvtColor(img2,cv2.COLOR_GRAY2BGR)\n",
        "    for r,pt1,pt2 in zip(lines,pts1,pts2):\n",
        "        color = tuple(np.random.randint(0,255,3).tolist())\n",
        "        x0,y0 = map(int, [0, -r[2]/r[1] ])\n",
        "        x1,y1 = map(int, [c, -(r[2]+r[0]*c)/r[1] ])\n",
        "        img1 = cv2.line(img1, (x0,y0), (x1,y1), color,1)\n",
        "        img1 = cv2.circle(img1,tuple(pt1),5,color,-1)\n",
        "        img2 = cv2.circle(img2,tuple(pt2),5,color,-1)\n",
        "    return img1,img2"
      ],
      "metadata": {
        "id": "XuHMAeXXirtv"
      },
      "execution_count": 16,
      "outputs": []
    },
    {
      "cell_type": "code",
      "source": [
        "# Find epilines corresponding to points in right image (second image) and\n",
        "# drawing its lines on left image\n",
        "lines1 = cv2.computeCorrespondEpilines(pts2.reshape(-1,1,2), 2,F)\n",
        "lines1 = lines1.reshape(-1,3)\n",
        "img5,img6 = drawlines(img1,img2,lines1,pts1,pts2)\n",
        "\n",
        "# Find epilines corresponding to points in left image (first image) and\n",
        "# drawing its lines on right image\n",
        "lines2 = cv2.computeCorrespondEpilines(pts1.reshape(-1,1,2), 1,F)\n",
        "lines2 = lines2.reshape(-1,3)\n",
        "img3,img4 = drawlines(img2,img1,lines2,pts2,pts1)\n",
        "\n",
        "plt.subplot(121),plt.imshow(img5)\n",
        "plt.subplot(122),plt.imshow(img3)\n",
        "plt.show()"
      ],
      "metadata": {
        "colab": {
          "base_uri": "https://localhost:8080/",
          "height": 153
        },
        "id": "QjH6naIji0w-",
        "outputId": "00ca3aa9-217e-4a38-d5d2-565a7e9332b0"
      },
      "execution_count": 17,
      "outputs": [
        {
          "output_type": "display_data",
          "data": {
            "image/png": "[encoded data removed]",
            "text/plain": [
              "<Figure size 432x288 with 2 Axes>"
            ]
          },
          "metadata": {
            "needs_background": "light"
          }
        }
      ]
    }
  ]
}