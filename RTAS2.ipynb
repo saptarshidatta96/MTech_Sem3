{
  "cells": [
    {
      "cell_type": "markdown",
      "metadata": {
        "id": "view-in-github",
        "colab_type": "text"
      },
      "source": [
        "<a href=\"https://colab.research.google.com/github/saptarshidatta96/MTech_Sem3/blob/main/RTAS2.ipynb\" target=\"_parent\"><img src=\"https://colab.research.google.com/assets/colab-badge.svg\" alt=\"Open In Colab\"/></a>"
      ]
    },
    {
      "cell_type": "code",
      "execution_count": 96,
      "metadata": {
        "colab": {
          "base_uri": "https://localhost:8080/"
        },
        "id": "nx6lLuDGgxu_",
        "outputId": "1323d3be-dca5-4553-d152-c4851115241c"
      },
      "outputs": [
        {
          "output_type": "stream",
          "name": "stdout",
          "text": [
            "\u001b[33mWARNING: Skipping opencv-python as it is not installed.\u001b[0m\n"
          ]
        }
      ],
      "source": [
        "!pip uninstall opencv-python"
      ]
    },
    {
      "cell_type": "code",
      "execution_count": 97,
      "metadata": {
        "colab": {
          "base_uri": "https://localhost:8080/"
        },
        "id": "4f74EwEQiDag",
        "outputId": "fbabcf71-b49d-4a70-92b8-00d188e8e51b"
      },
      "outputs": [
        {
          "output_type": "stream",
          "name": "stdout",
          "text": [
            "Found existing installation: opencv-contrib-python 4.5.5.64\n",
            "Uninstalling opencv-contrib-python-4.5.5.64:\n",
            "  Would remove:\n",
            "    /usr/local/lib/python3.7/dist-packages/cv2/*\n",
            "    /usr/local/lib/python3.7/dist-packages/opencv_contrib_python-4.5.5.64.dist-info/*\n",
            "    /usr/local/lib/python3.7/dist-packages/opencv_contrib_python.libs/libQt5Core-39545cc7.so.5.15.0\n",
            "    /usr/local/lib/python3.7/dist-packages/opencv_contrib_python.libs/libQt5Gui-ba0a2070.so.5.15.0\n",
            "    /usr/local/lib/python3.7/dist-packages/opencv_contrib_python.libs/libQt5Test-c38a5234.so.5.15.0\n",
            "    /usr/local/lib/python3.7/dist-packages/opencv_contrib_python.libs/libQt5Widgets-e69d94fb.so.5.15.0\n",
            "    /usr/local/lib/python3.7/dist-packages/opencv_contrib_python.libs/libQt5XcbQpa-ca221f44.so.5.15.0\n",
            "    /usr/local/lib/python3.7/dist-packages/opencv_contrib_python.libs/libX11-xcb-69166bdf.so.1.0.0\n",
            "    /usr/local/lib/python3.7/dist-packages/opencv_contrib_python.libs/libXau-00ec42fe.so.6.0.0\n",
            "    /usr/local/lib/python3.7/dist-packages/opencv_contrib_python.libs/libavcodec-65fa80df.so.58.134.100\n",
            "    /usr/local/lib/python3.7/dist-packages/opencv_contrib_python.libs/libavformat-8ef5c7db.so.58.76.100\n",
            "    /usr/local/lib/python3.7/dist-packages/opencv_contrib_python.libs/libavutil-9c768859.so.56.70.100\n",
            "    /usr/local/lib/python3.7/dist-packages/opencv_contrib_python.libs/libbz2-a273e504.so.1.0.6\n",
            "    /usr/local/lib/python3.7/dist-packages/opencv_contrib_python.libs/libcrypto-09fe7800.so.1.1\n",
            "    /usr/local/lib/python3.7/dist-packages/opencv_contrib_python.libs/libfreetype-c0e61f0c.so.6.14.0\n",
            "    /usr/local/lib/python3.7/dist-packages/opencv_contrib_python.libs/libgfortran-91cc3cb1.so.3.0.0\n",
            "    /usr/local/lib/python3.7/dist-packages/opencv_contrib_python.libs/libopenblas-r0-f650aae0.3.3.so\n",
            "    /usr/local/lib/python3.7/dist-packages/opencv_contrib_python.libs/libpng15-ce838cd1.so.15.13.0\n",
            "    /usr/local/lib/python3.7/dist-packages/opencv_contrib_python.libs/libquadmath-96973f99.so.0.0.0\n",
            "    /usr/local/lib/python3.7/dist-packages/opencv_contrib_python.libs/libssl-b92f8066.so.1.1\n",
            "    /usr/local/lib/python3.7/dist-packages/opencv_contrib_python.libs/libswresample-99364a1c.so.3.9.100\n",
            "    /usr/local/lib/python3.7/dist-packages/opencv_contrib_python.libs/libswscale-e6451464.so.5.9.100\n",
            "    /usr/local/lib/python3.7/dist-packages/opencv_contrib_python.libs/libvpx-1016051d.so.7.0.0\n",
            "    /usr/local/lib/python3.7/dist-packages/opencv_contrib_python.libs/libxcb-icccm-413c9f41.so.4.0.0\n",
            "    /usr/local/lib/python3.7/dist-packages/opencv_contrib_python.libs/libxcb-image-e82a276d.so.0.0.0\n",
            "    /usr/local/lib/python3.7/dist-packages/opencv_contrib_python.libs/libxcb-keysyms-21015570.so.1.0.0\n",
            "    /usr/local/lib/python3.7/dist-packages/opencv_contrib_python.libs/libxcb-randr-a96a5a87.so.0.1.0\n",
            "    /usr/local/lib/python3.7/dist-packages/opencv_contrib_python.libs/libxcb-render-637b984a.so.0.0.0\n",
            "    /usr/local/lib/python3.7/dist-packages/opencv_contrib_python.libs/libxcb-render-util-43ce00f5.so.0.0.0\n",
            "    /usr/local/lib/python3.7/dist-packages/opencv_contrib_python.libs/libxcb-shape-25c2b258.so.0.0.0\n",
            "    /usr/local/lib/python3.7/dist-packages/opencv_contrib_python.libs/libxcb-shm-7a199f70.so.0.0.0\n",
            "    /usr/local/lib/python3.7/dist-packages/opencv_contrib_python.libs/libxcb-sync-89374f40.so.1.0.0\n",
            "    /usr/local/lib/python3.7/dist-packages/opencv_contrib_python.libs/libxcb-util-4d666913.so.1.0.0\n",
            "    /usr/local/lib/python3.7/dist-packages/opencv_contrib_python.libs/libxcb-xfixes-9be3ba6f.so.0.0.0\n",
            "    /usr/local/lib/python3.7/dist-packages/opencv_contrib_python.libs/libxcb-xinerama-ae147f87.so.0.0.0\n",
            "    /usr/local/lib/python3.7/dist-packages/opencv_contrib_python.libs/libxcb-xkb-9ba31ab3.so.1.0.0\n",
            "    /usr/local/lib/python3.7/dist-packages/opencv_contrib_python.libs/libxkbcommon-71ae2972.so.0.0.0\n",
            "    /usr/local/lib/python3.7/dist-packages/opencv_contrib_python.libs/libxkbcommon-x11-c65ed502.so.0.0.0\n",
            "Proceed (y/n)? y\n",
            "  Successfully uninstalled opencv-contrib-python-4.5.5.64\n"
          ]
        }
      ],
      "source": [
        "!pip uninstall opencv-contrib-python"
      ]
    },
    {
      "cell_type": "code",
      "execution_count": 98,
      "metadata": {
        "colab": {
          "base_uri": "https://localhost:8080/",
          "height": 190
        },
        "id": "z6UAj5SblT9M",
        "outputId": "1805779d-456c-427a-e62c-056bd964057f"
      },
      "outputs": [
        {
          "output_type": "stream",
          "name": "stdout",
          "text": [
            "Collecting opencv-contrib-python\n",
            "  Using cached opencv_contrib_python-4.5.5.64-cp36-abi3-manylinux_2_17_x86_64.manylinux2014_x86_64.whl (66.7 MB)\n",
            "Requirement already satisfied: numpy>=1.14.5 in /usr/local/lib/python3.7/dist-packages (from opencv-contrib-python) (1.21.5)\n",
            "Installing collected packages: opencv-contrib-python\n",
            "Successfully installed opencv-contrib-python-4.5.5.64\n"
          ]
        },
        {
          "output_type": "display_data",
          "data": {
            "application/vnd.colab-display-data+json": {
              "pip_warning": {
                "packages": [
                  "cv2"
                ]
              }
            }
          },
          "metadata": {}
        }
      ],
      "source": [
        "!pip install opencv-contrib-python"
      ]
    },
    {
      "cell_type": "code",
      "execution_count": 1,
      "metadata": {
        "id": "IpcPFbmvqr3T"
      },
      "outputs": [],
      "source": [
        "import cv2\n",
        "import numpy as np\n",
        "from matplotlib import pyplot as plt\n",
        "from pylab import *\n",
        "from numpy import *\n",
        "from scipy import linalg\n",
        "import pandas as pd"
      ]
    },
    {
      "cell_type": "code",
      "execution_count": 3,
      "metadata": {
        "id": "w4owfvV2rSpU"
      },
      "outputs": [],
      "source": [
        "k = [[1698.873755, 0.000000, 971.7497705],\n",
        "     [0.000000, 1698.8796645, 647.7488275],\n",
        "     [0.000000, 0.000000, 1.000000]]\n",
        "\n",
        "k = np.asarray(k)"
      ]
    },
    {
      "cell_type": "code",
      "execution_count": 4,
      "metadata": {
        "colab": {
          "base_uri": "https://localhost:8080/"
        },
        "id": "nSwJEB8XrrVD",
        "outputId": "03bc8896-f4c8-4309-9e30-a5d284042016"
      },
      "outputs": [
        {
          "output_type": "execute_result",
          "data": {
            "text/plain": [
              "array([[1.69887376e+03, 0.00000000e+00, 9.71749770e+02],\n",
              "       [0.00000000e+00, 1.69887966e+03, 6.47748827e+02],\n",
              "       [0.00000000e+00, 0.00000000e+00, 1.00000000e+00]])"
            ]
          },
          "metadata": {},
          "execution_count": 4
        }
      ],
      "source": [
        "k"
      ]
    },
    {
      "cell_type": "code",
      "execution_count": 5,
      "metadata": {
        "id": "hMmmMF65YiXK"
      },
      "outputs": [],
      "source": [
        "k_inv = np.linalg.inv(k)"
      ]
    },
    {
      "cell_type": "code",
      "execution_count": 6,
      "metadata": {
        "colab": {
          "base_uri": "https://localhost:8080/"
        },
        "id": "dbF976I6Yjqw",
        "outputId": "5b78027a-7a4d-4ed4-9d3e-4974626e062d"
      },
      "outputs": [
        {
          "output_type": "execute_result",
          "data": {
            "text/plain": [
              "array([[ 5.88625257e-04,  0.00000000e+00, -5.71996458e-01],\n",
              "       [ 0.00000000e+00,  5.88623209e-04, -3.81279994e-01],\n",
              "       [ 0.00000000e+00,  0.00000000e+00,  1.00000000e+00]])"
            ]
          },
          "metadata": {},
          "execution_count": 6
        }
      ],
      "source": [
        "k_inv"
      ]
    },
    {
      "cell_type": "code",
      "execution_count": 7,
      "metadata": {
        "id": "miJD0v2W9zxi"
      },
      "outputs": [],
      "source": [
        "img1 = cv2.imread('/content/im1.jpg', 0)\n",
        "img2 = cv2.imread('/content/im2.jpg', 0)"
      ]
    },
    {
      "cell_type": "code",
      "execution_count": 8,
      "metadata": {
        "id": "ppjtTL0cWUB3"
      },
      "outputs": [],
      "source": [
        "def find_correspondences(img1, img2):\n",
        "  sift = cv2.xfeatures2d.SIFT_create()\n",
        "  kp1, des1 = sift.detectAndCompute(img1,None)\n",
        "  kp2, des2 = sift.detectAndCompute(img2,None)\n",
        "  flann = cv2.FlannBasedMatcher(dict(algorithm = 0, trees = 5),dict(checks=50))\n",
        "  matches = flann.knnMatch(des1,des2,k=2)\n",
        "  pts1 = []\n",
        "  pts2 = []\n",
        "\n",
        "  # ratio test as per Lowe's paper\n",
        "  j = 0\n",
        "  for i,(m,n) in enumerate(matches):\n",
        "    if m.distance < 0.8*n.distance:\n",
        "        pts2.append((kp2[m.trainIdx].pt, 1))\n",
        "        pts1.append(kp1[m.queryIdx].pt)\n",
        "        j = j+1\n",
        "        if j == 100:\n",
        "          break\n",
        "  pts1 = [list(tup)+[1] for tup in pts1]\n",
        "  pts2 = [list(tup)+[1] for tup in pts2]\n",
        "  pts1, pts2 = np.asarray(pts1), np.asarray(pts2)\n",
        "  pts1 = np.float64(pts1)\n",
        "  pts2 = np.float64(pts1)\n",
        "\n",
        "  return pts1, pts2"
      ]
    },
    {
      "cell_type": "code",
      "execution_count": 9,
      "metadata": {
        "colab": {
          "base_uri": "https://localhost:8080/"
        },
        "id": "fzdJt5ldajTX",
        "outputId": "56856079-d4bb-4b1d-ee2f-94d283bf30c2"
      },
      "outputs": [
        {
          "output_type": "stream",
          "name": "stderr",
          "text": [
            "/usr/local/lib/python3.7/dist-packages/ipykernel_launcher.py:21: VisibleDeprecationWarning: Creating an ndarray from ragged nested sequences (which is a list-or-tuple of lists-or-tuples-or ndarrays with different lengths or shapes) is deprecated. If you meant to do this, you must specify 'dtype=object' when creating the ndarray.\n"
          ]
        }
      ],
      "source": [
        "pts1, pts2 = find_correspondences(img1, img2)"
      ]
    },
    {
      "cell_type": "code",
      "execution_count": 10,
      "metadata": {
        "id": "kPWU85uJWSdw"
      },
      "outputs": [],
      "source": [
        "def convert_to_camera_coordinate_system(pts1, pts2, k):\n",
        "  k_inv = np.linalg.inv(k)\n",
        "  pts1 = [np.dot(k_inv, item) for item in pts1]\n",
        "  pts2 = [np.dot(k_inv, item) for item in pts2]\n",
        "  return pts1, pts2"
      ]
    },
    {
      "cell_type": "code",
      "execution_count": 11,
      "metadata": {
        "id": "H4piv4uJeGkg"
      },
      "outputs": [],
      "source": [
        "def compute_essential(pts1, pts2):\n",
        "  \n",
        "  x1, x2 = convert_to_camera_coordinate_system(pts1, pts2, k)\n",
        "  x1 = np.asarray(x1)\n",
        "  x2 = np.asarray(x2)\n",
        "  n = x1.shape[1]\n",
        "  if x2.shape[1] != n:\n",
        "    raise ValueError(\"Number of points don't match.\")\n",
        " \n",
        "  # build matrix for equations\n",
        "  A = []\n",
        "  for i in range(8):\n",
        "      z = np.kron(pts2[i], pts1[i])\n",
        "      A.append(z)\n",
        "  A = np.asarray(A)\n",
        "  #print(A.shape)\n",
        "\n",
        "  U,S,V = linalg.svd(A)\n",
        "  E = V[-1].reshape(3,3)\n",
        "  # constrain F\n",
        "  # make rank 2 by zeroing out last singular value\n",
        "  Ua,Sa,Va = linalg.svd(E)\n",
        "  \n",
        "  sigma = (Sa[0]+Sa[1])/2\n",
        "  Sa[0] = sigma\n",
        "  Sa[1] = sigma\n",
        "  Sa[2] = 0\n",
        "  \n",
        "  Ea = np.dot(Ua,np.dot(diag(Sa),Va))\n",
        "  \n",
        "\n",
        "  return sigma , Ea"
      ]
    },
    {
      "cell_type": "code",
      "execution_count": 12,
      "metadata": {
        "id": "XOT0TU2TfwpI"
      },
      "outputs": [],
      "source": [
        "sigma, E = compute_essential(pts1, pts2)"
      ]
    },
    {
      "cell_type": "code",
      "execution_count": 13,
      "metadata": {
        "colab": {
          "base_uri": "https://localhost:8080/"
        },
        "id": "M82G_huNgEHW",
        "outputId": "af75d5ee-ff17-48b1-ff05-3f1ea2179e6e"
      },
      "outputs": [
        {
          "output_type": "execute_result",
          "data": {
            "text/plain": [
              "array([[-3.43233757e-22,  1.80399143e-08, -3.09152220e-06],\n",
              "       [-1.80399142e-08, -1.65426508e-18,  7.07106781e-01],\n",
              "       [ 3.09152221e-06, -7.07106781e-01, -7.18875573e-20]])"
            ]
          },
          "metadata": {},
          "execution_count": 13
        }
      ],
      "source": [
        "E"
      ]
    },
    {
      "cell_type": "code",
      "execution_count": 14,
      "metadata": {
        "id": "pLdB_NMHfFwk"
      },
      "outputs": [],
      "source": [
        "def compute_R_and_T(E, sigma):\n",
        "\n",
        "  U,S,V = linalg.svd(E)\n",
        "\n",
        "  R_z = [[0, -1, 0],\n",
        "         [1, 0, 0],\n",
        "         [0, 0, 1]]\n",
        "  R_z = np.asarray(R_z)\n",
        "             \n",
        "  R1 = np.dot(U ,np.dot(R_z, V))\n",
        "  R2 = np.dot(U ,np.dot(np.transpose(R_z), V))\n",
        "  t1 = U[:,2]\n",
        "  t2 = -U[:,2]\n",
        "\n",
        "  return R1, R2, t1, t2"
      ]
    },
    {
      "cell_type": "code",
      "execution_count": 15,
      "metadata": {
        "id": "gcdpZVU_ffip"
      },
      "outputs": [],
      "source": [
        "R1, R2, t1, t2 = compute_R_and_T(E, sigma)"
      ]
    },
    {
      "cell_type": "code",
      "source": [
        "def calculate_M_and_N_matrix(R1, R2, t1, t2):\n",
        "  I_O = [[1, 0, 0, 0], [0, 1, 0, 0], [0, 0, 1, 0]]\n",
        "  M = np.dot(k, I_O)\n",
        "  t1 = np.expand_dims(t1, axis = 1)\n",
        "  R_t = np.hstack((R1, t1))\n",
        "  N = np.dot(k, R_t)\n",
        "\n",
        "  return M, N"
      ],
      "metadata": {
        "id": "rJbbOk6FU13y"
      },
      "execution_count": 16,
      "outputs": []
    },
    {
      "cell_type": "code",
      "source": [
        "M, N = calculate_M_and_N_matrix(R1, R2, t1, t2)"
      ],
      "metadata": {
        "id": "dunXhk5TV3fq"
      },
      "execution_count": 17,
      "outputs": []
    },
    {
      "cell_type": "code",
      "source": [
        "def triangulate_point(x1,x2,P1,P2):\n",
        "\n",
        "        \n",
        "    A = zeros((6,6))\n",
        "    A[:3,:4] = P1\n",
        "    A[3:,:4] = P2\n",
        "    A[:3,4] = -x1\n",
        "    A[3:,5] = -x2\n",
        "\n",
        "    U,S,V = linalg.svd(A)\n",
        "    X = V[-1,:4]\n",
        "\n",
        "    return X / X[3]\n",
        "\n",
        "\n",
        "def triangulate(pts1,pts2,P1,P2):\n",
        "    \n",
        "    n = pts1[0].reshape(3,1).shape[1]\n",
        "    three_d_points = []    \n",
        "    for j in range(len(pts1)):\n",
        "      x1 = pts1[j].reshape(3,1)\n",
        "      x2 = pts2[j].reshape(3,1)\n",
        "      X = [ triangulate_point(x1[:,i],x2[:,i],P1,P2) for i in range(n)]\n",
        "      three_d_points.append(array(X).T)\n",
        "\n",
        "\n",
        "    return three_d_points"
      ],
      "metadata": {
        "id": "nCtCfDaDTPkt"
      },
      "execution_count": 18,
      "outputs": []
    },
    {
      "cell_type": "code",
      "source": [
        "ff = triangulate(pts1,pts2,M,N)"
      ],
      "metadata": {
        "id": "QSCvml7EP1zE"
      },
      "execution_count": 19,
      "outputs": []
    }
  ],
  "metadata": {
    "colab": {
      "collapsed_sections": [],
      "name": "RTAS2.ipynb",
      "provenance": [],
      "authorship_tag": "ABX9TyN2PueQ0bojZNmbI++sltug",
      "include_colab_link": true
    },
    "kernelspec": {
      "display_name": "Python 3",
      "name": "python3"
    },
    "language_info": {
      "name": "python"
    }
  },
  "nbformat": 4,
  "nbformat_minor": 0
}