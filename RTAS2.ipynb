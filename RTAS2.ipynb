{
  "nbformat": 4,
  "nbformat_minor": 0,
  "metadata": {
    "colab": {
      "name": "RTAS2.ipynb",
      "provenance": [],
      "collapsed_sections": [],
      "authorship_tag": "ABX9TyNhI65PJOgIDdnCUA3vSoar",
      "include_colab_link": true
    },
    "kernelspec": {
      "name": "python3",
      "display_name": "Python 3"
    },
    "language_info": {
      "name": "python"
    }
  },
  "cells": [
    {
      "cell_type": "markdown",
      "metadata": {
        "id": "view-in-github",
        "colab_type": "text"
      },
      "source": [
        "<a href=\"https://colab.research.google.com/github/saptarshidatta96/MTech_Sem3/blob/main/RTAS2.ipynb\" target=\"_parent\"><img src=\"https://colab.research.google.com/assets/colab-badge.svg\" alt=\"Open In Colab\"/></a>"
      ]
    },
    {
      "cell_type": "code",
      "source": [
        "!pip uninstall opencv-python"
      ],
      "metadata": {
        "colab": {
          "base_uri": "https://localhost:8080/"
        },
        "id": "nx6lLuDGgxu_",
        "outputId": "15272f64-1d9c-4cac-9556-dd52d1a85699"
      },
      "execution_count": 1,
      "outputs": [
        {
          "output_type": "stream",
          "name": "stdout",
          "text": [
            "Found existing installation: opencv-python 4.1.2.30\n",
            "Uninstalling opencv-python-4.1.2.30:\n",
            "  Would remove:\n",
            "    /usr/local/lib/python3.7/dist-packages/cv2/*\n",
            "    /usr/local/lib/python3.7/dist-packages/opencv_python-4.1.2.30.dist-info/*\n",
            "Proceed (y/n)? y\n",
            "  Successfully uninstalled opencv-python-4.1.2.30\n"
          ]
        }
      ]
    },
    {
      "cell_type": "code",
      "source": [
        "!pip uninstall opencv-contrib-python"
      ],
      "metadata": {
        "colab": {
          "base_uri": "https://localhost:8080/"
        },
        "id": "4f74EwEQiDag",
        "outputId": "609c6114-6d0a-4cea-a12d-da6e15f353be"
      },
      "execution_count": 2,
      "outputs": [
        {
          "output_type": "stream",
          "name": "stdout",
          "text": [
            "Found existing installation: opencv-contrib-python 4.1.2.30\n",
            "Uninstalling opencv-contrib-python-4.1.2.30:\n",
            "  Would remove:\n",
            "    /usr/local/lib/python3.7/dist-packages/opencv_contrib_python-4.1.2.30.dist-info/*\n",
            "Proceed (y/n)? y\n",
            "  Successfully uninstalled opencv-contrib-python-4.1.2.30\n"
          ]
        }
      ]
    },
    {
      "cell_type": "code",
      "source": [
        "!pip install opencv-contrib-python"
      ],
      "metadata": {
        "colab": {
          "base_uri": "https://localhost:8080/"
        },
        "id": "z6UAj5SblT9M",
        "outputId": "7d28439b-6ac0-4d7c-de43-a4cd3fd56ef9"
      },
      "execution_count": 3,
      "outputs": [
        {
          "output_type": "stream",
          "name": "stdout",
          "text": [
            "Collecting opencv-contrib-python\n",
            "  Downloading opencv_contrib_python-4.5.5.62-cp36-abi3-manylinux_2_17_x86_64.manylinux2014_x86_64.whl (66.6 MB)\n",
            "\u001b[K     |████████████████████████████████| 66.6 MB 110 kB/s \n",
            "\u001b[?25hRequirement already satisfied: numpy>=1.14.5 in /usr/local/lib/python3.7/dist-packages (from opencv-contrib-python) (1.21.5)\n",
            "Installing collected packages: opencv-contrib-python\n",
            "Successfully installed opencv-contrib-python-4.5.5.62\n"
          ]
        }
      ]
    },
    {
      "cell_type": "code",
      "execution_count": 4,
      "metadata": {
        "id": "IpcPFbmvqr3T"
      },
      "outputs": [],
      "source": [
        "import cv2\n",
        "import numpy as np\n",
        "from matplotlib import pyplot as plt\n",
        "from pylab import *\n",
        "from numpy import *\n",
        "from scipy import linalg"
      ]
    },
    {
      "cell_type": "code",
      "source": [
        "k = [[1698.873755, 0.000000, 971.7497705],\n",
        "     [0.000000, 1698.8796645, 647.7488275],\n",
        "     [0.000000, 0.000000, 1.000000]]\n",
        "\n",
        "k = np.asarray(k)"
      ],
      "metadata": {
        "id": "w4owfvV2rSpU"
      },
      "execution_count": 5,
      "outputs": []
    },
    {
      "cell_type": "code",
      "source": [
        "k"
      ],
      "metadata": {
        "id": "nSwJEB8XrrVD",
        "colab": {
          "base_uri": "https://localhost:8080/"
        },
        "outputId": "c232cf9f-e326-4bc6-97ce-19edc82b0679"
      },
      "execution_count": 6,
      "outputs": [
        {
          "output_type": "execute_result",
          "data": {
            "text/plain": [
              "array([[1.69887376e+03, 0.00000000e+00, 9.71749770e+02],\n",
              "       [0.00000000e+00, 1.69887966e+03, 6.47748827e+02],\n",
              "       [0.00000000e+00, 0.00000000e+00, 1.00000000e+00]])"
            ]
          },
          "metadata": {},
          "execution_count": 6
        }
      ]
    },
    {
      "cell_type": "code",
      "source": [
        "k_inv = np.linalg.inv(k)"
      ],
      "metadata": {
        "id": "hMmmMF65YiXK"
      },
      "execution_count": 7,
      "outputs": []
    },
    {
      "cell_type": "code",
      "source": [
        "k_inv"
      ],
      "metadata": {
        "colab": {
          "base_uri": "https://localhost:8080/"
        },
        "id": "dbF976I6Yjqw",
        "outputId": "90f0e7b4-fbb3-45a5-c19c-1d119eac476e"
      },
      "execution_count": 8,
      "outputs": [
        {
          "output_type": "execute_result",
          "data": {
            "text/plain": [
              "array([[ 5.88625257e-04,  0.00000000e+00, -5.71996458e-01],\n",
              "       [ 0.00000000e+00,  5.88623209e-04, -3.81279994e-01],\n",
              "       [ 0.00000000e+00,  0.00000000e+00,  1.00000000e+00]])"
            ]
          },
          "metadata": {},
          "execution_count": 8
        }
      ]
    },
    {
      "cell_type": "code",
      "source": [
        "img1 = cv2.imread('/content/im1.jpg', 0)\n",
        "img2 = cv2.imread('/content/im2.jpg', 0)"
      ],
      "metadata": {
        "id": "miJD0v2W9zxi"
      },
      "execution_count": 9,
      "outputs": []
    },
    {
      "cell_type": "code",
      "source": [
        "def find_correspondences(img1, img2):\n",
        "  sift = cv2.xfeatures2d.SIFT_create()\n",
        "  kp1, des1 = sift.detectAndCompute(img1,None)\n",
        "  kp2, des2 = sift.detectAndCompute(img2,None)\n",
        "  flann = cv2.FlannBasedMatcher(dict(algorithm = 0, trees = 5),dict(checks=50))\n",
        "  matches = flann.knnMatch(des1,des2,k=2)\n",
        "  pts1 = []\n",
        "  pts2 = []\n",
        "\n",
        "  # ratio test as per Lowe's paper\n",
        "  j = 0\n",
        "  for i,(m,n) in enumerate(matches):\n",
        "    if m.distance < 0.8*n.distance:\n",
        "        pts2.append((kp2[m.trainIdx].pt, 1))\n",
        "        pts1.append(kp1[m.queryIdx].pt)\n",
        "        j = j+1\n",
        "        if j == 100:\n",
        "          break\n",
        "  pts1 = [list(tup)+[1] for tup in pts1]\n",
        "  pts2 = [list(tup)+[1] for tup in pts2]\n",
        "  pts1, pts2 = np.asarray(pts1), np.asarray(pts2)\n",
        "  pts1 = np.float64(pts1)\n",
        "  pts2 = np.float64(pts1)\n",
        "\n",
        "  return pts1, pts2"
      ],
      "metadata": {
        "id": "ppjtTL0cWUB3"
      },
      "execution_count": 10,
      "outputs": []
    },
    {
      "cell_type": "code",
      "source": [
        "pts1, pts2 = find_correspondences(img1, img2)"
      ],
      "metadata": {
        "id": "fzdJt5ldajTX",
        "colab": {
          "base_uri": "https://localhost:8080/"
        },
        "outputId": "94892986-f9b1-4be7-9158-72c90ec32ca8"
      },
      "execution_count": 11,
      "outputs": [
        {
          "output_type": "stream",
          "name": "stderr",
          "text": [
            "/usr/local/lib/python3.7/dist-packages/ipykernel_launcher.py:21: VisibleDeprecationWarning: Creating an ndarray from ragged nested sequences (which is a list-or-tuple of lists-or-tuples-or ndarrays with different lengths or shapes) is deprecated. If you meant to do this, you must specify 'dtype=object' when creating the ndarray.\n"
          ]
        }
      ]
    },
    {
      "cell_type": "code",
      "source": [
        "def convert_to_camera_coordinate_system(pts1, pts2, k):\n",
        "  k_inv = np.linalg.inv(k)\n",
        "  pts1 = [np.dot(k_inv, item) for item in pts1]\n",
        "  pts2 = [np.dot(k_inv, item) for item in pts2]\n",
        "  return pts1, pts2"
      ],
      "metadata": {
        "id": "kPWU85uJWSdw"
      },
      "execution_count": 12,
      "outputs": []
    },
    {
      "cell_type": "code",
      "source": [
        "def compute_essential(pts1, pts2):\n",
        "  \n",
        "  x1, x2 = convert_to_camera_coordinate_system(pts1, pts2, k)\n",
        "  x1 = np.asarray(x1)\n",
        "  x2 = np.asarray(x2)\n",
        "  n = x1.shape[1]\n",
        "  if x2.shape[1] != n:\n",
        "    raise ValueError(\"Number of points don't match.\")\n",
        " \n",
        "  # build matrix for equations\n",
        "  A = []\n",
        "  for i in range(8):\n",
        "      z = np.kron(pts2[i], pts1[i])\n",
        "      A.append(z)\n",
        "  A = np.asarray(A)\n",
        "  #print(A.shape)\n",
        "\n",
        "  U,S,V = linalg.svd(A)\n",
        "  E = V[-1].reshape(3,3)\n",
        "  # constrain F\n",
        "  # make rank 2 by zeroing out last singular value\n",
        "  Ua,Sa,Va = linalg.svd(E)\n",
        "  \n",
        "  sigma = (Sa[0]+Sa[1])/2\n",
        "  Sa[0] = sigma\n",
        "  Sa[1] = sigma\n",
        "  Sa[2] = 0\n",
        "  \n",
        "  Ea = np.dot(Ua,np.dot(diag(Sa),Va))\n",
        "  \n",
        "\n",
        "  return sigma , Ea\n"
      ],
      "metadata": {
        "id": "H4piv4uJeGkg"
      },
      "execution_count": 19,
      "outputs": []
    },
    {
      "cell_type": "code",
      "source": [
        "sigma, E = compute_essential(pts1, pts2)"
      ],
      "metadata": {
        "id": "XOT0TU2TfwpI"
      },
      "execution_count": 20,
      "outputs": []
    },
    {
      "cell_type": "code",
      "source": [
        "E"
      ],
      "metadata": {
        "colab": {
          "base_uri": "https://localhost:8080/"
        },
        "id": "M82G_huNgEHW",
        "outputId": "4be5b2ef-6149-4272-ad2e-af1e0a482123"
      },
      "execution_count": 21,
      "outputs": [
        {
          "output_type": "execute_result",
          "data": {
            "text/plain": [
              "array([[-3.43233757e-22,  1.80399143e-08, -3.09152220e-06],\n",
              "       [-1.80399142e-08, -1.65426508e-18,  7.07106781e-01],\n",
              "       [ 3.09152221e-06, -7.07106781e-01, -7.18875573e-20]])"
            ]
          },
          "metadata": {},
          "execution_count": 21
        }
      ]
    },
    {
      "cell_type": "code",
      "source": [
        "np.linalg.det(E)"
      ],
      "metadata": {
        "colab": {
          "base_uri": "https://localhost:8080/"
        },
        "id": "dx9odEPYhfRM",
        "outputId": "2bbbdd9b-cfbe-4905-8e6b-7d45a170e941"
      },
      "execution_count": 22,
      "outputs": [
        {
          "output_type": "execute_result",
          "data": {
            "text/plain": [
              "5.40243782500198e-30"
            ]
          },
          "metadata": {},
          "execution_count": 22
        }
      ]
    },
    {
      "cell_type": "code",
      "source": [
        "U,S,V = linalg.svd(E)"
      ],
      "metadata": {
        "id": "suo6GwZdhfMo"
      },
      "execution_count": 23,
      "outputs": []
    },
    {
      "cell_type": "code",
      "source": [
        "S"
      ],
      "metadata": {
        "id": "cS0PfblmhfJQ",
        "colab": {
          "base_uri": "https://localhost:8080/"
        },
        "outputId": "491e8352-bc4e-432b-9c42-a257639a4447"
      },
      "execution_count": 24,
      "outputs": [
        {
          "output_type": "execute_result",
          "data": {
            "text/plain": [
              "array([7.07106781e-01, 7.07106781e-01, 1.46432517e-21])"
            ]
          },
          "metadata": {},
          "execution_count": 24
        }
      ]
    },
    {
      "cell_type": "code",
      "source": [
        "R_z_pos90 = [[0, -1, 0],\n",
        "             [1, 0, 0],\n",
        "             [0, 0, 1]]\n",
        "R_z_pos90 = np.asarray(R_z_pos90)\n",
        "R_z_neg90 = [[0, 1, 0],\n",
        "             [-1, 0, 0],\n",
        "             [0, 0, -1]]\n",
        "R_z_neg90 = np.asarray(R_z_neg90)             \n",
        "R1 = np.dot(U ,np.dot(np.transpose(R_z_pos90), V))\n",
        "R2 = np.dot(U ,np.dot(np.transpose(R_z_neg90), V))\n",
        "t_x_1 = np.dot(U ,np.dot(R_z_pos90 ,np.dot(diag([sigma, sigma ,0]), np.transpose(U))))\n",
        "t_x_2 = np.dot(U ,np.dot(R_z_neg90 ,np.dot(diag([sigma, sigma, 0]), np.transpose(U))))"
      ],
      "metadata": {
        "id": "-AdTyJBBhfEI"
      },
      "execution_count": 30,
      "outputs": []
    },
    {
      "cell_type": "code",
      "source": [
        "R1"
      ],
      "metadata": {
        "id": "jsie-Eknhe7R",
        "colab": {
          "base_uri": "https://localhost:8080/"
        },
        "outputId": "6aa9d134-b8bd-4cb1-98d5-a3391e146fb4"
      },
      "execution_count": 31,
      "outputs": [
        {
          "output_type": "execute_result",
          "data": {
            "text/plain": [
              "array([[-1.00000000e+00, -8.74414526e-06, -5.10245824e-08],\n",
              "       [-8.74414526e-06,  1.00000000e+00, -2.23079943e-13],\n",
              "       [-5.10245826e-08, -2.23085367e-13,  1.00000000e+00]])"
            ]
          },
          "metadata": {},
          "execution_count": 31
        }
      ]
    },
    {
      "cell_type": "code",
      "source": [
        "R2"
      ],
      "metadata": {
        "colab": {
          "base_uri": "https://localhost:8080/"
        },
        "id": "pBw8oHuIlP1U",
        "outputId": "e98932cb-0ebf-4672-874f-a0679fd9f9b7"
      },
      "execution_count": 32,
      "outputs": [
        {
          "output_type": "execute_result",
          "data": {
            "text/plain": [
              "array([[ 1.00000000e+00,  8.74414526e-06,  5.10245824e-08],\n",
              "       [ 8.74414526e-06, -1.00000000e+00,  2.23079943e-13],\n",
              "       [ 5.10245826e-08,  2.23085367e-13, -1.00000000e+00]])"
            ]
          },
          "metadata": {},
          "execution_count": 32
        }
      ]
    },
    {
      "cell_type": "code",
      "source": [
        "t_x_1"
      ],
      "metadata": {
        "colab": {
          "base_uri": "https://localhost:8080/"
        },
        "id": "oNTh98fNmxM2",
        "outputId": "b83880d5-17dc-4507-8124-2f439bb96946"
      },
      "execution_count": 33,
      "outputs": [
        {
          "output_type": "execute_result",
          "data": {
            "text/plain": [
              "array([[ 0.00000000e+00,  1.80399140e-08, -3.09152220e-06],\n",
              "       [-1.80399140e-08, -3.47851431e-19,  7.07106781e-01],\n",
              "       [ 3.09152220e-06, -7.07106781e-01,  7.95429881e-19]])"
            ]
          },
          "metadata": {},
          "execution_count": 33
        }
      ]
    },
    {
      "cell_type": "code",
      "source": [
        "t_x_2"
      ],
      "metadata": {
        "colab": {
          "base_uri": "https://localhost:8080/"
        },
        "id": "Ycj8efsxmzpv",
        "outputId": "a9d7c87b-0a01-4a22-e99b-566ccfad86b7"
      },
      "execution_count": 34,
      "outputs": [
        {
          "output_type": "execute_result",
          "data": {
            "text/plain": [
              "array([[ 0.00000000e+00, -1.80399140e-08,  3.09152220e-06],\n",
              "       [ 1.80399140e-08,  3.47851431e-19, -7.07106781e-01],\n",
              "       [-3.09152220e-06,  7.07106781e-01, -7.95429881e-19]])"
            ]
          },
          "metadata": {},
          "execution_count": 34
        }
      ]
    }
  ]
}