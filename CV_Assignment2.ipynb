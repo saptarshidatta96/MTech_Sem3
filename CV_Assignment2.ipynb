{
  "nbformat": 4,
  "nbformat_minor": 0,
  "metadata": {
    "colab": {
      "name": "CV_Assignment2.ipynb",
      "provenance": [],
      "authorship_tag": "ABX9TyNJT+R7IEi+Z7T2lkcJj63m",
      "include_colab_link": true
    },
    "kernelspec": {
      "name": "python3",
      "display_name": "Python 3"
    },
    "language_info": {
      "name": "python"
    }
  },
  "cells": [
    {
      "cell_type": "markdown",
      "metadata": {
        "id": "view-in-github",
        "colab_type": "text"
      },
      "source": [
        "<a href=\"https://colab.research.google.com/github/saptarshidatta96/MTech_Sem3/blob/main/CV_Assignment2.ipynb\" target=\"_parent\"><img src=\"https://colab.research.google.com/assets/colab-badge.svg\" alt=\"Open In Colab\"/></a>"
      ]
    },
    {
      "cell_type": "code",
      "execution_count": 28,
      "metadata": {
        "colab": {
          "base_uri": "https://localhost:8080/",
          "height": 117
        },
        "id": "uJBD2hMyh5Fh",
        "outputId": "6ea0d856-14db-4d7d-f5aa-12645ddaac2d"
      },
      "outputs": [
        {
          "output_type": "display_data",
          "data": {
            "text/plain": [
              "<PIL.Image.Image image mode=L size=100x100 at 0x7F57D7583090>"
            ],
            "image/png": "[encoded data removed]"
          },
          "metadata": {}
        }
      ],
      "source": [
        "import cv2\n",
        "import numpy as np\n",
        "import math\n",
        "import matplotlib.pyplot as plt\n",
        "from google.colab.patches import cv2_imshow\n",
        "\n",
        "img = cv2.imread(\"/content/barbara.jpg\",0) \n",
        "img = cv2.resize(img, (100, 100), interpolation= cv2.INTER_LINEAR)\n",
        "img.shape\n",
        "cv2_imshow(img)"
      ]
    },
    {
      "cell_type": "code",
      "source": [
        "def DFT_1D(fx):\n",
        "    fx = np.asarray(fx, dtype=complex)\n",
        "    M = fx.shape[0]\n",
        "    fu = fx.copy()\n",
        "\n",
        "    for i in range(M):\n",
        "        u = i\n",
        "        sum = 0\n",
        "        for j in range(M):\n",
        "            x = j\n",
        "            tmp = fx[x]*np.exp(-2j*np.pi*x*u*np.divide(1, M, dtype=complex))\n",
        "            sum += tmp\n",
        "        # print(sum)\n",
        "        fu[u] = sum\n",
        "    # print(fu)\n",
        "\n",
        "    return fu\n",
        "\n",
        "\n",
        "def DFT_2D(fu):\n",
        "    h, w = fu.shape[0], fu.shape[1]\n",
        "\n",
        "    fx = np.zeros(fu.shape, dtype=complex)\n",
        "\n",
        "    if len(fu.shape) == 2:\n",
        "        for i in range(h):\n",
        "            fx[i, :] = DFT_1D(fu[i, :])\n",
        "\n",
        "        for i in range(w):\n",
        "            fx[:, i] = DFT_1D(fx[:, i])\n",
        "\n",
        "    fx = np.real(fx)\n",
        "    return fx"
      ],
      "metadata": {
        "id": "cCEGk31SxqSr"
      },
      "execution_count": 39,
      "outputs": []
    },
    {
      "cell_type": "code",
      "source": [
        "def inverseDFT_1D(fu):\n",
        "    fu = np.asarray(fu, dtype=complex)\n",
        "    M = fu.shape[0]\n",
        "    fx = np.zeros(M, dtype=complex)\n",
        "\n",
        "    for i in range(M):\n",
        "        x = i\n",
        "        sum = 0\n",
        "        for j in range(M):\n",
        "            u = j\n",
        "            tmp = fu[u]*np.exp(2j*np.pi*x*u*np.divide(1, M, dtype=complex))\n",
        "            sum += tmp\n",
        "        fx[x] = np.divide(sum, M, dtype=complex)\n",
        "\n",
        "    return fx\n",
        "\n",
        "def inverseDFT_2D(fu):\n",
        "    h, w = fu.shape[0], fu.shape[1]\n",
        "\n",
        "    fx = np.zeros(fu.shape, dtype=complex)\n",
        "\n",
        "    if len(fu.shape) == 2:\n",
        "        for i in range(h):\n",
        "            fx[i, :] = inverseDFT_1D(fu[i, :])\n",
        "\n",
        "        for i in range(w):\n",
        "            fx[:, i] = inverseDFT_1D(fx[:, i])\n",
        "\n",
        "\n",
        "    fx = np.real(fx)\n",
        "    return fx"
      ],
      "metadata": {
        "id": "2Hi-vFodsT_i"
      },
      "execution_count": 40,
      "outputs": []
    },
    {
      "cell_type": "code",
      "source": [
        "fx = DFT_2D(img)"
      ],
      "metadata": {
        "id": "C8zee4noyPKK"
      },
      "execution_count": 46,
      "outputs": []
    },
    {
      "cell_type": "code",
      "source": [
        "cv2_imshow(fx)"
      ],
      "metadata": {
        "colab": {
          "base_uri": "https://localhost:8080/",
          "height": 117
        },
        "id": "Jcwl4_641tqr",
        "outputId": "f04feffb-fea5-48d7-fa4d-5230c5c249bc"
      },
      "execution_count": 47,
      "outputs": [
        {
          "output_type": "display_data",
          "data": {
            "text/plain": [
              "<PIL.Image.Image image mode=L size=100x100 at 0x7F57D7588D10>"
            ],
            "image/png": "[encoded data removed]"
          },
          "metadata": {}
        }
      ]
    },
    {
      "cell_type": "code",
      "source": [
        "def shift(F):\n",
        "    ''' this shifts the centre of FFT of images/2-d signals'''\n",
        "    M, N = F.shape\n",
        "    R1, R2 = F[0: M//2, 0: N//2], F[M//2: M, 0: N//2]\n",
        "    R3, R4 = F[0: M//2, N//2: N], F[M//2: M, N//2: N]\n",
        "    print(R1.shape, R2.shape, R3.shape, R4.shape)\n",
        "    sF = np.zeros(F.shape,dtype = F.dtype)\n",
        "    sF[M//2: M, N//2: N], sF[0: M//2, 0: N//2] = R1, R4\n",
        "    sF[M//2: M, 0: N//2], sF[0: M//2, N//2: N]= R3, R2\n",
        "    return sF"
      ],
      "metadata": {
        "id": "pkzqX4Rd2h3s"
      },
      "execution_count": 43,
      "outputs": []
    },
    {
      "cell_type": "code",
      "source": [
        "sF = shift(fx)"
      ],
      "metadata": {
        "colab": {
          "base_uri": "https://localhost:8080/"
        },
        "id": "widlYT7k2rN7",
        "outputId": "13a7218c-5278-4e75-cfaf-1707e70619fd"
      },
      "execution_count": 53,
      "outputs": [
        {
          "output_type": "stream",
          "name": "stdout",
          "text": [
            "(50, 50) (50, 50) (50, 50) (50, 50)\n"
          ]
        }
      ]
    },
    {
      "cell_type": "code",
      "source": [
        "cv2_imshow(sF)"
      ],
      "metadata": {
        "colab": {
          "base_uri": "https://localhost:8080/",
          "height": 117
        },
        "id": "OLf9KlZ-4Syy",
        "outputId": "6560beb9-a0b3-4475-b53c-7ad45ea1384e"
      },
      "execution_count": 54,
      "outputs": [
        {
          "output_type": "display_data",
          "data": {
            "text/plain": [
              "<PIL.Image.Image image mode=L size=100x100 at 0x7F57D7630C90>"
            ],
            "image/png": "[encoded data removed]"
          },
          "metadata": {}
        }
      ]
    },
    {
      "cell_type": "code",
      "source": [
        "rows, cols = img.shape\n",
        "crow, ccol = int(rows / 2), int(cols / 2)\n",
        "\n",
        "mask = np.ones((rows, cols), np.uint8)\n",
        "r = 10\n",
        "center = [crow, ccol]\n",
        "x, y = np.ogrid[:rows, :cols]\n",
        "mask_area = (x - center[0]) ** 2 + (y - center[1]) ** 2 <= r*r\n",
        "mask[mask_area] = 0"
      ],
      "metadata": {
        "id": "BTZHN8JNg8aG"
      },
      "execution_count": 66,
      "outputs": []
    },
    {
      "cell_type": "code",
      "source": [
        "mask.shape"
      ],
      "metadata": {
        "colab": {
          "base_uri": "https://localhost:8080/"
        },
        "id": "7cRvM7Coi2l1",
        "outputId": "7f756c09-4dff-4b77-db3f-b7bfae90a66a"
      },
      "execution_count": 67,
      "outputs": [
        {
          "output_type": "execute_result",
          "data": {
            "text/plain": [
              "(100, 100)"
            ]
          },
          "metadata": {},
          "execution_count": 67
        }
      ]
    },
    {
      "cell_type": "code",
      "source": [
        "fshift = sF * mask"
      ],
      "metadata": {
        "id": "aOw5D6EoiZJF"
      },
      "execution_count": 68,
      "outputs": []
    },
    {
      "cell_type": "code",
      "source": [
        "cv2_imshow(fshift)"
      ],
      "metadata": {
        "colab": {
          "base_uri": "https://localhost:8080/",
          "height": 117
        },
        "id": "nMq2tYDzi9h3",
        "outputId": "c78a2c86-dc02-4da8-d843-c7023a07f532"
      },
      "execution_count": 69,
      "outputs": [
        {
          "output_type": "display_data",
          "data": {
            "text/plain": [
              "<PIL.Image.Image image mode=L size=100x100 at 0x7F57D74A8590>"
            ],
            "image/png": "[encoded data removed]"
          },
          "metadata": {}
        }
      ]
    }
  ]
}