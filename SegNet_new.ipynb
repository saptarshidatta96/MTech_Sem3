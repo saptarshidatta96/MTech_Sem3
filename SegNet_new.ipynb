{
  "cells": [
    {
      "cell_type": "markdown",
      "metadata": {
        "id": "view-in-github",
        "colab_type": "text"
      },
      "source": [
        "<a href=\"https://colab.research.google.com/github/saptarshidatta96/MTech_Sem3/blob/main/SegNet_new.ipynb\" target=\"_parent\"><img src=\"https://colab.research.google.com/assets/colab-badge.svg\" alt=\"Open In Colab\"/></a>"
      ]
    },
    {
      "cell_type": "code",
      "source": [
        "\n",
        "import os\n",
        "import cv2\n",
        "import glob\n",
        "import torch\n",
        "import numpy as np\n",
        "import pandas as pd\n",
        "import seaborn as sns\n",
        "import matplotlib.pyplot as plt\n",
        "from tqdm import tqdm\n",
        "\n",
        "import torchvision.transforms as transforms\n",
        "import torchvision.datasets as datasets\n",
        "\n",
        "import torch.nn as nn\n",
        "import torch.nn.functional as F\n",
        "from torch import optim\n",
        "\n",
        "\n",
        "np.set_printoptions(precision=3, suppress=True)"
      ],
      "metadata": {
        "id": "hpZNbJcAIQs1"
      },
      "execution_count": 1,
      "outputs": []
    },
    {
      "cell_type": "code",
      "source": [
        "from google.colab import drive\n",
        "drive.mount('/content/gdrive')"
      ],
      "metadata": {
        "colab": {
          "base_uri": "https://localhost:8080/"
        },
        "id": "LiNMMm1SIhEt",
        "outputId": "77c7ee09-2c58-4b5d-f31e-08be29bd23bf"
      },
      "execution_count": 2,
      "outputs": [
        {
          "output_type": "stream",
          "name": "stdout",
          "text": [
            "Mounted at /content/gdrive\n"
          ]
        }
      ]
    },
    {
      "cell_type": "code",
      "source": [
        "!unzip '/content/gdrive/MyDrive/cityscapes_data.zip' -d '/content'\n"
      ],
      "metadata": {
        "colab": {
          "base_uri": "https://localhost:8080/"
        },
        "id": "W-LMnmEsEl5P",
        "outputId": "0585c368-db89-44a8-919d-cf691f4853fb"
      },
      "execution_count": 6,
      "outputs": [
        {
          "output_type": "stream",
          "name": "stdout",
          "text": [
            "Archive:  /content/gdrive/MyDrive/cityscapes_data.zip\n",
            "replace /content/cityscapes_data/train/1.jpg? [y]es, [n]o, [A]ll, [N]one, [r]ename: n\n",
            "replace /content/cityscapes_data/train/10.jpg? [y]es, [n]o, [A]ll, [N]one, [r]ename: "
          ]
        }
      ]
    },
    {
      "cell_type": "code",
      "source": [
        "if os.path.exists('/content/train/') == False:\n",
        "  os.mkdir('/content/train/')\n",
        "  os.mkdir('/content/train/data')\n",
        "  os.mkdir('/content/train/label')\n",
        "if os.path.exists('/content/val/') == False:\n",
        "  os.mkdir('/content/val/')\n",
        "  os.mkdir('/content/val/data')\n",
        "  os.mkdir('/content/val/label')"
      ],
      "metadata": {
        "id": "VBZY71PbbTpV"
      },
      "execution_count": 16,
      "outputs": []
    },
    {
      "cell_type": "code",
      "source": [
        "def preprocess_data(path):\n",
        "  \n",
        "  for folder in os.listdir(path):\n",
        "      img_path = os.path.join(path, folder)\n",
        "      for img in os.listdir(img_path):\n",
        "  \n",
        "        img_src = os.path.join(img_path, img)\n",
        "        imgg = cv2.imread(img_src)\n",
        "        height, width, channels = imgg.shape\n",
        "        x = imgg[0:height, 0:width//2]\n",
        "        y = imgg[0:height, width//2:width]\n",
        "        cv2.imwrite('/content/{}/label/{}'.format(folder, img),y)\n",
        "        cv2.imwrite('/content/{}/data/{}'.format(folder, img),x)"
      ],
      "metadata": {
        "id": "quM9U05fcDPr"
      },
      "execution_count": 17,
      "outputs": []
    },
    {
      "cell_type": "code",
      "source": [
        "preprocess_data('/content/cityscapes_data')"
      ],
      "metadata": {
        "id": "wMnhrQO3c4sZ"
      },
      "execution_count": 18,
      "outputs": []
    }
  ],
  "metadata": {
    "colab": {
      "collapsed_sections": [],
      "name": "SegNet-new.ipynb",
      "provenance": [],
      "authorship_tag": "ABX9TyOnxNjTU0aO9VC6oujxnKrp",
      "include_colab_link": true
    },
    "kernelspec": {
      "display_name": "Python 3",
      "name": "python3"
    },
    "language_info": {
      "name": "python"
    }
  },
  "nbformat": 4,
  "nbformat_minor": 0
}